{
 "cells": [
  {
   "cell_type": "code",
   "execution_count": 1,
   "id": "665b2a7f",
   "metadata": {},
   "outputs": [
    {
     "data": {
      "text/html": [
       "        <script type=\"text/javascript\">\n",
       "        window.PlotlyConfig = {MathJaxConfig: 'local'};\n",
       "        if (window.MathJax) {MathJax.Hub.Config({SVG: {font: \"STIX-Web\"}});}\n",
       "        if (typeof require !== 'undefined') {\n",
       "        require.undef(\"plotly\");\n",
       "        requirejs.config({\n",
       "            paths: {\n",
       "                'plotly': ['https://cdn.plot.ly/plotly-2.11.1.min']\n",
       "            }\n",
       "        });\n",
       "        require(['plotly'], function(Plotly) {\n",
       "            window._Plotly = Plotly;\n",
       "        });\n",
       "        }\n",
       "        </script>\n",
       "        "
      ]
     },
     "metadata": {},
     "output_type": "display_data"
    }
   ],
   "source": [
    "import pandas as pd\n",
    "import plotly_express as px\n",
    "from plotly.offline import download_plotlyjs,init_notebook_mode,plot,iplot\n",
    "init_notebook_mode(connected=True)\n"
   ]
  },
  {
   "cell_type": "markdown",
   "id": "b296d7df",
   "metadata": {},
   "source": [
    "#### Nifty data\n"
   ]
  },
  {
   "cell_type": "code",
   "execution_count": 2,
   "id": "6eb3bf59",
   "metadata": {},
   "outputs": [
    {
     "data": {
      "text/html": [
       "<div>\n",
       "<style scoped>\n",
       "    .dataframe tbody tr th:only-of-type {\n",
       "        vertical-align: middle;\n",
       "    }\n",
       "\n",
       "    .dataframe tbody tr th {\n",
       "        vertical-align: top;\n",
       "    }\n",
       "\n",
       "    .dataframe thead th {\n",
       "        text-align: right;\n",
       "    }\n",
       "</style>\n",
       "<table border=\"1\" class=\"dataframe\">\n",
       "  <thead>\n",
       "    <tr style=\"text-align: right;\">\n",
       "      <th></th>\n",
       "      <th>SYMBOL \\n</th>\n",
       "      <th>OPEN \\n</th>\n",
       "      <th>HIGH \\n</th>\n",
       "      <th>LOW \\n</th>\n",
       "      <th>PREV. CLOSE \\n</th>\n",
       "      <th>LTP \\n</th>\n",
       "      <th>CHNG \\n</th>\n",
       "      <th>%CHNG \\n</th>\n",
       "      <th>VOLUME \\n(shares)</th>\n",
       "      <th>VALUE</th>\n",
       "      <th>52W H \\n</th>\n",
       "      <th>52W L \\n</th>\n",
       "      <th>365 D % CHNG \\n 12-Apr-2021</th>\n",
       "      <th>30 D % CHNG \\n 11-Mar-2022</th>\n",
       "    </tr>\n",
       "  </thead>\n",
       "  <tbody>\n",
       "    <tr>\n",
       "      <th>0</th>\n",
       "      <td>NIFTY 50</td>\n",
       "      <td>17,599.90</td>\n",
       "      <td>17,663.65</td>\n",
       "      <td>17,457.40</td>\n",
       "      <td>17,530.30</td>\n",
       "      <td>17,475.65</td>\n",
       "      <td>-54.65</td>\n",
       "      <td>-0.31</td>\n",
       "      <td>245061941</td>\n",
       "      <td>202,297,316,785.71</td>\n",
       "      <td>18,604.45</td>\n",
       "      <td>14,151.40</td>\n",
       "      <td>20.48</td>\n",
       "      <td>4.88</td>\n",
       "    </tr>\n",
       "    <tr>\n",
       "      <th>1</th>\n",
       "      <td>ONGC</td>\n",
       "      <td>171.40</td>\n",
       "      <td>174.85</td>\n",
       "      <td>170.70</td>\n",
       "      <td>168.90</td>\n",
       "      <td>173.95</td>\n",
       "      <td>5.05</td>\n",
       "      <td>2.99</td>\n",
       "      <td>23458303</td>\n",
       "      <td>4,075,410,980.19</td>\n",
       "      <td>194.95</td>\n",
       "      <td>97.45</td>\n",
       "      <td>70.75</td>\n",
       "      <td>6.41</td>\n",
       "    </tr>\n",
       "    <tr>\n",
       "      <th>2</th>\n",
       "      <td>APOLLOHOSP</td>\n",
       "      <td>4,629.00</td>\n",
       "      <td>4,764.00</td>\n",
       "      <td>4,629.00</td>\n",
       "      <td>4,626.30</td>\n",
       "      <td>4,735.05</td>\n",
       "      <td>108.75</td>\n",
       "      <td>2.35</td>\n",
       "      <td>812061</td>\n",
       "      <td>3,839,253,875.19</td>\n",
       "      <td>5,935.40</td>\n",
       "      <td>2,902.30</td>\n",
       "      <td>59.17</td>\n",
       "      <td>-1.42</td>\n",
       "    </tr>\n",
       "    <tr>\n",
       "      <th>3</th>\n",
       "      <td>UPL</td>\n",
       "      <td>805.65</td>\n",
       "      <td>836.45</td>\n",
       "      <td>805.00</td>\n",
       "      <td>805.65</td>\n",
       "      <td>819.50</td>\n",
       "      <td>13.85</td>\n",
       "      <td>1.72</td>\n",
       "      <td>4974212</td>\n",
       "      <td>4,103,426,447.28</td>\n",
       "      <td>864.70</td>\n",
       "      <td>581.30</td>\n",
       "      <td>35.40</td>\n",
       "      <td>10.48</td>\n",
       "    </tr>\n",
       "    <tr>\n",
       "      <th>4</th>\n",
       "      <td>ITC</td>\n",
       "      <td>265.30</td>\n",
       "      <td>270.60</td>\n",
       "      <td>263.65</td>\n",
       "      <td>264.80</td>\n",
       "      <td>269.10</td>\n",
       "      <td>4.30</td>\n",
       "      <td>1.62</td>\n",
       "      <td>21414383</td>\n",
       "      <td>5,719,139,267.81</td>\n",
       "      <td>273.15</td>\n",
       "      <td>199.10</td>\n",
       "      <td>29.16</td>\n",
       "      <td>13.33</td>\n",
       "    </tr>\n",
       "  </tbody>\n",
       "</table>\n",
       "</div>"
      ],
      "text/plain": [
       "    SYMBOL \\n    OPEN \\n    HIGH \\n     LOW \\n PREV. CLOSE \\n     LTP \\n  \\\n",
       "0    NIFTY 50  17,599.90  17,663.65  17,457.40      17,530.30  17,475.65   \n",
       "1        ONGC     171.40     174.85     170.70         168.90     173.95   \n",
       "2  APOLLOHOSP   4,629.00   4,764.00   4,629.00       4,626.30   4,735.05   \n",
       "3         UPL     805.65     836.45     805.00         805.65     819.50   \n",
       "4         ITC     265.30     270.60     263.65         264.80     269.10   \n",
       "\n",
       "   CHNG \\n  %CHNG \\n  VOLUME \\n(shares)              VALUE    52W H \\n  \\\n",
       "0   -54.65     -0.31          245061941  202,297,316,785.71  18,604.45   \n",
       "1     5.05      2.99           23458303    4,075,410,980.19     194.95   \n",
       "2   108.75      2.35             812061    3,839,253,875.19   5,935.40   \n",
       "3    13.85      1.72            4974212    4,103,426,447.28     864.70   \n",
       "4     4.30      1.62           21414383    5,719,139,267.81     273.15   \n",
       "\n",
       "    52W L \\n  365 D % CHNG \\n 12-Apr-2021  30 D % CHNG \\n 11-Mar-2022  \n",
       "0  14,151.40                        20.48                        4.88  \n",
       "1      97.45                        70.75                        6.41  \n",
       "2   2,902.30                        59.17                       -1.42  \n",
       "3     581.30                        35.40                       10.48  \n",
       "4     199.10                        29.16                       13.33  "
      ]
     },
     "execution_count": 2,
     "metadata": {},
     "output_type": "execute_result"
    }
   ],
   "source": [
    "df = pd.read_csv('/home/sameer/Downloads/MW-NIFTY-50-15-Apr-2022.csv',delimiter=',')\n",
    "df.head()"
   ]
  },
  {
   "cell_type": "code",
   "execution_count": 3,
   "id": "0ddde0fe",
   "metadata": {},
   "outputs": [
    {
     "data": {
      "text/plain": [
       "SYMBOL \\n                       object\n",
       "OPEN \\n                         object\n",
       "HIGH \\n                         object\n",
       "LOW \\n                          object\n",
       "PREV. CLOSE \\n                  object\n",
       "LTP \\n                          object\n",
       "CHNG \\n                        float64\n",
       "%CHNG \\n                       float64\n",
       "VOLUME \\n(shares)                int64\n",
       "VALUE                           object\n",
       "52W H \\n                        object\n",
       "52W L \\n                        object\n",
       "365 D % CHNG \\n 12-Apr-2021    float64\n",
       "30 D % CHNG \\n 11-Mar-2022     float64\n",
       "dtype: object"
      ]
     },
     "execution_count": 3,
     "metadata": {},
     "output_type": "execute_result"
    }
   ],
   "source": [
    "df.dtypes"
   ]
  },
  {
   "cell_type": "markdown",
   "id": "2aaa7e10",
   "metadata": {},
   "source": [
    "#### Convert to float"
   ]
  },
  {
   "cell_type": "code",
   "execution_count": 4,
   "id": "d66caa24",
   "metadata": {},
   "outputs": [],
   "source": [
    "df.columns = df.columns.str.replace('\\n','').str.replace(' ','')"
   ]
  },
  {
   "cell_type": "code",
   "execution_count": 5,
   "id": "69241b5f",
   "metadata": {},
   "outputs": [],
   "source": [
    "df['OPEN_F'] = pd.to_numeric(df['OPEN'].str.replace(\",\", \"\"), errors='coerce')\n",
    "df['HIGH_F'] = pd.to_numeric(df['HIGH'].str.replace(\",\", \"\"), errors='coerce')\n",
    "df['LOW_F'] = pd.to_numeric(df['LOW'].str.replace(\",\", \"\"), errors='coerce')\n",
    "df['PREV.CLOSE_F'] = pd.to_numeric(df['PREV.CLOSE'].str.replace(\",\", \"\"), errors='coerce')\n",
    "df['LTP_F'] = pd.to_numeric(df['LTP'].str.replace(\",\", \"\"), errors='coerce')\n",
    "df['52WH_F'] = pd.to_numeric(df['52WH'].str.replace(\",\", \"\"), errors='coerce')\n",
    "df['52WL_F'] = pd.to_numeric(df['52WL'].str.replace(\",\", \"\"), errors='coerce')"
   ]
  },
  {
   "cell_type": "markdown",
   "id": "1eb52813",
   "metadata": {},
   "source": [
    "#### Only Nifty Components"
   ]
  },
  {
   "cell_type": "code",
   "execution_count": 6,
   "id": "3e1d38d1",
   "metadata": {},
   "outputs": [
    {
     "data": {
      "text/html": [
       "<div>\n",
       "<style scoped>\n",
       "    .dataframe tbody tr th:only-of-type {\n",
       "        vertical-align: middle;\n",
       "    }\n",
       "\n",
       "    .dataframe tbody tr th {\n",
       "        vertical-align: top;\n",
       "    }\n",
       "\n",
       "    .dataframe thead th {\n",
       "        text-align: right;\n",
       "    }\n",
       "</style>\n",
       "<table border=\"1\" class=\"dataframe\">\n",
       "  <thead>\n",
       "    <tr style=\"text-align: right;\">\n",
       "      <th></th>\n",
       "      <th>SYMBOL</th>\n",
       "      <th>OPEN</th>\n",
       "      <th>HIGH</th>\n",
       "      <th>LOW</th>\n",
       "      <th>PREV.CLOSE</th>\n",
       "      <th>LTP</th>\n",
       "      <th>CHNG</th>\n",
       "      <th>%CHNG</th>\n",
       "      <th>VOLUME(shares)</th>\n",
       "      <th>VALUE</th>\n",
       "      <th>...</th>\n",
       "      <th>52WL</th>\n",
       "      <th>365D%CHNG12-Apr-2021</th>\n",
       "      <th>30D%CHNG11-Mar-2022</th>\n",
       "      <th>OPEN_F</th>\n",
       "      <th>HIGH_F</th>\n",
       "      <th>LOW_F</th>\n",
       "      <th>PREV.CLOSE_F</th>\n",
       "      <th>LTP_F</th>\n",
       "      <th>52WH_F</th>\n",
       "      <th>52WL_F</th>\n",
       "    </tr>\n",
       "  </thead>\n",
       "  <tbody>\n",
       "    <tr>\n",
       "      <th>1</th>\n",
       "      <td>ONGC</td>\n",
       "      <td>171.40</td>\n",
       "      <td>174.85</td>\n",
       "      <td>170.70</td>\n",
       "      <td>168.90</td>\n",
       "      <td>173.95</td>\n",
       "      <td>5.05</td>\n",
       "      <td>2.99</td>\n",
       "      <td>23458303</td>\n",
       "      <td>4,075,410,980.19</td>\n",
       "      <td>...</td>\n",
       "      <td>97.45</td>\n",
       "      <td>70.75</td>\n",
       "      <td>6.41</td>\n",
       "      <td>171.40</td>\n",
       "      <td>174.85</td>\n",
       "      <td>170.70</td>\n",
       "      <td>168.90</td>\n",
       "      <td>173.95</td>\n",
       "      <td>194.95</td>\n",
       "      <td>97.45</td>\n",
       "    </tr>\n",
       "    <tr>\n",
       "      <th>2</th>\n",
       "      <td>APOLLOHOSP</td>\n",
       "      <td>4,629.00</td>\n",
       "      <td>4,764.00</td>\n",
       "      <td>4,629.00</td>\n",
       "      <td>4,626.30</td>\n",
       "      <td>4,735.05</td>\n",
       "      <td>108.75</td>\n",
       "      <td>2.35</td>\n",
       "      <td>812061</td>\n",
       "      <td>3,839,253,875.19</td>\n",
       "      <td>...</td>\n",
       "      <td>2,902.30</td>\n",
       "      <td>59.17</td>\n",
       "      <td>-1.42</td>\n",
       "      <td>4629.00</td>\n",
       "      <td>4764.00</td>\n",
       "      <td>4629.00</td>\n",
       "      <td>4626.30</td>\n",
       "      <td>4735.05</td>\n",
       "      <td>5935.40</td>\n",
       "      <td>2902.30</td>\n",
       "    </tr>\n",
       "    <tr>\n",
       "      <th>3</th>\n",
       "      <td>UPL</td>\n",
       "      <td>805.65</td>\n",
       "      <td>836.45</td>\n",
       "      <td>805.00</td>\n",
       "      <td>805.65</td>\n",
       "      <td>819.50</td>\n",
       "      <td>13.85</td>\n",
       "      <td>1.72</td>\n",
       "      <td>4974212</td>\n",
       "      <td>4,103,426,447.28</td>\n",
       "      <td>...</td>\n",
       "      <td>581.30</td>\n",
       "      <td>35.40</td>\n",
       "      <td>10.48</td>\n",
       "      <td>805.65</td>\n",
       "      <td>836.45</td>\n",
       "      <td>805.00</td>\n",
       "      <td>805.65</td>\n",
       "      <td>819.50</td>\n",
       "      <td>864.70</td>\n",
       "      <td>581.30</td>\n",
       "    </tr>\n",
       "    <tr>\n",
       "      <th>4</th>\n",
       "      <td>ITC</td>\n",
       "      <td>265.30</td>\n",
       "      <td>270.60</td>\n",
       "      <td>263.65</td>\n",
       "      <td>264.80</td>\n",
       "      <td>269.10</td>\n",
       "      <td>4.30</td>\n",
       "      <td>1.62</td>\n",
       "      <td>21414383</td>\n",
       "      <td>5,719,139,267.81</td>\n",
       "      <td>...</td>\n",
       "      <td>199.10</td>\n",
       "      <td>29.16</td>\n",
       "      <td>13.33</td>\n",
       "      <td>265.30</td>\n",
       "      <td>270.60</td>\n",
       "      <td>263.65</td>\n",
       "      <td>264.80</td>\n",
       "      <td>269.10</td>\n",
       "      <td>273.15</td>\n",
       "      <td>199.10</td>\n",
       "    </tr>\n",
       "    <tr>\n",
       "      <th>5</th>\n",
       "      <td>SUNPHARMA</td>\n",
       "      <td>921.30</td>\n",
       "      <td>943.00</td>\n",
       "      <td>921.30</td>\n",
       "      <td>921.30</td>\n",
       "      <td>935.25</td>\n",
       "      <td>13.95</td>\n",
       "      <td>1.51</td>\n",
       "      <td>1825531</td>\n",
       "      <td>1,703,768,082.30</td>\n",
       "      <td>...</td>\n",
       "      <td>615.20</td>\n",
       "      <td>49.32</td>\n",
       "      <td>5.06</td>\n",
       "      <td>921.30</td>\n",
       "      <td>943.00</td>\n",
       "      <td>921.30</td>\n",
       "      <td>921.30</td>\n",
       "      <td>935.25</td>\n",
       "      <td>948.00</td>\n",
       "      <td>615.20</td>\n",
       "    </tr>\n",
       "  </tbody>\n",
       "</table>\n",
       "<p>5 rows × 21 columns</p>\n",
       "</div>"
      ],
      "text/plain": [
       "       SYMBOL      OPEN      HIGH       LOW PREV.CLOSE       LTP    CHNG  \\\n",
       "1        ONGC    171.40    174.85    170.70     168.90    173.95    5.05   \n",
       "2  APOLLOHOSP  4,629.00  4,764.00  4,629.00   4,626.30  4,735.05  108.75   \n",
       "3         UPL    805.65    836.45    805.00     805.65    819.50   13.85   \n",
       "4         ITC    265.30    270.60    263.65     264.80    269.10    4.30   \n",
       "5   SUNPHARMA    921.30    943.00    921.30     921.30    935.25   13.95   \n",
       "\n",
       "   %CHNG  VOLUME(shares)             VALUE  ...      52WL  \\\n",
       "1   2.99        23458303  4,075,410,980.19  ...     97.45   \n",
       "2   2.35          812061  3,839,253,875.19  ...  2,902.30   \n",
       "3   1.72         4974212  4,103,426,447.28  ...    581.30   \n",
       "4   1.62        21414383  5,719,139,267.81  ...    199.10   \n",
       "5   1.51         1825531  1,703,768,082.30  ...    615.20   \n",
       "\n",
       "  365D%CHNG12-Apr-2021  30D%CHNG11-Mar-2022   OPEN_F   HIGH_F    LOW_F  \\\n",
       "1                70.75                 6.41   171.40   174.85   170.70   \n",
       "2                59.17                -1.42  4629.00  4764.00  4629.00   \n",
       "3                35.40                10.48   805.65   836.45   805.00   \n",
       "4                29.16                13.33   265.30   270.60   263.65   \n",
       "5                49.32                 5.06   921.30   943.00   921.30   \n",
       "\n",
       "   PREV.CLOSE_F    LTP_F   52WH_F   52WL_F  \n",
       "1        168.90   173.95   194.95    97.45  \n",
       "2       4626.30  4735.05  5935.40  2902.30  \n",
       "3        805.65   819.50   864.70   581.30  \n",
       "4        264.80   269.10   273.15   199.10  \n",
       "5        921.30   935.25   948.00   615.20  \n",
       "\n",
       "[5 rows x 21 columns]"
      ]
     },
     "execution_count": 6,
     "metadata": {},
     "output_type": "execute_result"
    }
   ],
   "source": [
    "df_nifity = df[1:(len(df.index))]\n",
    "df_nifity.head()"
   ]
  },
  {
   "cell_type": "code",
   "execution_count": 7,
   "id": "a1a3ea62",
   "metadata": {},
   "outputs": [
    {
     "name": "stdout",
     "output_type": "stream",
     "text": [
      "<class 'pandas.core.frame.DataFrame'>\n",
      "RangeIndex: 50 entries, 1 to 50\n",
      "Data columns (total 21 columns):\n",
      " #   Column                Non-Null Count  Dtype  \n",
      "---  ------                --------------  -----  \n",
      " 0   SYMBOL                50 non-null     object \n",
      " 1   OPEN                  50 non-null     object \n",
      " 2   HIGH                  50 non-null     object \n",
      " 3   LOW                   50 non-null     object \n",
      " 4   PREV.CLOSE            50 non-null     object \n",
      " 5   LTP                   50 non-null     object \n",
      " 6   CHNG                  50 non-null     float64\n",
      " 7   %CHNG                 50 non-null     float64\n",
      " 8   VOLUME(shares)        50 non-null     int64  \n",
      " 9   VALUE                 50 non-null     object \n",
      " 10  52WH                  50 non-null     object \n",
      " 11  52WL                  50 non-null     object \n",
      " 12  365D%CHNG12-Apr-2021  50 non-null     float64\n",
      " 13  30D%CHNG11-Mar-2022   50 non-null     float64\n",
      " 14  OPEN_F                50 non-null     float64\n",
      " 15  HIGH_F                50 non-null     float64\n",
      " 16  LOW_F                 50 non-null     float64\n",
      " 17  PREV.CLOSE_F          50 non-null     float64\n",
      " 18  LTP_F                 50 non-null     float64\n",
      " 19  52WH_F                50 non-null     float64\n",
      " 20  52WL_F                50 non-null     float64\n",
      "dtypes: float64(11), int64(1), object(9)\n",
      "memory usage: 8.3+ KB\n"
     ]
    }
   ],
   "source": [
    "df_nifity.info()"
   ]
  },
  {
   "cell_type": "code",
   "execution_count": 8,
   "id": "364fe173",
   "metadata": {},
   "outputs": [
    {
     "data": {
      "text/html": [
       "<div>\n",
       "<style scoped>\n",
       "    .dataframe tbody tr th:only-of-type {\n",
       "        vertical-align: middle;\n",
       "    }\n",
       "\n",
       "    .dataframe tbody tr th {\n",
       "        vertical-align: top;\n",
       "    }\n",
       "\n",
       "    .dataframe thead th {\n",
       "        text-align: right;\n",
       "    }\n",
       "</style>\n",
       "<table border=\"1\" class=\"dataframe\">\n",
       "  <thead>\n",
       "    <tr style=\"text-align: right;\">\n",
       "      <th></th>\n",
       "      <th>CHNG</th>\n",
       "      <th>%CHNG</th>\n",
       "      <th>VOLUME(shares)</th>\n",
       "      <th>365D%CHNG12-Apr-2021</th>\n",
       "      <th>30D%CHNG11-Mar-2022</th>\n",
       "      <th>OPEN_F</th>\n",
       "      <th>HIGH_F</th>\n",
       "      <th>LOW_F</th>\n",
       "      <th>PREV.CLOSE_F</th>\n",
       "      <th>LTP_F</th>\n",
       "      <th>52WH_F</th>\n",
       "      <th>52WL_F</th>\n",
       "    </tr>\n",
       "  </thead>\n",
       "  <tbody>\n",
       "    <tr>\n",
       "      <th>count</th>\n",
       "      <td>50.000000</td>\n",
       "      <td>50.000000</td>\n",
       "      <td>5.000000e+01</td>\n",
       "      <td>50.000000</td>\n",
       "      <td>50.000000</td>\n",
       "      <td>50.000000</td>\n",
       "      <td>50.000000</td>\n",
       "      <td>50.000000</td>\n",
       "      <td>50.000000</td>\n",
       "      <td>50.00000</td>\n",
       "      <td>50.000000</td>\n",
       "      <td>50.000000</td>\n",
       "    </tr>\n",
       "    <tr>\n",
       "      <th>mean</th>\n",
       "      <td>-9.744000</td>\n",
       "      <td>-0.137000</td>\n",
       "      <td>4.901239e+06</td>\n",
       "      <td>22.633000</td>\n",
       "      <td>5.953800</td>\n",
       "      <td>3009.155000</td>\n",
       "      <td>3038.318000</td>\n",
       "      <td>2977.006000</td>\n",
       "      <td>3003.514000</td>\n",
       "      <td>2993.77000</td>\n",
       "      <td>3567.793000</td>\n",
       "      <td>2336.927000</td>\n",
       "    </tr>\n",
       "    <tr>\n",
       "      <th>std</th>\n",
       "      <td>61.220714</td>\n",
       "      <td>1.150887</td>\n",
       "      <td>6.184218e+06</td>\n",
       "      <td>23.938966</td>\n",
       "      <td>6.103276</td>\n",
       "      <td>4782.221875</td>\n",
       "      <td>4833.085483</td>\n",
       "      <td>4743.925539</td>\n",
       "      <td>4774.267236</td>\n",
       "      <td>4772.46633</td>\n",
       "      <td>5755.226012</td>\n",
       "      <td>3893.198267</td>\n",
       "    </tr>\n",
       "    <tr>\n",
       "      <th>min</th>\n",
       "      <td>-221.100000</td>\n",
       "      <td>-2.280000</td>\n",
       "      <td>2.733000e+04</td>\n",
       "      <td>-20.620000</td>\n",
       "      <td>-4.930000</td>\n",
       "      <td>153.050000</td>\n",
       "      <td>156.200000</td>\n",
       "      <td>152.750000</td>\n",
       "      <td>152.600000</td>\n",
       "      <td>153.90000</td>\n",
       "      <td>158.000000</td>\n",
       "      <td>97.050000</td>\n",
       "    </tr>\n",
       "    <tr>\n",
       "      <th>25%</th>\n",
       "      <td>-20.737500</td>\n",
       "      <td>-0.947500</td>\n",
       "      <td>7.072530e+05</td>\n",
       "      <td>5.147500</td>\n",
       "      <td>2.467500</td>\n",
       "      <td>762.400000</td>\n",
       "      <td>774.687500</td>\n",
       "      <td>760.175000</td>\n",
       "      <td>757.887500</td>\n",
       "      <td>762.27500</td>\n",
       "      <td>802.525000</td>\n",
       "      <td>539.862500</td>\n",
       "    </tr>\n",
       "    <tr>\n",
       "      <th>50%</th>\n",
       "      <td>-2.200000</td>\n",
       "      <td>-0.280000</td>\n",
       "      <td>1.947636e+06</td>\n",
       "      <td>21.290000</td>\n",
       "      <td>6.485000</td>\n",
       "      <td>1376.525000</td>\n",
       "      <td>1387.350000</td>\n",
       "      <td>1359.200000</td>\n",
       "      <td>1367.625000</td>\n",
       "      <td>1362.75000</td>\n",
       "      <td>1629.750000</td>\n",
       "      <td>914.000000</td>\n",
       "    </tr>\n",
       "    <tr>\n",
       "      <th>75%</th>\n",
       "      <td>4.712500</td>\n",
       "      <td>0.552500</td>\n",
       "      <td>6.321696e+06</td>\n",
       "      <td>40.120000</td>\n",
       "      <td>9.865000</td>\n",
       "      <td>2981.525000</td>\n",
       "      <td>2989.575000</td>\n",
       "      <td>2935.950000</td>\n",
       "      <td>2986.750000</td>\n",
       "      <td>2950.97500</td>\n",
       "      <td>3465.000000</td>\n",
       "      <td>2405.887500</td>\n",
       "    </tr>\n",
       "    <tr>\n",
       "      <th>max</th>\n",
       "      <td>237.350000</td>\n",
       "      <td>2.990000</td>\n",
       "      <td>2.345830e+07</td>\n",
       "      <td>70.750000</td>\n",
       "      <td>19.530000</td>\n",
       "      <td>25122.650000</td>\n",
       "      <td>25515.350000</td>\n",
       "      <td>25120.000000</td>\n",
       "      <td>25122.650000</td>\n",
       "      <td>25360.00000</td>\n",
       "      <td>31497.400000</td>\n",
       "      <td>21650.000000</td>\n",
       "    </tr>\n",
       "  </tbody>\n",
       "</table>\n",
       "</div>"
      ],
      "text/plain": [
       "             CHNG      %CHNG  VOLUME(shares)  365D%CHNG12-Apr-2021  \\\n",
       "count   50.000000  50.000000    5.000000e+01             50.000000   \n",
       "mean    -9.744000  -0.137000    4.901239e+06             22.633000   \n",
       "std     61.220714   1.150887    6.184218e+06             23.938966   \n",
       "min   -221.100000  -2.280000    2.733000e+04            -20.620000   \n",
       "25%    -20.737500  -0.947500    7.072530e+05              5.147500   \n",
       "50%     -2.200000  -0.280000    1.947636e+06             21.290000   \n",
       "75%      4.712500   0.552500    6.321696e+06             40.120000   \n",
       "max    237.350000   2.990000    2.345830e+07             70.750000   \n",
       "\n",
       "       30D%CHNG11-Mar-2022        OPEN_F        HIGH_F         LOW_F  \\\n",
       "count            50.000000     50.000000     50.000000     50.000000   \n",
       "mean              5.953800   3009.155000   3038.318000   2977.006000   \n",
       "std               6.103276   4782.221875   4833.085483   4743.925539   \n",
       "min              -4.930000    153.050000    156.200000    152.750000   \n",
       "25%               2.467500    762.400000    774.687500    760.175000   \n",
       "50%               6.485000   1376.525000   1387.350000   1359.200000   \n",
       "75%               9.865000   2981.525000   2989.575000   2935.950000   \n",
       "max              19.530000  25122.650000  25515.350000  25120.000000   \n",
       "\n",
       "       PREV.CLOSE_F        LTP_F        52WH_F        52WL_F  \n",
       "count     50.000000     50.00000     50.000000     50.000000  \n",
       "mean    3003.514000   2993.77000   3567.793000   2336.927000  \n",
       "std     4774.267236   4772.46633   5755.226012   3893.198267  \n",
       "min      152.600000    153.90000    158.000000     97.050000  \n",
       "25%      757.887500    762.27500    802.525000    539.862500  \n",
       "50%     1367.625000   1362.75000   1629.750000    914.000000  \n",
       "75%     2986.750000   2950.97500   3465.000000   2405.887500  \n",
       "max    25122.650000  25360.00000  31497.400000  21650.000000  "
      ]
     },
     "execution_count": 8,
     "metadata": {},
     "output_type": "execute_result"
    }
   ],
   "source": [
    "df_nifity.describe()"
   ]
  },
  {
   "cell_type": "markdown",
   "id": "ee55cba9",
   "metadata": {},
   "source": [
    "### Volume"
   ]
  },
  {
   "cell_type": "code",
   "execution_count": 9,
   "id": "d7088096",
   "metadata": {},
   "outputs": [
    {
     "data": {
      "application/vnd.plotly.v1+json": {
       "config": {
        "plotlyServerURL": "https://plot.ly"
       },
       "data": [
        {
         "alignmentgroup": "True",
         "bingroup": "x",
         "hovertemplate": "SYMBOL=NESTLEIND<br>VOLUME(shares)=%{x}<br>count=%{y}<extra></extra>",
         "legendgroup": "NESTLEIND",
         "marker": {
          "color": "#2E91E5",
          "pattern": {
           "shape": ""
          }
         },
         "name": "NESTLEIND",
         "offsetgroup": "NESTLEIND",
         "orientation": "v",
         "showlegend": true,
         "type": "histogram",
         "x": [
          27330
         ],
         "xaxis": "x",
         "yaxis": "y"
        },
        {
         "alignmentgroup": "True",
         "bingroup": "x",
         "hovertemplate": "SYMBOL=SHREECEM<br>VOLUME(shares)=%{x}<br>count=%{y}<extra></extra>",
         "legendgroup": "SHREECEM",
         "marker": {
          "color": "#E15F99",
          "pattern": {
           "shape": ""
          }
         },
         "name": "SHREECEM",
         "offsetgroup": "SHREECEM",
         "orientation": "v",
         "showlegend": true,
         "type": "histogram",
         "x": [
          36907
         ],
         "xaxis": "x",
         "yaxis": "y"
        },
        {
         "alignmentgroup": "True",
         "bingroup": "x",
         "hovertemplate": "SYMBOL=BAJAJ-AUTO<br>VOLUME(shares)=%{x}<br>count=%{y}<extra></extra>",
         "legendgroup": "BAJAJ-AUTO",
         "marker": {
          "color": "#1CA71C",
          "pattern": {
           "shape": ""
          }
         },
         "name": "BAJAJ-AUTO",
         "offsetgroup": "BAJAJ-AUTO",
         "orientation": "v",
         "showlegend": true,
         "type": "histogram",
         "x": [
          198206
         ],
         "xaxis": "x",
         "yaxis": "y"
        },
        {
         "alignmentgroup": "True",
         "bingroup": "x",
         "hovertemplate": "SYMBOL=BRITANNIA<br>VOLUME(shares)=%{x}<br>count=%{y}<extra></extra>",
         "legendgroup": "BRITANNIA",
         "marker": {
          "color": "#FB0D0D",
          "pattern": {
           "shape": ""
          }
         },
         "name": "BRITANNIA",
         "offsetgroup": "BRITANNIA",
         "orientation": "v",
         "showlegend": true,
         "type": "histogram",
         "x": [
          205852
         ],
         "xaxis": "x",
         "yaxis": "y"
        },
        {
         "alignmentgroup": "True",
         "bingroup": "x",
         "hovertemplate": "SYMBOL=BAJAJFINSV<br>VOLUME(shares)=%{x}<br>count=%{y}<extra></extra>",
         "legendgroup": "BAJAJFINSV",
         "marker": {
          "color": "#DA16FF",
          "pattern": {
           "shape": ""
          }
         },
         "name": "BAJAJFINSV",
         "offsetgroup": "BAJAJFINSV",
         "orientation": "v",
         "showlegend": true,
         "type": "histogram",
         "x": [
          248390
         ],
         "xaxis": "x",
         "yaxis": "y"
        },
        {
         "alignmentgroup": "True",
         "bingroup": "x",
         "hovertemplate": "SYMBOL=DIVISLAB<br>VOLUME(shares)=%{x}<br>count=%{y}<extra></extra>",
         "legendgroup": "DIVISLAB",
         "marker": {
          "color": "#222A2A",
          "pattern": {
           "shape": ""
          }
         },
         "name": "DIVISLAB",
         "offsetgroup": "DIVISLAB",
         "orientation": "v",
         "showlegend": true,
         "type": "histogram",
         "x": [
          306254
         ],
         "xaxis": "x",
         "yaxis": "y"
        },
        {
         "alignmentgroup": "True",
         "bingroup": "x",
         "hovertemplate": "SYMBOL=DRREDDY<br>VOLUME(shares)=%{x}<br>count=%{y}<extra></extra>",
         "legendgroup": "DRREDDY",
         "marker": {
          "color": "#B68100",
          "pattern": {
           "shape": ""
          }
         },
         "name": "DRREDDY",
         "offsetgroup": "DRREDDY",
         "orientation": "v",
         "showlegend": true,
         "type": "histogram",
         "x": [
          369436
         ],
         "xaxis": "x",
         "yaxis": "y"
        },
        {
         "alignmentgroup": "True",
         "bingroup": "x",
         "hovertemplate": "SYMBOL=EICHERMOT<br>VOLUME(shares)=%{x}<br>count=%{y}<extra></extra>",
         "legendgroup": "EICHERMOT",
         "marker": {
          "color": "#750D86",
          "pattern": {
           "shape": ""
          }
         },
         "name": "EICHERMOT",
         "offsetgroup": "EICHERMOT",
         "orientation": "v",
         "showlegend": true,
         "type": "histogram",
         "x": [
          383935
         ],
         "xaxis": "x",
         "yaxis": "y"
        },
        {
         "alignmentgroup": "True",
         "bingroup": "x",
         "hovertemplate": "SYMBOL=ULTRACEMCO<br>VOLUME(shares)=%{x}<br>count=%{y}<extra></extra>",
         "legendgroup": "ULTRACEMCO",
         "marker": {
          "color": "#EB663B",
          "pattern": {
           "shape": ""
          }
         },
         "name": "ULTRACEMCO",
         "offsetgroup": "ULTRACEMCO",
         "orientation": "v",
         "showlegend": true,
         "type": "histogram",
         "x": [
          386535
         ],
         "xaxis": "x",
         "yaxis": "y"
        },
        {
         "alignmentgroup": "True",
         "bingroup": "x",
         "hovertemplate": "SYMBOL=HEROMOTOCO<br>VOLUME(shares)=%{x}<br>count=%{y}<extra></extra>",
         "legendgroup": "HEROMOTOCO",
         "marker": {
          "color": "#511CFB",
          "pattern": {
           "shape": ""
          }
         },
         "name": "HEROMOTOCO",
         "offsetgroup": "HEROMOTOCO",
         "orientation": "v",
         "showlegend": true,
         "type": "histogram",
         "x": [
          426929
         ],
         "xaxis": "x",
         "yaxis": "y"
        },
        {
         "alignmentgroup": "True",
         "bingroup": "x",
         "hovertemplate": "SYMBOL=SBILIFE<br>VOLUME(shares)=%{x}<br>count=%{y}<extra></extra>",
         "legendgroup": "SBILIFE",
         "marker": {
          "color": "#00A08B",
          "pattern": {
           "shape": ""
          }
         },
         "name": "SBILIFE",
         "offsetgroup": "SBILIFE",
         "orientation": "v",
         "showlegend": true,
         "type": "histogram",
         "x": [
          509293
         ],
         "xaxis": "x",
         "yaxis": "y"
        },
        {
         "alignmentgroup": "True",
         "bingroup": "x",
         "hovertemplate": "SYMBOL=MARUTI<br>VOLUME(shares)=%{x}<br>count=%{y}<extra></extra>",
         "legendgroup": "MARUTI",
         "marker": {
          "color": "#FB00D1",
          "pattern": {
           "shape": ""
          }
         },
         "name": "MARUTI",
         "offsetgroup": "MARUTI",
         "orientation": "v",
         "showlegend": true,
         "type": "histogram",
         "x": [
          527991
         ],
         "xaxis": "x",
         "yaxis": "y"
        },
        {
         "alignmentgroup": "True",
         "bingroup": "x",
         "hovertemplate": "SYMBOL=BAJFINANCE<br>VOLUME(shares)=%{x}<br>count=%{y}<extra></extra>",
         "legendgroup": "BAJFINANCE",
         "marker": {
          "color": "#FC0080",
          "pattern": {
           "shape": ""
          }
         },
         "name": "BAJFINANCE",
         "offsetgroup": "BAJFINANCE",
         "orientation": "v",
         "showlegend": true,
         "type": "histogram",
         "x": [
          672317
         ],
         "xaxis": "x",
         "yaxis": "y"
        },
        {
         "alignmentgroup": "True",
         "bingroup": "x",
         "hovertemplate": "SYMBOL=APOLLOHOSP<br>VOLUME(shares)=%{x}<br>count=%{y}<extra></extra>",
         "legendgroup": "APOLLOHOSP",
         "marker": {
          "color": "#B2828D",
          "pattern": {
           "shape": ""
          }
         },
         "name": "APOLLOHOSP",
         "offsetgroup": "APOLLOHOSP",
         "orientation": "v",
         "showlegend": true,
         "type": "histogram",
         "x": [
          812061
         ],
         "xaxis": "x",
         "yaxis": "y"
        },
        {
         "alignmentgroup": "True",
         "bingroup": "x",
         "hovertemplate": "SYMBOL=GRASIM<br>VOLUME(shares)=%{x}<br>count=%{y}<extra></extra>",
         "legendgroup": "GRASIM",
         "marker": {
          "color": "#6C7C32",
          "pattern": {
           "shape": ""
          }
         },
         "name": "GRASIM",
         "offsetgroup": "GRASIM",
         "orientation": "v",
         "showlegend": true,
         "type": "histogram",
         "x": [
          836083
         ],
         "xaxis": "x",
         "yaxis": "y"
        },
        {
         "alignmentgroup": "True",
         "bingroup": "x",
         "hovertemplate": "SYMBOL=TATACONSUM<br>VOLUME(shares)=%{x}<br>count=%{y}<extra></extra>",
         "legendgroup": "TATACONSUM",
         "marker": {
          "color": "#778AAE",
          "pattern": {
           "shape": ""
          }
         },
         "name": "TATACONSUM",
         "offsetgroup": "TATACONSUM",
         "orientation": "v",
         "showlegend": true,
         "type": "histogram",
         "x": [
          1036739
         ],
         "xaxis": "x",
         "yaxis": "y"
        },
        {
         "alignmentgroup": "True",
         "bingroup": "x",
         "hovertemplate": "SYMBOL=HINDUNILVR<br>VOLUME(shares)=%{x}<br>count=%{y}<extra></extra>",
         "legendgroup": "HINDUNILVR",
         "marker": {
          "color": "#862A16",
          "pattern": {
           "shape": ""
          }
         },
         "name": "HINDUNILVR",
         "offsetgroup": "HINDUNILVR",
         "orientation": "v",
         "showlegend": true,
         "type": "histogram",
         "x": [
          1071601
         ],
         "xaxis": "x",
         "yaxis": "y"
        },
        {
         "alignmentgroup": "True",
         "bingroup": "x",
         "hovertemplate": "SYMBOL=ASIANPAINT<br>VOLUME(shares)=%{x}<br>count=%{y}<extra></extra>",
         "legendgroup": "ASIANPAINT",
         "marker": {
          "color": "#A777F1",
          "pattern": {
           "shape": ""
          }
         },
         "name": "ASIANPAINT",
         "offsetgroup": "ASIANPAINT",
         "orientation": "v",
         "showlegend": true,
         "type": "histogram",
         "x": [
          1121350
         ],
         "xaxis": "x",
         "yaxis": "y"
        },
        {
         "alignmentgroup": "True",
         "bingroup": "x",
         "hovertemplate": "SYMBOL=TITAN<br>VOLUME(shares)=%{x}<br>count=%{y}<extra></extra>",
         "legendgroup": "TITAN",
         "marker": {
          "color": "#620042",
          "pattern": {
           "shape": ""
          }
         },
         "name": "TITAN",
         "offsetgroup": "TITAN",
         "orientation": "v",
         "showlegend": true,
         "type": "histogram",
         "x": [
          1165453
         ],
         "xaxis": "x",
         "yaxis": "y"
        },
        {
         "alignmentgroup": "True",
         "bingroup": "x",
         "hovertemplate": "SYMBOL=TECHM<br>VOLUME(shares)=%{x}<br>count=%{y}<extra></extra>",
         "legendgroup": "TECHM",
         "marker": {
          "color": "#1616A7",
          "pattern": {
           "shape": ""
          }
         },
         "name": "TECHM",
         "offsetgroup": "TECHM",
         "orientation": "v",
         "showlegend": true,
         "type": "histogram",
         "x": [
          1430399
         ],
         "xaxis": "x",
         "yaxis": "y"
        },
        {
         "alignmentgroup": "True",
         "bingroup": "x",
         "hovertemplate": "SYMBOL=TCS<br>VOLUME(shares)=%{x}<br>count=%{y}<extra></extra>",
         "legendgroup": "TCS",
         "marker": {
          "color": "#DA60CA",
          "pattern": {
           "shape": ""
          }
         },
         "name": "TCS",
         "offsetgroup": "TCS",
         "orientation": "v",
         "showlegend": true,
         "type": "histogram",
         "x": [
          1621672
         ],
         "xaxis": "x",
         "yaxis": "y"
        },
        {
         "alignmentgroup": "True",
         "bingroup": "x",
         "hovertemplate": "SYMBOL=LT<br>VOLUME(shares)=%{x}<br>count=%{y}<extra></extra>",
         "legendgroup": "LT",
         "marker": {
          "color": "#6C4516",
          "pattern": {
           "shape": ""
          }
         },
         "name": "LT",
         "offsetgroup": "LT",
         "orientation": "v",
         "showlegend": true,
         "type": "histogram",
         "x": [
          1673417
         ],
         "xaxis": "x",
         "yaxis": "y"
        },
        {
         "alignmentgroup": "True",
         "bingroup": "x",
         "hovertemplate": "SYMBOL=SUNPHARMA<br>VOLUME(shares)=%{x}<br>count=%{y}<extra></extra>",
         "legendgroup": "SUNPHARMA",
         "marker": {
          "color": "#0D2A63",
          "pattern": {
           "shape": ""
          }
         },
         "name": "SUNPHARMA",
         "offsetgroup": "SUNPHARMA",
         "orientation": "v",
         "showlegend": true,
         "type": "histogram",
         "x": [
          1825531
         ],
         "xaxis": "x",
         "yaxis": "y"
        },
        {
         "alignmentgroup": "True",
         "bingroup": "x",
         "hovertemplate": "SYMBOL=CIPLA<br>VOLUME(shares)=%{x}<br>count=%{y}<extra></extra>",
         "legendgroup": "CIPLA",
         "marker": {
          "color": "#AF0038",
          "pattern": {
           "shape": ""
          }
         },
         "name": "CIPLA",
         "offsetgroup": "CIPLA",
         "orientation": "v",
         "showlegend": true,
         "type": "histogram",
         "x": [
          1890795
         ],
         "xaxis": "x",
         "yaxis": "y"
        },
        {
         "alignmentgroup": "True",
         "bingroup": "x",
         "hovertemplate": "SYMBOL=KOTAKBANK<br>VOLUME(shares)=%{x}<br>count=%{y}<extra></extra>",
         "legendgroup": "KOTAKBANK",
         "marker": {
          "color": "#2E91E5",
          "pattern": {
           "shape": ""
          }
         },
         "name": "KOTAKBANK",
         "offsetgroup": "KOTAKBANK",
         "orientation": "v",
         "showlegend": true,
         "type": "histogram",
         "x": [
          1923692
         ],
         "xaxis": "x",
         "yaxis": "y"
        },
        {
         "alignmentgroup": "True",
         "bingroup": "x",
         "hovertemplate": "SYMBOL=HCLTECH<br>VOLUME(shares)=%{x}<br>count=%{y}<extra></extra>",
         "legendgroup": "HCLTECH",
         "marker": {
          "color": "#E15F99",
          "pattern": {
           "shape": ""
          }
         },
         "name": "HCLTECH",
         "offsetgroup": "HCLTECH",
         "orientation": "v",
         "showlegend": true,
         "type": "histogram",
         "x": [
          1971580
         ],
         "xaxis": "x",
         "yaxis": "y"
        },
        {
         "alignmentgroup": "True",
         "bingroup": "x",
         "hovertemplate": "SYMBOL=INDUSINDBK<br>VOLUME(shares)=%{x}<br>count=%{y}<extra></extra>",
         "legendgroup": "INDUSINDBK",
         "marker": {
          "color": "#1CA71C",
          "pattern": {
           "shape": ""
          }
         },
         "name": "INDUSINDBK",
         "offsetgroup": "INDUSINDBK",
         "orientation": "v",
         "showlegend": true,
         "type": "histogram",
         "x": [
          2060127
         ],
         "xaxis": "x",
         "yaxis": "y"
        },
        {
         "alignmentgroup": "True",
         "bingroup": "x",
         "hovertemplate": "SYMBOL=HDFCLIFE<br>VOLUME(shares)=%{x}<br>count=%{y}<extra></extra>",
         "legendgroup": "HDFCLIFE",
         "marker": {
          "color": "#FB0D0D",
          "pattern": {
           "shape": ""
          }
         },
         "name": "HDFCLIFE",
         "offsetgroup": "HDFCLIFE",
         "orientation": "v",
         "showlegend": true,
         "type": "histogram",
         "x": [
          2313264
         ],
         "xaxis": "x",
         "yaxis": "y"
        },
        {
         "alignmentgroup": "True",
         "bingroup": "x",
         "hovertemplate": "SYMBOL=ADANIPORTS<br>VOLUME(shares)=%{x}<br>count=%{y}<extra></extra>",
         "legendgroup": "ADANIPORTS",
         "marker": {
          "color": "#DA16FF",
          "pattern": {
           "shape": ""
          }
         },
         "name": "ADANIPORTS",
         "offsetgroup": "ADANIPORTS",
         "orientation": "v",
         "showlegend": true,
         "type": "histogram",
         "x": [
          2955807
         ],
         "xaxis": "x",
         "yaxis": "y"
        },
        {
         "alignmentgroup": "True",
         "bingroup": "x",
         "hovertemplate": "SYMBOL=BPCL<br>VOLUME(shares)=%{x}<br>count=%{y}<extra></extra>",
         "legendgroup": "BPCL",
         "marker": {
          "color": "#222A2A",
          "pattern": {
           "shape": ""
          }
         },
         "name": "BPCL",
         "offsetgroup": "BPCL",
         "orientation": "v",
         "showlegend": true,
         "type": "histogram",
         "x": [
          3261962
         ],
         "xaxis": "x",
         "yaxis": "y"
        },
        {
         "alignmentgroup": "True",
         "bingroup": "x",
         "hovertemplate": "SYMBOL=M&M<br>VOLUME(shares)=%{x}<br>count=%{y}<extra></extra>",
         "legendgroup": "M&M",
         "marker": {
          "color": "#B68100",
          "pattern": {
           "shape": ""
          }
         },
         "name": "M&M",
         "offsetgroup": "M&M",
         "orientation": "v",
         "showlegend": true,
         "type": "histogram",
         "x": [
          3695363
         ],
         "xaxis": "x",
         "yaxis": "y"
        },
        {
         "alignmentgroup": "True",
         "bingroup": "x",
         "hovertemplate": "SYMBOL=HDFC<br>VOLUME(shares)=%{x}<br>count=%{y}<extra></extra>",
         "legendgroup": "HDFC",
         "marker": {
          "color": "#750D86",
          "pattern": {
           "shape": ""
          }
         },
         "name": "HDFC",
         "offsetgroup": "HDFC",
         "orientation": "v",
         "showlegend": true,
         "type": "histogram",
         "x": [
          4257122
         ],
         "xaxis": "x",
         "yaxis": "y"
        },
        {
         "alignmentgroup": "True",
         "bingroup": "x",
         "hovertemplate": "SYMBOL=TATASTEEL<br>VOLUME(shares)=%{x}<br>count=%{y}<extra></extra>",
         "legendgroup": "TATASTEEL",
         "marker": {
          "color": "#EB663B",
          "pattern": {
           "shape": ""
          }
         },
         "name": "TATASTEEL",
         "offsetgroup": "TATASTEEL",
         "orientation": "v",
         "showlegend": true,
         "type": "histogram",
         "x": [
          4493780
         ],
         "xaxis": "x",
         "yaxis": "y"
        },
        {
         "alignmentgroup": "True",
         "bingroup": "x",
         "hovertemplate": "SYMBOL=RELIANCE<br>VOLUME(shares)=%{x}<br>count=%{y}<extra></extra>",
         "legendgroup": "RELIANCE",
         "marker": {
          "color": "#511CFB",
          "pattern": {
           "shape": ""
          }
         },
         "name": "RELIANCE",
         "offsetgroup": "RELIANCE",
         "orientation": "v",
         "showlegend": true,
         "type": "histogram",
         "x": [
          4778478
         ],
         "xaxis": "x",
         "yaxis": "y"
        },
        {
         "alignmentgroup": "True",
         "bingroup": "x",
         "hovertemplate": "SYMBOL=UPL<br>VOLUME(shares)=%{x}<br>count=%{y}<extra></extra>",
         "legendgroup": "UPL",
         "marker": {
          "color": "#00A08B",
          "pattern": {
           "shape": ""
          }
         },
         "name": "UPL",
         "offsetgroup": "UPL",
         "orientation": "v",
         "showlegend": true,
         "type": "histogram",
         "x": [
          4974212
         ],
         "xaxis": "x",
         "yaxis": "y"
        },
        {
         "alignmentgroup": "True",
         "bingroup": "x",
         "hovertemplate": "SYMBOL=WIPRO<br>VOLUME(shares)=%{x}<br>count=%{y}<extra></extra>",
         "legendgroup": "WIPRO",
         "marker": {
          "color": "#FB00D1",
          "pattern": {
           "shape": ""
          }
         },
         "name": "WIPRO",
         "offsetgroup": "WIPRO",
         "orientation": "v",
         "showlegend": true,
         "type": "histogram",
         "x": [
          5602288
         ],
         "xaxis": "x",
         "yaxis": "y"
        },
        {
         "alignmentgroup": "True",
         "bingroup": "x",
         "hovertemplate": "SYMBOL=INFY<br>VOLUME(shares)=%{x}<br>count=%{y}<extra></extra>",
         "legendgroup": "INFY",
         "marker": {
          "color": "#FC0080",
          "pattern": {
           "shape": ""
          }
         },
         "name": "INFY",
         "offsetgroup": "INFY",
         "orientation": "v",
         "showlegend": true,
         "type": "histogram",
         "x": [
          6257693
         ],
         "xaxis": "x",
         "yaxis": "y"
        },
        {
         "alignmentgroup": "True",
         "bingroup": "x",
         "hovertemplate": "SYMBOL=BHARTIARTL<br>VOLUME(shares)=%{x}<br>count=%{y}<extra></extra>",
         "legendgroup": "BHARTIARTL",
         "marker": {
          "color": "#B2828D",
          "pattern": {
           "shape": ""
          }
         },
         "name": "BHARTIARTL",
         "offsetgroup": "BHARTIARTL",
         "orientation": "v",
         "showlegend": true,
         "type": "histogram",
         "x": [
          6343030
         ],
         "xaxis": "x",
         "yaxis": "y"
        },
        {
         "alignmentgroup": "True",
         "bingroup": "x",
         "hovertemplate": "SYMBOL=JSWSTEEL<br>VOLUME(shares)=%{x}<br>count=%{y}<extra></extra>",
         "legendgroup": "JSWSTEEL",
         "marker": {
          "color": "#6C7C32",
          "pattern": {
           "shape": ""
          }
         },
         "name": "JSWSTEEL",
         "offsetgroup": "JSWSTEEL",
         "orientation": "v",
         "showlegend": true,
         "type": "histogram",
         "x": [
          6722613
         ],
         "xaxis": "x",
         "yaxis": "y"
        },
        {
         "alignmentgroup": "True",
         "bingroup": "x",
         "hovertemplate": "SYMBOL=HINDALCO<br>VOLUME(shares)=%{x}<br>count=%{y}<extra></extra>",
         "legendgroup": "HINDALCO",
         "marker": {
          "color": "#778AAE",
          "pattern": {
           "shape": ""
          }
         },
         "name": "HINDALCO",
         "offsetgroup": "HINDALCO",
         "orientation": "v",
         "showlegend": true,
         "type": "histogram",
         "x": [
          7396320
         ],
         "xaxis": "x",
         "yaxis": "y"
        },
        {
         "alignmentgroup": "True",
         "bingroup": "x",
         "hovertemplate": "SYMBOL=AXISBANK<br>VOLUME(shares)=%{x}<br>count=%{y}<extra></extra>",
         "legendgroup": "AXISBANK",
         "marker": {
          "color": "#862A16",
          "pattern": {
           "shape": ""
          }
         },
         "name": "AXISBANK",
         "offsetgroup": "AXISBANK",
         "orientation": "v",
         "showlegend": true,
         "type": "histogram",
         "x": [
          7640132
         ],
         "xaxis": "x",
         "yaxis": "y"
        },
        {
         "alignmentgroup": "True",
         "bingroup": "x",
         "hovertemplate": "SYMBOL=POWERGRID<br>VOLUME(shares)=%{x}<br>count=%{y}<extra></extra>",
         "legendgroup": "POWERGRID",
         "marker": {
          "color": "#A777F1",
          "pattern": {
           "shape": ""
          }
         },
         "name": "POWERGRID",
         "offsetgroup": "POWERGRID",
         "orientation": "v",
         "showlegend": true,
         "type": "histogram",
         "x": [
          8261580
         ],
         "xaxis": "x",
         "yaxis": "y"
        },
        {
         "alignmentgroup": "True",
         "bingroup": "x",
         "hovertemplate": "SYMBOL=COALINDIA<br>VOLUME(shares)=%{x}<br>count=%{y}<extra></extra>",
         "legendgroup": "COALINDIA",
         "marker": {
          "color": "#620042",
          "pattern": {
           "shape": ""
          }
         },
         "name": "COALINDIA",
         "offsetgroup": "COALINDIA",
         "orientation": "v",
         "showlegend": true,
         "type": "histogram",
         "x": [
          14216953
         ],
         "xaxis": "x",
         "yaxis": "y"
        },
        {
         "alignmentgroup": "True",
         "bingroup": "x",
         "hovertemplate": "SYMBOL=HDFCBANK<br>VOLUME(shares)=%{x}<br>count=%{y}<extra></extra>",
         "legendgroup": "HDFCBANK",
         "marker": {
          "color": "#1616A7",
          "pattern": {
           "shape": ""
          }
         },
         "name": "HDFCBANK",
         "offsetgroup": "HDFCBANK",
         "orientation": "v",
         "showlegend": true,
         "type": "histogram",
         "x": [
          14446260
         ],
         "xaxis": "x",
         "yaxis": "y"
        },
        {
         "alignmentgroup": "True",
         "bingroup": "x",
         "hovertemplate": "SYMBOL=SBIN<br>VOLUME(shares)=%{x}<br>count=%{y}<extra></extra>",
         "legendgroup": "SBIN",
         "marker": {
          "color": "#DA60CA",
          "pattern": {
           "shape": ""
          }
         },
         "name": "SBIN",
         "offsetgroup": "SBIN",
         "orientation": "v",
         "showlegend": true,
         "type": "histogram",
         "x": [
          15440525
         ],
         "xaxis": "x",
         "yaxis": "y"
        },
        {
         "alignmentgroup": "True",
         "bingroup": "x",
         "hovertemplate": "SYMBOL=ICICIBANK<br>VOLUME(shares)=%{x}<br>count=%{y}<extra></extra>",
         "legendgroup": "ICICIBANK",
         "marker": {
          "color": "#6C4516",
          "pattern": {
           "shape": ""
          }
         },
         "name": "ICICIBANK",
         "offsetgroup": "ICICIBANK",
         "orientation": "v",
         "showlegend": true,
         "type": "histogram",
         "x": [
          16119956
         ],
         "xaxis": "x",
         "yaxis": "y"
        },
        {
         "alignmentgroup": "True",
         "bingroup": "x",
         "hovertemplate": "SYMBOL=TATAMOTORS<br>VOLUME(shares)=%{x}<br>count=%{y}<extra></extra>",
         "legendgroup": "TATAMOTORS",
         "marker": {
          "color": "#0D2A63",
          "pattern": {
           "shape": ""
          }
         },
         "name": "TATAMOTORS",
         "offsetgroup": "TATAMOTORS",
         "orientation": "v",
         "showlegend": true,
         "type": "histogram",
         "x": [
          16817981
         ],
         "xaxis": "x",
         "yaxis": "y"
        },
        {
         "alignmentgroup": "True",
         "bingroup": "x",
         "hovertemplate": "SYMBOL=NTPC<br>VOLUME(shares)=%{x}<br>count=%{y}<extra></extra>",
         "legendgroup": "NTPC",
         "marker": {
          "color": "#AF0038",
          "pattern": {
           "shape": ""
          }
         },
         "name": "NTPC",
         "offsetgroup": "NTPC",
         "orientation": "v",
         "showlegend": true,
         "type": "histogram",
         "x": [
          19454061
         ],
         "xaxis": "x",
         "yaxis": "y"
        },
        {
         "alignmentgroup": "True",
         "bingroup": "x",
         "hovertemplate": "SYMBOL=ITC<br>VOLUME(shares)=%{x}<br>count=%{y}<extra></extra>",
         "legendgroup": "ITC",
         "marker": {
          "color": "#2E91E5",
          "pattern": {
           "shape": ""
          }
         },
         "name": "ITC",
         "offsetgroup": "ITC",
         "orientation": "v",
         "showlegend": true,
         "type": "histogram",
         "x": [
          21414383
         ],
         "xaxis": "x",
         "yaxis": "y"
        },
        {
         "alignmentgroup": "True",
         "bingroup": "x",
         "hovertemplate": "SYMBOL=ONGC<br>VOLUME(shares)=%{x}<br>count=%{y}<extra></extra>",
         "legendgroup": "ONGC",
         "marker": {
          "color": "#E15F99",
          "pattern": {
           "shape": ""
          }
         },
         "name": "ONGC",
         "offsetgroup": "ONGC",
         "orientation": "v",
         "showlegend": true,
         "type": "histogram",
         "x": [
          23458303
         ],
         "xaxis": "x",
         "yaxis": "y"
        }
       ],
       "layout": {
        "barmode": "relative",
        "legend": {
         "title": {
          "text": "SYMBOL"
         },
         "tracegroupgap": 0
        },
        "template": {
         "data": {
          "bar": [
           {
            "error_x": {
             "color": "#2a3f5f"
            },
            "error_y": {
             "color": "#2a3f5f"
            },
            "marker": {
             "line": {
              "color": "#E5ECF6",
              "width": 0.5
             },
             "pattern": {
              "fillmode": "overlay",
              "size": 10,
              "solidity": 0.2
             }
            },
            "type": "bar"
           }
          ],
          "barpolar": [
           {
            "marker": {
             "line": {
              "color": "#E5ECF6",
              "width": 0.5
             },
             "pattern": {
              "fillmode": "overlay",
              "size": 10,
              "solidity": 0.2
             }
            },
            "type": "barpolar"
           }
          ],
          "carpet": [
           {
            "aaxis": {
             "endlinecolor": "#2a3f5f",
             "gridcolor": "white",
             "linecolor": "white",
             "minorgridcolor": "white",
             "startlinecolor": "#2a3f5f"
            },
            "baxis": {
             "endlinecolor": "#2a3f5f",
             "gridcolor": "white",
             "linecolor": "white",
             "minorgridcolor": "white",
             "startlinecolor": "#2a3f5f"
            },
            "type": "carpet"
           }
          ],
          "choropleth": [
           {
            "colorbar": {
             "outlinewidth": 0,
             "ticks": ""
            },
            "type": "choropleth"
           }
          ],
          "contour": [
           {
            "colorbar": {
             "outlinewidth": 0,
             "ticks": ""
            },
            "colorscale": [
             [
              0,
              "#0d0887"
             ],
             [
              0.1111111111111111,
              "#46039f"
             ],
             [
              0.2222222222222222,
              "#7201a8"
             ],
             [
              0.3333333333333333,
              "#9c179e"
             ],
             [
              0.4444444444444444,
              "#bd3786"
             ],
             [
              0.5555555555555556,
              "#d8576b"
             ],
             [
              0.6666666666666666,
              "#ed7953"
             ],
             [
              0.7777777777777778,
              "#fb9f3a"
             ],
             [
              0.8888888888888888,
              "#fdca26"
             ],
             [
              1,
              "#f0f921"
             ]
            ],
            "type": "contour"
           }
          ],
          "contourcarpet": [
           {
            "colorbar": {
             "outlinewidth": 0,
             "ticks": ""
            },
            "type": "contourcarpet"
           }
          ],
          "heatmap": [
           {
            "colorbar": {
             "outlinewidth": 0,
             "ticks": ""
            },
            "colorscale": [
             [
              0,
              "#0d0887"
             ],
             [
              0.1111111111111111,
              "#46039f"
             ],
             [
              0.2222222222222222,
              "#7201a8"
             ],
             [
              0.3333333333333333,
              "#9c179e"
             ],
             [
              0.4444444444444444,
              "#bd3786"
             ],
             [
              0.5555555555555556,
              "#d8576b"
             ],
             [
              0.6666666666666666,
              "#ed7953"
             ],
             [
              0.7777777777777778,
              "#fb9f3a"
             ],
             [
              0.8888888888888888,
              "#fdca26"
             ],
             [
              1,
              "#f0f921"
             ]
            ],
            "type": "heatmap"
           }
          ],
          "heatmapgl": [
           {
            "colorbar": {
             "outlinewidth": 0,
             "ticks": ""
            },
            "colorscale": [
             [
              0,
              "#0d0887"
             ],
             [
              0.1111111111111111,
              "#46039f"
             ],
             [
              0.2222222222222222,
              "#7201a8"
             ],
             [
              0.3333333333333333,
              "#9c179e"
             ],
             [
              0.4444444444444444,
              "#bd3786"
             ],
             [
              0.5555555555555556,
              "#d8576b"
             ],
             [
              0.6666666666666666,
              "#ed7953"
             ],
             [
              0.7777777777777778,
              "#fb9f3a"
             ],
             [
              0.8888888888888888,
              "#fdca26"
             ],
             [
              1,
              "#f0f921"
             ]
            ],
            "type": "heatmapgl"
           }
          ],
          "histogram": [
           {
            "marker": {
             "pattern": {
              "fillmode": "overlay",
              "size": 10,
              "solidity": 0.2
             }
            },
            "type": "histogram"
           }
          ],
          "histogram2d": [
           {
            "colorbar": {
             "outlinewidth": 0,
             "ticks": ""
            },
            "colorscale": [
             [
              0,
              "#0d0887"
             ],
             [
              0.1111111111111111,
              "#46039f"
             ],
             [
              0.2222222222222222,
              "#7201a8"
             ],
             [
              0.3333333333333333,
              "#9c179e"
             ],
             [
              0.4444444444444444,
              "#bd3786"
             ],
             [
              0.5555555555555556,
              "#d8576b"
             ],
             [
              0.6666666666666666,
              "#ed7953"
             ],
             [
              0.7777777777777778,
              "#fb9f3a"
             ],
             [
              0.8888888888888888,
              "#fdca26"
             ],
             [
              1,
              "#f0f921"
             ]
            ],
            "type": "histogram2d"
           }
          ],
          "histogram2dcontour": [
           {
            "colorbar": {
             "outlinewidth": 0,
             "ticks": ""
            },
            "colorscale": [
             [
              0,
              "#0d0887"
             ],
             [
              0.1111111111111111,
              "#46039f"
             ],
             [
              0.2222222222222222,
              "#7201a8"
             ],
             [
              0.3333333333333333,
              "#9c179e"
             ],
             [
              0.4444444444444444,
              "#bd3786"
             ],
             [
              0.5555555555555556,
              "#d8576b"
             ],
             [
              0.6666666666666666,
              "#ed7953"
             ],
             [
              0.7777777777777778,
              "#fb9f3a"
             ],
             [
              0.8888888888888888,
              "#fdca26"
             ],
             [
              1,
              "#f0f921"
             ]
            ],
            "type": "histogram2dcontour"
           }
          ],
          "mesh3d": [
           {
            "colorbar": {
             "outlinewidth": 0,
             "ticks": ""
            },
            "type": "mesh3d"
           }
          ],
          "parcoords": [
           {
            "line": {
             "colorbar": {
              "outlinewidth": 0,
              "ticks": ""
             }
            },
            "type": "parcoords"
           }
          ],
          "pie": [
           {
            "automargin": true,
            "type": "pie"
           }
          ],
          "scatter": [
           {
            "fillpattern": {
             "fillmode": "overlay",
             "size": 10,
             "solidity": 0.2
            },
            "type": "scatter"
           }
          ],
          "scatter3d": [
           {
            "line": {
             "colorbar": {
              "outlinewidth": 0,
              "ticks": ""
             }
            },
            "marker": {
             "colorbar": {
              "outlinewidth": 0,
              "ticks": ""
             }
            },
            "type": "scatter3d"
           }
          ],
          "scattercarpet": [
           {
            "marker": {
             "colorbar": {
              "outlinewidth": 0,
              "ticks": ""
             }
            },
            "type": "scattercarpet"
           }
          ],
          "scattergeo": [
           {
            "marker": {
             "colorbar": {
              "outlinewidth": 0,
              "ticks": ""
             }
            },
            "type": "scattergeo"
           }
          ],
          "scattergl": [
           {
            "marker": {
             "colorbar": {
              "outlinewidth": 0,
              "ticks": ""
             }
            },
            "type": "scattergl"
           }
          ],
          "scattermapbox": [
           {
            "marker": {
             "colorbar": {
              "outlinewidth": 0,
              "ticks": ""
             }
            },
            "type": "scattermapbox"
           }
          ],
          "scatterpolar": [
           {
            "marker": {
             "colorbar": {
              "outlinewidth": 0,
              "ticks": ""
             }
            },
            "type": "scatterpolar"
           }
          ],
          "scatterpolargl": [
           {
            "marker": {
             "colorbar": {
              "outlinewidth": 0,
              "ticks": ""
             }
            },
            "type": "scatterpolargl"
           }
          ],
          "scatterternary": [
           {
            "marker": {
             "colorbar": {
              "outlinewidth": 0,
              "ticks": ""
             }
            },
            "type": "scatterternary"
           }
          ],
          "surface": [
           {
            "colorbar": {
             "outlinewidth": 0,
             "ticks": ""
            },
            "colorscale": [
             [
              0,
              "#0d0887"
             ],
             [
              0.1111111111111111,
              "#46039f"
             ],
             [
              0.2222222222222222,
              "#7201a8"
             ],
             [
              0.3333333333333333,
              "#9c179e"
             ],
             [
              0.4444444444444444,
              "#bd3786"
             ],
             [
              0.5555555555555556,
              "#d8576b"
             ],
             [
              0.6666666666666666,
              "#ed7953"
             ],
             [
              0.7777777777777778,
              "#fb9f3a"
             ],
             [
              0.8888888888888888,
              "#fdca26"
             ],
             [
              1,
              "#f0f921"
             ]
            ],
            "type": "surface"
           }
          ],
          "table": [
           {
            "cells": {
             "fill": {
              "color": "#EBF0F8"
             },
             "line": {
              "color": "white"
             }
            },
            "header": {
             "fill": {
              "color": "#C8D4E3"
             },
             "line": {
              "color": "white"
             }
            },
            "type": "table"
           }
          ]
         },
         "layout": {
          "annotationdefaults": {
           "arrowcolor": "#2a3f5f",
           "arrowhead": 0,
           "arrowwidth": 1
          },
          "autotypenumbers": "strict",
          "coloraxis": {
           "colorbar": {
            "outlinewidth": 0,
            "ticks": ""
           }
          },
          "colorscale": {
           "diverging": [
            [
             0,
             "#8e0152"
            ],
            [
             0.1,
             "#c51b7d"
            ],
            [
             0.2,
             "#de77ae"
            ],
            [
             0.3,
             "#f1b6da"
            ],
            [
             0.4,
             "#fde0ef"
            ],
            [
             0.5,
             "#f7f7f7"
            ],
            [
             0.6,
             "#e6f5d0"
            ],
            [
             0.7,
             "#b8e186"
            ],
            [
             0.8,
             "#7fbc41"
            ],
            [
             0.9,
             "#4d9221"
            ],
            [
             1,
             "#276419"
            ]
           ],
           "sequential": [
            [
             0,
             "#0d0887"
            ],
            [
             0.1111111111111111,
             "#46039f"
            ],
            [
             0.2222222222222222,
             "#7201a8"
            ],
            [
             0.3333333333333333,
             "#9c179e"
            ],
            [
             0.4444444444444444,
             "#bd3786"
            ],
            [
             0.5555555555555556,
             "#d8576b"
            ],
            [
             0.6666666666666666,
             "#ed7953"
            ],
            [
             0.7777777777777778,
             "#fb9f3a"
            ],
            [
             0.8888888888888888,
             "#fdca26"
            ],
            [
             1,
             "#f0f921"
            ]
           ],
           "sequentialminus": [
            [
             0,
             "#0d0887"
            ],
            [
             0.1111111111111111,
             "#46039f"
            ],
            [
             0.2222222222222222,
             "#7201a8"
            ],
            [
             0.3333333333333333,
             "#9c179e"
            ],
            [
             0.4444444444444444,
             "#bd3786"
            ],
            [
             0.5555555555555556,
             "#d8576b"
            ],
            [
             0.6666666666666666,
             "#ed7953"
            ],
            [
             0.7777777777777778,
             "#fb9f3a"
            ],
            [
             0.8888888888888888,
             "#fdca26"
            ],
            [
             1,
             "#f0f921"
            ]
           ]
          },
          "colorway": [
           "#636efa",
           "#EF553B",
           "#00cc96",
           "#ab63fa",
           "#FFA15A",
           "#19d3f3",
           "#FF6692",
           "#B6E880",
           "#FF97FF",
           "#FECB52"
          ],
          "font": {
           "color": "#2a3f5f"
          },
          "geo": {
           "bgcolor": "white",
           "lakecolor": "white",
           "landcolor": "#E5ECF6",
           "showlakes": true,
           "showland": true,
           "subunitcolor": "white"
          },
          "hoverlabel": {
           "align": "left"
          },
          "hovermode": "closest",
          "mapbox": {
           "style": "light"
          },
          "paper_bgcolor": "white",
          "plot_bgcolor": "#E5ECF6",
          "polar": {
           "angularaxis": {
            "gridcolor": "white",
            "linecolor": "white",
            "ticks": ""
           },
           "bgcolor": "#E5ECF6",
           "radialaxis": {
            "gridcolor": "white",
            "linecolor": "white",
            "ticks": ""
           }
          },
          "scene": {
           "xaxis": {
            "backgroundcolor": "#E5ECF6",
            "gridcolor": "white",
            "gridwidth": 2,
            "linecolor": "white",
            "showbackground": true,
            "ticks": "",
            "zerolinecolor": "white"
           },
           "yaxis": {
            "backgroundcolor": "#E5ECF6",
            "gridcolor": "white",
            "gridwidth": 2,
            "linecolor": "white",
            "showbackground": true,
            "ticks": "",
            "zerolinecolor": "white"
           },
           "zaxis": {
            "backgroundcolor": "#E5ECF6",
            "gridcolor": "white",
            "gridwidth": 2,
            "linecolor": "white",
            "showbackground": true,
            "ticks": "",
            "zerolinecolor": "white"
           }
          },
          "shapedefaults": {
           "line": {
            "color": "#2a3f5f"
           }
          },
          "ternary": {
           "aaxis": {
            "gridcolor": "white",
            "linecolor": "white",
            "ticks": ""
           },
           "baxis": {
            "gridcolor": "white",
            "linecolor": "white",
            "ticks": ""
           },
           "bgcolor": "#E5ECF6",
           "caxis": {
            "gridcolor": "white",
            "linecolor": "white",
            "ticks": ""
           }
          },
          "title": {
           "x": 0.05
          },
          "xaxis": {
           "automargin": true,
           "gridcolor": "white",
           "linecolor": "white",
           "ticks": "",
           "title": {
            "standoff": 15
           },
           "zerolinecolor": "white",
           "zerolinewidth": 2
          },
          "yaxis": {
           "automargin": true,
           "gridcolor": "white",
           "linecolor": "white",
           "ticks": "",
           "title": {
            "standoff": 15
           },
           "zerolinecolor": "white",
           "zerolinewidth": 2
          }
         }
        },
        "title": {
         "text": "Volume Chart"
        },
        "xaxis": {
         "anchor": "y",
         "domain": [
          0,
          1
         ],
         "title": {
          "text": "VOLUME(shares)"
         }
        },
        "yaxis": {
         "anchor": "x",
         "domain": [
          0,
          1
         ],
         "title": {
          "text": "count"
         }
        }
       }
      },
      "text/html": [
       "<div>                            <div id=\"78c70e18-7859-4c85-bb70-78c7e2796ee3\" class=\"plotly-graph-div\" style=\"height:525px; width:100%;\"></div>            <script type=\"text/javascript\">                require([\"plotly\"], function(Plotly) {                    window.PLOTLYENV=window.PLOTLYENV || {};                                    if (document.getElementById(\"78c70e18-7859-4c85-bb70-78c7e2796ee3\")) {                    Plotly.newPlot(                        \"78c70e18-7859-4c85-bb70-78c7e2796ee3\",                        [{\"alignmentgroup\":\"True\",\"bingroup\":\"x\",\"hovertemplate\":\"SYMBOL=NESTLEIND<br>VOLUME(shares)=%{x}<br>count=%{y}<extra></extra>\",\"legendgroup\":\"NESTLEIND\",\"marker\":{\"color\":\"#2E91E5\",\"pattern\":{\"shape\":\"\"}},\"name\":\"NESTLEIND\",\"offsetgroup\":\"NESTLEIND\",\"orientation\":\"v\",\"showlegend\":true,\"x\":[27330],\"xaxis\":\"x\",\"yaxis\":\"y\",\"type\":\"histogram\"},{\"alignmentgroup\":\"True\",\"bingroup\":\"x\",\"hovertemplate\":\"SYMBOL=SHREECEM<br>VOLUME(shares)=%{x}<br>count=%{y}<extra></extra>\",\"legendgroup\":\"SHREECEM\",\"marker\":{\"color\":\"#E15F99\",\"pattern\":{\"shape\":\"\"}},\"name\":\"SHREECEM\",\"offsetgroup\":\"SHREECEM\",\"orientation\":\"v\",\"showlegend\":true,\"x\":[36907],\"xaxis\":\"x\",\"yaxis\":\"y\",\"type\":\"histogram\"},{\"alignmentgroup\":\"True\",\"bingroup\":\"x\",\"hovertemplate\":\"SYMBOL=BAJAJ-AUTO<br>VOLUME(shares)=%{x}<br>count=%{y}<extra></extra>\",\"legendgroup\":\"BAJAJ-AUTO\",\"marker\":{\"color\":\"#1CA71C\",\"pattern\":{\"shape\":\"\"}},\"name\":\"BAJAJ-AUTO\",\"offsetgroup\":\"BAJAJ-AUTO\",\"orientation\":\"v\",\"showlegend\":true,\"x\":[198206],\"xaxis\":\"x\",\"yaxis\":\"y\",\"type\":\"histogram\"},{\"alignmentgroup\":\"True\",\"bingroup\":\"x\",\"hovertemplate\":\"SYMBOL=BRITANNIA<br>VOLUME(shares)=%{x}<br>count=%{y}<extra></extra>\",\"legendgroup\":\"BRITANNIA\",\"marker\":{\"color\":\"#FB0D0D\",\"pattern\":{\"shape\":\"\"}},\"name\":\"BRITANNIA\",\"offsetgroup\":\"BRITANNIA\",\"orientation\":\"v\",\"showlegend\":true,\"x\":[205852],\"xaxis\":\"x\",\"yaxis\":\"y\",\"type\":\"histogram\"},{\"alignmentgroup\":\"True\",\"bingroup\":\"x\",\"hovertemplate\":\"SYMBOL=BAJAJFINSV<br>VOLUME(shares)=%{x}<br>count=%{y}<extra></extra>\",\"legendgroup\":\"BAJAJFINSV\",\"marker\":{\"color\":\"#DA16FF\",\"pattern\":{\"shape\":\"\"}},\"name\":\"BAJAJFINSV\",\"offsetgroup\":\"BAJAJFINSV\",\"orientation\":\"v\",\"showlegend\":true,\"x\":[248390],\"xaxis\":\"x\",\"yaxis\":\"y\",\"type\":\"histogram\"},{\"alignmentgroup\":\"True\",\"bingroup\":\"x\",\"hovertemplate\":\"SYMBOL=DIVISLAB<br>VOLUME(shares)=%{x}<br>count=%{y}<extra></extra>\",\"legendgroup\":\"DIVISLAB\",\"marker\":{\"color\":\"#222A2A\",\"pattern\":{\"shape\":\"\"}},\"name\":\"DIVISLAB\",\"offsetgroup\":\"DIVISLAB\",\"orientation\":\"v\",\"showlegend\":true,\"x\":[306254],\"xaxis\":\"x\",\"yaxis\":\"y\",\"type\":\"histogram\"},{\"alignmentgroup\":\"True\",\"bingroup\":\"x\",\"hovertemplate\":\"SYMBOL=DRREDDY<br>VOLUME(shares)=%{x}<br>count=%{y}<extra></extra>\",\"legendgroup\":\"DRREDDY\",\"marker\":{\"color\":\"#B68100\",\"pattern\":{\"shape\":\"\"}},\"name\":\"DRREDDY\",\"offsetgroup\":\"DRREDDY\",\"orientation\":\"v\",\"showlegend\":true,\"x\":[369436],\"xaxis\":\"x\",\"yaxis\":\"y\",\"type\":\"histogram\"},{\"alignmentgroup\":\"True\",\"bingroup\":\"x\",\"hovertemplate\":\"SYMBOL=EICHERMOT<br>VOLUME(shares)=%{x}<br>count=%{y}<extra></extra>\",\"legendgroup\":\"EICHERMOT\",\"marker\":{\"color\":\"#750D86\",\"pattern\":{\"shape\":\"\"}},\"name\":\"EICHERMOT\",\"offsetgroup\":\"EICHERMOT\",\"orientation\":\"v\",\"showlegend\":true,\"x\":[383935],\"xaxis\":\"x\",\"yaxis\":\"y\",\"type\":\"histogram\"},{\"alignmentgroup\":\"True\",\"bingroup\":\"x\",\"hovertemplate\":\"SYMBOL=ULTRACEMCO<br>VOLUME(shares)=%{x}<br>count=%{y}<extra></extra>\",\"legendgroup\":\"ULTRACEMCO\",\"marker\":{\"color\":\"#EB663B\",\"pattern\":{\"shape\":\"\"}},\"name\":\"ULTRACEMCO\",\"offsetgroup\":\"ULTRACEMCO\",\"orientation\":\"v\",\"showlegend\":true,\"x\":[386535],\"xaxis\":\"x\",\"yaxis\":\"y\",\"type\":\"histogram\"},{\"alignmentgroup\":\"True\",\"bingroup\":\"x\",\"hovertemplate\":\"SYMBOL=HEROMOTOCO<br>VOLUME(shares)=%{x}<br>count=%{y}<extra></extra>\",\"legendgroup\":\"HEROMOTOCO\",\"marker\":{\"color\":\"#511CFB\",\"pattern\":{\"shape\":\"\"}},\"name\":\"HEROMOTOCO\",\"offsetgroup\":\"HEROMOTOCO\",\"orientation\":\"v\",\"showlegend\":true,\"x\":[426929],\"xaxis\":\"x\",\"yaxis\":\"y\",\"type\":\"histogram\"},{\"alignmentgroup\":\"True\",\"bingroup\":\"x\",\"hovertemplate\":\"SYMBOL=SBILIFE<br>VOLUME(shares)=%{x}<br>count=%{y}<extra></extra>\",\"legendgroup\":\"SBILIFE\",\"marker\":{\"color\":\"#00A08B\",\"pattern\":{\"shape\":\"\"}},\"name\":\"SBILIFE\",\"offsetgroup\":\"SBILIFE\",\"orientation\":\"v\",\"showlegend\":true,\"x\":[509293],\"xaxis\":\"x\",\"yaxis\":\"y\",\"type\":\"histogram\"},{\"alignmentgroup\":\"True\",\"bingroup\":\"x\",\"hovertemplate\":\"SYMBOL=MARUTI<br>VOLUME(shares)=%{x}<br>count=%{y}<extra></extra>\",\"legendgroup\":\"MARUTI\",\"marker\":{\"color\":\"#FB00D1\",\"pattern\":{\"shape\":\"\"}},\"name\":\"MARUTI\",\"offsetgroup\":\"MARUTI\",\"orientation\":\"v\",\"showlegend\":true,\"x\":[527991],\"xaxis\":\"x\",\"yaxis\":\"y\",\"type\":\"histogram\"},{\"alignmentgroup\":\"True\",\"bingroup\":\"x\",\"hovertemplate\":\"SYMBOL=BAJFINANCE<br>VOLUME(shares)=%{x}<br>count=%{y}<extra></extra>\",\"legendgroup\":\"BAJFINANCE\",\"marker\":{\"color\":\"#FC0080\",\"pattern\":{\"shape\":\"\"}},\"name\":\"BAJFINANCE\",\"offsetgroup\":\"BAJFINANCE\",\"orientation\":\"v\",\"showlegend\":true,\"x\":[672317],\"xaxis\":\"x\",\"yaxis\":\"y\",\"type\":\"histogram\"},{\"alignmentgroup\":\"True\",\"bingroup\":\"x\",\"hovertemplate\":\"SYMBOL=APOLLOHOSP<br>VOLUME(shares)=%{x}<br>count=%{y}<extra></extra>\",\"legendgroup\":\"APOLLOHOSP\",\"marker\":{\"color\":\"#B2828D\",\"pattern\":{\"shape\":\"\"}},\"name\":\"APOLLOHOSP\",\"offsetgroup\":\"APOLLOHOSP\",\"orientation\":\"v\",\"showlegend\":true,\"x\":[812061],\"xaxis\":\"x\",\"yaxis\":\"y\",\"type\":\"histogram\"},{\"alignmentgroup\":\"True\",\"bingroup\":\"x\",\"hovertemplate\":\"SYMBOL=GRASIM<br>VOLUME(shares)=%{x}<br>count=%{y}<extra></extra>\",\"legendgroup\":\"GRASIM\",\"marker\":{\"color\":\"#6C7C32\",\"pattern\":{\"shape\":\"\"}},\"name\":\"GRASIM\",\"offsetgroup\":\"GRASIM\",\"orientation\":\"v\",\"showlegend\":true,\"x\":[836083],\"xaxis\":\"x\",\"yaxis\":\"y\",\"type\":\"histogram\"},{\"alignmentgroup\":\"True\",\"bingroup\":\"x\",\"hovertemplate\":\"SYMBOL=TATACONSUM<br>VOLUME(shares)=%{x}<br>count=%{y}<extra></extra>\",\"legendgroup\":\"TATACONSUM\",\"marker\":{\"color\":\"#778AAE\",\"pattern\":{\"shape\":\"\"}},\"name\":\"TATACONSUM\",\"offsetgroup\":\"TATACONSUM\",\"orientation\":\"v\",\"showlegend\":true,\"x\":[1036739],\"xaxis\":\"x\",\"yaxis\":\"y\",\"type\":\"histogram\"},{\"alignmentgroup\":\"True\",\"bingroup\":\"x\",\"hovertemplate\":\"SYMBOL=HINDUNILVR<br>VOLUME(shares)=%{x}<br>count=%{y}<extra></extra>\",\"legendgroup\":\"HINDUNILVR\",\"marker\":{\"color\":\"#862A16\",\"pattern\":{\"shape\":\"\"}},\"name\":\"HINDUNILVR\",\"offsetgroup\":\"HINDUNILVR\",\"orientation\":\"v\",\"showlegend\":true,\"x\":[1071601],\"xaxis\":\"x\",\"yaxis\":\"y\",\"type\":\"histogram\"},{\"alignmentgroup\":\"True\",\"bingroup\":\"x\",\"hovertemplate\":\"SYMBOL=ASIANPAINT<br>VOLUME(shares)=%{x}<br>count=%{y}<extra></extra>\",\"legendgroup\":\"ASIANPAINT\",\"marker\":{\"color\":\"#A777F1\",\"pattern\":{\"shape\":\"\"}},\"name\":\"ASIANPAINT\",\"offsetgroup\":\"ASIANPAINT\",\"orientation\":\"v\",\"showlegend\":true,\"x\":[1121350],\"xaxis\":\"x\",\"yaxis\":\"y\",\"type\":\"histogram\"},{\"alignmentgroup\":\"True\",\"bingroup\":\"x\",\"hovertemplate\":\"SYMBOL=TITAN<br>VOLUME(shares)=%{x}<br>count=%{y}<extra></extra>\",\"legendgroup\":\"TITAN\",\"marker\":{\"color\":\"#620042\",\"pattern\":{\"shape\":\"\"}},\"name\":\"TITAN\",\"offsetgroup\":\"TITAN\",\"orientation\":\"v\",\"showlegend\":true,\"x\":[1165453],\"xaxis\":\"x\",\"yaxis\":\"y\",\"type\":\"histogram\"},{\"alignmentgroup\":\"True\",\"bingroup\":\"x\",\"hovertemplate\":\"SYMBOL=TECHM<br>VOLUME(shares)=%{x}<br>count=%{y}<extra></extra>\",\"legendgroup\":\"TECHM\",\"marker\":{\"color\":\"#1616A7\",\"pattern\":{\"shape\":\"\"}},\"name\":\"TECHM\",\"offsetgroup\":\"TECHM\",\"orientation\":\"v\",\"showlegend\":true,\"x\":[1430399],\"xaxis\":\"x\",\"yaxis\":\"y\",\"type\":\"histogram\"},{\"alignmentgroup\":\"True\",\"bingroup\":\"x\",\"hovertemplate\":\"SYMBOL=TCS<br>VOLUME(shares)=%{x}<br>count=%{y}<extra></extra>\",\"legendgroup\":\"TCS\",\"marker\":{\"color\":\"#DA60CA\",\"pattern\":{\"shape\":\"\"}},\"name\":\"TCS\",\"offsetgroup\":\"TCS\",\"orientation\":\"v\",\"showlegend\":true,\"x\":[1621672],\"xaxis\":\"x\",\"yaxis\":\"y\",\"type\":\"histogram\"},{\"alignmentgroup\":\"True\",\"bingroup\":\"x\",\"hovertemplate\":\"SYMBOL=LT<br>VOLUME(shares)=%{x}<br>count=%{y}<extra></extra>\",\"legendgroup\":\"LT\",\"marker\":{\"color\":\"#6C4516\",\"pattern\":{\"shape\":\"\"}},\"name\":\"LT\",\"offsetgroup\":\"LT\",\"orientation\":\"v\",\"showlegend\":true,\"x\":[1673417],\"xaxis\":\"x\",\"yaxis\":\"y\",\"type\":\"histogram\"},{\"alignmentgroup\":\"True\",\"bingroup\":\"x\",\"hovertemplate\":\"SYMBOL=SUNPHARMA<br>VOLUME(shares)=%{x}<br>count=%{y}<extra></extra>\",\"legendgroup\":\"SUNPHARMA\",\"marker\":{\"color\":\"#0D2A63\",\"pattern\":{\"shape\":\"\"}},\"name\":\"SUNPHARMA\",\"offsetgroup\":\"SUNPHARMA\",\"orientation\":\"v\",\"showlegend\":true,\"x\":[1825531],\"xaxis\":\"x\",\"yaxis\":\"y\",\"type\":\"histogram\"},{\"alignmentgroup\":\"True\",\"bingroup\":\"x\",\"hovertemplate\":\"SYMBOL=CIPLA<br>VOLUME(shares)=%{x}<br>count=%{y}<extra></extra>\",\"legendgroup\":\"CIPLA\",\"marker\":{\"color\":\"#AF0038\",\"pattern\":{\"shape\":\"\"}},\"name\":\"CIPLA\",\"offsetgroup\":\"CIPLA\",\"orientation\":\"v\",\"showlegend\":true,\"x\":[1890795],\"xaxis\":\"x\",\"yaxis\":\"y\",\"type\":\"histogram\"},{\"alignmentgroup\":\"True\",\"bingroup\":\"x\",\"hovertemplate\":\"SYMBOL=KOTAKBANK<br>VOLUME(shares)=%{x}<br>count=%{y}<extra></extra>\",\"legendgroup\":\"KOTAKBANK\",\"marker\":{\"color\":\"#2E91E5\",\"pattern\":{\"shape\":\"\"}},\"name\":\"KOTAKBANK\",\"offsetgroup\":\"KOTAKBANK\",\"orientation\":\"v\",\"showlegend\":true,\"x\":[1923692],\"xaxis\":\"x\",\"yaxis\":\"y\",\"type\":\"histogram\"},{\"alignmentgroup\":\"True\",\"bingroup\":\"x\",\"hovertemplate\":\"SYMBOL=HCLTECH<br>VOLUME(shares)=%{x}<br>count=%{y}<extra></extra>\",\"legendgroup\":\"HCLTECH\",\"marker\":{\"color\":\"#E15F99\",\"pattern\":{\"shape\":\"\"}},\"name\":\"HCLTECH\",\"offsetgroup\":\"HCLTECH\",\"orientation\":\"v\",\"showlegend\":true,\"x\":[1971580],\"xaxis\":\"x\",\"yaxis\":\"y\",\"type\":\"histogram\"},{\"alignmentgroup\":\"True\",\"bingroup\":\"x\",\"hovertemplate\":\"SYMBOL=INDUSINDBK<br>VOLUME(shares)=%{x}<br>count=%{y}<extra></extra>\",\"legendgroup\":\"INDUSINDBK\",\"marker\":{\"color\":\"#1CA71C\",\"pattern\":{\"shape\":\"\"}},\"name\":\"INDUSINDBK\",\"offsetgroup\":\"INDUSINDBK\",\"orientation\":\"v\",\"showlegend\":true,\"x\":[2060127],\"xaxis\":\"x\",\"yaxis\":\"y\",\"type\":\"histogram\"},{\"alignmentgroup\":\"True\",\"bingroup\":\"x\",\"hovertemplate\":\"SYMBOL=HDFCLIFE<br>VOLUME(shares)=%{x}<br>count=%{y}<extra></extra>\",\"legendgroup\":\"HDFCLIFE\",\"marker\":{\"color\":\"#FB0D0D\",\"pattern\":{\"shape\":\"\"}},\"name\":\"HDFCLIFE\",\"offsetgroup\":\"HDFCLIFE\",\"orientation\":\"v\",\"showlegend\":true,\"x\":[2313264],\"xaxis\":\"x\",\"yaxis\":\"y\",\"type\":\"histogram\"},{\"alignmentgroup\":\"True\",\"bingroup\":\"x\",\"hovertemplate\":\"SYMBOL=ADANIPORTS<br>VOLUME(shares)=%{x}<br>count=%{y}<extra></extra>\",\"legendgroup\":\"ADANIPORTS\",\"marker\":{\"color\":\"#DA16FF\",\"pattern\":{\"shape\":\"\"}},\"name\":\"ADANIPORTS\",\"offsetgroup\":\"ADANIPORTS\",\"orientation\":\"v\",\"showlegend\":true,\"x\":[2955807],\"xaxis\":\"x\",\"yaxis\":\"y\",\"type\":\"histogram\"},{\"alignmentgroup\":\"True\",\"bingroup\":\"x\",\"hovertemplate\":\"SYMBOL=BPCL<br>VOLUME(shares)=%{x}<br>count=%{y}<extra></extra>\",\"legendgroup\":\"BPCL\",\"marker\":{\"color\":\"#222A2A\",\"pattern\":{\"shape\":\"\"}},\"name\":\"BPCL\",\"offsetgroup\":\"BPCL\",\"orientation\":\"v\",\"showlegend\":true,\"x\":[3261962],\"xaxis\":\"x\",\"yaxis\":\"y\",\"type\":\"histogram\"},{\"alignmentgroup\":\"True\",\"bingroup\":\"x\",\"hovertemplate\":\"SYMBOL=M&M<br>VOLUME(shares)=%{x}<br>count=%{y}<extra></extra>\",\"legendgroup\":\"M&M\",\"marker\":{\"color\":\"#B68100\",\"pattern\":{\"shape\":\"\"}},\"name\":\"M&M\",\"offsetgroup\":\"M&M\",\"orientation\":\"v\",\"showlegend\":true,\"x\":[3695363],\"xaxis\":\"x\",\"yaxis\":\"y\",\"type\":\"histogram\"},{\"alignmentgroup\":\"True\",\"bingroup\":\"x\",\"hovertemplate\":\"SYMBOL=HDFC<br>VOLUME(shares)=%{x}<br>count=%{y}<extra></extra>\",\"legendgroup\":\"HDFC\",\"marker\":{\"color\":\"#750D86\",\"pattern\":{\"shape\":\"\"}},\"name\":\"HDFC\",\"offsetgroup\":\"HDFC\",\"orientation\":\"v\",\"showlegend\":true,\"x\":[4257122],\"xaxis\":\"x\",\"yaxis\":\"y\",\"type\":\"histogram\"},{\"alignmentgroup\":\"True\",\"bingroup\":\"x\",\"hovertemplate\":\"SYMBOL=TATASTEEL<br>VOLUME(shares)=%{x}<br>count=%{y}<extra></extra>\",\"legendgroup\":\"TATASTEEL\",\"marker\":{\"color\":\"#EB663B\",\"pattern\":{\"shape\":\"\"}},\"name\":\"TATASTEEL\",\"offsetgroup\":\"TATASTEEL\",\"orientation\":\"v\",\"showlegend\":true,\"x\":[4493780],\"xaxis\":\"x\",\"yaxis\":\"y\",\"type\":\"histogram\"},{\"alignmentgroup\":\"True\",\"bingroup\":\"x\",\"hovertemplate\":\"SYMBOL=RELIANCE<br>VOLUME(shares)=%{x}<br>count=%{y}<extra></extra>\",\"legendgroup\":\"RELIANCE\",\"marker\":{\"color\":\"#511CFB\",\"pattern\":{\"shape\":\"\"}},\"name\":\"RELIANCE\",\"offsetgroup\":\"RELIANCE\",\"orientation\":\"v\",\"showlegend\":true,\"x\":[4778478],\"xaxis\":\"x\",\"yaxis\":\"y\",\"type\":\"histogram\"},{\"alignmentgroup\":\"True\",\"bingroup\":\"x\",\"hovertemplate\":\"SYMBOL=UPL<br>VOLUME(shares)=%{x}<br>count=%{y}<extra></extra>\",\"legendgroup\":\"UPL\",\"marker\":{\"color\":\"#00A08B\",\"pattern\":{\"shape\":\"\"}},\"name\":\"UPL\",\"offsetgroup\":\"UPL\",\"orientation\":\"v\",\"showlegend\":true,\"x\":[4974212],\"xaxis\":\"x\",\"yaxis\":\"y\",\"type\":\"histogram\"},{\"alignmentgroup\":\"True\",\"bingroup\":\"x\",\"hovertemplate\":\"SYMBOL=WIPRO<br>VOLUME(shares)=%{x}<br>count=%{y}<extra></extra>\",\"legendgroup\":\"WIPRO\",\"marker\":{\"color\":\"#FB00D1\",\"pattern\":{\"shape\":\"\"}},\"name\":\"WIPRO\",\"offsetgroup\":\"WIPRO\",\"orientation\":\"v\",\"showlegend\":true,\"x\":[5602288],\"xaxis\":\"x\",\"yaxis\":\"y\",\"type\":\"histogram\"},{\"alignmentgroup\":\"True\",\"bingroup\":\"x\",\"hovertemplate\":\"SYMBOL=INFY<br>VOLUME(shares)=%{x}<br>count=%{y}<extra></extra>\",\"legendgroup\":\"INFY\",\"marker\":{\"color\":\"#FC0080\",\"pattern\":{\"shape\":\"\"}},\"name\":\"INFY\",\"offsetgroup\":\"INFY\",\"orientation\":\"v\",\"showlegend\":true,\"x\":[6257693],\"xaxis\":\"x\",\"yaxis\":\"y\",\"type\":\"histogram\"},{\"alignmentgroup\":\"True\",\"bingroup\":\"x\",\"hovertemplate\":\"SYMBOL=BHARTIARTL<br>VOLUME(shares)=%{x}<br>count=%{y}<extra></extra>\",\"legendgroup\":\"BHARTIARTL\",\"marker\":{\"color\":\"#B2828D\",\"pattern\":{\"shape\":\"\"}},\"name\":\"BHARTIARTL\",\"offsetgroup\":\"BHARTIARTL\",\"orientation\":\"v\",\"showlegend\":true,\"x\":[6343030],\"xaxis\":\"x\",\"yaxis\":\"y\",\"type\":\"histogram\"},{\"alignmentgroup\":\"True\",\"bingroup\":\"x\",\"hovertemplate\":\"SYMBOL=JSWSTEEL<br>VOLUME(shares)=%{x}<br>count=%{y}<extra></extra>\",\"legendgroup\":\"JSWSTEEL\",\"marker\":{\"color\":\"#6C7C32\",\"pattern\":{\"shape\":\"\"}},\"name\":\"JSWSTEEL\",\"offsetgroup\":\"JSWSTEEL\",\"orientation\":\"v\",\"showlegend\":true,\"x\":[6722613],\"xaxis\":\"x\",\"yaxis\":\"y\",\"type\":\"histogram\"},{\"alignmentgroup\":\"True\",\"bingroup\":\"x\",\"hovertemplate\":\"SYMBOL=HINDALCO<br>VOLUME(shares)=%{x}<br>count=%{y}<extra></extra>\",\"legendgroup\":\"HINDALCO\",\"marker\":{\"color\":\"#778AAE\",\"pattern\":{\"shape\":\"\"}},\"name\":\"HINDALCO\",\"offsetgroup\":\"HINDALCO\",\"orientation\":\"v\",\"showlegend\":true,\"x\":[7396320],\"xaxis\":\"x\",\"yaxis\":\"y\",\"type\":\"histogram\"},{\"alignmentgroup\":\"True\",\"bingroup\":\"x\",\"hovertemplate\":\"SYMBOL=AXISBANK<br>VOLUME(shares)=%{x}<br>count=%{y}<extra></extra>\",\"legendgroup\":\"AXISBANK\",\"marker\":{\"color\":\"#862A16\",\"pattern\":{\"shape\":\"\"}},\"name\":\"AXISBANK\",\"offsetgroup\":\"AXISBANK\",\"orientation\":\"v\",\"showlegend\":true,\"x\":[7640132],\"xaxis\":\"x\",\"yaxis\":\"y\",\"type\":\"histogram\"},{\"alignmentgroup\":\"True\",\"bingroup\":\"x\",\"hovertemplate\":\"SYMBOL=POWERGRID<br>VOLUME(shares)=%{x}<br>count=%{y}<extra></extra>\",\"legendgroup\":\"POWERGRID\",\"marker\":{\"color\":\"#A777F1\",\"pattern\":{\"shape\":\"\"}},\"name\":\"POWERGRID\",\"offsetgroup\":\"POWERGRID\",\"orientation\":\"v\",\"showlegend\":true,\"x\":[8261580],\"xaxis\":\"x\",\"yaxis\":\"y\",\"type\":\"histogram\"},{\"alignmentgroup\":\"True\",\"bingroup\":\"x\",\"hovertemplate\":\"SYMBOL=COALINDIA<br>VOLUME(shares)=%{x}<br>count=%{y}<extra></extra>\",\"legendgroup\":\"COALINDIA\",\"marker\":{\"color\":\"#620042\",\"pattern\":{\"shape\":\"\"}},\"name\":\"COALINDIA\",\"offsetgroup\":\"COALINDIA\",\"orientation\":\"v\",\"showlegend\":true,\"x\":[14216953],\"xaxis\":\"x\",\"yaxis\":\"y\",\"type\":\"histogram\"},{\"alignmentgroup\":\"True\",\"bingroup\":\"x\",\"hovertemplate\":\"SYMBOL=HDFCBANK<br>VOLUME(shares)=%{x}<br>count=%{y}<extra></extra>\",\"legendgroup\":\"HDFCBANK\",\"marker\":{\"color\":\"#1616A7\",\"pattern\":{\"shape\":\"\"}},\"name\":\"HDFCBANK\",\"offsetgroup\":\"HDFCBANK\",\"orientation\":\"v\",\"showlegend\":true,\"x\":[14446260],\"xaxis\":\"x\",\"yaxis\":\"y\",\"type\":\"histogram\"},{\"alignmentgroup\":\"True\",\"bingroup\":\"x\",\"hovertemplate\":\"SYMBOL=SBIN<br>VOLUME(shares)=%{x}<br>count=%{y}<extra></extra>\",\"legendgroup\":\"SBIN\",\"marker\":{\"color\":\"#DA60CA\",\"pattern\":{\"shape\":\"\"}},\"name\":\"SBIN\",\"offsetgroup\":\"SBIN\",\"orientation\":\"v\",\"showlegend\":true,\"x\":[15440525],\"xaxis\":\"x\",\"yaxis\":\"y\",\"type\":\"histogram\"},{\"alignmentgroup\":\"True\",\"bingroup\":\"x\",\"hovertemplate\":\"SYMBOL=ICICIBANK<br>VOLUME(shares)=%{x}<br>count=%{y}<extra></extra>\",\"legendgroup\":\"ICICIBANK\",\"marker\":{\"color\":\"#6C4516\",\"pattern\":{\"shape\":\"\"}},\"name\":\"ICICIBANK\",\"offsetgroup\":\"ICICIBANK\",\"orientation\":\"v\",\"showlegend\":true,\"x\":[16119956],\"xaxis\":\"x\",\"yaxis\":\"y\",\"type\":\"histogram\"},{\"alignmentgroup\":\"True\",\"bingroup\":\"x\",\"hovertemplate\":\"SYMBOL=TATAMOTORS<br>VOLUME(shares)=%{x}<br>count=%{y}<extra></extra>\",\"legendgroup\":\"TATAMOTORS\",\"marker\":{\"color\":\"#0D2A63\",\"pattern\":{\"shape\":\"\"}},\"name\":\"TATAMOTORS\",\"offsetgroup\":\"TATAMOTORS\",\"orientation\":\"v\",\"showlegend\":true,\"x\":[16817981],\"xaxis\":\"x\",\"yaxis\":\"y\",\"type\":\"histogram\"},{\"alignmentgroup\":\"True\",\"bingroup\":\"x\",\"hovertemplate\":\"SYMBOL=NTPC<br>VOLUME(shares)=%{x}<br>count=%{y}<extra></extra>\",\"legendgroup\":\"NTPC\",\"marker\":{\"color\":\"#AF0038\",\"pattern\":{\"shape\":\"\"}},\"name\":\"NTPC\",\"offsetgroup\":\"NTPC\",\"orientation\":\"v\",\"showlegend\":true,\"x\":[19454061],\"xaxis\":\"x\",\"yaxis\":\"y\",\"type\":\"histogram\"},{\"alignmentgroup\":\"True\",\"bingroup\":\"x\",\"hovertemplate\":\"SYMBOL=ITC<br>VOLUME(shares)=%{x}<br>count=%{y}<extra></extra>\",\"legendgroup\":\"ITC\",\"marker\":{\"color\":\"#2E91E5\",\"pattern\":{\"shape\":\"\"}},\"name\":\"ITC\",\"offsetgroup\":\"ITC\",\"orientation\":\"v\",\"showlegend\":true,\"x\":[21414383],\"xaxis\":\"x\",\"yaxis\":\"y\",\"type\":\"histogram\"},{\"alignmentgroup\":\"True\",\"bingroup\":\"x\",\"hovertemplate\":\"SYMBOL=ONGC<br>VOLUME(shares)=%{x}<br>count=%{y}<extra></extra>\",\"legendgroup\":\"ONGC\",\"marker\":{\"color\":\"#E15F99\",\"pattern\":{\"shape\":\"\"}},\"name\":\"ONGC\",\"offsetgroup\":\"ONGC\",\"orientation\":\"v\",\"showlegend\":true,\"x\":[23458303],\"xaxis\":\"x\",\"yaxis\":\"y\",\"type\":\"histogram\"}],                        {\"template\":{\"data\":{\"histogram2dcontour\":[{\"type\":\"histogram2dcontour\",\"colorbar\":{\"outlinewidth\":0,\"ticks\":\"\"},\"colorscale\":[[0.0,\"#0d0887\"],[0.1111111111111111,\"#46039f\"],[0.2222222222222222,\"#7201a8\"],[0.3333333333333333,\"#9c179e\"],[0.4444444444444444,\"#bd3786\"],[0.5555555555555556,\"#d8576b\"],[0.6666666666666666,\"#ed7953\"],[0.7777777777777778,\"#fb9f3a\"],[0.8888888888888888,\"#fdca26\"],[1.0,\"#f0f921\"]]}],\"choropleth\":[{\"type\":\"choropleth\",\"colorbar\":{\"outlinewidth\":0,\"ticks\":\"\"}}],\"histogram2d\":[{\"type\":\"histogram2d\",\"colorbar\":{\"outlinewidth\":0,\"ticks\":\"\"},\"colorscale\":[[0.0,\"#0d0887\"],[0.1111111111111111,\"#46039f\"],[0.2222222222222222,\"#7201a8\"],[0.3333333333333333,\"#9c179e\"],[0.4444444444444444,\"#bd3786\"],[0.5555555555555556,\"#d8576b\"],[0.6666666666666666,\"#ed7953\"],[0.7777777777777778,\"#fb9f3a\"],[0.8888888888888888,\"#fdca26\"],[1.0,\"#f0f921\"]]}],\"heatmap\":[{\"type\":\"heatmap\",\"colorbar\":{\"outlinewidth\":0,\"ticks\":\"\"},\"colorscale\":[[0.0,\"#0d0887\"],[0.1111111111111111,\"#46039f\"],[0.2222222222222222,\"#7201a8\"],[0.3333333333333333,\"#9c179e\"],[0.4444444444444444,\"#bd3786\"],[0.5555555555555556,\"#d8576b\"],[0.6666666666666666,\"#ed7953\"],[0.7777777777777778,\"#fb9f3a\"],[0.8888888888888888,\"#fdca26\"],[1.0,\"#f0f921\"]]}],\"heatmapgl\":[{\"type\":\"heatmapgl\",\"colorbar\":{\"outlinewidth\":0,\"ticks\":\"\"},\"colorscale\":[[0.0,\"#0d0887\"],[0.1111111111111111,\"#46039f\"],[0.2222222222222222,\"#7201a8\"],[0.3333333333333333,\"#9c179e\"],[0.4444444444444444,\"#bd3786\"],[0.5555555555555556,\"#d8576b\"],[0.6666666666666666,\"#ed7953\"],[0.7777777777777778,\"#fb9f3a\"],[0.8888888888888888,\"#fdca26\"],[1.0,\"#f0f921\"]]}],\"contourcarpet\":[{\"type\":\"contourcarpet\",\"colorbar\":{\"outlinewidth\":0,\"ticks\":\"\"}}],\"contour\":[{\"type\":\"contour\",\"colorbar\":{\"outlinewidth\":0,\"ticks\":\"\"},\"colorscale\":[[0.0,\"#0d0887\"],[0.1111111111111111,\"#46039f\"],[0.2222222222222222,\"#7201a8\"],[0.3333333333333333,\"#9c179e\"],[0.4444444444444444,\"#bd3786\"],[0.5555555555555556,\"#d8576b\"],[0.6666666666666666,\"#ed7953\"],[0.7777777777777778,\"#fb9f3a\"],[0.8888888888888888,\"#fdca26\"],[1.0,\"#f0f921\"]]}],\"surface\":[{\"type\":\"surface\",\"colorbar\":{\"outlinewidth\":0,\"ticks\":\"\"},\"colorscale\":[[0.0,\"#0d0887\"],[0.1111111111111111,\"#46039f\"],[0.2222222222222222,\"#7201a8\"],[0.3333333333333333,\"#9c179e\"],[0.4444444444444444,\"#bd3786\"],[0.5555555555555556,\"#d8576b\"],[0.6666666666666666,\"#ed7953\"],[0.7777777777777778,\"#fb9f3a\"],[0.8888888888888888,\"#fdca26\"],[1.0,\"#f0f921\"]]}],\"mesh3d\":[{\"type\":\"mesh3d\",\"colorbar\":{\"outlinewidth\":0,\"ticks\":\"\"}}],\"scatter\":[{\"fillpattern\":{\"fillmode\":\"overlay\",\"size\":10,\"solidity\":0.2},\"type\":\"scatter\"}],\"parcoords\":[{\"type\":\"parcoords\",\"line\":{\"colorbar\":{\"outlinewidth\":0,\"ticks\":\"\"}}}],\"scatterpolargl\":[{\"type\":\"scatterpolargl\",\"marker\":{\"colorbar\":{\"outlinewidth\":0,\"ticks\":\"\"}}}],\"bar\":[{\"error_x\":{\"color\":\"#2a3f5f\"},\"error_y\":{\"color\":\"#2a3f5f\"},\"marker\":{\"line\":{\"color\":\"#E5ECF6\",\"width\":0.5},\"pattern\":{\"fillmode\":\"overlay\",\"size\":10,\"solidity\":0.2}},\"type\":\"bar\"}],\"scattergeo\":[{\"type\":\"scattergeo\",\"marker\":{\"colorbar\":{\"outlinewidth\":0,\"ticks\":\"\"}}}],\"scatterpolar\":[{\"type\":\"scatterpolar\",\"marker\":{\"colorbar\":{\"outlinewidth\":0,\"ticks\":\"\"}}}],\"histogram\":[{\"marker\":{\"pattern\":{\"fillmode\":\"overlay\",\"size\":10,\"solidity\":0.2}},\"type\":\"histogram\"}],\"scattergl\":[{\"type\":\"scattergl\",\"marker\":{\"colorbar\":{\"outlinewidth\":0,\"ticks\":\"\"}}}],\"scatter3d\":[{\"type\":\"scatter3d\",\"line\":{\"colorbar\":{\"outlinewidth\":0,\"ticks\":\"\"}},\"marker\":{\"colorbar\":{\"outlinewidth\":0,\"ticks\":\"\"}}}],\"scattermapbox\":[{\"type\":\"scattermapbox\",\"marker\":{\"colorbar\":{\"outlinewidth\":0,\"ticks\":\"\"}}}],\"scatterternary\":[{\"type\":\"scatterternary\",\"marker\":{\"colorbar\":{\"outlinewidth\":0,\"ticks\":\"\"}}}],\"scattercarpet\":[{\"type\":\"scattercarpet\",\"marker\":{\"colorbar\":{\"outlinewidth\":0,\"ticks\":\"\"}}}],\"carpet\":[{\"aaxis\":{\"endlinecolor\":\"#2a3f5f\",\"gridcolor\":\"white\",\"linecolor\":\"white\",\"minorgridcolor\":\"white\",\"startlinecolor\":\"#2a3f5f\"},\"baxis\":{\"endlinecolor\":\"#2a3f5f\",\"gridcolor\":\"white\",\"linecolor\":\"white\",\"minorgridcolor\":\"white\",\"startlinecolor\":\"#2a3f5f\"},\"type\":\"carpet\"}],\"table\":[{\"cells\":{\"fill\":{\"color\":\"#EBF0F8\"},\"line\":{\"color\":\"white\"}},\"header\":{\"fill\":{\"color\":\"#C8D4E3\"},\"line\":{\"color\":\"white\"}},\"type\":\"table\"}],\"barpolar\":[{\"marker\":{\"line\":{\"color\":\"#E5ECF6\",\"width\":0.5},\"pattern\":{\"fillmode\":\"overlay\",\"size\":10,\"solidity\":0.2}},\"type\":\"barpolar\"}],\"pie\":[{\"automargin\":true,\"type\":\"pie\"}]},\"layout\":{\"autotypenumbers\":\"strict\",\"colorway\":[\"#636efa\",\"#EF553B\",\"#00cc96\",\"#ab63fa\",\"#FFA15A\",\"#19d3f3\",\"#FF6692\",\"#B6E880\",\"#FF97FF\",\"#FECB52\"],\"font\":{\"color\":\"#2a3f5f\"},\"hovermode\":\"closest\",\"hoverlabel\":{\"align\":\"left\"},\"paper_bgcolor\":\"white\",\"plot_bgcolor\":\"#E5ECF6\",\"polar\":{\"bgcolor\":\"#E5ECF6\",\"angularaxis\":{\"gridcolor\":\"white\",\"linecolor\":\"white\",\"ticks\":\"\"},\"radialaxis\":{\"gridcolor\":\"white\",\"linecolor\":\"white\",\"ticks\":\"\"}},\"ternary\":{\"bgcolor\":\"#E5ECF6\",\"aaxis\":{\"gridcolor\":\"white\",\"linecolor\":\"white\",\"ticks\":\"\"},\"baxis\":{\"gridcolor\":\"white\",\"linecolor\":\"white\",\"ticks\":\"\"},\"caxis\":{\"gridcolor\":\"white\",\"linecolor\":\"white\",\"ticks\":\"\"}},\"coloraxis\":{\"colorbar\":{\"outlinewidth\":0,\"ticks\":\"\"}},\"colorscale\":{\"sequential\":[[0.0,\"#0d0887\"],[0.1111111111111111,\"#46039f\"],[0.2222222222222222,\"#7201a8\"],[0.3333333333333333,\"#9c179e\"],[0.4444444444444444,\"#bd3786\"],[0.5555555555555556,\"#d8576b\"],[0.6666666666666666,\"#ed7953\"],[0.7777777777777778,\"#fb9f3a\"],[0.8888888888888888,\"#fdca26\"],[1.0,\"#f0f921\"]],\"sequentialminus\":[[0.0,\"#0d0887\"],[0.1111111111111111,\"#46039f\"],[0.2222222222222222,\"#7201a8\"],[0.3333333333333333,\"#9c179e\"],[0.4444444444444444,\"#bd3786\"],[0.5555555555555556,\"#d8576b\"],[0.6666666666666666,\"#ed7953\"],[0.7777777777777778,\"#fb9f3a\"],[0.8888888888888888,\"#fdca26\"],[1.0,\"#f0f921\"]],\"diverging\":[[0,\"#8e0152\"],[0.1,\"#c51b7d\"],[0.2,\"#de77ae\"],[0.3,\"#f1b6da\"],[0.4,\"#fde0ef\"],[0.5,\"#f7f7f7\"],[0.6,\"#e6f5d0\"],[0.7,\"#b8e186\"],[0.8,\"#7fbc41\"],[0.9,\"#4d9221\"],[1,\"#276419\"]]},\"xaxis\":{\"gridcolor\":\"white\",\"linecolor\":\"white\",\"ticks\":\"\",\"title\":{\"standoff\":15},\"zerolinecolor\":\"white\",\"automargin\":true,\"zerolinewidth\":2},\"yaxis\":{\"gridcolor\":\"white\",\"linecolor\":\"white\",\"ticks\":\"\",\"title\":{\"standoff\":15},\"zerolinecolor\":\"white\",\"automargin\":true,\"zerolinewidth\":2},\"scene\":{\"xaxis\":{\"backgroundcolor\":\"#E5ECF6\",\"gridcolor\":\"white\",\"linecolor\":\"white\",\"showbackground\":true,\"ticks\":\"\",\"zerolinecolor\":\"white\",\"gridwidth\":2},\"yaxis\":{\"backgroundcolor\":\"#E5ECF6\",\"gridcolor\":\"white\",\"linecolor\":\"white\",\"showbackground\":true,\"ticks\":\"\",\"zerolinecolor\":\"white\",\"gridwidth\":2},\"zaxis\":{\"backgroundcolor\":\"#E5ECF6\",\"gridcolor\":\"white\",\"linecolor\":\"white\",\"showbackground\":true,\"ticks\":\"\",\"zerolinecolor\":\"white\",\"gridwidth\":2}},\"shapedefaults\":{\"line\":{\"color\":\"#2a3f5f\"}},\"annotationdefaults\":{\"arrowcolor\":\"#2a3f5f\",\"arrowhead\":0,\"arrowwidth\":1},\"geo\":{\"bgcolor\":\"white\",\"landcolor\":\"#E5ECF6\",\"subunitcolor\":\"white\",\"showland\":true,\"showlakes\":true,\"lakecolor\":\"white\"},\"title\":{\"x\":0.05},\"mapbox\":{\"style\":\"light\"}}},\"xaxis\":{\"anchor\":\"y\",\"domain\":[0.0,1.0],\"title\":{\"text\":\"VOLUME(shares)\"}},\"yaxis\":{\"anchor\":\"x\",\"domain\":[0.0,1.0],\"title\":{\"text\":\"count\"}},\"legend\":{\"title\":{\"text\":\"SYMBOL\"},\"tracegroupgap\":0},\"title\":{\"text\":\"Volume Chart\"},\"barmode\":\"relative\"},                        {\"responsive\": true}                    ).then(function(){\n",
       "                            \n",
       "var gd = document.getElementById('78c70e18-7859-4c85-bb70-78c7e2796ee3');\n",
       "var x = new MutationObserver(function (mutations, observer) {{\n",
       "        var display = window.getComputedStyle(gd).display;\n",
       "        if (!display || display === 'none') {{\n",
       "            console.log([gd, 'removed!']);\n",
       "            Plotly.purge(gd);\n",
       "            observer.disconnect();\n",
       "        }}\n",
       "}});\n",
       "\n",
       "// Listen for the removal of the full notebook cells\n",
       "var notebookContainer = gd.closest('#notebook-container');\n",
       "if (notebookContainer) {{\n",
       "    x.observe(notebookContainer, {childList: true});\n",
       "}}\n",
       "\n",
       "// Listen for the clearing of the current output cell\n",
       "var outputEl = gd.closest('.output');\n",
       "if (outputEl) {{\n",
       "    x.observe(outputEl, {childList: true});\n",
       "}}\n",
       "\n",
       "                        })                };                });            </script>        </div>"
      ]
     },
     "metadata": {},
     "output_type": "display_data"
    }
   ],
   "source": [
    "px.histogram(df_nifity.sort_values(by='VOLUME(shares)'),x='VOLUME(shares)',\n",
    "             color='SYMBOL', title=\"Volume Chart\",\n",
    "            color_discrete_sequence=px.colors.qualitative.Dark24)"
   ]
  },
  {
   "cell_type": "code",
   "execution_count": 10,
   "id": "30b97996",
   "metadata": {},
   "outputs": [
    {
     "data": {
      "application/vnd.plotly.v1+json": {
       "config": {
        "plotlyServerURL": "https://plot.ly"
       },
       "data": [
        {
         "hovertemplate": "SYMBOL=%{x}<br>VOLUME(shares)=%{y}<extra></extra>",
         "legendgroup": "NESTLEIND",
         "marker": {
          "color": "#2E91E5",
          "symbol": "circle"
         },
         "mode": "markers",
         "name": "NESTLEIND",
         "orientation": "v",
         "showlegend": true,
         "type": "scatter",
         "x": [
          "NESTLEIND"
         ],
         "xaxis": "x",
         "y": [
          27330
         ],
         "yaxis": "y"
        },
        {
         "hovertemplate": "SYMBOL=%{x}<br>VOLUME(shares)=%{y}<extra></extra>",
         "legendgroup": "SHREECEM",
         "marker": {
          "color": "#E15F99",
          "symbol": "circle"
         },
         "mode": "markers",
         "name": "SHREECEM",
         "orientation": "v",
         "showlegend": true,
         "type": "scatter",
         "x": [
          "SHREECEM"
         ],
         "xaxis": "x",
         "y": [
          36907
         ],
         "yaxis": "y"
        },
        {
         "hovertemplate": "SYMBOL=%{x}<br>VOLUME(shares)=%{y}<extra></extra>",
         "legendgroup": "BAJAJ-AUTO",
         "marker": {
          "color": "#1CA71C",
          "symbol": "circle"
         },
         "mode": "markers",
         "name": "BAJAJ-AUTO",
         "orientation": "v",
         "showlegend": true,
         "type": "scatter",
         "x": [
          "BAJAJ-AUTO"
         ],
         "xaxis": "x",
         "y": [
          198206
         ],
         "yaxis": "y"
        },
        {
         "hovertemplate": "SYMBOL=%{x}<br>VOLUME(shares)=%{y}<extra></extra>",
         "legendgroup": "BRITANNIA",
         "marker": {
          "color": "#FB0D0D",
          "symbol": "circle"
         },
         "mode": "markers",
         "name": "BRITANNIA",
         "orientation": "v",
         "showlegend": true,
         "type": "scatter",
         "x": [
          "BRITANNIA"
         ],
         "xaxis": "x",
         "y": [
          205852
         ],
         "yaxis": "y"
        },
        {
         "hovertemplate": "SYMBOL=%{x}<br>VOLUME(shares)=%{y}<extra></extra>",
         "legendgroup": "BAJAJFINSV",
         "marker": {
          "color": "#DA16FF",
          "symbol": "circle"
         },
         "mode": "markers",
         "name": "BAJAJFINSV",
         "orientation": "v",
         "showlegend": true,
         "type": "scatter",
         "x": [
          "BAJAJFINSV"
         ],
         "xaxis": "x",
         "y": [
          248390
         ],
         "yaxis": "y"
        },
        {
         "hovertemplate": "SYMBOL=%{x}<br>VOLUME(shares)=%{y}<extra></extra>",
         "legendgroup": "DIVISLAB",
         "marker": {
          "color": "#222A2A",
          "symbol": "circle"
         },
         "mode": "markers",
         "name": "DIVISLAB",
         "orientation": "v",
         "showlegend": true,
         "type": "scatter",
         "x": [
          "DIVISLAB"
         ],
         "xaxis": "x",
         "y": [
          306254
         ],
         "yaxis": "y"
        },
        {
         "hovertemplate": "SYMBOL=%{x}<br>VOLUME(shares)=%{y}<extra></extra>",
         "legendgroup": "DRREDDY",
         "marker": {
          "color": "#B68100",
          "symbol": "circle"
         },
         "mode": "markers",
         "name": "DRREDDY",
         "orientation": "v",
         "showlegend": true,
         "type": "scatter",
         "x": [
          "DRREDDY"
         ],
         "xaxis": "x",
         "y": [
          369436
         ],
         "yaxis": "y"
        },
        {
         "hovertemplate": "SYMBOL=%{x}<br>VOLUME(shares)=%{y}<extra></extra>",
         "legendgroup": "EICHERMOT",
         "marker": {
          "color": "#750D86",
          "symbol": "circle"
         },
         "mode": "markers",
         "name": "EICHERMOT",
         "orientation": "v",
         "showlegend": true,
         "type": "scatter",
         "x": [
          "EICHERMOT"
         ],
         "xaxis": "x",
         "y": [
          383935
         ],
         "yaxis": "y"
        },
        {
         "hovertemplate": "SYMBOL=%{x}<br>VOLUME(shares)=%{y}<extra></extra>",
         "legendgroup": "ULTRACEMCO",
         "marker": {
          "color": "#EB663B",
          "symbol": "circle"
         },
         "mode": "markers",
         "name": "ULTRACEMCO",
         "orientation": "v",
         "showlegend": true,
         "type": "scatter",
         "x": [
          "ULTRACEMCO"
         ],
         "xaxis": "x",
         "y": [
          386535
         ],
         "yaxis": "y"
        },
        {
         "hovertemplate": "SYMBOL=%{x}<br>VOLUME(shares)=%{y}<extra></extra>",
         "legendgroup": "HEROMOTOCO",
         "marker": {
          "color": "#511CFB",
          "symbol": "circle"
         },
         "mode": "markers",
         "name": "HEROMOTOCO",
         "orientation": "v",
         "showlegend": true,
         "type": "scatter",
         "x": [
          "HEROMOTOCO"
         ],
         "xaxis": "x",
         "y": [
          426929
         ],
         "yaxis": "y"
        },
        {
         "hovertemplate": "SYMBOL=%{x}<br>VOLUME(shares)=%{y}<extra></extra>",
         "legendgroup": "SBILIFE",
         "marker": {
          "color": "#00A08B",
          "symbol": "circle"
         },
         "mode": "markers",
         "name": "SBILIFE",
         "orientation": "v",
         "showlegend": true,
         "type": "scatter",
         "x": [
          "SBILIFE"
         ],
         "xaxis": "x",
         "y": [
          509293
         ],
         "yaxis": "y"
        },
        {
         "hovertemplate": "SYMBOL=%{x}<br>VOLUME(shares)=%{y}<extra></extra>",
         "legendgroup": "MARUTI",
         "marker": {
          "color": "#FB00D1",
          "symbol": "circle"
         },
         "mode": "markers",
         "name": "MARUTI",
         "orientation": "v",
         "showlegend": true,
         "type": "scatter",
         "x": [
          "MARUTI"
         ],
         "xaxis": "x",
         "y": [
          527991
         ],
         "yaxis": "y"
        },
        {
         "hovertemplate": "SYMBOL=%{x}<br>VOLUME(shares)=%{y}<extra></extra>",
         "legendgroup": "BAJFINANCE",
         "marker": {
          "color": "#FC0080",
          "symbol": "circle"
         },
         "mode": "markers",
         "name": "BAJFINANCE",
         "orientation": "v",
         "showlegend": true,
         "type": "scatter",
         "x": [
          "BAJFINANCE"
         ],
         "xaxis": "x",
         "y": [
          672317
         ],
         "yaxis": "y"
        },
        {
         "hovertemplate": "SYMBOL=%{x}<br>VOLUME(shares)=%{y}<extra></extra>",
         "legendgroup": "APOLLOHOSP",
         "marker": {
          "color": "#B2828D",
          "symbol": "circle"
         },
         "mode": "markers",
         "name": "APOLLOHOSP",
         "orientation": "v",
         "showlegend": true,
         "type": "scatter",
         "x": [
          "APOLLOHOSP"
         ],
         "xaxis": "x",
         "y": [
          812061
         ],
         "yaxis": "y"
        },
        {
         "hovertemplate": "SYMBOL=%{x}<br>VOLUME(shares)=%{y}<extra></extra>",
         "legendgroup": "GRASIM",
         "marker": {
          "color": "#6C7C32",
          "symbol": "circle"
         },
         "mode": "markers",
         "name": "GRASIM",
         "orientation": "v",
         "showlegend": true,
         "type": "scatter",
         "x": [
          "GRASIM"
         ],
         "xaxis": "x",
         "y": [
          836083
         ],
         "yaxis": "y"
        },
        {
         "hovertemplate": "SYMBOL=%{x}<br>VOLUME(shares)=%{y}<extra></extra>",
         "legendgroup": "TATACONSUM",
         "marker": {
          "color": "#778AAE",
          "symbol": "circle"
         },
         "mode": "markers",
         "name": "TATACONSUM",
         "orientation": "v",
         "showlegend": true,
         "type": "scatter",
         "x": [
          "TATACONSUM"
         ],
         "xaxis": "x",
         "y": [
          1036739
         ],
         "yaxis": "y"
        },
        {
         "hovertemplate": "SYMBOL=%{x}<br>VOLUME(shares)=%{y}<extra></extra>",
         "legendgroup": "HINDUNILVR",
         "marker": {
          "color": "#862A16",
          "symbol": "circle"
         },
         "mode": "markers",
         "name": "HINDUNILVR",
         "orientation": "v",
         "showlegend": true,
         "type": "scatter",
         "x": [
          "HINDUNILVR"
         ],
         "xaxis": "x",
         "y": [
          1071601
         ],
         "yaxis": "y"
        },
        {
         "hovertemplate": "SYMBOL=%{x}<br>VOLUME(shares)=%{y}<extra></extra>",
         "legendgroup": "ASIANPAINT",
         "marker": {
          "color": "#A777F1",
          "symbol": "circle"
         },
         "mode": "markers",
         "name": "ASIANPAINT",
         "orientation": "v",
         "showlegend": true,
         "type": "scatter",
         "x": [
          "ASIANPAINT"
         ],
         "xaxis": "x",
         "y": [
          1121350
         ],
         "yaxis": "y"
        },
        {
         "hovertemplate": "SYMBOL=%{x}<br>VOLUME(shares)=%{y}<extra></extra>",
         "legendgroup": "TITAN",
         "marker": {
          "color": "#620042",
          "symbol": "circle"
         },
         "mode": "markers",
         "name": "TITAN",
         "orientation": "v",
         "showlegend": true,
         "type": "scatter",
         "x": [
          "TITAN"
         ],
         "xaxis": "x",
         "y": [
          1165453
         ],
         "yaxis": "y"
        },
        {
         "hovertemplate": "SYMBOL=%{x}<br>VOLUME(shares)=%{y}<extra></extra>",
         "legendgroup": "TECHM",
         "marker": {
          "color": "#1616A7",
          "symbol": "circle"
         },
         "mode": "markers",
         "name": "TECHM",
         "orientation": "v",
         "showlegend": true,
         "type": "scatter",
         "x": [
          "TECHM"
         ],
         "xaxis": "x",
         "y": [
          1430399
         ],
         "yaxis": "y"
        },
        {
         "hovertemplate": "SYMBOL=%{x}<br>VOLUME(shares)=%{y}<extra></extra>",
         "legendgroup": "TCS",
         "marker": {
          "color": "#DA60CA",
          "symbol": "circle"
         },
         "mode": "markers",
         "name": "TCS",
         "orientation": "v",
         "showlegend": true,
         "type": "scatter",
         "x": [
          "TCS"
         ],
         "xaxis": "x",
         "y": [
          1621672
         ],
         "yaxis": "y"
        },
        {
         "hovertemplate": "SYMBOL=%{x}<br>VOLUME(shares)=%{y}<extra></extra>",
         "legendgroup": "LT",
         "marker": {
          "color": "#6C4516",
          "symbol": "circle"
         },
         "mode": "markers",
         "name": "LT",
         "orientation": "v",
         "showlegend": true,
         "type": "scatter",
         "x": [
          "LT"
         ],
         "xaxis": "x",
         "y": [
          1673417
         ],
         "yaxis": "y"
        },
        {
         "hovertemplate": "SYMBOL=%{x}<br>VOLUME(shares)=%{y}<extra></extra>",
         "legendgroup": "SUNPHARMA",
         "marker": {
          "color": "#0D2A63",
          "symbol": "circle"
         },
         "mode": "markers",
         "name": "SUNPHARMA",
         "orientation": "v",
         "showlegend": true,
         "type": "scatter",
         "x": [
          "SUNPHARMA"
         ],
         "xaxis": "x",
         "y": [
          1825531
         ],
         "yaxis": "y"
        },
        {
         "hovertemplate": "SYMBOL=%{x}<br>VOLUME(shares)=%{y}<extra></extra>",
         "legendgroup": "CIPLA",
         "marker": {
          "color": "#AF0038",
          "symbol": "circle"
         },
         "mode": "markers",
         "name": "CIPLA",
         "orientation": "v",
         "showlegend": true,
         "type": "scatter",
         "x": [
          "CIPLA"
         ],
         "xaxis": "x",
         "y": [
          1890795
         ],
         "yaxis": "y"
        },
        {
         "hovertemplate": "SYMBOL=%{x}<br>VOLUME(shares)=%{y}<extra></extra>",
         "legendgroup": "KOTAKBANK",
         "marker": {
          "color": "#2E91E5",
          "symbol": "circle"
         },
         "mode": "markers",
         "name": "KOTAKBANK",
         "orientation": "v",
         "showlegend": true,
         "type": "scatter",
         "x": [
          "KOTAKBANK"
         ],
         "xaxis": "x",
         "y": [
          1923692
         ],
         "yaxis": "y"
        },
        {
         "hovertemplate": "SYMBOL=%{x}<br>VOLUME(shares)=%{y}<extra></extra>",
         "legendgroup": "HCLTECH",
         "marker": {
          "color": "#E15F99",
          "symbol": "circle"
         },
         "mode": "markers",
         "name": "HCLTECH",
         "orientation": "v",
         "showlegend": true,
         "type": "scatter",
         "x": [
          "HCLTECH"
         ],
         "xaxis": "x",
         "y": [
          1971580
         ],
         "yaxis": "y"
        },
        {
         "hovertemplate": "SYMBOL=%{x}<br>VOLUME(shares)=%{y}<extra></extra>",
         "legendgroup": "INDUSINDBK",
         "marker": {
          "color": "#1CA71C",
          "symbol": "circle"
         },
         "mode": "markers",
         "name": "INDUSINDBK",
         "orientation": "v",
         "showlegend": true,
         "type": "scatter",
         "x": [
          "INDUSINDBK"
         ],
         "xaxis": "x",
         "y": [
          2060127
         ],
         "yaxis": "y"
        },
        {
         "hovertemplate": "SYMBOL=%{x}<br>VOLUME(shares)=%{y}<extra></extra>",
         "legendgroup": "HDFCLIFE",
         "marker": {
          "color": "#FB0D0D",
          "symbol": "circle"
         },
         "mode": "markers",
         "name": "HDFCLIFE",
         "orientation": "v",
         "showlegend": true,
         "type": "scatter",
         "x": [
          "HDFCLIFE"
         ],
         "xaxis": "x",
         "y": [
          2313264
         ],
         "yaxis": "y"
        },
        {
         "hovertemplate": "SYMBOL=%{x}<br>VOLUME(shares)=%{y}<extra></extra>",
         "legendgroup": "ADANIPORTS",
         "marker": {
          "color": "#DA16FF",
          "symbol": "circle"
         },
         "mode": "markers",
         "name": "ADANIPORTS",
         "orientation": "v",
         "showlegend": true,
         "type": "scatter",
         "x": [
          "ADANIPORTS"
         ],
         "xaxis": "x",
         "y": [
          2955807
         ],
         "yaxis": "y"
        },
        {
         "hovertemplate": "SYMBOL=%{x}<br>VOLUME(shares)=%{y}<extra></extra>",
         "legendgroup": "BPCL",
         "marker": {
          "color": "#222A2A",
          "symbol": "circle"
         },
         "mode": "markers",
         "name": "BPCL",
         "orientation": "v",
         "showlegend": true,
         "type": "scatter",
         "x": [
          "BPCL"
         ],
         "xaxis": "x",
         "y": [
          3261962
         ],
         "yaxis": "y"
        },
        {
         "hovertemplate": "SYMBOL=%{x}<br>VOLUME(shares)=%{y}<extra></extra>",
         "legendgroup": "M&M",
         "marker": {
          "color": "#B68100",
          "symbol": "circle"
         },
         "mode": "markers",
         "name": "M&M",
         "orientation": "v",
         "showlegend": true,
         "type": "scatter",
         "x": [
          "M&M"
         ],
         "xaxis": "x",
         "y": [
          3695363
         ],
         "yaxis": "y"
        },
        {
         "hovertemplate": "SYMBOL=%{x}<br>VOLUME(shares)=%{y}<extra></extra>",
         "legendgroup": "HDFC",
         "marker": {
          "color": "#750D86",
          "symbol": "circle"
         },
         "mode": "markers",
         "name": "HDFC",
         "orientation": "v",
         "showlegend": true,
         "type": "scatter",
         "x": [
          "HDFC"
         ],
         "xaxis": "x",
         "y": [
          4257122
         ],
         "yaxis": "y"
        },
        {
         "hovertemplate": "SYMBOL=%{x}<br>VOLUME(shares)=%{y}<extra></extra>",
         "legendgroup": "TATASTEEL",
         "marker": {
          "color": "#EB663B",
          "symbol": "circle"
         },
         "mode": "markers",
         "name": "TATASTEEL",
         "orientation": "v",
         "showlegend": true,
         "type": "scatter",
         "x": [
          "TATASTEEL"
         ],
         "xaxis": "x",
         "y": [
          4493780
         ],
         "yaxis": "y"
        },
        {
         "hovertemplate": "SYMBOL=%{x}<br>VOLUME(shares)=%{y}<extra></extra>",
         "legendgroup": "RELIANCE",
         "marker": {
          "color": "#511CFB",
          "symbol": "circle"
         },
         "mode": "markers",
         "name": "RELIANCE",
         "orientation": "v",
         "showlegend": true,
         "type": "scatter",
         "x": [
          "RELIANCE"
         ],
         "xaxis": "x",
         "y": [
          4778478
         ],
         "yaxis": "y"
        },
        {
         "hovertemplate": "SYMBOL=%{x}<br>VOLUME(shares)=%{y}<extra></extra>",
         "legendgroup": "UPL",
         "marker": {
          "color": "#00A08B",
          "symbol": "circle"
         },
         "mode": "markers",
         "name": "UPL",
         "orientation": "v",
         "showlegend": true,
         "type": "scatter",
         "x": [
          "UPL"
         ],
         "xaxis": "x",
         "y": [
          4974212
         ],
         "yaxis": "y"
        },
        {
         "hovertemplate": "SYMBOL=%{x}<br>VOLUME(shares)=%{y}<extra></extra>",
         "legendgroup": "WIPRO",
         "marker": {
          "color": "#FB00D1",
          "symbol": "circle"
         },
         "mode": "markers",
         "name": "WIPRO",
         "orientation": "v",
         "showlegend": true,
         "type": "scatter",
         "x": [
          "WIPRO"
         ],
         "xaxis": "x",
         "y": [
          5602288
         ],
         "yaxis": "y"
        },
        {
         "hovertemplate": "SYMBOL=%{x}<br>VOLUME(shares)=%{y}<extra></extra>",
         "legendgroup": "INFY",
         "marker": {
          "color": "#FC0080",
          "symbol": "circle"
         },
         "mode": "markers",
         "name": "INFY",
         "orientation": "v",
         "showlegend": true,
         "type": "scatter",
         "x": [
          "INFY"
         ],
         "xaxis": "x",
         "y": [
          6257693
         ],
         "yaxis": "y"
        },
        {
         "hovertemplate": "SYMBOL=%{x}<br>VOLUME(shares)=%{y}<extra></extra>",
         "legendgroup": "BHARTIARTL",
         "marker": {
          "color": "#B2828D",
          "symbol": "circle"
         },
         "mode": "markers",
         "name": "BHARTIARTL",
         "orientation": "v",
         "showlegend": true,
         "type": "scatter",
         "x": [
          "BHARTIARTL"
         ],
         "xaxis": "x",
         "y": [
          6343030
         ],
         "yaxis": "y"
        },
        {
         "hovertemplate": "SYMBOL=%{x}<br>VOLUME(shares)=%{y}<extra></extra>",
         "legendgroup": "JSWSTEEL",
         "marker": {
          "color": "#6C7C32",
          "symbol": "circle"
         },
         "mode": "markers",
         "name": "JSWSTEEL",
         "orientation": "v",
         "showlegend": true,
         "type": "scatter",
         "x": [
          "JSWSTEEL"
         ],
         "xaxis": "x",
         "y": [
          6722613
         ],
         "yaxis": "y"
        },
        {
         "hovertemplate": "SYMBOL=%{x}<br>VOLUME(shares)=%{y}<extra></extra>",
         "legendgroup": "HINDALCO",
         "marker": {
          "color": "#778AAE",
          "symbol": "circle"
         },
         "mode": "markers",
         "name": "HINDALCO",
         "orientation": "v",
         "showlegend": true,
         "type": "scatter",
         "x": [
          "HINDALCO"
         ],
         "xaxis": "x",
         "y": [
          7396320
         ],
         "yaxis": "y"
        },
        {
         "hovertemplate": "SYMBOL=%{x}<br>VOLUME(shares)=%{y}<extra></extra>",
         "legendgroup": "AXISBANK",
         "marker": {
          "color": "#862A16",
          "symbol": "circle"
         },
         "mode": "markers",
         "name": "AXISBANK",
         "orientation": "v",
         "showlegend": true,
         "type": "scatter",
         "x": [
          "AXISBANK"
         ],
         "xaxis": "x",
         "y": [
          7640132
         ],
         "yaxis": "y"
        },
        {
         "hovertemplate": "SYMBOL=%{x}<br>VOLUME(shares)=%{y}<extra></extra>",
         "legendgroup": "POWERGRID",
         "marker": {
          "color": "#A777F1",
          "symbol": "circle"
         },
         "mode": "markers",
         "name": "POWERGRID",
         "orientation": "v",
         "showlegend": true,
         "type": "scatter",
         "x": [
          "POWERGRID"
         ],
         "xaxis": "x",
         "y": [
          8261580
         ],
         "yaxis": "y"
        },
        {
         "hovertemplate": "SYMBOL=%{x}<br>VOLUME(shares)=%{y}<extra></extra>",
         "legendgroup": "COALINDIA",
         "marker": {
          "color": "#620042",
          "symbol": "circle"
         },
         "mode": "markers",
         "name": "COALINDIA",
         "orientation": "v",
         "showlegend": true,
         "type": "scatter",
         "x": [
          "COALINDIA"
         ],
         "xaxis": "x",
         "y": [
          14216953
         ],
         "yaxis": "y"
        },
        {
         "hovertemplate": "SYMBOL=%{x}<br>VOLUME(shares)=%{y}<extra></extra>",
         "legendgroup": "HDFCBANK",
         "marker": {
          "color": "#1616A7",
          "symbol": "circle"
         },
         "mode": "markers",
         "name": "HDFCBANK",
         "orientation": "v",
         "showlegend": true,
         "type": "scatter",
         "x": [
          "HDFCBANK"
         ],
         "xaxis": "x",
         "y": [
          14446260
         ],
         "yaxis": "y"
        },
        {
         "hovertemplate": "SYMBOL=%{x}<br>VOLUME(shares)=%{y}<extra></extra>",
         "legendgroup": "SBIN",
         "marker": {
          "color": "#DA60CA",
          "symbol": "circle"
         },
         "mode": "markers",
         "name": "SBIN",
         "orientation": "v",
         "showlegend": true,
         "type": "scatter",
         "x": [
          "SBIN"
         ],
         "xaxis": "x",
         "y": [
          15440525
         ],
         "yaxis": "y"
        },
        {
         "hovertemplate": "SYMBOL=%{x}<br>VOLUME(shares)=%{y}<extra></extra>",
         "legendgroup": "ICICIBANK",
         "marker": {
          "color": "#6C4516",
          "symbol": "circle"
         },
         "mode": "markers",
         "name": "ICICIBANK",
         "orientation": "v",
         "showlegend": true,
         "type": "scatter",
         "x": [
          "ICICIBANK"
         ],
         "xaxis": "x",
         "y": [
          16119956
         ],
         "yaxis": "y"
        },
        {
         "hovertemplate": "SYMBOL=%{x}<br>VOLUME(shares)=%{y}<extra></extra>",
         "legendgroup": "TATAMOTORS",
         "marker": {
          "color": "#0D2A63",
          "symbol": "circle"
         },
         "mode": "markers",
         "name": "TATAMOTORS",
         "orientation": "v",
         "showlegend": true,
         "type": "scatter",
         "x": [
          "TATAMOTORS"
         ],
         "xaxis": "x",
         "y": [
          16817981
         ],
         "yaxis": "y"
        },
        {
         "hovertemplate": "SYMBOL=%{x}<br>VOLUME(shares)=%{y}<extra></extra>",
         "legendgroup": "NTPC",
         "marker": {
          "color": "#AF0038",
          "symbol": "circle"
         },
         "mode": "markers",
         "name": "NTPC",
         "orientation": "v",
         "showlegend": true,
         "type": "scatter",
         "x": [
          "NTPC"
         ],
         "xaxis": "x",
         "y": [
          19454061
         ],
         "yaxis": "y"
        },
        {
         "hovertemplate": "SYMBOL=%{x}<br>VOLUME(shares)=%{y}<extra></extra>",
         "legendgroup": "ITC",
         "marker": {
          "color": "#2E91E5",
          "symbol": "circle"
         },
         "mode": "markers",
         "name": "ITC",
         "orientation": "v",
         "showlegend": true,
         "type": "scatter",
         "x": [
          "ITC"
         ],
         "xaxis": "x",
         "y": [
          21414383
         ],
         "yaxis": "y"
        },
        {
         "hovertemplate": "SYMBOL=%{x}<br>VOLUME(shares)=%{y}<extra></extra>",
         "legendgroup": "ONGC",
         "marker": {
          "color": "#E15F99",
          "symbol": "circle"
         },
         "mode": "markers",
         "name": "ONGC",
         "orientation": "v",
         "showlegend": true,
         "type": "scatter",
         "x": [
          "ONGC"
         ],
         "xaxis": "x",
         "y": [
          23458303
         ],
         "yaxis": "y"
        }
       ],
       "layout": {
        "legend": {
         "title": {
          "text": "SYMBOL"
         },
         "tracegroupgap": 0
        },
        "template": {
         "data": {
          "bar": [
           {
            "error_x": {
             "color": "#2a3f5f"
            },
            "error_y": {
             "color": "#2a3f5f"
            },
            "marker": {
             "line": {
              "color": "#E5ECF6",
              "width": 0.5
             },
             "pattern": {
              "fillmode": "overlay",
              "size": 10,
              "solidity": 0.2
             }
            },
            "type": "bar"
           }
          ],
          "barpolar": [
           {
            "marker": {
             "line": {
              "color": "#E5ECF6",
              "width": 0.5
             },
             "pattern": {
              "fillmode": "overlay",
              "size": 10,
              "solidity": 0.2
             }
            },
            "type": "barpolar"
           }
          ],
          "carpet": [
           {
            "aaxis": {
             "endlinecolor": "#2a3f5f",
             "gridcolor": "white",
             "linecolor": "white",
             "minorgridcolor": "white",
             "startlinecolor": "#2a3f5f"
            },
            "baxis": {
             "endlinecolor": "#2a3f5f",
             "gridcolor": "white",
             "linecolor": "white",
             "minorgridcolor": "white",
             "startlinecolor": "#2a3f5f"
            },
            "type": "carpet"
           }
          ],
          "choropleth": [
           {
            "colorbar": {
             "outlinewidth": 0,
             "ticks": ""
            },
            "type": "choropleth"
           }
          ],
          "contour": [
           {
            "colorbar": {
             "outlinewidth": 0,
             "ticks": ""
            },
            "colorscale": [
             [
              0,
              "#0d0887"
             ],
             [
              0.1111111111111111,
              "#46039f"
             ],
             [
              0.2222222222222222,
              "#7201a8"
             ],
             [
              0.3333333333333333,
              "#9c179e"
             ],
             [
              0.4444444444444444,
              "#bd3786"
             ],
             [
              0.5555555555555556,
              "#d8576b"
             ],
             [
              0.6666666666666666,
              "#ed7953"
             ],
             [
              0.7777777777777778,
              "#fb9f3a"
             ],
             [
              0.8888888888888888,
              "#fdca26"
             ],
             [
              1,
              "#f0f921"
             ]
            ],
            "type": "contour"
           }
          ],
          "contourcarpet": [
           {
            "colorbar": {
             "outlinewidth": 0,
             "ticks": ""
            },
            "type": "contourcarpet"
           }
          ],
          "heatmap": [
           {
            "colorbar": {
             "outlinewidth": 0,
             "ticks": ""
            },
            "colorscale": [
             [
              0,
              "#0d0887"
             ],
             [
              0.1111111111111111,
              "#46039f"
             ],
             [
              0.2222222222222222,
              "#7201a8"
             ],
             [
              0.3333333333333333,
              "#9c179e"
             ],
             [
              0.4444444444444444,
              "#bd3786"
             ],
             [
              0.5555555555555556,
              "#d8576b"
             ],
             [
              0.6666666666666666,
              "#ed7953"
             ],
             [
              0.7777777777777778,
              "#fb9f3a"
             ],
             [
              0.8888888888888888,
              "#fdca26"
             ],
             [
              1,
              "#f0f921"
             ]
            ],
            "type": "heatmap"
           }
          ],
          "heatmapgl": [
           {
            "colorbar": {
             "outlinewidth": 0,
             "ticks": ""
            },
            "colorscale": [
             [
              0,
              "#0d0887"
             ],
             [
              0.1111111111111111,
              "#46039f"
             ],
             [
              0.2222222222222222,
              "#7201a8"
             ],
             [
              0.3333333333333333,
              "#9c179e"
             ],
             [
              0.4444444444444444,
              "#bd3786"
             ],
             [
              0.5555555555555556,
              "#d8576b"
             ],
             [
              0.6666666666666666,
              "#ed7953"
             ],
             [
              0.7777777777777778,
              "#fb9f3a"
             ],
             [
              0.8888888888888888,
              "#fdca26"
             ],
             [
              1,
              "#f0f921"
             ]
            ],
            "type": "heatmapgl"
           }
          ],
          "histogram": [
           {
            "marker": {
             "pattern": {
              "fillmode": "overlay",
              "size": 10,
              "solidity": 0.2
             }
            },
            "type": "histogram"
           }
          ],
          "histogram2d": [
           {
            "colorbar": {
             "outlinewidth": 0,
             "ticks": ""
            },
            "colorscale": [
             [
              0,
              "#0d0887"
             ],
             [
              0.1111111111111111,
              "#46039f"
             ],
             [
              0.2222222222222222,
              "#7201a8"
             ],
             [
              0.3333333333333333,
              "#9c179e"
             ],
             [
              0.4444444444444444,
              "#bd3786"
             ],
             [
              0.5555555555555556,
              "#d8576b"
             ],
             [
              0.6666666666666666,
              "#ed7953"
             ],
             [
              0.7777777777777778,
              "#fb9f3a"
             ],
             [
              0.8888888888888888,
              "#fdca26"
             ],
             [
              1,
              "#f0f921"
             ]
            ],
            "type": "histogram2d"
           }
          ],
          "histogram2dcontour": [
           {
            "colorbar": {
             "outlinewidth": 0,
             "ticks": ""
            },
            "colorscale": [
             [
              0,
              "#0d0887"
             ],
             [
              0.1111111111111111,
              "#46039f"
             ],
             [
              0.2222222222222222,
              "#7201a8"
             ],
             [
              0.3333333333333333,
              "#9c179e"
             ],
             [
              0.4444444444444444,
              "#bd3786"
             ],
             [
              0.5555555555555556,
              "#d8576b"
             ],
             [
              0.6666666666666666,
              "#ed7953"
             ],
             [
              0.7777777777777778,
              "#fb9f3a"
             ],
             [
              0.8888888888888888,
              "#fdca26"
             ],
             [
              1,
              "#f0f921"
             ]
            ],
            "type": "histogram2dcontour"
           }
          ],
          "mesh3d": [
           {
            "colorbar": {
             "outlinewidth": 0,
             "ticks": ""
            },
            "type": "mesh3d"
           }
          ],
          "parcoords": [
           {
            "line": {
             "colorbar": {
              "outlinewidth": 0,
              "ticks": ""
             }
            },
            "type": "parcoords"
           }
          ],
          "pie": [
           {
            "automargin": true,
            "type": "pie"
           }
          ],
          "scatter": [
           {
            "fillpattern": {
             "fillmode": "overlay",
             "size": 10,
             "solidity": 0.2
            },
            "type": "scatter"
           }
          ],
          "scatter3d": [
           {
            "line": {
             "colorbar": {
              "outlinewidth": 0,
              "ticks": ""
             }
            },
            "marker": {
             "colorbar": {
              "outlinewidth": 0,
              "ticks": ""
             }
            },
            "type": "scatter3d"
           }
          ],
          "scattercarpet": [
           {
            "marker": {
             "colorbar": {
              "outlinewidth": 0,
              "ticks": ""
             }
            },
            "type": "scattercarpet"
           }
          ],
          "scattergeo": [
           {
            "marker": {
             "colorbar": {
              "outlinewidth": 0,
              "ticks": ""
             }
            },
            "type": "scattergeo"
           }
          ],
          "scattergl": [
           {
            "marker": {
             "colorbar": {
              "outlinewidth": 0,
              "ticks": ""
             }
            },
            "type": "scattergl"
           }
          ],
          "scattermapbox": [
           {
            "marker": {
             "colorbar": {
              "outlinewidth": 0,
              "ticks": ""
             }
            },
            "type": "scattermapbox"
           }
          ],
          "scatterpolar": [
           {
            "marker": {
             "colorbar": {
              "outlinewidth": 0,
              "ticks": ""
             }
            },
            "type": "scatterpolar"
           }
          ],
          "scatterpolargl": [
           {
            "marker": {
             "colorbar": {
              "outlinewidth": 0,
              "ticks": ""
             }
            },
            "type": "scatterpolargl"
           }
          ],
          "scatterternary": [
           {
            "marker": {
             "colorbar": {
              "outlinewidth": 0,
              "ticks": ""
             }
            },
            "type": "scatterternary"
           }
          ],
          "surface": [
           {
            "colorbar": {
             "outlinewidth": 0,
             "ticks": ""
            },
            "colorscale": [
             [
              0,
              "#0d0887"
             ],
             [
              0.1111111111111111,
              "#46039f"
             ],
             [
              0.2222222222222222,
              "#7201a8"
             ],
             [
              0.3333333333333333,
              "#9c179e"
             ],
             [
              0.4444444444444444,
              "#bd3786"
             ],
             [
              0.5555555555555556,
              "#d8576b"
             ],
             [
              0.6666666666666666,
              "#ed7953"
             ],
             [
              0.7777777777777778,
              "#fb9f3a"
             ],
             [
              0.8888888888888888,
              "#fdca26"
             ],
             [
              1,
              "#f0f921"
             ]
            ],
            "type": "surface"
           }
          ],
          "table": [
           {
            "cells": {
             "fill": {
              "color": "#EBF0F8"
             },
             "line": {
              "color": "white"
             }
            },
            "header": {
             "fill": {
              "color": "#C8D4E3"
             },
             "line": {
              "color": "white"
             }
            },
            "type": "table"
           }
          ]
         },
         "layout": {
          "annotationdefaults": {
           "arrowcolor": "#2a3f5f",
           "arrowhead": 0,
           "arrowwidth": 1
          },
          "autotypenumbers": "strict",
          "coloraxis": {
           "colorbar": {
            "outlinewidth": 0,
            "ticks": ""
           }
          },
          "colorscale": {
           "diverging": [
            [
             0,
             "#8e0152"
            ],
            [
             0.1,
             "#c51b7d"
            ],
            [
             0.2,
             "#de77ae"
            ],
            [
             0.3,
             "#f1b6da"
            ],
            [
             0.4,
             "#fde0ef"
            ],
            [
             0.5,
             "#f7f7f7"
            ],
            [
             0.6,
             "#e6f5d0"
            ],
            [
             0.7,
             "#b8e186"
            ],
            [
             0.8,
             "#7fbc41"
            ],
            [
             0.9,
             "#4d9221"
            ],
            [
             1,
             "#276419"
            ]
           ],
           "sequential": [
            [
             0,
             "#0d0887"
            ],
            [
             0.1111111111111111,
             "#46039f"
            ],
            [
             0.2222222222222222,
             "#7201a8"
            ],
            [
             0.3333333333333333,
             "#9c179e"
            ],
            [
             0.4444444444444444,
             "#bd3786"
            ],
            [
             0.5555555555555556,
             "#d8576b"
            ],
            [
             0.6666666666666666,
             "#ed7953"
            ],
            [
             0.7777777777777778,
             "#fb9f3a"
            ],
            [
             0.8888888888888888,
             "#fdca26"
            ],
            [
             1,
             "#f0f921"
            ]
           ],
           "sequentialminus": [
            [
             0,
             "#0d0887"
            ],
            [
             0.1111111111111111,
             "#46039f"
            ],
            [
             0.2222222222222222,
             "#7201a8"
            ],
            [
             0.3333333333333333,
             "#9c179e"
            ],
            [
             0.4444444444444444,
             "#bd3786"
            ],
            [
             0.5555555555555556,
             "#d8576b"
            ],
            [
             0.6666666666666666,
             "#ed7953"
            ],
            [
             0.7777777777777778,
             "#fb9f3a"
            ],
            [
             0.8888888888888888,
             "#fdca26"
            ],
            [
             1,
             "#f0f921"
            ]
           ]
          },
          "colorway": [
           "#636efa",
           "#EF553B",
           "#00cc96",
           "#ab63fa",
           "#FFA15A",
           "#19d3f3",
           "#FF6692",
           "#B6E880",
           "#FF97FF",
           "#FECB52"
          ],
          "font": {
           "color": "#2a3f5f"
          },
          "geo": {
           "bgcolor": "white",
           "lakecolor": "white",
           "landcolor": "#E5ECF6",
           "showlakes": true,
           "showland": true,
           "subunitcolor": "white"
          },
          "hoverlabel": {
           "align": "left"
          },
          "hovermode": "closest",
          "mapbox": {
           "style": "light"
          },
          "paper_bgcolor": "white",
          "plot_bgcolor": "#E5ECF6",
          "polar": {
           "angularaxis": {
            "gridcolor": "white",
            "linecolor": "white",
            "ticks": ""
           },
           "bgcolor": "#E5ECF6",
           "radialaxis": {
            "gridcolor": "white",
            "linecolor": "white",
            "ticks": ""
           }
          },
          "scene": {
           "xaxis": {
            "backgroundcolor": "#E5ECF6",
            "gridcolor": "white",
            "gridwidth": 2,
            "linecolor": "white",
            "showbackground": true,
            "ticks": "",
            "zerolinecolor": "white"
           },
           "yaxis": {
            "backgroundcolor": "#E5ECF6",
            "gridcolor": "white",
            "gridwidth": 2,
            "linecolor": "white",
            "showbackground": true,
            "ticks": "",
            "zerolinecolor": "white"
           },
           "zaxis": {
            "backgroundcolor": "#E5ECF6",
            "gridcolor": "white",
            "gridwidth": 2,
            "linecolor": "white",
            "showbackground": true,
            "ticks": "",
            "zerolinecolor": "white"
           }
          },
          "shapedefaults": {
           "line": {
            "color": "#2a3f5f"
           }
          },
          "ternary": {
           "aaxis": {
            "gridcolor": "white",
            "linecolor": "white",
            "ticks": ""
           },
           "baxis": {
            "gridcolor": "white",
            "linecolor": "white",
            "ticks": ""
           },
           "bgcolor": "#E5ECF6",
           "caxis": {
            "gridcolor": "white",
            "linecolor": "white",
            "ticks": ""
           }
          },
          "title": {
           "x": 0.05
          },
          "xaxis": {
           "automargin": true,
           "gridcolor": "white",
           "linecolor": "white",
           "ticks": "",
           "title": {
            "standoff": 15
           },
           "zerolinecolor": "white",
           "zerolinewidth": 2
          },
          "yaxis": {
           "automargin": true,
           "gridcolor": "white",
           "linecolor": "white",
           "ticks": "",
           "title": {
            "standoff": 15
           },
           "zerolinecolor": "white",
           "zerolinewidth": 2
          }
         }
        },
        "title": {
         "text": "Shares-Volume "
        },
        "xaxis": {
         "anchor": "y",
         "categoryarray": [
          "NESTLEIND",
          "SHREECEM",
          "BAJAJ-AUTO",
          "BRITANNIA",
          "BAJAJFINSV",
          "DIVISLAB",
          "DRREDDY",
          "EICHERMOT",
          "ULTRACEMCO",
          "HEROMOTOCO",
          "SBILIFE",
          "MARUTI",
          "BAJFINANCE",
          "APOLLOHOSP",
          "GRASIM",
          "TATACONSUM",
          "HINDUNILVR",
          "ASIANPAINT",
          "TITAN",
          "TECHM",
          "TCS",
          "LT",
          "SUNPHARMA",
          "CIPLA",
          "KOTAKBANK",
          "HCLTECH",
          "INDUSINDBK",
          "HDFCLIFE",
          "ADANIPORTS",
          "BPCL",
          "M&M",
          "HDFC",
          "TATASTEEL",
          "RELIANCE",
          "UPL",
          "WIPRO",
          "INFY",
          "BHARTIARTL",
          "JSWSTEEL",
          "HINDALCO",
          "AXISBANK",
          "POWERGRID",
          "COALINDIA",
          "HDFCBANK",
          "SBIN",
          "ICICIBANK",
          "TATAMOTORS",
          "NTPC",
          "ITC",
          "ONGC"
         ],
         "categoryorder": "array",
         "domain": [
          0,
          1
         ],
         "title": {
          "text": "SYMBOL"
         }
        },
        "yaxis": {
         "anchor": "x",
         "domain": [
          0,
          1
         ],
         "title": {
          "text": "VOLUME(shares)"
         }
        }
       }
      },
      "text/html": [
       "<div>                            <div id=\"76bfe926-6058-4fe0-8311-a6bdd0a40579\" class=\"plotly-graph-div\" style=\"height:525px; width:100%;\"></div>            <script type=\"text/javascript\">                require([\"plotly\"], function(Plotly) {                    window.PLOTLYENV=window.PLOTLYENV || {};                                    if (document.getElementById(\"76bfe926-6058-4fe0-8311-a6bdd0a40579\")) {                    Plotly.newPlot(                        \"76bfe926-6058-4fe0-8311-a6bdd0a40579\",                        [{\"hovertemplate\":\"SYMBOL=%{x}<br>VOLUME(shares)=%{y}<extra></extra>\",\"legendgroup\":\"NESTLEIND\",\"marker\":{\"color\":\"#2E91E5\",\"symbol\":\"circle\"},\"mode\":\"markers\",\"name\":\"NESTLEIND\",\"orientation\":\"v\",\"showlegend\":true,\"x\":[\"NESTLEIND\"],\"xaxis\":\"x\",\"y\":[27330],\"yaxis\":\"y\",\"type\":\"scatter\"},{\"hovertemplate\":\"SYMBOL=%{x}<br>VOLUME(shares)=%{y}<extra></extra>\",\"legendgroup\":\"SHREECEM\",\"marker\":{\"color\":\"#E15F99\",\"symbol\":\"circle\"},\"mode\":\"markers\",\"name\":\"SHREECEM\",\"orientation\":\"v\",\"showlegend\":true,\"x\":[\"SHREECEM\"],\"xaxis\":\"x\",\"y\":[36907],\"yaxis\":\"y\",\"type\":\"scatter\"},{\"hovertemplate\":\"SYMBOL=%{x}<br>VOLUME(shares)=%{y}<extra></extra>\",\"legendgroup\":\"BAJAJ-AUTO\",\"marker\":{\"color\":\"#1CA71C\",\"symbol\":\"circle\"},\"mode\":\"markers\",\"name\":\"BAJAJ-AUTO\",\"orientation\":\"v\",\"showlegend\":true,\"x\":[\"BAJAJ-AUTO\"],\"xaxis\":\"x\",\"y\":[198206],\"yaxis\":\"y\",\"type\":\"scatter\"},{\"hovertemplate\":\"SYMBOL=%{x}<br>VOLUME(shares)=%{y}<extra></extra>\",\"legendgroup\":\"BRITANNIA\",\"marker\":{\"color\":\"#FB0D0D\",\"symbol\":\"circle\"},\"mode\":\"markers\",\"name\":\"BRITANNIA\",\"orientation\":\"v\",\"showlegend\":true,\"x\":[\"BRITANNIA\"],\"xaxis\":\"x\",\"y\":[205852],\"yaxis\":\"y\",\"type\":\"scatter\"},{\"hovertemplate\":\"SYMBOL=%{x}<br>VOLUME(shares)=%{y}<extra></extra>\",\"legendgroup\":\"BAJAJFINSV\",\"marker\":{\"color\":\"#DA16FF\",\"symbol\":\"circle\"},\"mode\":\"markers\",\"name\":\"BAJAJFINSV\",\"orientation\":\"v\",\"showlegend\":true,\"x\":[\"BAJAJFINSV\"],\"xaxis\":\"x\",\"y\":[248390],\"yaxis\":\"y\",\"type\":\"scatter\"},{\"hovertemplate\":\"SYMBOL=%{x}<br>VOLUME(shares)=%{y}<extra></extra>\",\"legendgroup\":\"DIVISLAB\",\"marker\":{\"color\":\"#222A2A\",\"symbol\":\"circle\"},\"mode\":\"markers\",\"name\":\"DIVISLAB\",\"orientation\":\"v\",\"showlegend\":true,\"x\":[\"DIVISLAB\"],\"xaxis\":\"x\",\"y\":[306254],\"yaxis\":\"y\",\"type\":\"scatter\"},{\"hovertemplate\":\"SYMBOL=%{x}<br>VOLUME(shares)=%{y}<extra></extra>\",\"legendgroup\":\"DRREDDY\",\"marker\":{\"color\":\"#B68100\",\"symbol\":\"circle\"},\"mode\":\"markers\",\"name\":\"DRREDDY\",\"orientation\":\"v\",\"showlegend\":true,\"x\":[\"DRREDDY\"],\"xaxis\":\"x\",\"y\":[369436],\"yaxis\":\"y\",\"type\":\"scatter\"},{\"hovertemplate\":\"SYMBOL=%{x}<br>VOLUME(shares)=%{y}<extra></extra>\",\"legendgroup\":\"EICHERMOT\",\"marker\":{\"color\":\"#750D86\",\"symbol\":\"circle\"},\"mode\":\"markers\",\"name\":\"EICHERMOT\",\"orientation\":\"v\",\"showlegend\":true,\"x\":[\"EICHERMOT\"],\"xaxis\":\"x\",\"y\":[383935],\"yaxis\":\"y\",\"type\":\"scatter\"},{\"hovertemplate\":\"SYMBOL=%{x}<br>VOLUME(shares)=%{y}<extra></extra>\",\"legendgroup\":\"ULTRACEMCO\",\"marker\":{\"color\":\"#EB663B\",\"symbol\":\"circle\"},\"mode\":\"markers\",\"name\":\"ULTRACEMCO\",\"orientation\":\"v\",\"showlegend\":true,\"x\":[\"ULTRACEMCO\"],\"xaxis\":\"x\",\"y\":[386535],\"yaxis\":\"y\",\"type\":\"scatter\"},{\"hovertemplate\":\"SYMBOL=%{x}<br>VOLUME(shares)=%{y}<extra></extra>\",\"legendgroup\":\"HEROMOTOCO\",\"marker\":{\"color\":\"#511CFB\",\"symbol\":\"circle\"},\"mode\":\"markers\",\"name\":\"HEROMOTOCO\",\"orientation\":\"v\",\"showlegend\":true,\"x\":[\"HEROMOTOCO\"],\"xaxis\":\"x\",\"y\":[426929],\"yaxis\":\"y\",\"type\":\"scatter\"},{\"hovertemplate\":\"SYMBOL=%{x}<br>VOLUME(shares)=%{y}<extra></extra>\",\"legendgroup\":\"SBILIFE\",\"marker\":{\"color\":\"#00A08B\",\"symbol\":\"circle\"},\"mode\":\"markers\",\"name\":\"SBILIFE\",\"orientation\":\"v\",\"showlegend\":true,\"x\":[\"SBILIFE\"],\"xaxis\":\"x\",\"y\":[509293],\"yaxis\":\"y\",\"type\":\"scatter\"},{\"hovertemplate\":\"SYMBOL=%{x}<br>VOLUME(shares)=%{y}<extra></extra>\",\"legendgroup\":\"MARUTI\",\"marker\":{\"color\":\"#FB00D1\",\"symbol\":\"circle\"},\"mode\":\"markers\",\"name\":\"MARUTI\",\"orientation\":\"v\",\"showlegend\":true,\"x\":[\"MARUTI\"],\"xaxis\":\"x\",\"y\":[527991],\"yaxis\":\"y\",\"type\":\"scatter\"},{\"hovertemplate\":\"SYMBOL=%{x}<br>VOLUME(shares)=%{y}<extra></extra>\",\"legendgroup\":\"BAJFINANCE\",\"marker\":{\"color\":\"#FC0080\",\"symbol\":\"circle\"},\"mode\":\"markers\",\"name\":\"BAJFINANCE\",\"orientation\":\"v\",\"showlegend\":true,\"x\":[\"BAJFINANCE\"],\"xaxis\":\"x\",\"y\":[672317],\"yaxis\":\"y\",\"type\":\"scatter\"},{\"hovertemplate\":\"SYMBOL=%{x}<br>VOLUME(shares)=%{y}<extra></extra>\",\"legendgroup\":\"APOLLOHOSP\",\"marker\":{\"color\":\"#B2828D\",\"symbol\":\"circle\"},\"mode\":\"markers\",\"name\":\"APOLLOHOSP\",\"orientation\":\"v\",\"showlegend\":true,\"x\":[\"APOLLOHOSP\"],\"xaxis\":\"x\",\"y\":[812061],\"yaxis\":\"y\",\"type\":\"scatter\"},{\"hovertemplate\":\"SYMBOL=%{x}<br>VOLUME(shares)=%{y}<extra></extra>\",\"legendgroup\":\"GRASIM\",\"marker\":{\"color\":\"#6C7C32\",\"symbol\":\"circle\"},\"mode\":\"markers\",\"name\":\"GRASIM\",\"orientation\":\"v\",\"showlegend\":true,\"x\":[\"GRASIM\"],\"xaxis\":\"x\",\"y\":[836083],\"yaxis\":\"y\",\"type\":\"scatter\"},{\"hovertemplate\":\"SYMBOL=%{x}<br>VOLUME(shares)=%{y}<extra></extra>\",\"legendgroup\":\"TATACONSUM\",\"marker\":{\"color\":\"#778AAE\",\"symbol\":\"circle\"},\"mode\":\"markers\",\"name\":\"TATACONSUM\",\"orientation\":\"v\",\"showlegend\":true,\"x\":[\"TATACONSUM\"],\"xaxis\":\"x\",\"y\":[1036739],\"yaxis\":\"y\",\"type\":\"scatter\"},{\"hovertemplate\":\"SYMBOL=%{x}<br>VOLUME(shares)=%{y}<extra></extra>\",\"legendgroup\":\"HINDUNILVR\",\"marker\":{\"color\":\"#862A16\",\"symbol\":\"circle\"},\"mode\":\"markers\",\"name\":\"HINDUNILVR\",\"orientation\":\"v\",\"showlegend\":true,\"x\":[\"HINDUNILVR\"],\"xaxis\":\"x\",\"y\":[1071601],\"yaxis\":\"y\",\"type\":\"scatter\"},{\"hovertemplate\":\"SYMBOL=%{x}<br>VOLUME(shares)=%{y}<extra></extra>\",\"legendgroup\":\"ASIANPAINT\",\"marker\":{\"color\":\"#A777F1\",\"symbol\":\"circle\"},\"mode\":\"markers\",\"name\":\"ASIANPAINT\",\"orientation\":\"v\",\"showlegend\":true,\"x\":[\"ASIANPAINT\"],\"xaxis\":\"x\",\"y\":[1121350],\"yaxis\":\"y\",\"type\":\"scatter\"},{\"hovertemplate\":\"SYMBOL=%{x}<br>VOLUME(shares)=%{y}<extra></extra>\",\"legendgroup\":\"TITAN\",\"marker\":{\"color\":\"#620042\",\"symbol\":\"circle\"},\"mode\":\"markers\",\"name\":\"TITAN\",\"orientation\":\"v\",\"showlegend\":true,\"x\":[\"TITAN\"],\"xaxis\":\"x\",\"y\":[1165453],\"yaxis\":\"y\",\"type\":\"scatter\"},{\"hovertemplate\":\"SYMBOL=%{x}<br>VOLUME(shares)=%{y}<extra></extra>\",\"legendgroup\":\"TECHM\",\"marker\":{\"color\":\"#1616A7\",\"symbol\":\"circle\"},\"mode\":\"markers\",\"name\":\"TECHM\",\"orientation\":\"v\",\"showlegend\":true,\"x\":[\"TECHM\"],\"xaxis\":\"x\",\"y\":[1430399],\"yaxis\":\"y\",\"type\":\"scatter\"},{\"hovertemplate\":\"SYMBOL=%{x}<br>VOLUME(shares)=%{y}<extra></extra>\",\"legendgroup\":\"TCS\",\"marker\":{\"color\":\"#DA60CA\",\"symbol\":\"circle\"},\"mode\":\"markers\",\"name\":\"TCS\",\"orientation\":\"v\",\"showlegend\":true,\"x\":[\"TCS\"],\"xaxis\":\"x\",\"y\":[1621672],\"yaxis\":\"y\",\"type\":\"scatter\"},{\"hovertemplate\":\"SYMBOL=%{x}<br>VOLUME(shares)=%{y}<extra></extra>\",\"legendgroup\":\"LT\",\"marker\":{\"color\":\"#6C4516\",\"symbol\":\"circle\"},\"mode\":\"markers\",\"name\":\"LT\",\"orientation\":\"v\",\"showlegend\":true,\"x\":[\"LT\"],\"xaxis\":\"x\",\"y\":[1673417],\"yaxis\":\"y\",\"type\":\"scatter\"},{\"hovertemplate\":\"SYMBOL=%{x}<br>VOLUME(shares)=%{y}<extra></extra>\",\"legendgroup\":\"SUNPHARMA\",\"marker\":{\"color\":\"#0D2A63\",\"symbol\":\"circle\"},\"mode\":\"markers\",\"name\":\"SUNPHARMA\",\"orientation\":\"v\",\"showlegend\":true,\"x\":[\"SUNPHARMA\"],\"xaxis\":\"x\",\"y\":[1825531],\"yaxis\":\"y\",\"type\":\"scatter\"},{\"hovertemplate\":\"SYMBOL=%{x}<br>VOLUME(shares)=%{y}<extra></extra>\",\"legendgroup\":\"CIPLA\",\"marker\":{\"color\":\"#AF0038\",\"symbol\":\"circle\"},\"mode\":\"markers\",\"name\":\"CIPLA\",\"orientation\":\"v\",\"showlegend\":true,\"x\":[\"CIPLA\"],\"xaxis\":\"x\",\"y\":[1890795],\"yaxis\":\"y\",\"type\":\"scatter\"},{\"hovertemplate\":\"SYMBOL=%{x}<br>VOLUME(shares)=%{y}<extra></extra>\",\"legendgroup\":\"KOTAKBANK\",\"marker\":{\"color\":\"#2E91E5\",\"symbol\":\"circle\"},\"mode\":\"markers\",\"name\":\"KOTAKBANK\",\"orientation\":\"v\",\"showlegend\":true,\"x\":[\"KOTAKBANK\"],\"xaxis\":\"x\",\"y\":[1923692],\"yaxis\":\"y\",\"type\":\"scatter\"},{\"hovertemplate\":\"SYMBOL=%{x}<br>VOLUME(shares)=%{y}<extra></extra>\",\"legendgroup\":\"HCLTECH\",\"marker\":{\"color\":\"#E15F99\",\"symbol\":\"circle\"},\"mode\":\"markers\",\"name\":\"HCLTECH\",\"orientation\":\"v\",\"showlegend\":true,\"x\":[\"HCLTECH\"],\"xaxis\":\"x\",\"y\":[1971580],\"yaxis\":\"y\",\"type\":\"scatter\"},{\"hovertemplate\":\"SYMBOL=%{x}<br>VOLUME(shares)=%{y}<extra></extra>\",\"legendgroup\":\"INDUSINDBK\",\"marker\":{\"color\":\"#1CA71C\",\"symbol\":\"circle\"},\"mode\":\"markers\",\"name\":\"INDUSINDBK\",\"orientation\":\"v\",\"showlegend\":true,\"x\":[\"INDUSINDBK\"],\"xaxis\":\"x\",\"y\":[2060127],\"yaxis\":\"y\",\"type\":\"scatter\"},{\"hovertemplate\":\"SYMBOL=%{x}<br>VOLUME(shares)=%{y}<extra></extra>\",\"legendgroup\":\"HDFCLIFE\",\"marker\":{\"color\":\"#FB0D0D\",\"symbol\":\"circle\"},\"mode\":\"markers\",\"name\":\"HDFCLIFE\",\"orientation\":\"v\",\"showlegend\":true,\"x\":[\"HDFCLIFE\"],\"xaxis\":\"x\",\"y\":[2313264],\"yaxis\":\"y\",\"type\":\"scatter\"},{\"hovertemplate\":\"SYMBOL=%{x}<br>VOLUME(shares)=%{y}<extra></extra>\",\"legendgroup\":\"ADANIPORTS\",\"marker\":{\"color\":\"#DA16FF\",\"symbol\":\"circle\"},\"mode\":\"markers\",\"name\":\"ADANIPORTS\",\"orientation\":\"v\",\"showlegend\":true,\"x\":[\"ADANIPORTS\"],\"xaxis\":\"x\",\"y\":[2955807],\"yaxis\":\"y\",\"type\":\"scatter\"},{\"hovertemplate\":\"SYMBOL=%{x}<br>VOLUME(shares)=%{y}<extra></extra>\",\"legendgroup\":\"BPCL\",\"marker\":{\"color\":\"#222A2A\",\"symbol\":\"circle\"},\"mode\":\"markers\",\"name\":\"BPCL\",\"orientation\":\"v\",\"showlegend\":true,\"x\":[\"BPCL\"],\"xaxis\":\"x\",\"y\":[3261962],\"yaxis\":\"y\",\"type\":\"scatter\"},{\"hovertemplate\":\"SYMBOL=%{x}<br>VOLUME(shares)=%{y}<extra></extra>\",\"legendgroup\":\"M&M\",\"marker\":{\"color\":\"#B68100\",\"symbol\":\"circle\"},\"mode\":\"markers\",\"name\":\"M&M\",\"orientation\":\"v\",\"showlegend\":true,\"x\":[\"M&M\"],\"xaxis\":\"x\",\"y\":[3695363],\"yaxis\":\"y\",\"type\":\"scatter\"},{\"hovertemplate\":\"SYMBOL=%{x}<br>VOLUME(shares)=%{y}<extra></extra>\",\"legendgroup\":\"HDFC\",\"marker\":{\"color\":\"#750D86\",\"symbol\":\"circle\"},\"mode\":\"markers\",\"name\":\"HDFC\",\"orientation\":\"v\",\"showlegend\":true,\"x\":[\"HDFC\"],\"xaxis\":\"x\",\"y\":[4257122],\"yaxis\":\"y\",\"type\":\"scatter\"},{\"hovertemplate\":\"SYMBOL=%{x}<br>VOLUME(shares)=%{y}<extra></extra>\",\"legendgroup\":\"TATASTEEL\",\"marker\":{\"color\":\"#EB663B\",\"symbol\":\"circle\"},\"mode\":\"markers\",\"name\":\"TATASTEEL\",\"orientation\":\"v\",\"showlegend\":true,\"x\":[\"TATASTEEL\"],\"xaxis\":\"x\",\"y\":[4493780],\"yaxis\":\"y\",\"type\":\"scatter\"},{\"hovertemplate\":\"SYMBOL=%{x}<br>VOLUME(shares)=%{y}<extra></extra>\",\"legendgroup\":\"RELIANCE\",\"marker\":{\"color\":\"#511CFB\",\"symbol\":\"circle\"},\"mode\":\"markers\",\"name\":\"RELIANCE\",\"orientation\":\"v\",\"showlegend\":true,\"x\":[\"RELIANCE\"],\"xaxis\":\"x\",\"y\":[4778478],\"yaxis\":\"y\",\"type\":\"scatter\"},{\"hovertemplate\":\"SYMBOL=%{x}<br>VOLUME(shares)=%{y}<extra></extra>\",\"legendgroup\":\"UPL\",\"marker\":{\"color\":\"#00A08B\",\"symbol\":\"circle\"},\"mode\":\"markers\",\"name\":\"UPL\",\"orientation\":\"v\",\"showlegend\":true,\"x\":[\"UPL\"],\"xaxis\":\"x\",\"y\":[4974212],\"yaxis\":\"y\",\"type\":\"scatter\"},{\"hovertemplate\":\"SYMBOL=%{x}<br>VOLUME(shares)=%{y}<extra></extra>\",\"legendgroup\":\"WIPRO\",\"marker\":{\"color\":\"#FB00D1\",\"symbol\":\"circle\"},\"mode\":\"markers\",\"name\":\"WIPRO\",\"orientation\":\"v\",\"showlegend\":true,\"x\":[\"WIPRO\"],\"xaxis\":\"x\",\"y\":[5602288],\"yaxis\":\"y\",\"type\":\"scatter\"},{\"hovertemplate\":\"SYMBOL=%{x}<br>VOLUME(shares)=%{y}<extra></extra>\",\"legendgroup\":\"INFY\",\"marker\":{\"color\":\"#FC0080\",\"symbol\":\"circle\"},\"mode\":\"markers\",\"name\":\"INFY\",\"orientation\":\"v\",\"showlegend\":true,\"x\":[\"INFY\"],\"xaxis\":\"x\",\"y\":[6257693],\"yaxis\":\"y\",\"type\":\"scatter\"},{\"hovertemplate\":\"SYMBOL=%{x}<br>VOLUME(shares)=%{y}<extra></extra>\",\"legendgroup\":\"BHARTIARTL\",\"marker\":{\"color\":\"#B2828D\",\"symbol\":\"circle\"},\"mode\":\"markers\",\"name\":\"BHARTIARTL\",\"orientation\":\"v\",\"showlegend\":true,\"x\":[\"BHARTIARTL\"],\"xaxis\":\"x\",\"y\":[6343030],\"yaxis\":\"y\",\"type\":\"scatter\"},{\"hovertemplate\":\"SYMBOL=%{x}<br>VOLUME(shares)=%{y}<extra></extra>\",\"legendgroup\":\"JSWSTEEL\",\"marker\":{\"color\":\"#6C7C32\",\"symbol\":\"circle\"},\"mode\":\"markers\",\"name\":\"JSWSTEEL\",\"orientation\":\"v\",\"showlegend\":true,\"x\":[\"JSWSTEEL\"],\"xaxis\":\"x\",\"y\":[6722613],\"yaxis\":\"y\",\"type\":\"scatter\"},{\"hovertemplate\":\"SYMBOL=%{x}<br>VOLUME(shares)=%{y}<extra></extra>\",\"legendgroup\":\"HINDALCO\",\"marker\":{\"color\":\"#778AAE\",\"symbol\":\"circle\"},\"mode\":\"markers\",\"name\":\"HINDALCO\",\"orientation\":\"v\",\"showlegend\":true,\"x\":[\"HINDALCO\"],\"xaxis\":\"x\",\"y\":[7396320],\"yaxis\":\"y\",\"type\":\"scatter\"},{\"hovertemplate\":\"SYMBOL=%{x}<br>VOLUME(shares)=%{y}<extra></extra>\",\"legendgroup\":\"AXISBANK\",\"marker\":{\"color\":\"#862A16\",\"symbol\":\"circle\"},\"mode\":\"markers\",\"name\":\"AXISBANK\",\"orientation\":\"v\",\"showlegend\":true,\"x\":[\"AXISBANK\"],\"xaxis\":\"x\",\"y\":[7640132],\"yaxis\":\"y\",\"type\":\"scatter\"},{\"hovertemplate\":\"SYMBOL=%{x}<br>VOLUME(shares)=%{y}<extra></extra>\",\"legendgroup\":\"POWERGRID\",\"marker\":{\"color\":\"#A777F1\",\"symbol\":\"circle\"},\"mode\":\"markers\",\"name\":\"POWERGRID\",\"orientation\":\"v\",\"showlegend\":true,\"x\":[\"POWERGRID\"],\"xaxis\":\"x\",\"y\":[8261580],\"yaxis\":\"y\",\"type\":\"scatter\"},{\"hovertemplate\":\"SYMBOL=%{x}<br>VOLUME(shares)=%{y}<extra></extra>\",\"legendgroup\":\"COALINDIA\",\"marker\":{\"color\":\"#620042\",\"symbol\":\"circle\"},\"mode\":\"markers\",\"name\":\"COALINDIA\",\"orientation\":\"v\",\"showlegend\":true,\"x\":[\"COALINDIA\"],\"xaxis\":\"x\",\"y\":[14216953],\"yaxis\":\"y\",\"type\":\"scatter\"},{\"hovertemplate\":\"SYMBOL=%{x}<br>VOLUME(shares)=%{y}<extra></extra>\",\"legendgroup\":\"HDFCBANK\",\"marker\":{\"color\":\"#1616A7\",\"symbol\":\"circle\"},\"mode\":\"markers\",\"name\":\"HDFCBANK\",\"orientation\":\"v\",\"showlegend\":true,\"x\":[\"HDFCBANK\"],\"xaxis\":\"x\",\"y\":[14446260],\"yaxis\":\"y\",\"type\":\"scatter\"},{\"hovertemplate\":\"SYMBOL=%{x}<br>VOLUME(shares)=%{y}<extra></extra>\",\"legendgroup\":\"SBIN\",\"marker\":{\"color\":\"#DA60CA\",\"symbol\":\"circle\"},\"mode\":\"markers\",\"name\":\"SBIN\",\"orientation\":\"v\",\"showlegend\":true,\"x\":[\"SBIN\"],\"xaxis\":\"x\",\"y\":[15440525],\"yaxis\":\"y\",\"type\":\"scatter\"},{\"hovertemplate\":\"SYMBOL=%{x}<br>VOLUME(shares)=%{y}<extra></extra>\",\"legendgroup\":\"ICICIBANK\",\"marker\":{\"color\":\"#6C4516\",\"symbol\":\"circle\"},\"mode\":\"markers\",\"name\":\"ICICIBANK\",\"orientation\":\"v\",\"showlegend\":true,\"x\":[\"ICICIBANK\"],\"xaxis\":\"x\",\"y\":[16119956],\"yaxis\":\"y\",\"type\":\"scatter\"},{\"hovertemplate\":\"SYMBOL=%{x}<br>VOLUME(shares)=%{y}<extra></extra>\",\"legendgroup\":\"TATAMOTORS\",\"marker\":{\"color\":\"#0D2A63\",\"symbol\":\"circle\"},\"mode\":\"markers\",\"name\":\"TATAMOTORS\",\"orientation\":\"v\",\"showlegend\":true,\"x\":[\"TATAMOTORS\"],\"xaxis\":\"x\",\"y\":[16817981],\"yaxis\":\"y\",\"type\":\"scatter\"},{\"hovertemplate\":\"SYMBOL=%{x}<br>VOLUME(shares)=%{y}<extra></extra>\",\"legendgroup\":\"NTPC\",\"marker\":{\"color\":\"#AF0038\",\"symbol\":\"circle\"},\"mode\":\"markers\",\"name\":\"NTPC\",\"orientation\":\"v\",\"showlegend\":true,\"x\":[\"NTPC\"],\"xaxis\":\"x\",\"y\":[19454061],\"yaxis\":\"y\",\"type\":\"scatter\"},{\"hovertemplate\":\"SYMBOL=%{x}<br>VOLUME(shares)=%{y}<extra></extra>\",\"legendgroup\":\"ITC\",\"marker\":{\"color\":\"#2E91E5\",\"symbol\":\"circle\"},\"mode\":\"markers\",\"name\":\"ITC\",\"orientation\":\"v\",\"showlegend\":true,\"x\":[\"ITC\"],\"xaxis\":\"x\",\"y\":[21414383],\"yaxis\":\"y\",\"type\":\"scatter\"},{\"hovertemplate\":\"SYMBOL=%{x}<br>VOLUME(shares)=%{y}<extra></extra>\",\"legendgroup\":\"ONGC\",\"marker\":{\"color\":\"#E15F99\",\"symbol\":\"circle\"},\"mode\":\"markers\",\"name\":\"ONGC\",\"orientation\":\"v\",\"showlegend\":true,\"x\":[\"ONGC\"],\"xaxis\":\"x\",\"y\":[23458303],\"yaxis\":\"y\",\"type\":\"scatter\"}],                        {\"template\":{\"data\":{\"histogram2dcontour\":[{\"type\":\"histogram2dcontour\",\"colorbar\":{\"outlinewidth\":0,\"ticks\":\"\"},\"colorscale\":[[0.0,\"#0d0887\"],[0.1111111111111111,\"#46039f\"],[0.2222222222222222,\"#7201a8\"],[0.3333333333333333,\"#9c179e\"],[0.4444444444444444,\"#bd3786\"],[0.5555555555555556,\"#d8576b\"],[0.6666666666666666,\"#ed7953\"],[0.7777777777777778,\"#fb9f3a\"],[0.8888888888888888,\"#fdca26\"],[1.0,\"#f0f921\"]]}],\"choropleth\":[{\"type\":\"choropleth\",\"colorbar\":{\"outlinewidth\":0,\"ticks\":\"\"}}],\"histogram2d\":[{\"type\":\"histogram2d\",\"colorbar\":{\"outlinewidth\":0,\"ticks\":\"\"},\"colorscale\":[[0.0,\"#0d0887\"],[0.1111111111111111,\"#46039f\"],[0.2222222222222222,\"#7201a8\"],[0.3333333333333333,\"#9c179e\"],[0.4444444444444444,\"#bd3786\"],[0.5555555555555556,\"#d8576b\"],[0.6666666666666666,\"#ed7953\"],[0.7777777777777778,\"#fb9f3a\"],[0.8888888888888888,\"#fdca26\"],[1.0,\"#f0f921\"]]}],\"heatmap\":[{\"type\":\"heatmap\",\"colorbar\":{\"outlinewidth\":0,\"ticks\":\"\"},\"colorscale\":[[0.0,\"#0d0887\"],[0.1111111111111111,\"#46039f\"],[0.2222222222222222,\"#7201a8\"],[0.3333333333333333,\"#9c179e\"],[0.4444444444444444,\"#bd3786\"],[0.5555555555555556,\"#d8576b\"],[0.6666666666666666,\"#ed7953\"],[0.7777777777777778,\"#fb9f3a\"],[0.8888888888888888,\"#fdca26\"],[1.0,\"#f0f921\"]]}],\"heatmapgl\":[{\"type\":\"heatmapgl\",\"colorbar\":{\"outlinewidth\":0,\"ticks\":\"\"},\"colorscale\":[[0.0,\"#0d0887\"],[0.1111111111111111,\"#46039f\"],[0.2222222222222222,\"#7201a8\"],[0.3333333333333333,\"#9c179e\"],[0.4444444444444444,\"#bd3786\"],[0.5555555555555556,\"#d8576b\"],[0.6666666666666666,\"#ed7953\"],[0.7777777777777778,\"#fb9f3a\"],[0.8888888888888888,\"#fdca26\"],[1.0,\"#f0f921\"]]}],\"contourcarpet\":[{\"type\":\"contourcarpet\",\"colorbar\":{\"outlinewidth\":0,\"ticks\":\"\"}}],\"contour\":[{\"type\":\"contour\",\"colorbar\":{\"outlinewidth\":0,\"ticks\":\"\"},\"colorscale\":[[0.0,\"#0d0887\"],[0.1111111111111111,\"#46039f\"],[0.2222222222222222,\"#7201a8\"],[0.3333333333333333,\"#9c179e\"],[0.4444444444444444,\"#bd3786\"],[0.5555555555555556,\"#d8576b\"],[0.6666666666666666,\"#ed7953\"],[0.7777777777777778,\"#fb9f3a\"],[0.8888888888888888,\"#fdca26\"],[1.0,\"#f0f921\"]]}],\"surface\":[{\"type\":\"surface\",\"colorbar\":{\"outlinewidth\":0,\"ticks\":\"\"},\"colorscale\":[[0.0,\"#0d0887\"],[0.1111111111111111,\"#46039f\"],[0.2222222222222222,\"#7201a8\"],[0.3333333333333333,\"#9c179e\"],[0.4444444444444444,\"#bd3786\"],[0.5555555555555556,\"#d8576b\"],[0.6666666666666666,\"#ed7953\"],[0.7777777777777778,\"#fb9f3a\"],[0.8888888888888888,\"#fdca26\"],[1.0,\"#f0f921\"]]}],\"mesh3d\":[{\"type\":\"mesh3d\",\"colorbar\":{\"outlinewidth\":0,\"ticks\":\"\"}}],\"scatter\":[{\"fillpattern\":{\"fillmode\":\"overlay\",\"size\":10,\"solidity\":0.2},\"type\":\"scatter\"}],\"parcoords\":[{\"type\":\"parcoords\",\"line\":{\"colorbar\":{\"outlinewidth\":0,\"ticks\":\"\"}}}],\"scatterpolargl\":[{\"type\":\"scatterpolargl\",\"marker\":{\"colorbar\":{\"outlinewidth\":0,\"ticks\":\"\"}}}],\"bar\":[{\"error_x\":{\"color\":\"#2a3f5f\"},\"error_y\":{\"color\":\"#2a3f5f\"},\"marker\":{\"line\":{\"color\":\"#E5ECF6\",\"width\":0.5},\"pattern\":{\"fillmode\":\"overlay\",\"size\":10,\"solidity\":0.2}},\"type\":\"bar\"}],\"scattergeo\":[{\"type\":\"scattergeo\",\"marker\":{\"colorbar\":{\"outlinewidth\":0,\"ticks\":\"\"}}}],\"scatterpolar\":[{\"type\":\"scatterpolar\",\"marker\":{\"colorbar\":{\"outlinewidth\":0,\"ticks\":\"\"}}}],\"histogram\":[{\"marker\":{\"pattern\":{\"fillmode\":\"overlay\",\"size\":10,\"solidity\":0.2}},\"type\":\"histogram\"}],\"scattergl\":[{\"type\":\"scattergl\",\"marker\":{\"colorbar\":{\"outlinewidth\":0,\"ticks\":\"\"}}}],\"scatter3d\":[{\"type\":\"scatter3d\",\"line\":{\"colorbar\":{\"outlinewidth\":0,\"ticks\":\"\"}},\"marker\":{\"colorbar\":{\"outlinewidth\":0,\"ticks\":\"\"}}}],\"scattermapbox\":[{\"type\":\"scattermapbox\",\"marker\":{\"colorbar\":{\"outlinewidth\":0,\"ticks\":\"\"}}}],\"scatterternary\":[{\"type\":\"scatterternary\",\"marker\":{\"colorbar\":{\"outlinewidth\":0,\"ticks\":\"\"}}}],\"scattercarpet\":[{\"type\":\"scattercarpet\",\"marker\":{\"colorbar\":{\"outlinewidth\":0,\"ticks\":\"\"}}}],\"carpet\":[{\"aaxis\":{\"endlinecolor\":\"#2a3f5f\",\"gridcolor\":\"white\",\"linecolor\":\"white\",\"minorgridcolor\":\"white\",\"startlinecolor\":\"#2a3f5f\"},\"baxis\":{\"endlinecolor\":\"#2a3f5f\",\"gridcolor\":\"white\",\"linecolor\":\"white\",\"minorgridcolor\":\"white\",\"startlinecolor\":\"#2a3f5f\"},\"type\":\"carpet\"}],\"table\":[{\"cells\":{\"fill\":{\"color\":\"#EBF0F8\"},\"line\":{\"color\":\"white\"}},\"header\":{\"fill\":{\"color\":\"#C8D4E3\"},\"line\":{\"color\":\"white\"}},\"type\":\"table\"}],\"barpolar\":[{\"marker\":{\"line\":{\"color\":\"#E5ECF6\",\"width\":0.5},\"pattern\":{\"fillmode\":\"overlay\",\"size\":10,\"solidity\":0.2}},\"type\":\"barpolar\"}],\"pie\":[{\"automargin\":true,\"type\":\"pie\"}]},\"layout\":{\"autotypenumbers\":\"strict\",\"colorway\":[\"#636efa\",\"#EF553B\",\"#00cc96\",\"#ab63fa\",\"#FFA15A\",\"#19d3f3\",\"#FF6692\",\"#B6E880\",\"#FF97FF\",\"#FECB52\"],\"font\":{\"color\":\"#2a3f5f\"},\"hovermode\":\"closest\",\"hoverlabel\":{\"align\":\"left\"},\"paper_bgcolor\":\"white\",\"plot_bgcolor\":\"#E5ECF6\",\"polar\":{\"bgcolor\":\"#E5ECF6\",\"angularaxis\":{\"gridcolor\":\"white\",\"linecolor\":\"white\",\"ticks\":\"\"},\"radialaxis\":{\"gridcolor\":\"white\",\"linecolor\":\"white\",\"ticks\":\"\"}},\"ternary\":{\"bgcolor\":\"#E5ECF6\",\"aaxis\":{\"gridcolor\":\"white\",\"linecolor\":\"white\",\"ticks\":\"\"},\"baxis\":{\"gridcolor\":\"white\",\"linecolor\":\"white\",\"ticks\":\"\"},\"caxis\":{\"gridcolor\":\"white\",\"linecolor\":\"white\",\"ticks\":\"\"}},\"coloraxis\":{\"colorbar\":{\"outlinewidth\":0,\"ticks\":\"\"}},\"colorscale\":{\"sequential\":[[0.0,\"#0d0887\"],[0.1111111111111111,\"#46039f\"],[0.2222222222222222,\"#7201a8\"],[0.3333333333333333,\"#9c179e\"],[0.4444444444444444,\"#bd3786\"],[0.5555555555555556,\"#d8576b\"],[0.6666666666666666,\"#ed7953\"],[0.7777777777777778,\"#fb9f3a\"],[0.8888888888888888,\"#fdca26\"],[1.0,\"#f0f921\"]],\"sequentialminus\":[[0.0,\"#0d0887\"],[0.1111111111111111,\"#46039f\"],[0.2222222222222222,\"#7201a8\"],[0.3333333333333333,\"#9c179e\"],[0.4444444444444444,\"#bd3786\"],[0.5555555555555556,\"#d8576b\"],[0.6666666666666666,\"#ed7953\"],[0.7777777777777778,\"#fb9f3a\"],[0.8888888888888888,\"#fdca26\"],[1.0,\"#f0f921\"]],\"diverging\":[[0,\"#8e0152\"],[0.1,\"#c51b7d\"],[0.2,\"#de77ae\"],[0.3,\"#f1b6da\"],[0.4,\"#fde0ef\"],[0.5,\"#f7f7f7\"],[0.6,\"#e6f5d0\"],[0.7,\"#b8e186\"],[0.8,\"#7fbc41\"],[0.9,\"#4d9221\"],[1,\"#276419\"]]},\"xaxis\":{\"gridcolor\":\"white\",\"linecolor\":\"white\",\"ticks\":\"\",\"title\":{\"standoff\":15},\"zerolinecolor\":\"white\",\"automargin\":true,\"zerolinewidth\":2},\"yaxis\":{\"gridcolor\":\"white\",\"linecolor\":\"white\",\"ticks\":\"\",\"title\":{\"standoff\":15},\"zerolinecolor\":\"white\",\"automargin\":true,\"zerolinewidth\":2},\"scene\":{\"xaxis\":{\"backgroundcolor\":\"#E5ECF6\",\"gridcolor\":\"white\",\"linecolor\":\"white\",\"showbackground\":true,\"ticks\":\"\",\"zerolinecolor\":\"white\",\"gridwidth\":2},\"yaxis\":{\"backgroundcolor\":\"#E5ECF6\",\"gridcolor\":\"white\",\"linecolor\":\"white\",\"showbackground\":true,\"ticks\":\"\",\"zerolinecolor\":\"white\",\"gridwidth\":2},\"zaxis\":{\"backgroundcolor\":\"#E5ECF6\",\"gridcolor\":\"white\",\"linecolor\":\"white\",\"showbackground\":true,\"ticks\":\"\",\"zerolinecolor\":\"white\",\"gridwidth\":2}},\"shapedefaults\":{\"line\":{\"color\":\"#2a3f5f\"}},\"annotationdefaults\":{\"arrowcolor\":\"#2a3f5f\",\"arrowhead\":0,\"arrowwidth\":1},\"geo\":{\"bgcolor\":\"white\",\"landcolor\":\"#E5ECF6\",\"subunitcolor\":\"white\",\"showland\":true,\"showlakes\":true,\"lakecolor\":\"white\"},\"title\":{\"x\":0.05},\"mapbox\":{\"style\":\"light\"}}},\"xaxis\":{\"anchor\":\"y\",\"domain\":[0.0,1.0],\"title\":{\"text\":\"SYMBOL\"},\"categoryorder\":\"array\",\"categoryarray\":[\"NESTLEIND\",\"SHREECEM\",\"BAJAJ-AUTO\",\"BRITANNIA\",\"BAJAJFINSV\",\"DIVISLAB\",\"DRREDDY\",\"EICHERMOT\",\"ULTRACEMCO\",\"HEROMOTOCO\",\"SBILIFE\",\"MARUTI\",\"BAJFINANCE\",\"APOLLOHOSP\",\"GRASIM\",\"TATACONSUM\",\"HINDUNILVR\",\"ASIANPAINT\",\"TITAN\",\"TECHM\",\"TCS\",\"LT\",\"SUNPHARMA\",\"CIPLA\",\"KOTAKBANK\",\"HCLTECH\",\"INDUSINDBK\",\"HDFCLIFE\",\"ADANIPORTS\",\"BPCL\",\"M&M\",\"HDFC\",\"TATASTEEL\",\"RELIANCE\",\"UPL\",\"WIPRO\",\"INFY\",\"BHARTIARTL\",\"JSWSTEEL\",\"HINDALCO\",\"AXISBANK\",\"POWERGRID\",\"COALINDIA\",\"HDFCBANK\",\"SBIN\",\"ICICIBANK\",\"TATAMOTORS\",\"NTPC\",\"ITC\",\"ONGC\"]},\"yaxis\":{\"anchor\":\"x\",\"domain\":[0.0,1.0],\"title\":{\"text\":\"VOLUME(shares)\"}},\"legend\":{\"title\":{\"text\":\"SYMBOL\"},\"tracegroupgap\":0},\"title\":{\"text\":\"Shares-Volume \"}},                        {\"responsive\": true}                    ).then(function(){\n",
       "                            \n",
       "var gd = document.getElementById('76bfe926-6058-4fe0-8311-a6bdd0a40579');\n",
       "var x = new MutationObserver(function (mutations, observer) {{\n",
       "        var display = window.getComputedStyle(gd).display;\n",
       "        if (!display || display === 'none') {{\n",
       "            console.log([gd, 'removed!']);\n",
       "            Plotly.purge(gd);\n",
       "            observer.disconnect();\n",
       "        }}\n",
       "}});\n",
       "\n",
       "// Listen for the removal of the full notebook cells\n",
       "var notebookContainer = gd.closest('#notebook-container');\n",
       "if (notebookContainer) {{\n",
       "    x.observe(notebookContainer, {childList: true});\n",
       "}}\n",
       "\n",
       "// Listen for the clearing of the current output cell\n",
       "var outputEl = gd.closest('.output');\n",
       "if (outputEl) {{\n",
       "    x.observe(outputEl, {childList: true});\n",
       "}}\n",
       "\n",
       "                        })                };                });            </script>        </div>"
      ]
     },
     "metadata": {},
     "output_type": "display_data"
    }
   ],
   "source": [
    "px.scatter(data_frame=df_nifity.sort_values(by='VOLUME(shares)'),\n",
    "           x='SYMBOL',\n",
    "           y='VOLUME(shares)',\n",
    "           title=\"Shares-Volume \", color='SYMBOL',\n",
    "          color_discrete_sequence=px.colors.qualitative.Dark24) "
   ]
  },
  {
   "cell_type": "markdown",
   "id": "4df0f6d4",
   "metadata": {},
   "source": [
    "### Last Traded Price"
   ]
  },
  {
   "cell_type": "code",
   "execution_count": 11,
   "id": "562aca8a",
   "metadata": {},
   "outputs": [
    {
     "data": {
      "application/vnd.plotly.v1+json": {
       "config": {
        "plotlyServerURL": "https://plot.ly"
       },
       "data": [
        {
         "alignmentgroup": "True",
         "bingroup": "x",
         "hovertemplate": "SYMBOL=NTPC<br>LTP_F=%{x}<br>count=%{y}<extra></extra>",
         "legendgroup": "NTPC",
         "marker": {
          "color": "#2E91E5",
          "pattern": {
           "shape": ""
          }
         },
         "name": "NTPC",
         "offsetgroup": "NTPC",
         "orientation": "v",
         "showlegend": true,
         "type": "histogram",
         "x": [
          153.9
         ],
         "xaxis": "x",
         "yaxis": "y"
        },
        {
         "alignmentgroup": "True",
         "bingroup": "x",
         "hovertemplate": "SYMBOL=ONGC<br>LTP_F=%{x}<br>count=%{y}<extra></extra>",
         "legendgroup": "ONGC",
         "marker": {
          "color": "#E15F99",
          "pattern": {
           "shape": ""
          }
         },
         "name": "ONGC",
         "offsetgroup": "ONGC",
         "orientation": "v",
         "showlegend": true,
         "type": "histogram",
         "x": [
          173.95
         ],
         "xaxis": "x",
         "yaxis": "y"
        },
        {
         "alignmentgroup": "True",
         "bingroup": "x",
         "hovertemplate": "SYMBOL=COALINDIA<br>LTP_F=%{x}<br>count=%{y}<extra></extra>",
         "legendgroup": "COALINDIA",
         "marker": {
          "color": "#1CA71C",
          "pattern": {
           "shape": ""
          }
         },
         "name": "COALINDIA",
         "offsetgroup": "COALINDIA",
         "orientation": "v",
         "showlegend": true,
         "type": "histogram",
         "x": [
          186.35
         ],
         "xaxis": "x",
         "yaxis": "y"
        },
        {
         "alignmentgroup": "True",
         "bingroup": "x",
         "hovertemplate": "SYMBOL=POWERGRID<br>LTP_F=%{x}<br>count=%{y}<extra></extra>",
         "legendgroup": "POWERGRID",
         "marker": {
          "color": "#FB0D0D",
          "pattern": {
           "shape": ""
          }
         },
         "name": "POWERGRID",
         "offsetgroup": "POWERGRID",
         "orientation": "v",
         "showlegend": true,
         "type": "histogram",
         "x": [
          229.85
         ],
         "xaxis": "x",
         "yaxis": "y"
        },
        {
         "alignmentgroup": "True",
         "bingroup": "x",
         "hovertemplate": "SYMBOL=ITC<br>LTP_F=%{x}<br>count=%{y}<extra></extra>",
         "legendgroup": "ITC",
         "marker": {
          "color": "#DA16FF",
          "pattern": {
           "shape": ""
          }
         },
         "name": "ITC",
         "offsetgroup": "ITC",
         "orientation": "v",
         "showlegend": true,
         "type": "histogram",
         "x": [
          269.1
         ],
         "xaxis": "x",
         "yaxis": "y"
        },
        {
         "alignmentgroup": "True",
         "bingroup": "x",
         "hovertemplate": "SYMBOL=BPCL<br>LTP_F=%{x}<br>count=%{y}<extra></extra>",
         "legendgroup": "BPCL",
         "marker": {
          "color": "#222A2A",
          "pattern": {
           "shape": ""
          }
         },
         "name": "BPCL",
         "offsetgroup": "BPCL",
         "orientation": "v",
         "showlegend": true,
         "type": "histogram",
         "x": [
          378.5
         ],
         "xaxis": "x",
         "yaxis": "y"
        },
        {
         "alignmentgroup": "True",
         "bingroup": "x",
         "hovertemplate": "SYMBOL=TATAMOTORS<br>LTP_F=%{x}<br>count=%{y}<extra></extra>",
         "legendgroup": "TATAMOTORS",
         "marker": {
          "color": "#B68100",
          "pattern": {
           "shape": ""
          }
         },
         "name": "TATAMOTORS",
         "offsetgroup": "TATAMOTORS",
         "orientation": "v",
         "showlegend": true,
         "type": "histogram",
         "x": [
          431.5
         ],
         "xaxis": "x",
         "yaxis": "y"
        },
        {
         "alignmentgroup": "True",
         "bingroup": "x",
         "hovertemplate": "SYMBOL=SBIN<br>LTP_F=%{x}<br>count=%{y}<extra></extra>",
         "legendgroup": "SBIN",
         "marker": {
          "color": "#750D86",
          "pattern": {
           "shape": ""
          }
         },
         "name": "SBIN",
         "offsetgroup": "SBIN",
         "orientation": "v",
         "showlegend": true,
         "type": "histogram",
         "x": [
          517.7
         ],
         "xaxis": "x",
         "yaxis": "y"
        },
        {
         "alignmentgroup": "True",
         "bingroup": "x",
         "hovertemplate": "SYMBOL=HINDALCO<br>LTP_F=%{x}<br>count=%{y}<extra></extra>",
         "legendgroup": "HINDALCO",
         "marker": {
          "color": "#EB663B",
          "pattern": {
           "shape": ""
          }
         },
         "name": "HINDALCO",
         "offsetgroup": "HINDALCO",
         "orientation": "v",
         "showlegend": true,
         "type": "histogram",
         "x": [
          545.75
         ],
         "xaxis": "x",
         "yaxis": "y"
        },
        {
         "alignmentgroup": "True",
         "bingroup": "x",
         "hovertemplate": "SYMBOL=WIPRO<br>LTP_F=%{x}<br>count=%{y}<extra></extra>",
         "legendgroup": "WIPRO",
         "marker": {
          "color": "#511CFB",
          "pattern": {
           "shape": ""
          }
         },
         "name": "WIPRO",
         "offsetgroup": "WIPRO",
         "orientation": "v",
         "showlegend": true,
         "type": "histogram",
         "x": [
          559.8
         ],
         "xaxis": "x",
         "yaxis": "y"
        },
        {
         "alignmentgroup": "True",
         "bingroup": "x",
         "hovertemplate": "SYMBOL=HDFCLIFE<br>LTP_F=%{x}<br>count=%{y}<extra></extra>",
         "legendgroup": "HDFCLIFE",
         "marker": {
          "color": "#00A08B",
          "pattern": {
           "shape": ""
          }
         },
         "name": "HDFCLIFE",
         "offsetgroup": "HDFCLIFE",
         "orientation": "v",
         "showlegend": true,
         "type": "histogram",
         "x": [
          565.05
         ],
         "xaxis": "x",
         "yaxis": "y"
        },
        {
         "alignmentgroup": "True",
         "bingroup": "x",
         "hovertemplate": "SYMBOL=BHARTIARTL<br>LTP_F=%{x}<br>count=%{y}<extra></extra>",
         "legendgroup": "BHARTIARTL",
         "marker": {
          "color": "#FB00D1",
          "pattern": {
           "shape": ""
          }
         },
         "name": "BHARTIARTL",
         "offsetgroup": "BHARTIARTL",
         "orientation": "v",
         "showlegend": true,
         "type": "histogram",
         "x": [
          739.9
         ],
         "xaxis": "x",
         "yaxis": "y"
        },
        {
         "alignmentgroup": "True",
         "bingroup": "x",
         "hovertemplate": "SYMBOL=ICICIBANK<br>LTP_F=%{x}<br>count=%{y}<extra></extra>",
         "legendgroup": "ICICIBANK",
         "marker": {
          "color": "#FC0080",
          "pattern": {
           "shape": ""
          }
         },
         "name": "ICICIBANK",
         "offsetgroup": "ICICIBANK",
         "orientation": "v",
         "showlegend": true,
         "type": "histogram",
         "x": [
          761.55
         ],
         "xaxis": "x",
         "yaxis": "y"
        },
        {
         "alignmentgroup": "True",
         "bingroup": "x",
         "hovertemplate": "SYMBOL=JSWSTEEL<br>LTP_F=%{x}<br>count=%{y}<extra></extra>",
         "legendgroup": "JSWSTEEL",
         "marker": {
          "color": "#B2828D",
          "pattern": {
           "shape": ""
          }
         },
         "name": "JSWSTEEL",
         "offsetgroup": "JSWSTEEL",
         "orientation": "v",
         "showlegend": true,
         "type": "histogram",
         "x": [
          764.45
         ],
         "xaxis": "x",
         "yaxis": "y"
        },
        {
         "alignmentgroup": "True",
         "bingroup": "x",
         "hovertemplate": "SYMBOL=AXISBANK<br>LTP_F=%{x}<br>count=%{y}<extra></extra>",
         "legendgroup": "AXISBANK",
         "marker": {
          "color": "#6C7C32",
          "pattern": {
           "shape": ""
          }
         },
         "name": "AXISBANK",
         "offsetgroup": "AXISBANK",
         "orientation": "v",
         "showlegend": true,
         "type": "histogram",
         "x": [
          792
         ],
         "xaxis": "x",
         "yaxis": "y"
        },
        {
         "alignmentgroup": "True",
         "bingroup": "x",
         "hovertemplate": "SYMBOL=TATACONSUM<br>LTP_F=%{x}<br>count=%{y}<extra></extra>",
         "legendgroup": "TATACONSUM",
         "marker": {
          "color": "#778AAE",
          "pattern": {
           "shape": ""
          }
         },
         "name": "TATACONSUM",
         "offsetgroup": "TATACONSUM",
         "orientation": "v",
         "showlegend": true,
         "type": "histogram",
         "x": [
          816.2
         ],
         "xaxis": "x",
         "yaxis": "y"
        },
        {
         "alignmentgroup": "True",
         "bingroup": "x",
         "hovertemplate": "SYMBOL=UPL<br>LTP_F=%{x}<br>count=%{y}<extra></extra>",
         "legendgroup": "UPL",
         "marker": {
          "color": "#862A16",
          "pattern": {
           "shape": ""
          }
         },
         "name": "UPL",
         "offsetgroup": "UPL",
         "orientation": "v",
         "showlegend": true,
         "type": "histogram",
         "x": [
          819.5
         ],
         "xaxis": "x",
         "yaxis": "y"
        },
        {
         "alignmentgroup": "True",
         "bingroup": "x",
         "hovertemplate": "SYMBOL=ADANIPORTS<br>LTP_F=%{x}<br>count=%{y}<extra></extra>",
         "legendgroup": "ADANIPORTS",
         "marker": {
          "color": "#A777F1",
          "pattern": {
           "shape": ""
          }
         },
         "name": "ADANIPORTS",
         "offsetgroup": "ADANIPORTS",
         "orientation": "v",
         "showlegend": true,
         "type": "histogram",
         "x": [
          838.15
         ],
         "xaxis": "x",
         "yaxis": "y"
        },
        {
         "alignmentgroup": "True",
         "bingroup": "x",
         "hovertemplate": "SYMBOL=M&M<br>LTP_F=%{x}<br>count=%{y}<extra></extra>",
         "legendgroup": "M&M",
         "marker": {
          "color": "#620042",
          "pattern": {
           "shape": ""
          }
         },
         "name": "M&M",
         "offsetgroup": "M&M",
         "orientation": "v",
         "showlegend": true,
         "type": "histogram",
         "x": [
          865
         ],
         "xaxis": "x",
         "yaxis": "y"
        },
        {
         "alignmentgroup": "True",
         "bingroup": "x",
         "hovertemplate": "SYMBOL=SUNPHARMA<br>LTP_F=%{x}<br>count=%{y}<extra></extra>",
         "legendgroup": "SUNPHARMA",
         "marker": {
          "color": "#1616A7",
          "pattern": {
           "shape": ""
          }
         },
         "name": "SUNPHARMA",
         "offsetgroup": "SUNPHARMA",
         "orientation": "v",
         "showlegend": true,
         "type": "histogram",
         "x": [
          935.25
         ],
         "xaxis": "x",
         "yaxis": "y"
        },
        {
         "alignmentgroup": "True",
         "bingroup": "x",
         "hovertemplate": "SYMBOL=INDUSINDBK<br>LTP_F=%{x}<br>count=%{y}<extra></extra>",
         "legendgroup": "INDUSINDBK",
         "marker": {
          "color": "#DA60CA",
          "pattern": {
           "shape": ""
          }
         },
         "name": "INDUSINDBK",
         "offsetgroup": "INDUSINDBK",
         "orientation": "v",
         "showlegend": true,
         "type": "histogram",
         "x": [
          983.9
         ],
         "xaxis": "x",
         "yaxis": "y"
        },
        {
         "alignmentgroup": "True",
         "bingroup": "x",
         "hovertemplate": "SYMBOL=CIPLA<br>LTP_F=%{x}<br>count=%{y}<extra></extra>",
         "legendgroup": "CIPLA",
         "marker": {
          "color": "#6C4516",
          "pattern": {
           "shape": ""
          }
         },
         "name": "CIPLA",
         "offsetgroup": "CIPLA",
         "orientation": "v",
         "showlegend": true,
         "type": "histogram",
         "x": [
          1017.35
         ],
         "xaxis": "x",
         "yaxis": "y"
        },
        {
         "alignmentgroup": "True",
         "bingroup": "x",
         "hovertemplate": "SYMBOL=HCLTECH<br>LTP_F=%{x}<br>count=%{y}<extra></extra>",
         "legendgroup": "HCLTECH",
         "marker": {
          "color": "#0D2A63",
          "pattern": {
           "shape": ""
          }
         },
         "name": "HCLTECH",
         "offsetgroup": "HCLTECH",
         "orientation": "v",
         "showlegend": true,
         "type": "histogram",
         "x": [
          1127
         ],
         "xaxis": "x",
         "yaxis": "y"
        },
        {
         "alignmentgroup": "True",
         "bingroup": "x",
         "hovertemplate": "SYMBOL=SBILIFE<br>LTP_F=%{x}<br>count=%{y}<extra></extra>",
         "legendgroup": "SBILIFE",
         "marker": {
          "color": "#AF0038",
          "pattern": {
           "shape": ""
          }
         },
         "name": "SBILIFE",
         "offsetgroup": "SBILIFE",
         "orientation": "v",
         "showlegend": true,
         "type": "histogram",
         "x": [
          1146.1
         ],
         "xaxis": "x",
         "yaxis": "y"
        },
        {
         "alignmentgroup": "True",
         "bingroup": "x",
         "hovertemplate": "SYMBOL=TATASTEEL<br>LTP_F=%{x}<br>count=%{y}<extra></extra>",
         "legendgroup": "TATASTEEL",
         "marker": {
          "color": "#2E91E5",
          "pattern": {
           "shape": ""
          }
         },
         "name": "TATASTEEL",
         "offsetgroup": "TATASTEEL",
         "orientation": "v",
         "showlegend": true,
         "type": "histogram",
         "x": [
          1316.05
         ],
         "xaxis": "x",
         "yaxis": "y"
        },
        {
         "alignmentgroup": "True",
         "bingroup": "x",
         "hovertemplate": "SYMBOL=TECHM<br>LTP_F=%{x}<br>count=%{y}<extra></extra>",
         "legendgroup": "TECHM",
         "marker": {
          "color": "#E15F99",
          "pattern": {
           "shape": ""
          }
         },
         "name": "TECHM",
         "offsetgroup": "TECHM",
         "orientation": "v",
         "showlegend": true,
         "type": "histogram",
         "x": [
          1409.45
         ],
         "xaxis": "x",
         "yaxis": "y"
        },
        {
         "alignmentgroup": "True",
         "bingroup": "x",
         "hovertemplate": "SYMBOL=HDFCBANK<br>LTP_F=%{x}<br>count=%{y}<extra></extra>",
         "legendgroup": "HDFCBANK",
         "marker": {
          "color": "#1CA71C",
          "pattern": {
           "shape": ""
          }
         },
         "name": "HDFCBANK",
         "offsetgroup": "HDFCBANK",
         "orientation": "v",
         "showlegend": true,
         "type": "histogram",
         "x": [
          1464
         ],
         "xaxis": "x",
         "yaxis": "y"
        },
        {
         "alignmentgroup": "True",
         "bingroup": "x",
         "hovertemplate": "SYMBOL=INFY<br>LTP_F=%{x}<br>count=%{y}<extra></extra>",
         "legendgroup": "INFY",
         "marker": {
          "color": "#FB0D0D",
          "pattern": {
           "shape": ""
          }
         },
         "name": "INFY",
         "offsetgroup": "INFY",
         "orientation": "v",
         "showlegend": true,
         "type": "histogram",
         "x": [
          1751
         ],
         "xaxis": "x",
         "yaxis": "y"
        },
        {
         "alignmentgroup": "True",
         "bingroup": "x",
         "hovertemplate": "SYMBOL=LT<br>LTP_F=%{x}<br>count=%{y}<extra></extra>",
         "legendgroup": "LT",
         "marker": {
          "color": "#DA16FF",
          "pattern": {
           "shape": ""
          }
         },
         "name": "LT",
         "offsetgroup": "LT",
         "orientation": "v",
         "showlegend": true,
         "type": "histogram",
         "x": [
          1758.55
         ],
         "xaxis": "x",
         "yaxis": "y"
        },
        {
         "alignmentgroup": "True",
         "bingroup": "x",
         "hovertemplate": "SYMBOL=GRASIM<br>LTP_F=%{x}<br>count=%{y}<extra></extra>",
         "legendgroup": "GRASIM",
         "marker": {
          "color": "#222A2A",
          "pattern": {
           "shape": ""
          }
         },
         "name": "GRASIM",
         "offsetgroup": "GRASIM",
         "orientation": "v",
         "showlegend": true,
         "type": "histogram",
         "x": [
          1763.8
         ],
         "xaxis": "x",
         "yaxis": "y"
        },
        {
         "alignmentgroup": "True",
         "bingroup": "x",
         "hovertemplate": "SYMBOL=KOTAKBANK<br>LTP_F=%{x}<br>count=%{y}<extra></extra>",
         "legendgroup": "KOTAKBANK",
         "marker": {
          "color": "#B68100",
          "pattern": {
           "shape": ""
          }
         },
         "name": "KOTAKBANK",
         "offsetgroup": "KOTAKBANK",
         "orientation": "v",
         "showlegend": true,
         "type": "histogram",
         "x": [
          1780
         ],
         "xaxis": "x",
         "yaxis": "y"
        },
        {
         "alignmentgroup": "True",
         "bingroup": "x",
         "hovertemplate": "SYMBOL=HINDUNILVR<br>LTP_F=%{x}<br>count=%{y}<extra></extra>",
         "legendgroup": "HINDUNILVR",
         "marker": {
          "color": "#750D86",
          "pattern": {
           "shape": ""
          }
         },
         "name": "HINDUNILVR",
         "offsetgroup": "HINDUNILVR",
         "orientation": "v",
         "showlegend": true,
         "type": "histogram",
         "x": [
          2150.75
         ],
         "xaxis": "x",
         "yaxis": "y"
        },
        {
         "alignmentgroup": "True",
         "bingroup": "x",
         "hovertemplate": "SYMBOL=HEROMOTOCO<br>LTP_F=%{x}<br>count=%{y}<extra></extra>",
         "legendgroup": "HEROMOTOCO",
         "marker": {
          "color": "#EB663B",
          "pattern": {
           "shape": ""
          }
         },
         "name": "HEROMOTOCO",
         "offsetgroup": "HEROMOTOCO",
         "orientation": "v",
         "showlegend": true,
         "type": "histogram",
         "x": [
          2272.55
         ],
         "xaxis": "x",
         "yaxis": "y"
        },
        {
         "alignmentgroup": "True",
         "bingroup": "x",
         "hovertemplate": "SYMBOL=HDFC<br>LTP_F=%{x}<br>count=%{y}<extra></extra>",
         "legendgroup": "HDFC",
         "marker": {
          "color": "#511CFB",
          "pattern": {
           "shape": ""
          }
         },
         "name": "HDFC",
         "offsetgroup": "HDFC",
         "orientation": "v",
         "showlegend": true,
         "type": "histogram",
         "x": [
          2371.55
         ],
         "xaxis": "x",
         "yaxis": "y"
        },
        {
         "alignmentgroup": "True",
         "bingroup": "x",
         "hovertemplate": "SYMBOL=TITAN<br>LTP_F=%{x}<br>count=%{y}<extra></extra>",
         "legendgroup": "TITAN",
         "marker": {
          "color": "#00A08B",
          "pattern": {
           "shape": ""
          }
         },
         "name": "TITAN",
         "offsetgroup": "TITAN",
         "orientation": "v",
         "showlegend": true,
         "type": "histogram",
         "x": [
          2461.5
         ],
         "xaxis": "x",
         "yaxis": "y"
        },
        {
         "alignmentgroup": "True",
         "bingroup": "x",
         "hovertemplate": "SYMBOL=EICHERMOT<br>LTP_F=%{x}<br>count=%{y}<extra></extra>",
         "legendgroup": "EICHERMOT",
         "marker": {
          "color": "#FB00D1",
          "pattern": {
           "shape": ""
          }
         },
         "name": "EICHERMOT",
         "offsetgroup": "EICHERMOT",
         "orientation": "v",
         "showlegend": true,
         "type": "histogram",
         "x": [
          2484
         ],
         "xaxis": "x",
         "yaxis": "y"
        },
        {
         "alignmentgroup": "True",
         "bingroup": "x",
         "hovertemplate": "SYMBOL=RELIANCE<br>LTP_F=%{x}<br>count=%{y}<extra></extra>",
         "legendgroup": "RELIANCE",
         "marker": {
          "color": "#FC0080",
          "pattern": {
           "shape": ""
          }
         },
         "name": "RELIANCE",
         "offsetgroup": "RELIANCE",
         "orientation": "v",
         "showlegend": true,
         "type": "histogram",
         "x": [
          2551.9
         ],
         "xaxis": "x",
         "yaxis": "y"
        },
        {
         "alignmentgroup": "True",
         "bingroup": "x",
         "hovertemplate": "SYMBOL=ASIANPAINT<br>LTP_F=%{x}<br>count=%{y}<extra></extra>",
         "legendgroup": "ASIANPAINT",
         "marker": {
          "color": "#B2828D",
          "pattern": {
           "shape": ""
          }
         },
         "name": "ASIANPAINT",
         "offsetgroup": "ASIANPAINT",
         "orientation": "v",
         "showlegend": true,
         "type": "histogram",
         "x": [
          3084
         ],
         "xaxis": "x",
         "yaxis": "y"
        },
        {
         "alignmentgroup": "True",
         "bingroup": "x",
         "hovertemplate": "SYMBOL=BRITANNIA<br>LTP_F=%{x}<br>count=%{y}<extra></extra>",
         "legendgroup": "BRITANNIA",
         "marker": {
          "color": "#6C7C32",
          "pattern": {
           "shape": ""
          }
         },
         "name": "BRITANNIA",
         "offsetgroup": "BRITANNIA",
         "orientation": "v",
         "showlegend": true,
         "type": "histogram",
         "x": [
          3345.95
         ],
         "xaxis": "x",
         "yaxis": "y"
        },
        {
         "alignmentgroup": "True",
         "bingroup": "x",
         "hovertemplate": "SYMBOL=TCS<br>LTP_F=%{x}<br>count=%{y}<extra></extra>",
         "legendgroup": "TCS",
         "marker": {
          "color": "#778AAE",
          "pattern": {
           "shape": ""
          }
         },
         "name": "TCS",
         "offsetgroup": "TCS",
         "orientation": "v",
         "showlegend": true,
         "type": "histogram",
         "x": [
          3664.95
         ],
         "xaxis": "x",
         "yaxis": "y"
        },
        {
         "alignmentgroup": "True",
         "bingroup": "x",
         "hovertemplate": "SYMBOL=BAJAJ-AUTO<br>LTP_F=%{x}<br>count=%{y}<extra></extra>",
         "legendgroup": "BAJAJ-AUTO",
         "marker": {
          "color": "#862A16",
          "pattern": {
           "shape": ""
          }
         },
         "name": "BAJAJ-AUTO",
         "offsetgroup": "BAJAJ-AUTO",
         "orientation": "v",
         "showlegend": true,
         "type": "histogram",
         "x": [
          3694.65
         ],
         "xaxis": "x",
         "yaxis": "y"
        },
        {
         "alignmentgroup": "True",
         "bingroup": "x",
         "hovertemplate": "SYMBOL=DRREDDY<br>LTP_F=%{x}<br>count=%{y}<extra></extra>",
         "legendgroup": "DRREDDY",
         "marker": {
          "color": "#A777F1",
          "pattern": {
           "shape": ""
          }
         },
         "name": "DRREDDY",
         "offsetgroup": "DRREDDY",
         "orientation": "v",
         "showlegend": true,
         "type": "histogram",
         "x": [
          4302
         ],
         "xaxis": "x",
         "yaxis": "y"
        },
        {
         "alignmentgroup": "True",
         "bingroup": "x",
         "hovertemplate": "SYMBOL=DIVISLAB<br>LTP_F=%{x}<br>count=%{y}<extra></extra>",
         "legendgroup": "DIVISLAB",
         "marker": {
          "color": "#620042",
          "pattern": {
           "shape": ""
          }
         },
         "name": "DIVISLAB",
         "offsetgroup": "DIVISLAB",
         "orientation": "v",
         "showlegend": true,
         "type": "histogram",
         "x": [
          4497
         ],
         "xaxis": "x",
         "yaxis": "y"
        },
        {
         "alignmentgroup": "True",
         "bingroup": "x",
         "hovertemplate": "SYMBOL=APOLLOHOSP<br>LTP_F=%{x}<br>count=%{y}<extra></extra>",
         "legendgroup": "APOLLOHOSP",
         "marker": {
          "color": "#1616A7",
          "pattern": {
           "shape": ""
          }
         },
         "name": "APOLLOHOSP",
         "offsetgroup": "APOLLOHOSP",
         "orientation": "v",
         "showlegend": true,
         "type": "histogram",
         "x": [
          4735.05
         ],
         "xaxis": "x",
         "yaxis": "y"
        },
        {
         "alignmentgroup": "True",
         "bingroup": "x",
         "hovertemplate": "SYMBOL=ULTRACEMCO<br>LTP_F=%{x}<br>count=%{y}<extra></extra>",
         "legendgroup": "ULTRACEMCO",
         "marker": {
          "color": "#DA60CA",
          "pattern": {
           "shape": ""
          }
         },
         "name": "ULTRACEMCO",
         "offsetgroup": "ULTRACEMCO",
         "orientation": "v",
         "showlegend": true,
         "type": "histogram",
         "x": [
          6714
         ],
         "xaxis": "x",
         "yaxis": "y"
        },
        {
         "alignmentgroup": "True",
         "bingroup": "x",
         "hovertemplate": "SYMBOL=BAJFINANCE<br>LTP_F=%{x}<br>count=%{y}<extra></extra>",
         "legendgroup": "BAJFINANCE",
         "marker": {
          "color": "#6C4516",
          "pattern": {
           "shape": ""
          }
         },
         "name": "BAJFINANCE",
         "offsetgroup": "BAJFINANCE",
         "orientation": "v",
         "showlegend": true,
         "type": "histogram",
         "x": [
          7315.05
         ],
         "xaxis": "x",
         "yaxis": "y"
        },
        {
         "alignmentgroup": "True",
         "bingroup": "x",
         "hovertemplate": "SYMBOL=MARUTI<br>LTP_F=%{x}<br>count=%{y}<extra></extra>",
         "legendgroup": "MARUTI",
         "marker": {
          "color": "#0D2A63",
          "pattern": {
           "shape": ""
          }
         },
         "name": "MARUTI",
         "offsetgroup": "MARUTI",
         "orientation": "v",
         "showlegend": true,
         "type": "histogram",
         "x": [
          7445
         ],
         "xaxis": "x",
         "yaxis": "y"
        },
        {
         "alignmentgroup": "True",
         "bingroup": "x",
         "hovertemplate": "SYMBOL=BAJAJFINSV<br>LTP_F=%{x}<br>count=%{y}<extra></extra>",
         "legendgroup": "BAJAJFINSV",
         "marker": {
          "color": "#AF0038",
          "pattern": {
           "shape": ""
          }
         },
         "name": "BAJAJFINSV",
         "offsetgroup": "BAJAJFINSV",
         "orientation": "v",
         "showlegend": true,
         "type": "histogram",
         "x": [
          16096.95
         ],
         "xaxis": "x",
         "yaxis": "y"
        },
        {
         "alignmentgroup": "True",
         "bingroup": "x",
         "hovertemplate": "SYMBOL=NESTLEIND<br>LTP_F=%{x}<br>count=%{y}<extra></extra>",
         "legendgroup": "NESTLEIND",
         "marker": {
          "color": "#2E91E5",
          "pattern": {
           "shape": ""
          }
         },
         "name": "NESTLEIND",
         "offsetgroup": "NESTLEIND",
         "orientation": "v",
         "showlegend": true,
         "type": "histogram",
         "x": [
          18281
         ],
         "xaxis": "x",
         "yaxis": "y"
        },
        {
         "alignmentgroup": "True",
         "bingroup": "x",
         "hovertemplate": "SYMBOL=SHREECEM<br>LTP_F=%{x}<br>count=%{y}<extra></extra>",
         "legendgroup": "SHREECEM",
         "marker": {
          "color": "#E15F99",
          "pattern": {
           "shape": ""
          }
         },
         "name": "SHREECEM",
         "offsetgroup": "SHREECEM",
         "orientation": "v",
         "showlegend": true,
         "type": "histogram",
         "x": [
          25360
         ],
         "xaxis": "x",
         "yaxis": "y"
        }
       ],
       "layout": {
        "barmode": "relative",
        "legend": {
         "title": {
          "text": "SYMBOL"
         },
         "tracegroupgap": 0
        },
        "template": {
         "data": {
          "bar": [
           {
            "error_x": {
             "color": "#2a3f5f"
            },
            "error_y": {
             "color": "#2a3f5f"
            },
            "marker": {
             "line": {
              "color": "#E5ECF6",
              "width": 0.5
             },
             "pattern": {
              "fillmode": "overlay",
              "size": 10,
              "solidity": 0.2
             }
            },
            "type": "bar"
           }
          ],
          "barpolar": [
           {
            "marker": {
             "line": {
              "color": "#E5ECF6",
              "width": 0.5
             },
             "pattern": {
              "fillmode": "overlay",
              "size": 10,
              "solidity": 0.2
             }
            },
            "type": "barpolar"
           }
          ],
          "carpet": [
           {
            "aaxis": {
             "endlinecolor": "#2a3f5f",
             "gridcolor": "white",
             "linecolor": "white",
             "minorgridcolor": "white",
             "startlinecolor": "#2a3f5f"
            },
            "baxis": {
             "endlinecolor": "#2a3f5f",
             "gridcolor": "white",
             "linecolor": "white",
             "minorgridcolor": "white",
             "startlinecolor": "#2a3f5f"
            },
            "type": "carpet"
           }
          ],
          "choropleth": [
           {
            "colorbar": {
             "outlinewidth": 0,
             "ticks": ""
            },
            "type": "choropleth"
           }
          ],
          "contour": [
           {
            "colorbar": {
             "outlinewidth": 0,
             "ticks": ""
            },
            "colorscale": [
             [
              0,
              "#0d0887"
             ],
             [
              0.1111111111111111,
              "#46039f"
             ],
             [
              0.2222222222222222,
              "#7201a8"
             ],
             [
              0.3333333333333333,
              "#9c179e"
             ],
             [
              0.4444444444444444,
              "#bd3786"
             ],
             [
              0.5555555555555556,
              "#d8576b"
             ],
             [
              0.6666666666666666,
              "#ed7953"
             ],
             [
              0.7777777777777778,
              "#fb9f3a"
             ],
             [
              0.8888888888888888,
              "#fdca26"
             ],
             [
              1,
              "#f0f921"
             ]
            ],
            "type": "contour"
           }
          ],
          "contourcarpet": [
           {
            "colorbar": {
             "outlinewidth": 0,
             "ticks": ""
            },
            "type": "contourcarpet"
           }
          ],
          "heatmap": [
           {
            "colorbar": {
             "outlinewidth": 0,
             "ticks": ""
            },
            "colorscale": [
             [
              0,
              "#0d0887"
             ],
             [
              0.1111111111111111,
              "#46039f"
             ],
             [
              0.2222222222222222,
              "#7201a8"
             ],
             [
              0.3333333333333333,
              "#9c179e"
             ],
             [
              0.4444444444444444,
              "#bd3786"
             ],
             [
              0.5555555555555556,
              "#d8576b"
             ],
             [
              0.6666666666666666,
              "#ed7953"
             ],
             [
              0.7777777777777778,
              "#fb9f3a"
             ],
             [
              0.8888888888888888,
              "#fdca26"
             ],
             [
              1,
              "#f0f921"
             ]
            ],
            "type": "heatmap"
           }
          ],
          "heatmapgl": [
           {
            "colorbar": {
             "outlinewidth": 0,
             "ticks": ""
            },
            "colorscale": [
             [
              0,
              "#0d0887"
             ],
             [
              0.1111111111111111,
              "#46039f"
             ],
             [
              0.2222222222222222,
              "#7201a8"
             ],
             [
              0.3333333333333333,
              "#9c179e"
             ],
             [
              0.4444444444444444,
              "#bd3786"
             ],
             [
              0.5555555555555556,
              "#d8576b"
             ],
             [
              0.6666666666666666,
              "#ed7953"
             ],
             [
              0.7777777777777778,
              "#fb9f3a"
             ],
             [
              0.8888888888888888,
              "#fdca26"
             ],
             [
              1,
              "#f0f921"
             ]
            ],
            "type": "heatmapgl"
           }
          ],
          "histogram": [
           {
            "marker": {
             "pattern": {
              "fillmode": "overlay",
              "size": 10,
              "solidity": 0.2
             }
            },
            "type": "histogram"
           }
          ],
          "histogram2d": [
           {
            "colorbar": {
             "outlinewidth": 0,
             "ticks": ""
            },
            "colorscale": [
             [
              0,
              "#0d0887"
             ],
             [
              0.1111111111111111,
              "#46039f"
             ],
             [
              0.2222222222222222,
              "#7201a8"
             ],
             [
              0.3333333333333333,
              "#9c179e"
             ],
             [
              0.4444444444444444,
              "#bd3786"
             ],
             [
              0.5555555555555556,
              "#d8576b"
             ],
             [
              0.6666666666666666,
              "#ed7953"
             ],
             [
              0.7777777777777778,
              "#fb9f3a"
             ],
             [
              0.8888888888888888,
              "#fdca26"
             ],
             [
              1,
              "#f0f921"
             ]
            ],
            "type": "histogram2d"
           }
          ],
          "histogram2dcontour": [
           {
            "colorbar": {
             "outlinewidth": 0,
             "ticks": ""
            },
            "colorscale": [
             [
              0,
              "#0d0887"
             ],
             [
              0.1111111111111111,
              "#46039f"
             ],
             [
              0.2222222222222222,
              "#7201a8"
             ],
             [
              0.3333333333333333,
              "#9c179e"
             ],
             [
              0.4444444444444444,
              "#bd3786"
             ],
             [
              0.5555555555555556,
              "#d8576b"
             ],
             [
              0.6666666666666666,
              "#ed7953"
             ],
             [
              0.7777777777777778,
              "#fb9f3a"
             ],
             [
              0.8888888888888888,
              "#fdca26"
             ],
             [
              1,
              "#f0f921"
             ]
            ],
            "type": "histogram2dcontour"
           }
          ],
          "mesh3d": [
           {
            "colorbar": {
             "outlinewidth": 0,
             "ticks": ""
            },
            "type": "mesh3d"
           }
          ],
          "parcoords": [
           {
            "line": {
             "colorbar": {
              "outlinewidth": 0,
              "ticks": ""
             }
            },
            "type": "parcoords"
           }
          ],
          "pie": [
           {
            "automargin": true,
            "type": "pie"
           }
          ],
          "scatter": [
           {
            "fillpattern": {
             "fillmode": "overlay",
             "size": 10,
             "solidity": 0.2
            },
            "type": "scatter"
           }
          ],
          "scatter3d": [
           {
            "line": {
             "colorbar": {
              "outlinewidth": 0,
              "ticks": ""
             }
            },
            "marker": {
             "colorbar": {
              "outlinewidth": 0,
              "ticks": ""
             }
            },
            "type": "scatter3d"
           }
          ],
          "scattercarpet": [
           {
            "marker": {
             "colorbar": {
              "outlinewidth": 0,
              "ticks": ""
             }
            },
            "type": "scattercarpet"
           }
          ],
          "scattergeo": [
           {
            "marker": {
             "colorbar": {
              "outlinewidth": 0,
              "ticks": ""
             }
            },
            "type": "scattergeo"
           }
          ],
          "scattergl": [
           {
            "marker": {
             "colorbar": {
              "outlinewidth": 0,
              "ticks": ""
             }
            },
            "type": "scattergl"
           }
          ],
          "scattermapbox": [
           {
            "marker": {
             "colorbar": {
              "outlinewidth": 0,
              "ticks": ""
             }
            },
            "type": "scattermapbox"
           }
          ],
          "scatterpolar": [
           {
            "marker": {
             "colorbar": {
              "outlinewidth": 0,
              "ticks": ""
             }
            },
            "type": "scatterpolar"
           }
          ],
          "scatterpolargl": [
           {
            "marker": {
             "colorbar": {
              "outlinewidth": 0,
              "ticks": ""
             }
            },
            "type": "scatterpolargl"
           }
          ],
          "scatterternary": [
           {
            "marker": {
             "colorbar": {
              "outlinewidth": 0,
              "ticks": ""
             }
            },
            "type": "scatterternary"
           }
          ],
          "surface": [
           {
            "colorbar": {
             "outlinewidth": 0,
             "ticks": ""
            },
            "colorscale": [
             [
              0,
              "#0d0887"
             ],
             [
              0.1111111111111111,
              "#46039f"
             ],
             [
              0.2222222222222222,
              "#7201a8"
             ],
             [
              0.3333333333333333,
              "#9c179e"
             ],
             [
              0.4444444444444444,
              "#bd3786"
             ],
             [
              0.5555555555555556,
              "#d8576b"
             ],
             [
              0.6666666666666666,
              "#ed7953"
             ],
             [
              0.7777777777777778,
              "#fb9f3a"
             ],
             [
              0.8888888888888888,
              "#fdca26"
             ],
             [
              1,
              "#f0f921"
             ]
            ],
            "type": "surface"
           }
          ],
          "table": [
           {
            "cells": {
             "fill": {
              "color": "#EBF0F8"
             },
             "line": {
              "color": "white"
             }
            },
            "header": {
             "fill": {
              "color": "#C8D4E3"
             },
             "line": {
              "color": "white"
             }
            },
            "type": "table"
           }
          ]
         },
         "layout": {
          "annotationdefaults": {
           "arrowcolor": "#2a3f5f",
           "arrowhead": 0,
           "arrowwidth": 1
          },
          "autotypenumbers": "strict",
          "coloraxis": {
           "colorbar": {
            "outlinewidth": 0,
            "ticks": ""
           }
          },
          "colorscale": {
           "diverging": [
            [
             0,
             "#8e0152"
            ],
            [
             0.1,
             "#c51b7d"
            ],
            [
             0.2,
             "#de77ae"
            ],
            [
             0.3,
             "#f1b6da"
            ],
            [
             0.4,
             "#fde0ef"
            ],
            [
             0.5,
             "#f7f7f7"
            ],
            [
             0.6,
             "#e6f5d0"
            ],
            [
             0.7,
             "#b8e186"
            ],
            [
             0.8,
             "#7fbc41"
            ],
            [
             0.9,
             "#4d9221"
            ],
            [
             1,
             "#276419"
            ]
           ],
           "sequential": [
            [
             0,
             "#0d0887"
            ],
            [
             0.1111111111111111,
             "#46039f"
            ],
            [
             0.2222222222222222,
             "#7201a8"
            ],
            [
             0.3333333333333333,
             "#9c179e"
            ],
            [
             0.4444444444444444,
             "#bd3786"
            ],
            [
             0.5555555555555556,
             "#d8576b"
            ],
            [
             0.6666666666666666,
             "#ed7953"
            ],
            [
             0.7777777777777778,
             "#fb9f3a"
            ],
            [
             0.8888888888888888,
             "#fdca26"
            ],
            [
             1,
             "#f0f921"
            ]
           ],
           "sequentialminus": [
            [
             0,
             "#0d0887"
            ],
            [
             0.1111111111111111,
             "#46039f"
            ],
            [
             0.2222222222222222,
             "#7201a8"
            ],
            [
             0.3333333333333333,
             "#9c179e"
            ],
            [
             0.4444444444444444,
             "#bd3786"
            ],
            [
             0.5555555555555556,
             "#d8576b"
            ],
            [
             0.6666666666666666,
             "#ed7953"
            ],
            [
             0.7777777777777778,
             "#fb9f3a"
            ],
            [
             0.8888888888888888,
             "#fdca26"
            ],
            [
             1,
             "#f0f921"
            ]
           ]
          },
          "colorway": [
           "#636efa",
           "#EF553B",
           "#00cc96",
           "#ab63fa",
           "#FFA15A",
           "#19d3f3",
           "#FF6692",
           "#B6E880",
           "#FF97FF",
           "#FECB52"
          ],
          "font": {
           "color": "#2a3f5f"
          },
          "geo": {
           "bgcolor": "white",
           "lakecolor": "white",
           "landcolor": "#E5ECF6",
           "showlakes": true,
           "showland": true,
           "subunitcolor": "white"
          },
          "hoverlabel": {
           "align": "left"
          },
          "hovermode": "closest",
          "mapbox": {
           "style": "light"
          },
          "paper_bgcolor": "white",
          "plot_bgcolor": "#E5ECF6",
          "polar": {
           "angularaxis": {
            "gridcolor": "white",
            "linecolor": "white",
            "ticks": ""
           },
           "bgcolor": "#E5ECF6",
           "radialaxis": {
            "gridcolor": "white",
            "linecolor": "white",
            "ticks": ""
           }
          },
          "scene": {
           "xaxis": {
            "backgroundcolor": "#E5ECF6",
            "gridcolor": "white",
            "gridwidth": 2,
            "linecolor": "white",
            "showbackground": true,
            "ticks": "",
            "zerolinecolor": "white"
           },
           "yaxis": {
            "backgroundcolor": "#E5ECF6",
            "gridcolor": "white",
            "gridwidth": 2,
            "linecolor": "white",
            "showbackground": true,
            "ticks": "",
            "zerolinecolor": "white"
           },
           "zaxis": {
            "backgroundcolor": "#E5ECF6",
            "gridcolor": "white",
            "gridwidth": 2,
            "linecolor": "white",
            "showbackground": true,
            "ticks": "",
            "zerolinecolor": "white"
           }
          },
          "shapedefaults": {
           "line": {
            "color": "#2a3f5f"
           }
          },
          "ternary": {
           "aaxis": {
            "gridcolor": "white",
            "linecolor": "white",
            "ticks": ""
           },
           "baxis": {
            "gridcolor": "white",
            "linecolor": "white",
            "ticks": ""
           },
           "bgcolor": "#E5ECF6",
           "caxis": {
            "gridcolor": "white",
            "linecolor": "white",
            "ticks": ""
           }
          },
          "title": {
           "x": 0.05
          },
          "xaxis": {
           "automargin": true,
           "gridcolor": "white",
           "linecolor": "white",
           "ticks": "",
           "title": {
            "standoff": 15
           },
           "zerolinecolor": "white",
           "zerolinewidth": 2
          },
          "yaxis": {
           "automargin": true,
           "gridcolor": "white",
           "linecolor": "white",
           "ticks": "",
           "title": {
            "standoff": 15
           },
           "zerolinecolor": "white",
           "zerolinewidth": 2
          }
         }
        },
        "title": {
         "text": "LTP Chart"
        },
        "xaxis": {
         "anchor": "y",
         "domain": [
          0,
          1
         ],
         "title": {
          "text": "LTP_F"
         }
        },
        "yaxis": {
         "anchor": "x",
         "domain": [
          0,
          1
         ],
         "title": {
          "text": "count"
         }
        }
       }
      },
      "text/html": [
       "<div>                            <div id=\"425f0859-a08d-4e2b-9b6b-c776028ed77e\" class=\"plotly-graph-div\" style=\"height:525px; width:100%;\"></div>            <script type=\"text/javascript\">                require([\"plotly\"], function(Plotly) {                    window.PLOTLYENV=window.PLOTLYENV || {};                                    if (document.getElementById(\"425f0859-a08d-4e2b-9b6b-c776028ed77e\")) {                    Plotly.newPlot(                        \"425f0859-a08d-4e2b-9b6b-c776028ed77e\",                        [{\"alignmentgroup\":\"True\",\"bingroup\":\"x\",\"hovertemplate\":\"SYMBOL=NTPC<br>LTP_F=%{x}<br>count=%{y}<extra></extra>\",\"legendgroup\":\"NTPC\",\"marker\":{\"color\":\"#2E91E5\",\"pattern\":{\"shape\":\"\"}},\"name\":\"NTPC\",\"offsetgroup\":\"NTPC\",\"orientation\":\"v\",\"showlegend\":true,\"x\":[153.9],\"xaxis\":\"x\",\"yaxis\":\"y\",\"type\":\"histogram\"},{\"alignmentgroup\":\"True\",\"bingroup\":\"x\",\"hovertemplate\":\"SYMBOL=ONGC<br>LTP_F=%{x}<br>count=%{y}<extra></extra>\",\"legendgroup\":\"ONGC\",\"marker\":{\"color\":\"#E15F99\",\"pattern\":{\"shape\":\"\"}},\"name\":\"ONGC\",\"offsetgroup\":\"ONGC\",\"orientation\":\"v\",\"showlegend\":true,\"x\":[173.95],\"xaxis\":\"x\",\"yaxis\":\"y\",\"type\":\"histogram\"},{\"alignmentgroup\":\"True\",\"bingroup\":\"x\",\"hovertemplate\":\"SYMBOL=COALINDIA<br>LTP_F=%{x}<br>count=%{y}<extra></extra>\",\"legendgroup\":\"COALINDIA\",\"marker\":{\"color\":\"#1CA71C\",\"pattern\":{\"shape\":\"\"}},\"name\":\"COALINDIA\",\"offsetgroup\":\"COALINDIA\",\"orientation\":\"v\",\"showlegend\":true,\"x\":[186.35],\"xaxis\":\"x\",\"yaxis\":\"y\",\"type\":\"histogram\"},{\"alignmentgroup\":\"True\",\"bingroup\":\"x\",\"hovertemplate\":\"SYMBOL=POWERGRID<br>LTP_F=%{x}<br>count=%{y}<extra></extra>\",\"legendgroup\":\"POWERGRID\",\"marker\":{\"color\":\"#FB0D0D\",\"pattern\":{\"shape\":\"\"}},\"name\":\"POWERGRID\",\"offsetgroup\":\"POWERGRID\",\"orientation\":\"v\",\"showlegend\":true,\"x\":[229.85],\"xaxis\":\"x\",\"yaxis\":\"y\",\"type\":\"histogram\"},{\"alignmentgroup\":\"True\",\"bingroup\":\"x\",\"hovertemplate\":\"SYMBOL=ITC<br>LTP_F=%{x}<br>count=%{y}<extra></extra>\",\"legendgroup\":\"ITC\",\"marker\":{\"color\":\"#DA16FF\",\"pattern\":{\"shape\":\"\"}},\"name\":\"ITC\",\"offsetgroup\":\"ITC\",\"orientation\":\"v\",\"showlegend\":true,\"x\":[269.1],\"xaxis\":\"x\",\"yaxis\":\"y\",\"type\":\"histogram\"},{\"alignmentgroup\":\"True\",\"bingroup\":\"x\",\"hovertemplate\":\"SYMBOL=BPCL<br>LTP_F=%{x}<br>count=%{y}<extra></extra>\",\"legendgroup\":\"BPCL\",\"marker\":{\"color\":\"#222A2A\",\"pattern\":{\"shape\":\"\"}},\"name\":\"BPCL\",\"offsetgroup\":\"BPCL\",\"orientation\":\"v\",\"showlegend\":true,\"x\":[378.5],\"xaxis\":\"x\",\"yaxis\":\"y\",\"type\":\"histogram\"},{\"alignmentgroup\":\"True\",\"bingroup\":\"x\",\"hovertemplate\":\"SYMBOL=TATAMOTORS<br>LTP_F=%{x}<br>count=%{y}<extra></extra>\",\"legendgroup\":\"TATAMOTORS\",\"marker\":{\"color\":\"#B68100\",\"pattern\":{\"shape\":\"\"}},\"name\":\"TATAMOTORS\",\"offsetgroup\":\"TATAMOTORS\",\"orientation\":\"v\",\"showlegend\":true,\"x\":[431.5],\"xaxis\":\"x\",\"yaxis\":\"y\",\"type\":\"histogram\"},{\"alignmentgroup\":\"True\",\"bingroup\":\"x\",\"hovertemplate\":\"SYMBOL=SBIN<br>LTP_F=%{x}<br>count=%{y}<extra></extra>\",\"legendgroup\":\"SBIN\",\"marker\":{\"color\":\"#750D86\",\"pattern\":{\"shape\":\"\"}},\"name\":\"SBIN\",\"offsetgroup\":\"SBIN\",\"orientation\":\"v\",\"showlegend\":true,\"x\":[517.7],\"xaxis\":\"x\",\"yaxis\":\"y\",\"type\":\"histogram\"},{\"alignmentgroup\":\"True\",\"bingroup\":\"x\",\"hovertemplate\":\"SYMBOL=HINDALCO<br>LTP_F=%{x}<br>count=%{y}<extra></extra>\",\"legendgroup\":\"HINDALCO\",\"marker\":{\"color\":\"#EB663B\",\"pattern\":{\"shape\":\"\"}},\"name\":\"HINDALCO\",\"offsetgroup\":\"HINDALCO\",\"orientation\":\"v\",\"showlegend\":true,\"x\":[545.75],\"xaxis\":\"x\",\"yaxis\":\"y\",\"type\":\"histogram\"},{\"alignmentgroup\":\"True\",\"bingroup\":\"x\",\"hovertemplate\":\"SYMBOL=WIPRO<br>LTP_F=%{x}<br>count=%{y}<extra></extra>\",\"legendgroup\":\"WIPRO\",\"marker\":{\"color\":\"#511CFB\",\"pattern\":{\"shape\":\"\"}},\"name\":\"WIPRO\",\"offsetgroup\":\"WIPRO\",\"orientation\":\"v\",\"showlegend\":true,\"x\":[559.8],\"xaxis\":\"x\",\"yaxis\":\"y\",\"type\":\"histogram\"},{\"alignmentgroup\":\"True\",\"bingroup\":\"x\",\"hovertemplate\":\"SYMBOL=HDFCLIFE<br>LTP_F=%{x}<br>count=%{y}<extra></extra>\",\"legendgroup\":\"HDFCLIFE\",\"marker\":{\"color\":\"#00A08B\",\"pattern\":{\"shape\":\"\"}},\"name\":\"HDFCLIFE\",\"offsetgroup\":\"HDFCLIFE\",\"orientation\":\"v\",\"showlegend\":true,\"x\":[565.05],\"xaxis\":\"x\",\"yaxis\":\"y\",\"type\":\"histogram\"},{\"alignmentgroup\":\"True\",\"bingroup\":\"x\",\"hovertemplate\":\"SYMBOL=BHARTIARTL<br>LTP_F=%{x}<br>count=%{y}<extra></extra>\",\"legendgroup\":\"BHARTIARTL\",\"marker\":{\"color\":\"#FB00D1\",\"pattern\":{\"shape\":\"\"}},\"name\":\"BHARTIARTL\",\"offsetgroup\":\"BHARTIARTL\",\"orientation\":\"v\",\"showlegend\":true,\"x\":[739.9],\"xaxis\":\"x\",\"yaxis\":\"y\",\"type\":\"histogram\"},{\"alignmentgroup\":\"True\",\"bingroup\":\"x\",\"hovertemplate\":\"SYMBOL=ICICIBANK<br>LTP_F=%{x}<br>count=%{y}<extra></extra>\",\"legendgroup\":\"ICICIBANK\",\"marker\":{\"color\":\"#FC0080\",\"pattern\":{\"shape\":\"\"}},\"name\":\"ICICIBANK\",\"offsetgroup\":\"ICICIBANK\",\"orientation\":\"v\",\"showlegend\":true,\"x\":[761.55],\"xaxis\":\"x\",\"yaxis\":\"y\",\"type\":\"histogram\"},{\"alignmentgroup\":\"True\",\"bingroup\":\"x\",\"hovertemplate\":\"SYMBOL=JSWSTEEL<br>LTP_F=%{x}<br>count=%{y}<extra></extra>\",\"legendgroup\":\"JSWSTEEL\",\"marker\":{\"color\":\"#B2828D\",\"pattern\":{\"shape\":\"\"}},\"name\":\"JSWSTEEL\",\"offsetgroup\":\"JSWSTEEL\",\"orientation\":\"v\",\"showlegend\":true,\"x\":[764.45],\"xaxis\":\"x\",\"yaxis\":\"y\",\"type\":\"histogram\"},{\"alignmentgroup\":\"True\",\"bingroup\":\"x\",\"hovertemplate\":\"SYMBOL=AXISBANK<br>LTP_F=%{x}<br>count=%{y}<extra></extra>\",\"legendgroup\":\"AXISBANK\",\"marker\":{\"color\":\"#6C7C32\",\"pattern\":{\"shape\":\"\"}},\"name\":\"AXISBANK\",\"offsetgroup\":\"AXISBANK\",\"orientation\":\"v\",\"showlegend\":true,\"x\":[792.0],\"xaxis\":\"x\",\"yaxis\":\"y\",\"type\":\"histogram\"},{\"alignmentgroup\":\"True\",\"bingroup\":\"x\",\"hovertemplate\":\"SYMBOL=TATACONSUM<br>LTP_F=%{x}<br>count=%{y}<extra></extra>\",\"legendgroup\":\"TATACONSUM\",\"marker\":{\"color\":\"#778AAE\",\"pattern\":{\"shape\":\"\"}},\"name\":\"TATACONSUM\",\"offsetgroup\":\"TATACONSUM\",\"orientation\":\"v\",\"showlegend\":true,\"x\":[816.2],\"xaxis\":\"x\",\"yaxis\":\"y\",\"type\":\"histogram\"},{\"alignmentgroup\":\"True\",\"bingroup\":\"x\",\"hovertemplate\":\"SYMBOL=UPL<br>LTP_F=%{x}<br>count=%{y}<extra></extra>\",\"legendgroup\":\"UPL\",\"marker\":{\"color\":\"#862A16\",\"pattern\":{\"shape\":\"\"}},\"name\":\"UPL\",\"offsetgroup\":\"UPL\",\"orientation\":\"v\",\"showlegend\":true,\"x\":[819.5],\"xaxis\":\"x\",\"yaxis\":\"y\",\"type\":\"histogram\"},{\"alignmentgroup\":\"True\",\"bingroup\":\"x\",\"hovertemplate\":\"SYMBOL=ADANIPORTS<br>LTP_F=%{x}<br>count=%{y}<extra></extra>\",\"legendgroup\":\"ADANIPORTS\",\"marker\":{\"color\":\"#A777F1\",\"pattern\":{\"shape\":\"\"}},\"name\":\"ADANIPORTS\",\"offsetgroup\":\"ADANIPORTS\",\"orientation\":\"v\",\"showlegend\":true,\"x\":[838.15],\"xaxis\":\"x\",\"yaxis\":\"y\",\"type\":\"histogram\"},{\"alignmentgroup\":\"True\",\"bingroup\":\"x\",\"hovertemplate\":\"SYMBOL=M&M<br>LTP_F=%{x}<br>count=%{y}<extra></extra>\",\"legendgroup\":\"M&M\",\"marker\":{\"color\":\"#620042\",\"pattern\":{\"shape\":\"\"}},\"name\":\"M&M\",\"offsetgroup\":\"M&M\",\"orientation\":\"v\",\"showlegend\":true,\"x\":[865.0],\"xaxis\":\"x\",\"yaxis\":\"y\",\"type\":\"histogram\"},{\"alignmentgroup\":\"True\",\"bingroup\":\"x\",\"hovertemplate\":\"SYMBOL=SUNPHARMA<br>LTP_F=%{x}<br>count=%{y}<extra></extra>\",\"legendgroup\":\"SUNPHARMA\",\"marker\":{\"color\":\"#1616A7\",\"pattern\":{\"shape\":\"\"}},\"name\":\"SUNPHARMA\",\"offsetgroup\":\"SUNPHARMA\",\"orientation\":\"v\",\"showlegend\":true,\"x\":[935.25],\"xaxis\":\"x\",\"yaxis\":\"y\",\"type\":\"histogram\"},{\"alignmentgroup\":\"True\",\"bingroup\":\"x\",\"hovertemplate\":\"SYMBOL=INDUSINDBK<br>LTP_F=%{x}<br>count=%{y}<extra></extra>\",\"legendgroup\":\"INDUSINDBK\",\"marker\":{\"color\":\"#DA60CA\",\"pattern\":{\"shape\":\"\"}},\"name\":\"INDUSINDBK\",\"offsetgroup\":\"INDUSINDBK\",\"orientation\":\"v\",\"showlegend\":true,\"x\":[983.9],\"xaxis\":\"x\",\"yaxis\":\"y\",\"type\":\"histogram\"},{\"alignmentgroup\":\"True\",\"bingroup\":\"x\",\"hovertemplate\":\"SYMBOL=CIPLA<br>LTP_F=%{x}<br>count=%{y}<extra></extra>\",\"legendgroup\":\"CIPLA\",\"marker\":{\"color\":\"#6C4516\",\"pattern\":{\"shape\":\"\"}},\"name\":\"CIPLA\",\"offsetgroup\":\"CIPLA\",\"orientation\":\"v\",\"showlegend\":true,\"x\":[1017.35],\"xaxis\":\"x\",\"yaxis\":\"y\",\"type\":\"histogram\"},{\"alignmentgroup\":\"True\",\"bingroup\":\"x\",\"hovertemplate\":\"SYMBOL=HCLTECH<br>LTP_F=%{x}<br>count=%{y}<extra></extra>\",\"legendgroup\":\"HCLTECH\",\"marker\":{\"color\":\"#0D2A63\",\"pattern\":{\"shape\":\"\"}},\"name\":\"HCLTECH\",\"offsetgroup\":\"HCLTECH\",\"orientation\":\"v\",\"showlegend\":true,\"x\":[1127.0],\"xaxis\":\"x\",\"yaxis\":\"y\",\"type\":\"histogram\"},{\"alignmentgroup\":\"True\",\"bingroup\":\"x\",\"hovertemplate\":\"SYMBOL=SBILIFE<br>LTP_F=%{x}<br>count=%{y}<extra></extra>\",\"legendgroup\":\"SBILIFE\",\"marker\":{\"color\":\"#AF0038\",\"pattern\":{\"shape\":\"\"}},\"name\":\"SBILIFE\",\"offsetgroup\":\"SBILIFE\",\"orientation\":\"v\",\"showlegend\":true,\"x\":[1146.1],\"xaxis\":\"x\",\"yaxis\":\"y\",\"type\":\"histogram\"},{\"alignmentgroup\":\"True\",\"bingroup\":\"x\",\"hovertemplate\":\"SYMBOL=TATASTEEL<br>LTP_F=%{x}<br>count=%{y}<extra></extra>\",\"legendgroup\":\"TATASTEEL\",\"marker\":{\"color\":\"#2E91E5\",\"pattern\":{\"shape\":\"\"}},\"name\":\"TATASTEEL\",\"offsetgroup\":\"TATASTEEL\",\"orientation\":\"v\",\"showlegend\":true,\"x\":[1316.05],\"xaxis\":\"x\",\"yaxis\":\"y\",\"type\":\"histogram\"},{\"alignmentgroup\":\"True\",\"bingroup\":\"x\",\"hovertemplate\":\"SYMBOL=TECHM<br>LTP_F=%{x}<br>count=%{y}<extra></extra>\",\"legendgroup\":\"TECHM\",\"marker\":{\"color\":\"#E15F99\",\"pattern\":{\"shape\":\"\"}},\"name\":\"TECHM\",\"offsetgroup\":\"TECHM\",\"orientation\":\"v\",\"showlegend\":true,\"x\":[1409.45],\"xaxis\":\"x\",\"yaxis\":\"y\",\"type\":\"histogram\"},{\"alignmentgroup\":\"True\",\"bingroup\":\"x\",\"hovertemplate\":\"SYMBOL=HDFCBANK<br>LTP_F=%{x}<br>count=%{y}<extra></extra>\",\"legendgroup\":\"HDFCBANK\",\"marker\":{\"color\":\"#1CA71C\",\"pattern\":{\"shape\":\"\"}},\"name\":\"HDFCBANK\",\"offsetgroup\":\"HDFCBANK\",\"orientation\":\"v\",\"showlegend\":true,\"x\":[1464.0],\"xaxis\":\"x\",\"yaxis\":\"y\",\"type\":\"histogram\"},{\"alignmentgroup\":\"True\",\"bingroup\":\"x\",\"hovertemplate\":\"SYMBOL=INFY<br>LTP_F=%{x}<br>count=%{y}<extra></extra>\",\"legendgroup\":\"INFY\",\"marker\":{\"color\":\"#FB0D0D\",\"pattern\":{\"shape\":\"\"}},\"name\":\"INFY\",\"offsetgroup\":\"INFY\",\"orientation\":\"v\",\"showlegend\":true,\"x\":[1751.0],\"xaxis\":\"x\",\"yaxis\":\"y\",\"type\":\"histogram\"},{\"alignmentgroup\":\"True\",\"bingroup\":\"x\",\"hovertemplate\":\"SYMBOL=LT<br>LTP_F=%{x}<br>count=%{y}<extra></extra>\",\"legendgroup\":\"LT\",\"marker\":{\"color\":\"#DA16FF\",\"pattern\":{\"shape\":\"\"}},\"name\":\"LT\",\"offsetgroup\":\"LT\",\"orientation\":\"v\",\"showlegend\":true,\"x\":[1758.55],\"xaxis\":\"x\",\"yaxis\":\"y\",\"type\":\"histogram\"},{\"alignmentgroup\":\"True\",\"bingroup\":\"x\",\"hovertemplate\":\"SYMBOL=GRASIM<br>LTP_F=%{x}<br>count=%{y}<extra></extra>\",\"legendgroup\":\"GRASIM\",\"marker\":{\"color\":\"#222A2A\",\"pattern\":{\"shape\":\"\"}},\"name\":\"GRASIM\",\"offsetgroup\":\"GRASIM\",\"orientation\":\"v\",\"showlegend\":true,\"x\":[1763.8],\"xaxis\":\"x\",\"yaxis\":\"y\",\"type\":\"histogram\"},{\"alignmentgroup\":\"True\",\"bingroup\":\"x\",\"hovertemplate\":\"SYMBOL=KOTAKBANK<br>LTP_F=%{x}<br>count=%{y}<extra></extra>\",\"legendgroup\":\"KOTAKBANK\",\"marker\":{\"color\":\"#B68100\",\"pattern\":{\"shape\":\"\"}},\"name\":\"KOTAKBANK\",\"offsetgroup\":\"KOTAKBANK\",\"orientation\":\"v\",\"showlegend\":true,\"x\":[1780.0],\"xaxis\":\"x\",\"yaxis\":\"y\",\"type\":\"histogram\"},{\"alignmentgroup\":\"True\",\"bingroup\":\"x\",\"hovertemplate\":\"SYMBOL=HINDUNILVR<br>LTP_F=%{x}<br>count=%{y}<extra></extra>\",\"legendgroup\":\"HINDUNILVR\",\"marker\":{\"color\":\"#750D86\",\"pattern\":{\"shape\":\"\"}},\"name\":\"HINDUNILVR\",\"offsetgroup\":\"HINDUNILVR\",\"orientation\":\"v\",\"showlegend\":true,\"x\":[2150.75],\"xaxis\":\"x\",\"yaxis\":\"y\",\"type\":\"histogram\"},{\"alignmentgroup\":\"True\",\"bingroup\":\"x\",\"hovertemplate\":\"SYMBOL=HEROMOTOCO<br>LTP_F=%{x}<br>count=%{y}<extra></extra>\",\"legendgroup\":\"HEROMOTOCO\",\"marker\":{\"color\":\"#EB663B\",\"pattern\":{\"shape\":\"\"}},\"name\":\"HEROMOTOCO\",\"offsetgroup\":\"HEROMOTOCO\",\"orientation\":\"v\",\"showlegend\":true,\"x\":[2272.55],\"xaxis\":\"x\",\"yaxis\":\"y\",\"type\":\"histogram\"},{\"alignmentgroup\":\"True\",\"bingroup\":\"x\",\"hovertemplate\":\"SYMBOL=HDFC<br>LTP_F=%{x}<br>count=%{y}<extra></extra>\",\"legendgroup\":\"HDFC\",\"marker\":{\"color\":\"#511CFB\",\"pattern\":{\"shape\":\"\"}},\"name\":\"HDFC\",\"offsetgroup\":\"HDFC\",\"orientation\":\"v\",\"showlegend\":true,\"x\":[2371.55],\"xaxis\":\"x\",\"yaxis\":\"y\",\"type\":\"histogram\"},{\"alignmentgroup\":\"True\",\"bingroup\":\"x\",\"hovertemplate\":\"SYMBOL=TITAN<br>LTP_F=%{x}<br>count=%{y}<extra></extra>\",\"legendgroup\":\"TITAN\",\"marker\":{\"color\":\"#00A08B\",\"pattern\":{\"shape\":\"\"}},\"name\":\"TITAN\",\"offsetgroup\":\"TITAN\",\"orientation\":\"v\",\"showlegend\":true,\"x\":[2461.5],\"xaxis\":\"x\",\"yaxis\":\"y\",\"type\":\"histogram\"},{\"alignmentgroup\":\"True\",\"bingroup\":\"x\",\"hovertemplate\":\"SYMBOL=EICHERMOT<br>LTP_F=%{x}<br>count=%{y}<extra></extra>\",\"legendgroup\":\"EICHERMOT\",\"marker\":{\"color\":\"#FB00D1\",\"pattern\":{\"shape\":\"\"}},\"name\":\"EICHERMOT\",\"offsetgroup\":\"EICHERMOT\",\"orientation\":\"v\",\"showlegend\":true,\"x\":[2484.0],\"xaxis\":\"x\",\"yaxis\":\"y\",\"type\":\"histogram\"},{\"alignmentgroup\":\"True\",\"bingroup\":\"x\",\"hovertemplate\":\"SYMBOL=RELIANCE<br>LTP_F=%{x}<br>count=%{y}<extra></extra>\",\"legendgroup\":\"RELIANCE\",\"marker\":{\"color\":\"#FC0080\",\"pattern\":{\"shape\":\"\"}},\"name\":\"RELIANCE\",\"offsetgroup\":\"RELIANCE\",\"orientation\":\"v\",\"showlegend\":true,\"x\":[2551.9],\"xaxis\":\"x\",\"yaxis\":\"y\",\"type\":\"histogram\"},{\"alignmentgroup\":\"True\",\"bingroup\":\"x\",\"hovertemplate\":\"SYMBOL=ASIANPAINT<br>LTP_F=%{x}<br>count=%{y}<extra></extra>\",\"legendgroup\":\"ASIANPAINT\",\"marker\":{\"color\":\"#B2828D\",\"pattern\":{\"shape\":\"\"}},\"name\":\"ASIANPAINT\",\"offsetgroup\":\"ASIANPAINT\",\"orientation\":\"v\",\"showlegend\":true,\"x\":[3084.0],\"xaxis\":\"x\",\"yaxis\":\"y\",\"type\":\"histogram\"},{\"alignmentgroup\":\"True\",\"bingroup\":\"x\",\"hovertemplate\":\"SYMBOL=BRITANNIA<br>LTP_F=%{x}<br>count=%{y}<extra></extra>\",\"legendgroup\":\"BRITANNIA\",\"marker\":{\"color\":\"#6C7C32\",\"pattern\":{\"shape\":\"\"}},\"name\":\"BRITANNIA\",\"offsetgroup\":\"BRITANNIA\",\"orientation\":\"v\",\"showlegend\":true,\"x\":[3345.95],\"xaxis\":\"x\",\"yaxis\":\"y\",\"type\":\"histogram\"},{\"alignmentgroup\":\"True\",\"bingroup\":\"x\",\"hovertemplate\":\"SYMBOL=TCS<br>LTP_F=%{x}<br>count=%{y}<extra></extra>\",\"legendgroup\":\"TCS\",\"marker\":{\"color\":\"#778AAE\",\"pattern\":{\"shape\":\"\"}},\"name\":\"TCS\",\"offsetgroup\":\"TCS\",\"orientation\":\"v\",\"showlegend\":true,\"x\":[3664.95],\"xaxis\":\"x\",\"yaxis\":\"y\",\"type\":\"histogram\"},{\"alignmentgroup\":\"True\",\"bingroup\":\"x\",\"hovertemplate\":\"SYMBOL=BAJAJ-AUTO<br>LTP_F=%{x}<br>count=%{y}<extra></extra>\",\"legendgroup\":\"BAJAJ-AUTO\",\"marker\":{\"color\":\"#862A16\",\"pattern\":{\"shape\":\"\"}},\"name\":\"BAJAJ-AUTO\",\"offsetgroup\":\"BAJAJ-AUTO\",\"orientation\":\"v\",\"showlegend\":true,\"x\":[3694.65],\"xaxis\":\"x\",\"yaxis\":\"y\",\"type\":\"histogram\"},{\"alignmentgroup\":\"True\",\"bingroup\":\"x\",\"hovertemplate\":\"SYMBOL=DRREDDY<br>LTP_F=%{x}<br>count=%{y}<extra></extra>\",\"legendgroup\":\"DRREDDY\",\"marker\":{\"color\":\"#A777F1\",\"pattern\":{\"shape\":\"\"}},\"name\":\"DRREDDY\",\"offsetgroup\":\"DRREDDY\",\"orientation\":\"v\",\"showlegend\":true,\"x\":[4302.0],\"xaxis\":\"x\",\"yaxis\":\"y\",\"type\":\"histogram\"},{\"alignmentgroup\":\"True\",\"bingroup\":\"x\",\"hovertemplate\":\"SYMBOL=DIVISLAB<br>LTP_F=%{x}<br>count=%{y}<extra></extra>\",\"legendgroup\":\"DIVISLAB\",\"marker\":{\"color\":\"#620042\",\"pattern\":{\"shape\":\"\"}},\"name\":\"DIVISLAB\",\"offsetgroup\":\"DIVISLAB\",\"orientation\":\"v\",\"showlegend\":true,\"x\":[4497.0],\"xaxis\":\"x\",\"yaxis\":\"y\",\"type\":\"histogram\"},{\"alignmentgroup\":\"True\",\"bingroup\":\"x\",\"hovertemplate\":\"SYMBOL=APOLLOHOSP<br>LTP_F=%{x}<br>count=%{y}<extra></extra>\",\"legendgroup\":\"APOLLOHOSP\",\"marker\":{\"color\":\"#1616A7\",\"pattern\":{\"shape\":\"\"}},\"name\":\"APOLLOHOSP\",\"offsetgroup\":\"APOLLOHOSP\",\"orientation\":\"v\",\"showlegend\":true,\"x\":[4735.05],\"xaxis\":\"x\",\"yaxis\":\"y\",\"type\":\"histogram\"},{\"alignmentgroup\":\"True\",\"bingroup\":\"x\",\"hovertemplate\":\"SYMBOL=ULTRACEMCO<br>LTP_F=%{x}<br>count=%{y}<extra></extra>\",\"legendgroup\":\"ULTRACEMCO\",\"marker\":{\"color\":\"#DA60CA\",\"pattern\":{\"shape\":\"\"}},\"name\":\"ULTRACEMCO\",\"offsetgroup\":\"ULTRACEMCO\",\"orientation\":\"v\",\"showlegend\":true,\"x\":[6714.0],\"xaxis\":\"x\",\"yaxis\":\"y\",\"type\":\"histogram\"},{\"alignmentgroup\":\"True\",\"bingroup\":\"x\",\"hovertemplate\":\"SYMBOL=BAJFINANCE<br>LTP_F=%{x}<br>count=%{y}<extra></extra>\",\"legendgroup\":\"BAJFINANCE\",\"marker\":{\"color\":\"#6C4516\",\"pattern\":{\"shape\":\"\"}},\"name\":\"BAJFINANCE\",\"offsetgroup\":\"BAJFINANCE\",\"orientation\":\"v\",\"showlegend\":true,\"x\":[7315.05],\"xaxis\":\"x\",\"yaxis\":\"y\",\"type\":\"histogram\"},{\"alignmentgroup\":\"True\",\"bingroup\":\"x\",\"hovertemplate\":\"SYMBOL=MARUTI<br>LTP_F=%{x}<br>count=%{y}<extra></extra>\",\"legendgroup\":\"MARUTI\",\"marker\":{\"color\":\"#0D2A63\",\"pattern\":{\"shape\":\"\"}},\"name\":\"MARUTI\",\"offsetgroup\":\"MARUTI\",\"orientation\":\"v\",\"showlegend\":true,\"x\":[7445.0],\"xaxis\":\"x\",\"yaxis\":\"y\",\"type\":\"histogram\"},{\"alignmentgroup\":\"True\",\"bingroup\":\"x\",\"hovertemplate\":\"SYMBOL=BAJAJFINSV<br>LTP_F=%{x}<br>count=%{y}<extra></extra>\",\"legendgroup\":\"BAJAJFINSV\",\"marker\":{\"color\":\"#AF0038\",\"pattern\":{\"shape\":\"\"}},\"name\":\"BAJAJFINSV\",\"offsetgroup\":\"BAJAJFINSV\",\"orientation\":\"v\",\"showlegend\":true,\"x\":[16096.95],\"xaxis\":\"x\",\"yaxis\":\"y\",\"type\":\"histogram\"},{\"alignmentgroup\":\"True\",\"bingroup\":\"x\",\"hovertemplate\":\"SYMBOL=NESTLEIND<br>LTP_F=%{x}<br>count=%{y}<extra></extra>\",\"legendgroup\":\"NESTLEIND\",\"marker\":{\"color\":\"#2E91E5\",\"pattern\":{\"shape\":\"\"}},\"name\":\"NESTLEIND\",\"offsetgroup\":\"NESTLEIND\",\"orientation\":\"v\",\"showlegend\":true,\"x\":[18281.0],\"xaxis\":\"x\",\"yaxis\":\"y\",\"type\":\"histogram\"},{\"alignmentgroup\":\"True\",\"bingroup\":\"x\",\"hovertemplate\":\"SYMBOL=SHREECEM<br>LTP_F=%{x}<br>count=%{y}<extra></extra>\",\"legendgroup\":\"SHREECEM\",\"marker\":{\"color\":\"#E15F99\",\"pattern\":{\"shape\":\"\"}},\"name\":\"SHREECEM\",\"offsetgroup\":\"SHREECEM\",\"orientation\":\"v\",\"showlegend\":true,\"x\":[25360.0],\"xaxis\":\"x\",\"yaxis\":\"y\",\"type\":\"histogram\"}],                        {\"template\":{\"data\":{\"histogram2dcontour\":[{\"type\":\"histogram2dcontour\",\"colorbar\":{\"outlinewidth\":0,\"ticks\":\"\"},\"colorscale\":[[0.0,\"#0d0887\"],[0.1111111111111111,\"#46039f\"],[0.2222222222222222,\"#7201a8\"],[0.3333333333333333,\"#9c179e\"],[0.4444444444444444,\"#bd3786\"],[0.5555555555555556,\"#d8576b\"],[0.6666666666666666,\"#ed7953\"],[0.7777777777777778,\"#fb9f3a\"],[0.8888888888888888,\"#fdca26\"],[1.0,\"#f0f921\"]]}],\"choropleth\":[{\"type\":\"choropleth\",\"colorbar\":{\"outlinewidth\":0,\"ticks\":\"\"}}],\"histogram2d\":[{\"type\":\"histogram2d\",\"colorbar\":{\"outlinewidth\":0,\"ticks\":\"\"},\"colorscale\":[[0.0,\"#0d0887\"],[0.1111111111111111,\"#46039f\"],[0.2222222222222222,\"#7201a8\"],[0.3333333333333333,\"#9c179e\"],[0.4444444444444444,\"#bd3786\"],[0.5555555555555556,\"#d8576b\"],[0.6666666666666666,\"#ed7953\"],[0.7777777777777778,\"#fb9f3a\"],[0.8888888888888888,\"#fdca26\"],[1.0,\"#f0f921\"]]}],\"heatmap\":[{\"type\":\"heatmap\",\"colorbar\":{\"outlinewidth\":0,\"ticks\":\"\"},\"colorscale\":[[0.0,\"#0d0887\"],[0.1111111111111111,\"#46039f\"],[0.2222222222222222,\"#7201a8\"],[0.3333333333333333,\"#9c179e\"],[0.4444444444444444,\"#bd3786\"],[0.5555555555555556,\"#d8576b\"],[0.6666666666666666,\"#ed7953\"],[0.7777777777777778,\"#fb9f3a\"],[0.8888888888888888,\"#fdca26\"],[1.0,\"#f0f921\"]]}],\"heatmapgl\":[{\"type\":\"heatmapgl\",\"colorbar\":{\"outlinewidth\":0,\"ticks\":\"\"},\"colorscale\":[[0.0,\"#0d0887\"],[0.1111111111111111,\"#46039f\"],[0.2222222222222222,\"#7201a8\"],[0.3333333333333333,\"#9c179e\"],[0.4444444444444444,\"#bd3786\"],[0.5555555555555556,\"#d8576b\"],[0.6666666666666666,\"#ed7953\"],[0.7777777777777778,\"#fb9f3a\"],[0.8888888888888888,\"#fdca26\"],[1.0,\"#f0f921\"]]}],\"contourcarpet\":[{\"type\":\"contourcarpet\",\"colorbar\":{\"outlinewidth\":0,\"ticks\":\"\"}}],\"contour\":[{\"type\":\"contour\",\"colorbar\":{\"outlinewidth\":0,\"ticks\":\"\"},\"colorscale\":[[0.0,\"#0d0887\"],[0.1111111111111111,\"#46039f\"],[0.2222222222222222,\"#7201a8\"],[0.3333333333333333,\"#9c179e\"],[0.4444444444444444,\"#bd3786\"],[0.5555555555555556,\"#d8576b\"],[0.6666666666666666,\"#ed7953\"],[0.7777777777777778,\"#fb9f3a\"],[0.8888888888888888,\"#fdca26\"],[1.0,\"#f0f921\"]]}],\"surface\":[{\"type\":\"surface\",\"colorbar\":{\"outlinewidth\":0,\"ticks\":\"\"},\"colorscale\":[[0.0,\"#0d0887\"],[0.1111111111111111,\"#46039f\"],[0.2222222222222222,\"#7201a8\"],[0.3333333333333333,\"#9c179e\"],[0.4444444444444444,\"#bd3786\"],[0.5555555555555556,\"#d8576b\"],[0.6666666666666666,\"#ed7953\"],[0.7777777777777778,\"#fb9f3a\"],[0.8888888888888888,\"#fdca26\"],[1.0,\"#f0f921\"]]}],\"mesh3d\":[{\"type\":\"mesh3d\",\"colorbar\":{\"outlinewidth\":0,\"ticks\":\"\"}}],\"scatter\":[{\"fillpattern\":{\"fillmode\":\"overlay\",\"size\":10,\"solidity\":0.2},\"type\":\"scatter\"}],\"parcoords\":[{\"type\":\"parcoords\",\"line\":{\"colorbar\":{\"outlinewidth\":0,\"ticks\":\"\"}}}],\"scatterpolargl\":[{\"type\":\"scatterpolargl\",\"marker\":{\"colorbar\":{\"outlinewidth\":0,\"ticks\":\"\"}}}],\"bar\":[{\"error_x\":{\"color\":\"#2a3f5f\"},\"error_y\":{\"color\":\"#2a3f5f\"},\"marker\":{\"line\":{\"color\":\"#E5ECF6\",\"width\":0.5},\"pattern\":{\"fillmode\":\"overlay\",\"size\":10,\"solidity\":0.2}},\"type\":\"bar\"}],\"scattergeo\":[{\"type\":\"scattergeo\",\"marker\":{\"colorbar\":{\"outlinewidth\":0,\"ticks\":\"\"}}}],\"scatterpolar\":[{\"type\":\"scatterpolar\",\"marker\":{\"colorbar\":{\"outlinewidth\":0,\"ticks\":\"\"}}}],\"histogram\":[{\"marker\":{\"pattern\":{\"fillmode\":\"overlay\",\"size\":10,\"solidity\":0.2}},\"type\":\"histogram\"}],\"scattergl\":[{\"type\":\"scattergl\",\"marker\":{\"colorbar\":{\"outlinewidth\":0,\"ticks\":\"\"}}}],\"scatter3d\":[{\"type\":\"scatter3d\",\"line\":{\"colorbar\":{\"outlinewidth\":0,\"ticks\":\"\"}},\"marker\":{\"colorbar\":{\"outlinewidth\":0,\"ticks\":\"\"}}}],\"scattermapbox\":[{\"type\":\"scattermapbox\",\"marker\":{\"colorbar\":{\"outlinewidth\":0,\"ticks\":\"\"}}}],\"scatterternary\":[{\"type\":\"scatterternary\",\"marker\":{\"colorbar\":{\"outlinewidth\":0,\"ticks\":\"\"}}}],\"scattercarpet\":[{\"type\":\"scattercarpet\",\"marker\":{\"colorbar\":{\"outlinewidth\":0,\"ticks\":\"\"}}}],\"carpet\":[{\"aaxis\":{\"endlinecolor\":\"#2a3f5f\",\"gridcolor\":\"white\",\"linecolor\":\"white\",\"minorgridcolor\":\"white\",\"startlinecolor\":\"#2a3f5f\"},\"baxis\":{\"endlinecolor\":\"#2a3f5f\",\"gridcolor\":\"white\",\"linecolor\":\"white\",\"minorgridcolor\":\"white\",\"startlinecolor\":\"#2a3f5f\"},\"type\":\"carpet\"}],\"table\":[{\"cells\":{\"fill\":{\"color\":\"#EBF0F8\"},\"line\":{\"color\":\"white\"}},\"header\":{\"fill\":{\"color\":\"#C8D4E3\"},\"line\":{\"color\":\"white\"}},\"type\":\"table\"}],\"barpolar\":[{\"marker\":{\"line\":{\"color\":\"#E5ECF6\",\"width\":0.5},\"pattern\":{\"fillmode\":\"overlay\",\"size\":10,\"solidity\":0.2}},\"type\":\"barpolar\"}],\"pie\":[{\"automargin\":true,\"type\":\"pie\"}]},\"layout\":{\"autotypenumbers\":\"strict\",\"colorway\":[\"#636efa\",\"#EF553B\",\"#00cc96\",\"#ab63fa\",\"#FFA15A\",\"#19d3f3\",\"#FF6692\",\"#B6E880\",\"#FF97FF\",\"#FECB52\"],\"font\":{\"color\":\"#2a3f5f\"},\"hovermode\":\"closest\",\"hoverlabel\":{\"align\":\"left\"},\"paper_bgcolor\":\"white\",\"plot_bgcolor\":\"#E5ECF6\",\"polar\":{\"bgcolor\":\"#E5ECF6\",\"angularaxis\":{\"gridcolor\":\"white\",\"linecolor\":\"white\",\"ticks\":\"\"},\"radialaxis\":{\"gridcolor\":\"white\",\"linecolor\":\"white\",\"ticks\":\"\"}},\"ternary\":{\"bgcolor\":\"#E5ECF6\",\"aaxis\":{\"gridcolor\":\"white\",\"linecolor\":\"white\",\"ticks\":\"\"},\"baxis\":{\"gridcolor\":\"white\",\"linecolor\":\"white\",\"ticks\":\"\"},\"caxis\":{\"gridcolor\":\"white\",\"linecolor\":\"white\",\"ticks\":\"\"}},\"coloraxis\":{\"colorbar\":{\"outlinewidth\":0,\"ticks\":\"\"}},\"colorscale\":{\"sequential\":[[0.0,\"#0d0887\"],[0.1111111111111111,\"#46039f\"],[0.2222222222222222,\"#7201a8\"],[0.3333333333333333,\"#9c179e\"],[0.4444444444444444,\"#bd3786\"],[0.5555555555555556,\"#d8576b\"],[0.6666666666666666,\"#ed7953\"],[0.7777777777777778,\"#fb9f3a\"],[0.8888888888888888,\"#fdca26\"],[1.0,\"#f0f921\"]],\"sequentialminus\":[[0.0,\"#0d0887\"],[0.1111111111111111,\"#46039f\"],[0.2222222222222222,\"#7201a8\"],[0.3333333333333333,\"#9c179e\"],[0.4444444444444444,\"#bd3786\"],[0.5555555555555556,\"#d8576b\"],[0.6666666666666666,\"#ed7953\"],[0.7777777777777778,\"#fb9f3a\"],[0.8888888888888888,\"#fdca26\"],[1.0,\"#f0f921\"]],\"diverging\":[[0,\"#8e0152\"],[0.1,\"#c51b7d\"],[0.2,\"#de77ae\"],[0.3,\"#f1b6da\"],[0.4,\"#fde0ef\"],[0.5,\"#f7f7f7\"],[0.6,\"#e6f5d0\"],[0.7,\"#b8e186\"],[0.8,\"#7fbc41\"],[0.9,\"#4d9221\"],[1,\"#276419\"]]},\"xaxis\":{\"gridcolor\":\"white\",\"linecolor\":\"white\",\"ticks\":\"\",\"title\":{\"standoff\":15},\"zerolinecolor\":\"white\",\"automargin\":true,\"zerolinewidth\":2},\"yaxis\":{\"gridcolor\":\"white\",\"linecolor\":\"white\",\"ticks\":\"\",\"title\":{\"standoff\":15},\"zerolinecolor\":\"white\",\"automargin\":true,\"zerolinewidth\":2},\"scene\":{\"xaxis\":{\"backgroundcolor\":\"#E5ECF6\",\"gridcolor\":\"white\",\"linecolor\":\"white\",\"showbackground\":true,\"ticks\":\"\",\"zerolinecolor\":\"white\",\"gridwidth\":2},\"yaxis\":{\"backgroundcolor\":\"#E5ECF6\",\"gridcolor\":\"white\",\"linecolor\":\"white\",\"showbackground\":true,\"ticks\":\"\",\"zerolinecolor\":\"white\",\"gridwidth\":2},\"zaxis\":{\"backgroundcolor\":\"#E5ECF6\",\"gridcolor\":\"white\",\"linecolor\":\"white\",\"showbackground\":true,\"ticks\":\"\",\"zerolinecolor\":\"white\",\"gridwidth\":2}},\"shapedefaults\":{\"line\":{\"color\":\"#2a3f5f\"}},\"annotationdefaults\":{\"arrowcolor\":\"#2a3f5f\",\"arrowhead\":0,\"arrowwidth\":1},\"geo\":{\"bgcolor\":\"white\",\"landcolor\":\"#E5ECF6\",\"subunitcolor\":\"white\",\"showland\":true,\"showlakes\":true,\"lakecolor\":\"white\"},\"title\":{\"x\":0.05},\"mapbox\":{\"style\":\"light\"}}},\"xaxis\":{\"anchor\":\"y\",\"domain\":[0.0,1.0],\"title\":{\"text\":\"LTP_F\"}},\"yaxis\":{\"anchor\":\"x\",\"domain\":[0.0,1.0],\"title\":{\"text\":\"count\"}},\"legend\":{\"title\":{\"text\":\"SYMBOL\"},\"tracegroupgap\":0},\"title\":{\"text\":\"LTP Chart\"},\"barmode\":\"relative\"},                        {\"responsive\": true}                    ).then(function(){\n",
       "                            \n",
       "var gd = document.getElementById('425f0859-a08d-4e2b-9b6b-c776028ed77e');\n",
       "var x = new MutationObserver(function (mutations, observer) {{\n",
       "        var display = window.getComputedStyle(gd).display;\n",
       "        if (!display || display === 'none') {{\n",
       "            console.log([gd, 'removed!']);\n",
       "            Plotly.purge(gd);\n",
       "            observer.disconnect();\n",
       "        }}\n",
       "}});\n",
       "\n",
       "// Listen for the removal of the full notebook cells\n",
       "var notebookContainer = gd.closest('#notebook-container');\n",
       "if (notebookContainer) {{\n",
       "    x.observe(notebookContainer, {childList: true});\n",
       "}}\n",
       "\n",
       "// Listen for the clearing of the current output cell\n",
       "var outputEl = gd.closest('.output');\n",
       "if (outputEl) {{\n",
       "    x.observe(outputEl, {childList: true});\n",
       "}}\n",
       "\n",
       "                        })                };                });            </script>        </div>"
      ]
     },
     "metadata": {},
     "output_type": "display_data"
    }
   ],
   "source": [
    "px.histogram(df_nifity.sort_values(by='LTP_F'),\n",
    "             x='LTP_F',color='SYMBOL',title=\"LTP Chart\",\n",
    "            color_discrete_sequence=px.colors.qualitative.Dark24) "
   ]
  },
  {
   "cell_type": "code",
   "execution_count": 12,
   "id": "c98d6b85",
   "metadata": {},
   "outputs": [
    {
     "data": {
      "application/vnd.plotly.v1+json": {
       "config": {
        "plotlyServerURL": "https://plot.ly"
       },
       "data": [
        {
         "hovertemplate": "SYMBOL=%{x}<br>LTP_F=%{y}<extra></extra>",
         "legendgroup": "NTPC",
         "marker": {
          "color": "#2E91E5",
          "symbol": "circle"
         },
         "mode": "markers",
         "name": "NTPC",
         "orientation": "v",
         "showlegend": true,
         "type": "scatter",
         "x": [
          "NTPC"
         ],
         "xaxis": "x",
         "y": [
          153.9
         ],
         "yaxis": "y"
        },
        {
         "hovertemplate": "SYMBOL=%{x}<br>LTP_F=%{y}<extra></extra>",
         "legendgroup": "ONGC",
         "marker": {
          "color": "#E15F99",
          "symbol": "circle"
         },
         "mode": "markers",
         "name": "ONGC",
         "orientation": "v",
         "showlegend": true,
         "type": "scatter",
         "x": [
          "ONGC"
         ],
         "xaxis": "x",
         "y": [
          173.95
         ],
         "yaxis": "y"
        },
        {
         "hovertemplate": "SYMBOL=%{x}<br>LTP_F=%{y}<extra></extra>",
         "legendgroup": "COALINDIA",
         "marker": {
          "color": "#1CA71C",
          "symbol": "circle"
         },
         "mode": "markers",
         "name": "COALINDIA",
         "orientation": "v",
         "showlegend": true,
         "type": "scatter",
         "x": [
          "COALINDIA"
         ],
         "xaxis": "x",
         "y": [
          186.35
         ],
         "yaxis": "y"
        },
        {
         "hovertemplate": "SYMBOL=%{x}<br>LTP_F=%{y}<extra></extra>",
         "legendgroup": "POWERGRID",
         "marker": {
          "color": "#FB0D0D",
          "symbol": "circle"
         },
         "mode": "markers",
         "name": "POWERGRID",
         "orientation": "v",
         "showlegend": true,
         "type": "scatter",
         "x": [
          "POWERGRID"
         ],
         "xaxis": "x",
         "y": [
          229.85
         ],
         "yaxis": "y"
        },
        {
         "hovertemplate": "SYMBOL=%{x}<br>LTP_F=%{y}<extra></extra>",
         "legendgroup": "ITC",
         "marker": {
          "color": "#DA16FF",
          "symbol": "circle"
         },
         "mode": "markers",
         "name": "ITC",
         "orientation": "v",
         "showlegend": true,
         "type": "scatter",
         "x": [
          "ITC"
         ],
         "xaxis": "x",
         "y": [
          269.1
         ],
         "yaxis": "y"
        },
        {
         "hovertemplate": "SYMBOL=%{x}<br>LTP_F=%{y}<extra></extra>",
         "legendgroup": "BPCL",
         "marker": {
          "color": "#222A2A",
          "symbol": "circle"
         },
         "mode": "markers",
         "name": "BPCL",
         "orientation": "v",
         "showlegend": true,
         "type": "scatter",
         "x": [
          "BPCL"
         ],
         "xaxis": "x",
         "y": [
          378.5
         ],
         "yaxis": "y"
        },
        {
         "hovertemplate": "SYMBOL=%{x}<br>LTP_F=%{y}<extra></extra>",
         "legendgroup": "TATAMOTORS",
         "marker": {
          "color": "#B68100",
          "symbol": "circle"
         },
         "mode": "markers",
         "name": "TATAMOTORS",
         "orientation": "v",
         "showlegend": true,
         "type": "scatter",
         "x": [
          "TATAMOTORS"
         ],
         "xaxis": "x",
         "y": [
          431.5
         ],
         "yaxis": "y"
        },
        {
         "hovertemplate": "SYMBOL=%{x}<br>LTP_F=%{y}<extra></extra>",
         "legendgroup": "SBIN",
         "marker": {
          "color": "#750D86",
          "symbol": "circle"
         },
         "mode": "markers",
         "name": "SBIN",
         "orientation": "v",
         "showlegend": true,
         "type": "scatter",
         "x": [
          "SBIN"
         ],
         "xaxis": "x",
         "y": [
          517.7
         ],
         "yaxis": "y"
        },
        {
         "hovertemplate": "SYMBOL=%{x}<br>LTP_F=%{y}<extra></extra>",
         "legendgroup": "HINDALCO",
         "marker": {
          "color": "#EB663B",
          "symbol": "circle"
         },
         "mode": "markers",
         "name": "HINDALCO",
         "orientation": "v",
         "showlegend": true,
         "type": "scatter",
         "x": [
          "HINDALCO"
         ],
         "xaxis": "x",
         "y": [
          545.75
         ],
         "yaxis": "y"
        },
        {
         "hovertemplate": "SYMBOL=%{x}<br>LTP_F=%{y}<extra></extra>",
         "legendgroup": "WIPRO",
         "marker": {
          "color": "#511CFB",
          "symbol": "circle"
         },
         "mode": "markers",
         "name": "WIPRO",
         "orientation": "v",
         "showlegend": true,
         "type": "scatter",
         "x": [
          "WIPRO"
         ],
         "xaxis": "x",
         "y": [
          559.8
         ],
         "yaxis": "y"
        },
        {
         "hovertemplate": "SYMBOL=%{x}<br>LTP_F=%{y}<extra></extra>",
         "legendgroup": "HDFCLIFE",
         "marker": {
          "color": "#00A08B",
          "symbol": "circle"
         },
         "mode": "markers",
         "name": "HDFCLIFE",
         "orientation": "v",
         "showlegend": true,
         "type": "scatter",
         "x": [
          "HDFCLIFE"
         ],
         "xaxis": "x",
         "y": [
          565.05
         ],
         "yaxis": "y"
        },
        {
         "hovertemplate": "SYMBOL=%{x}<br>LTP_F=%{y}<extra></extra>",
         "legendgroup": "BHARTIARTL",
         "marker": {
          "color": "#FB00D1",
          "symbol": "circle"
         },
         "mode": "markers",
         "name": "BHARTIARTL",
         "orientation": "v",
         "showlegend": true,
         "type": "scatter",
         "x": [
          "BHARTIARTL"
         ],
         "xaxis": "x",
         "y": [
          739.9
         ],
         "yaxis": "y"
        },
        {
         "hovertemplate": "SYMBOL=%{x}<br>LTP_F=%{y}<extra></extra>",
         "legendgroup": "ICICIBANK",
         "marker": {
          "color": "#FC0080",
          "symbol": "circle"
         },
         "mode": "markers",
         "name": "ICICIBANK",
         "orientation": "v",
         "showlegend": true,
         "type": "scatter",
         "x": [
          "ICICIBANK"
         ],
         "xaxis": "x",
         "y": [
          761.55
         ],
         "yaxis": "y"
        },
        {
         "hovertemplate": "SYMBOL=%{x}<br>LTP_F=%{y}<extra></extra>",
         "legendgroup": "JSWSTEEL",
         "marker": {
          "color": "#B2828D",
          "symbol": "circle"
         },
         "mode": "markers",
         "name": "JSWSTEEL",
         "orientation": "v",
         "showlegend": true,
         "type": "scatter",
         "x": [
          "JSWSTEEL"
         ],
         "xaxis": "x",
         "y": [
          764.45
         ],
         "yaxis": "y"
        },
        {
         "hovertemplate": "SYMBOL=%{x}<br>LTP_F=%{y}<extra></extra>",
         "legendgroup": "AXISBANK",
         "marker": {
          "color": "#6C7C32",
          "symbol": "circle"
         },
         "mode": "markers",
         "name": "AXISBANK",
         "orientation": "v",
         "showlegend": true,
         "type": "scatter",
         "x": [
          "AXISBANK"
         ],
         "xaxis": "x",
         "y": [
          792
         ],
         "yaxis": "y"
        },
        {
         "hovertemplate": "SYMBOL=%{x}<br>LTP_F=%{y}<extra></extra>",
         "legendgroup": "TATACONSUM",
         "marker": {
          "color": "#778AAE",
          "symbol": "circle"
         },
         "mode": "markers",
         "name": "TATACONSUM",
         "orientation": "v",
         "showlegend": true,
         "type": "scatter",
         "x": [
          "TATACONSUM"
         ],
         "xaxis": "x",
         "y": [
          816.2
         ],
         "yaxis": "y"
        },
        {
         "hovertemplate": "SYMBOL=%{x}<br>LTP_F=%{y}<extra></extra>",
         "legendgroup": "UPL",
         "marker": {
          "color": "#862A16",
          "symbol": "circle"
         },
         "mode": "markers",
         "name": "UPL",
         "orientation": "v",
         "showlegend": true,
         "type": "scatter",
         "x": [
          "UPL"
         ],
         "xaxis": "x",
         "y": [
          819.5
         ],
         "yaxis": "y"
        },
        {
         "hovertemplate": "SYMBOL=%{x}<br>LTP_F=%{y}<extra></extra>",
         "legendgroup": "ADANIPORTS",
         "marker": {
          "color": "#A777F1",
          "symbol": "circle"
         },
         "mode": "markers",
         "name": "ADANIPORTS",
         "orientation": "v",
         "showlegend": true,
         "type": "scatter",
         "x": [
          "ADANIPORTS"
         ],
         "xaxis": "x",
         "y": [
          838.15
         ],
         "yaxis": "y"
        },
        {
         "hovertemplate": "SYMBOL=%{x}<br>LTP_F=%{y}<extra></extra>",
         "legendgroup": "M&M",
         "marker": {
          "color": "#620042",
          "symbol": "circle"
         },
         "mode": "markers",
         "name": "M&M",
         "orientation": "v",
         "showlegend": true,
         "type": "scatter",
         "x": [
          "M&M"
         ],
         "xaxis": "x",
         "y": [
          865
         ],
         "yaxis": "y"
        },
        {
         "hovertemplate": "SYMBOL=%{x}<br>LTP_F=%{y}<extra></extra>",
         "legendgroup": "SUNPHARMA",
         "marker": {
          "color": "#1616A7",
          "symbol": "circle"
         },
         "mode": "markers",
         "name": "SUNPHARMA",
         "orientation": "v",
         "showlegend": true,
         "type": "scatter",
         "x": [
          "SUNPHARMA"
         ],
         "xaxis": "x",
         "y": [
          935.25
         ],
         "yaxis": "y"
        },
        {
         "hovertemplate": "SYMBOL=%{x}<br>LTP_F=%{y}<extra></extra>",
         "legendgroup": "INDUSINDBK",
         "marker": {
          "color": "#DA60CA",
          "symbol": "circle"
         },
         "mode": "markers",
         "name": "INDUSINDBK",
         "orientation": "v",
         "showlegend": true,
         "type": "scatter",
         "x": [
          "INDUSINDBK"
         ],
         "xaxis": "x",
         "y": [
          983.9
         ],
         "yaxis": "y"
        },
        {
         "hovertemplate": "SYMBOL=%{x}<br>LTP_F=%{y}<extra></extra>",
         "legendgroup": "CIPLA",
         "marker": {
          "color": "#6C4516",
          "symbol": "circle"
         },
         "mode": "markers",
         "name": "CIPLA",
         "orientation": "v",
         "showlegend": true,
         "type": "scatter",
         "x": [
          "CIPLA"
         ],
         "xaxis": "x",
         "y": [
          1017.35
         ],
         "yaxis": "y"
        },
        {
         "hovertemplate": "SYMBOL=%{x}<br>LTP_F=%{y}<extra></extra>",
         "legendgroup": "HCLTECH",
         "marker": {
          "color": "#0D2A63",
          "symbol": "circle"
         },
         "mode": "markers",
         "name": "HCLTECH",
         "orientation": "v",
         "showlegend": true,
         "type": "scatter",
         "x": [
          "HCLTECH"
         ],
         "xaxis": "x",
         "y": [
          1127
         ],
         "yaxis": "y"
        },
        {
         "hovertemplate": "SYMBOL=%{x}<br>LTP_F=%{y}<extra></extra>",
         "legendgroup": "SBILIFE",
         "marker": {
          "color": "#AF0038",
          "symbol": "circle"
         },
         "mode": "markers",
         "name": "SBILIFE",
         "orientation": "v",
         "showlegend": true,
         "type": "scatter",
         "x": [
          "SBILIFE"
         ],
         "xaxis": "x",
         "y": [
          1146.1
         ],
         "yaxis": "y"
        },
        {
         "hovertemplate": "SYMBOL=%{x}<br>LTP_F=%{y}<extra></extra>",
         "legendgroup": "TATASTEEL",
         "marker": {
          "color": "#2E91E5",
          "symbol": "circle"
         },
         "mode": "markers",
         "name": "TATASTEEL",
         "orientation": "v",
         "showlegend": true,
         "type": "scatter",
         "x": [
          "TATASTEEL"
         ],
         "xaxis": "x",
         "y": [
          1316.05
         ],
         "yaxis": "y"
        },
        {
         "hovertemplate": "SYMBOL=%{x}<br>LTP_F=%{y}<extra></extra>",
         "legendgroup": "TECHM",
         "marker": {
          "color": "#E15F99",
          "symbol": "circle"
         },
         "mode": "markers",
         "name": "TECHM",
         "orientation": "v",
         "showlegend": true,
         "type": "scatter",
         "x": [
          "TECHM"
         ],
         "xaxis": "x",
         "y": [
          1409.45
         ],
         "yaxis": "y"
        },
        {
         "hovertemplate": "SYMBOL=%{x}<br>LTP_F=%{y}<extra></extra>",
         "legendgroup": "HDFCBANK",
         "marker": {
          "color": "#1CA71C",
          "symbol": "circle"
         },
         "mode": "markers",
         "name": "HDFCBANK",
         "orientation": "v",
         "showlegend": true,
         "type": "scatter",
         "x": [
          "HDFCBANK"
         ],
         "xaxis": "x",
         "y": [
          1464
         ],
         "yaxis": "y"
        },
        {
         "hovertemplate": "SYMBOL=%{x}<br>LTP_F=%{y}<extra></extra>",
         "legendgroup": "INFY",
         "marker": {
          "color": "#FB0D0D",
          "symbol": "circle"
         },
         "mode": "markers",
         "name": "INFY",
         "orientation": "v",
         "showlegend": true,
         "type": "scatter",
         "x": [
          "INFY"
         ],
         "xaxis": "x",
         "y": [
          1751
         ],
         "yaxis": "y"
        },
        {
         "hovertemplate": "SYMBOL=%{x}<br>LTP_F=%{y}<extra></extra>",
         "legendgroup": "LT",
         "marker": {
          "color": "#DA16FF",
          "symbol": "circle"
         },
         "mode": "markers",
         "name": "LT",
         "orientation": "v",
         "showlegend": true,
         "type": "scatter",
         "x": [
          "LT"
         ],
         "xaxis": "x",
         "y": [
          1758.55
         ],
         "yaxis": "y"
        },
        {
         "hovertemplate": "SYMBOL=%{x}<br>LTP_F=%{y}<extra></extra>",
         "legendgroup": "GRASIM",
         "marker": {
          "color": "#222A2A",
          "symbol": "circle"
         },
         "mode": "markers",
         "name": "GRASIM",
         "orientation": "v",
         "showlegend": true,
         "type": "scatter",
         "x": [
          "GRASIM"
         ],
         "xaxis": "x",
         "y": [
          1763.8
         ],
         "yaxis": "y"
        },
        {
         "hovertemplate": "SYMBOL=%{x}<br>LTP_F=%{y}<extra></extra>",
         "legendgroup": "KOTAKBANK",
         "marker": {
          "color": "#B68100",
          "symbol": "circle"
         },
         "mode": "markers",
         "name": "KOTAKBANK",
         "orientation": "v",
         "showlegend": true,
         "type": "scatter",
         "x": [
          "KOTAKBANK"
         ],
         "xaxis": "x",
         "y": [
          1780
         ],
         "yaxis": "y"
        },
        {
         "hovertemplate": "SYMBOL=%{x}<br>LTP_F=%{y}<extra></extra>",
         "legendgroup": "HINDUNILVR",
         "marker": {
          "color": "#750D86",
          "symbol": "circle"
         },
         "mode": "markers",
         "name": "HINDUNILVR",
         "orientation": "v",
         "showlegend": true,
         "type": "scatter",
         "x": [
          "HINDUNILVR"
         ],
         "xaxis": "x",
         "y": [
          2150.75
         ],
         "yaxis": "y"
        },
        {
         "hovertemplate": "SYMBOL=%{x}<br>LTP_F=%{y}<extra></extra>",
         "legendgroup": "HEROMOTOCO",
         "marker": {
          "color": "#EB663B",
          "symbol": "circle"
         },
         "mode": "markers",
         "name": "HEROMOTOCO",
         "orientation": "v",
         "showlegend": true,
         "type": "scatter",
         "x": [
          "HEROMOTOCO"
         ],
         "xaxis": "x",
         "y": [
          2272.55
         ],
         "yaxis": "y"
        },
        {
         "hovertemplate": "SYMBOL=%{x}<br>LTP_F=%{y}<extra></extra>",
         "legendgroup": "HDFC",
         "marker": {
          "color": "#511CFB",
          "symbol": "circle"
         },
         "mode": "markers",
         "name": "HDFC",
         "orientation": "v",
         "showlegend": true,
         "type": "scatter",
         "x": [
          "HDFC"
         ],
         "xaxis": "x",
         "y": [
          2371.55
         ],
         "yaxis": "y"
        },
        {
         "hovertemplate": "SYMBOL=%{x}<br>LTP_F=%{y}<extra></extra>",
         "legendgroup": "TITAN",
         "marker": {
          "color": "#00A08B",
          "symbol": "circle"
         },
         "mode": "markers",
         "name": "TITAN",
         "orientation": "v",
         "showlegend": true,
         "type": "scatter",
         "x": [
          "TITAN"
         ],
         "xaxis": "x",
         "y": [
          2461.5
         ],
         "yaxis": "y"
        },
        {
         "hovertemplate": "SYMBOL=%{x}<br>LTP_F=%{y}<extra></extra>",
         "legendgroup": "EICHERMOT",
         "marker": {
          "color": "#FB00D1",
          "symbol": "circle"
         },
         "mode": "markers",
         "name": "EICHERMOT",
         "orientation": "v",
         "showlegend": true,
         "type": "scatter",
         "x": [
          "EICHERMOT"
         ],
         "xaxis": "x",
         "y": [
          2484
         ],
         "yaxis": "y"
        },
        {
         "hovertemplate": "SYMBOL=%{x}<br>LTP_F=%{y}<extra></extra>",
         "legendgroup": "RELIANCE",
         "marker": {
          "color": "#FC0080",
          "symbol": "circle"
         },
         "mode": "markers",
         "name": "RELIANCE",
         "orientation": "v",
         "showlegend": true,
         "type": "scatter",
         "x": [
          "RELIANCE"
         ],
         "xaxis": "x",
         "y": [
          2551.9
         ],
         "yaxis": "y"
        },
        {
         "hovertemplate": "SYMBOL=%{x}<br>LTP_F=%{y}<extra></extra>",
         "legendgroup": "ASIANPAINT",
         "marker": {
          "color": "#B2828D",
          "symbol": "circle"
         },
         "mode": "markers",
         "name": "ASIANPAINT",
         "orientation": "v",
         "showlegend": true,
         "type": "scatter",
         "x": [
          "ASIANPAINT"
         ],
         "xaxis": "x",
         "y": [
          3084
         ],
         "yaxis": "y"
        },
        {
         "hovertemplate": "SYMBOL=%{x}<br>LTP_F=%{y}<extra></extra>",
         "legendgroup": "BRITANNIA",
         "marker": {
          "color": "#6C7C32",
          "symbol": "circle"
         },
         "mode": "markers",
         "name": "BRITANNIA",
         "orientation": "v",
         "showlegend": true,
         "type": "scatter",
         "x": [
          "BRITANNIA"
         ],
         "xaxis": "x",
         "y": [
          3345.95
         ],
         "yaxis": "y"
        },
        {
         "hovertemplate": "SYMBOL=%{x}<br>LTP_F=%{y}<extra></extra>",
         "legendgroup": "TCS",
         "marker": {
          "color": "#778AAE",
          "symbol": "circle"
         },
         "mode": "markers",
         "name": "TCS",
         "orientation": "v",
         "showlegend": true,
         "type": "scatter",
         "x": [
          "TCS"
         ],
         "xaxis": "x",
         "y": [
          3664.95
         ],
         "yaxis": "y"
        },
        {
         "hovertemplate": "SYMBOL=%{x}<br>LTP_F=%{y}<extra></extra>",
         "legendgroup": "BAJAJ-AUTO",
         "marker": {
          "color": "#862A16",
          "symbol": "circle"
         },
         "mode": "markers",
         "name": "BAJAJ-AUTO",
         "orientation": "v",
         "showlegend": true,
         "type": "scatter",
         "x": [
          "BAJAJ-AUTO"
         ],
         "xaxis": "x",
         "y": [
          3694.65
         ],
         "yaxis": "y"
        },
        {
         "hovertemplate": "SYMBOL=%{x}<br>LTP_F=%{y}<extra></extra>",
         "legendgroup": "DRREDDY",
         "marker": {
          "color": "#A777F1",
          "symbol": "circle"
         },
         "mode": "markers",
         "name": "DRREDDY",
         "orientation": "v",
         "showlegend": true,
         "type": "scatter",
         "x": [
          "DRREDDY"
         ],
         "xaxis": "x",
         "y": [
          4302
         ],
         "yaxis": "y"
        },
        {
         "hovertemplate": "SYMBOL=%{x}<br>LTP_F=%{y}<extra></extra>",
         "legendgroup": "DIVISLAB",
         "marker": {
          "color": "#620042",
          "symbol": "circle"
         },
         "mode": "markers",
         "name": "DIVISLAB",
         "orientation": "v",
         "showlegend": true,
         "type": "scatter",
         "x": [
          "DIVISLAB"
         ],
         "xaxis": "x",
         "y": [
          4497
         ],
         "yaxis": "y"
        },
        {
         "hovertemplate": "SYMBOL=%{x}<br>LTP_F=%{y}<extra></extra>",
         "legendgroup": "APOLLOHOSP",
         "marker": {
          "color": "#1616A7",
          "symbol": "circle"
         },
         "mode": "markers",
         "name": "APOLLOHOSP",
         "orientation": "v",
         "showlegend": true,
         "type": "scatter",
         "x": [
          "APOLLOHOSP"
         ],
         "xaxis": "x",
         "y": [
          4735.05
         ],
         "yaxis": "y"
        },
        {
         "hovertemplate": "SYMBOL=%{x}<br>LTP_F=%{y}<extra></extra>",
         "legendgroup": "ULTRACEMCO",
         "marker": {
          "color": "#DA60CA",
          "symbol": "circle"
         },
         "mode": "markers",
         "name": "ULTRACEMCO",
         "orientation": "v",
         "showlegend": true,
         "type": "scatter",
         "x": [
          "ULTRACEMCO"
         ],
         "xaxis": "x",
         "y": [
          6714
         ],
         "yaxis": "y"
        },
        {
         "hovertemplate": "SYMBOL=%{x}<br>LTP_F=%{y}<extra></extra>",
         "legendgroup": "BAJFINANCE",
         "marker": {
          "color": "#6C4516",
          "symbol": "circle"
         },
         "mode": "markers",
         "name": "BAJFINANCE",
         "orientation": "v",
         "showlegend": true,
         "type": "scatter",
         "x": [
          "BAJFINANCE"
         ],
         "xaxis": "x",
         "y": [
          7315.05
         ],
         "yaxis": "y"
        },
        {
         "hovertemplate": "SYMBOL=%{x}<br>LTP_F=%{y}<extra></extra>",
         "legendgroup": "MARUTI",
         "marker": {
          "color": "#0D2A63",
          "symbol": "circle"
         },
         "mode": "markers",
         "name": "MARUTI",
         "orientation": "v",
         "showlegend": true,
         "type": "scatter",
         "x": [
          "MARUTI"
         ],
         "xaxis": "x",
         "y": [
          7445
         ],
         "yaxis": "y"
        },
        {
         "hovertemplate": "SYMBOL=%{x}<br>LTP_F=%{y}<extra></extra>",
         "legendgroup": "BAJAJFINSV",
         "marker": {
          "color": "#AF0038",
          "symbol": "circle"
         },
         "mode": "markers",
         "name": "BAJAJFINSV",
         "orientation": "v",
         "showlegend": true,
         "type": "scatter",
         "x": [
          "BAJAJFINSV"
         ],
         "xaxis": "x",
         "y": [
          16096.95
         ],
         "yaxis": "y"
        },
        {
         "hovertemplate": "SYMBOL=%{x}<br>LTP_F=%{y}<extra></extra>",
         "legendgroup": "NESTLEIND",
         "marker": {
          "color": "#2E91E5",
          "symbol": "circle"
         },
         "mode": "markers",
         "name": "NESTLEIND",
         "orientation": "v",
         "showlegend": true,
         "type": "scatter",
         "x": [
          "NESTLEIND"
         ],
         "xaxis": "x",
         "y": [
          18281
         ],
         "yaxis": "y"
        },
        {
         "hovertemplate": "SYMBOL=%{x}<br>LTP_F=%{y}<extra></extra>",
         "legendgroup": "SHREECEM",
         "marker": {
          "color": "#E15F99",
          "symbol": "circle"
         },
         "mode": "markers",
         "name": "SHREECEM",
         "orientation": "v",
         "showlegend": true,
         "type": "scatter",
         "x": [
          "SHREECEM"
         ],
         "xaxis": "x",
         "y": [
          25360
         ],
         "yaxis": "y"
        }
       ],
       "layout": {
        "legend": {
         "title": {
          "text": "SYMBOL"
         },
         "tracegroupgap": 0
        },
        "template": {
         "data": {
          "bar": [
           {
            "error_x": {
             "color": "#2a3f5f"
            },
            "error_y": {
             "color": "#2a3f5f"
            },
            "marker": {
             "line": {
              "color": "#E5ECF6",
              "width": 0.5
             },
             "pattern": {
              "fillmode": "overlay",
              "size": 10,
              "solidity": 0.2
             }
            },
            "type": "bar"
           }
          ],
          "barpolar": [
           {
            "marker": {
             "line": {
              "color": "#E5ECF6",
              "width": 0.5
             },
             "pattern": {
              "fillmode": "overlay",
              "size": 10,
              "solidity": 0.2
             }
            },
            "type": "barpolar"
           }
          ],
          "carpet": [
           {
            "aaxis": {
             "endlinecolor": "#2a3f5f",
             "gridcolor": "white",
             "linecolor": "white",
             "minorgridcolor": "white",
             "startlinecolor": "#2a3f5f"
            },
            "baxis": {
             "endlinecolor": "#2a3f5f",
             "gridcolor": "white",
             "linecolor": "white",
             "minorgridcolor": "white",
             "startlinecolor": "#2a3f5f"
            },
            "type": "carpet"
           }
          ],
          "choropleth": [
           {
            "colorbar": {
             "outlinewidth": 0,
             "ticks": ""
            },
            "type": "choropleth"
           }
          ],
          "contour": [
           {
            "colorbar": {
             "outlinewidth": 0,
             "ticks": ""
            },
            "colorscale": [
             [
              0,
              "#0d0887"
             ],
             [
              0.1111111111111111,
              "#46039f"
             ],
             [
              0.2222222222222222,
              "#7201a8"
             ],
             [
              0.3333333333333333,
              "#9c179e"
             ],
             [
              0.4444444444444444,
              "#bd3786"
             ],
             [
              0.5555555555555556,
              "#d8576b"
             ],
             [
              0.6666666666666666,
              "#ed7953"
             ],
             [
              0.7777777777777778,
              "#fb9f3a"
             ],
             [
              0.8888888888888888,
              "#fdca26"
             ],
             [
              1,
              "#f0f921"
             ]
            ],
            "type": "contour"
           }
          ],
          "contourcarpet": [
           {
            "colorbar": {
             "outlinewidth": 0,
             "ticks": ""
            },
            "type": "contourcarpet"
           }
          ],
          "heatmap": [
           {
            "colorbar": {
             "outlinewidth": 0,
             "ticks": ""
            },
            "colorscale": [
             [
              0,
              "#0d0887"
             ],
             [
              0.1111111111111111,
              "#46039f"
             ],
             [
              0.2222222222222222,
              "#7201a8"
             ],
             [
              0.3333333333333333,
              "#9c179e"
             ],
             [
              0.4444444444444444,
              "#bd3786"
             ],
             [
              0.5555555555555556,
              "#d8576b"
             ],
             [
              0.6666666666666666,
              "#ed7953"
             ],
             [
              0.7777777777777778,
              "#fb9f3a"
             ],
             [
              0.8888888888888888,
              "#fdca26"
             ],
             [
              1,
              "#f0f921"
             ]
            ],
            "type": "heatmap"
           }
          ],
          "heatmapgl": [
           {
            "colorbar": {
             "outlinewidth": 0,
             "ticks": ""
            },
            "colorscale": [
             [
              0,
              "#0d0887"
             ],
             [
              0.1111111111111111,
              "#46039f"
             ],
             [
              0.2222222222222222,
              "#7201a8"
             ],
             [
              0.3333333333333333,
              "#9c179e"
             ],
             [
              0.4444444444444444,
              "#bd3786"
             ],
             [
              0.5555555555555556,
              "#d8576b"
             ],
             [
              0.6666666666666666,
              "#ed7953"
             ],
             [
              0.7777777777777778,
              "#fb9f3a"
             ],
             [
              0.8888888888888888,
              "#fdca26"
             ],
             [
              1,
              "#f0f921"
             ]
            ],
            "type": "heatmapgl"
           }
          ],
          "histogram": [
           {
            "marker": {
             "pattern": {
              "fillmode": "overlay",
              "size": 10,
              "solidity": 0.2
             }
            },
            "type": "histogram"
           }
          ],
          "histogram2d": [
           {
            "colorbar": {
             "outlinewidth": 0,
             "ticks": ""
            },
            "colorscale": [
             [
              0,
              "#0d0887"
             ],
             [
              0.1111111111111111,
              "#46039f"
             ],
             [
              0.2222222222222222,
              "#7201a8"
             ],
             [
              0.3333333333333333,
              "#9c179e"
             ],
             [
              0.4444444444444444,
              "#bd3786"
             ],
             [
              0.5555555555555556,
              "#d8576b"
             ],
             [
              0.6666666666666666,
              "#ed7953"
             ],
             [
              0.7777777777777778,
              "#fb9f3a"
             ],
             [
              0.8888888888888888,
              "#fdca26"
             ],
             [
              1,
              "#f0f921"
             ]
            ],
            "type": "histogram2d"
           }
          ],
          "histogram2dcontour": [
           {
            "colorbar": {
             "outlinewidth": 0,
             "ticks": ""
            },
            "colorscale": [
             [
              0,
              "#0d0887"
             ],
             [
              0.1111111111111111,
              "#46039f"
             ],
             [
              0.2222222222222222,
              "#7201a8"
             ],
             [
              0.3333333333333333,
              "#9c179e"
             ],
             [
              0.4444444444444444,
              "#bd3786"
             ],
             [
              0.5555555555555556,
              "#d8576b"
             ],
             [
              0.6666666666666666,
              "#ed7953"
             ],
             [
              0.7777777777777778,
              "#fb9f3a"
             ],
             [
              0.8888888888888888,
              "#fdca26"
             ],
             [
              1,
              "#f0f921"
             ]
            ],
            "type": "histogram2dcontour"
           }
          ],
          "mesh3d": [
           {
            "colorbar": {
             "outlinewidth": 0,
             "ticks": ""
            },
            "type": "mesh3d"
           }
          ],
          "parcoords": [
           {
            "line": {
             "colorbar": {
              "outlinewidth": 0,
              "ticks": ""
             }
            },
            "type": "parcoords"
           }
          ],
          "pie": [
           {
            "automargin": true,
            "type": "pie"
           }
          ],
          "scatter": [
           {
            "fillpattern": {
             "fillmode": "overlay",
             "size": 10,
             "solidity": 0.2
            },
            "type": "scatter"
           }
          ],
          "scatter3d": [
           {
            "line": {
             "colorbar": {
              "outlinewidth": 0,
              "ticks": ""
             }
            },
            "marker": {
             "colorbar": {
              "outlinewidth": 0,
              "ticks": ""
             }
            },
            "type": "scatter3d"
           }
          ],
          "scattercarpet": [
           {
            "marker": {
             "colorbar": {
              "outlinewidth": 0,
              "ticks": ""
             }
            },
            "type": "scattercarpet"
           }
          ],
          "scattergeo": [
           {
            "marker": {
             "colorbar": {
              "outlinewidth": 0,
              "ticks": ""
             }
            },
            "type": "scattergeo"
           }
          ],
          "scattergl": [
           {
            "marker": {
             "colorbar": {
              "outlinewidth": 0,
              "ticks": ""
             }
            },
            "type": "scattergl"
           }
          ],
          "scattermapbox": [
           {
            "marker": {
             "colorbar": {
              "outlinewidth": 0,
              "ticks": ""
             }
            },
            "type": "scattermapbox"
           }
          ],
          "scatterpolar": [
           {
            "marker": {
             "colorbar": {
              "outlinewidth": 0,
              "ticks": ""
             }
            },
            "type": "scatterpolar"
           }
          ],
          "scatterpolargl": [
           {
            "marker": {
             "colorbar": {
              "outlinewidth": 0,
              "ticks": ""
             }
            },
            "type": "scatterpolargl"
           }
          ],
          "scatterternary": [
           {
            "marker": {
             "colorbar": {
              "outlinewidth": 0,
              "ticks": ""
             }
            },
            "type": "scatterternary"
           }
          ],
          "surface": [
           {
            "colorbar": {
             "outlinewidth": 0,
             "ticks": ""
            },
            "colorscale": [
             [
              0,
              "#0d0887"
             ],
             [
              0.1111111111111111,
              "#46039f"
             ],
             [
              0.2222222222222222,
              "#7201a8"
             ],
             [
              0.3333333333333333,
              "#9c179e"
             ],
             [
              0.4444444444444444,
              "#bd3786"
             ],
             [
              0.5555555555555556,
              "#d8576b"
             ],
             [
              0.6666666666666666,
              "#ed7953"
             ],
             [
              0.7777777777777778,
              "#fb9f3a"
             ],
             [
              0.8888888888888888,
              "#fdca26"
             ],
             [
              1,
              "#f0f921"
             ]
            ],
            "type": "surface"
           }
          ],
          "table": [
           {
            "cells": {
             "fill": {
              "color": "#EBF0F8"
             },
             "line": {
              "color": "white"
             }
            },
            "header": {
             "fill": {
              "color": "#C8D4E3"
             },
             "line": {
              "color": "white"
             }
            },
            "type": "table"
           }
          ]
         },
         "layout": {
          "annotationdefaults": {
           "arrowcolor": "#2a3f5f",
           "arrowhead": 0,
           "arrowwidth": 1
          },
          "autotypenumbers": "strict",
          "coloraxis": {
           "colorbar": {
            "outlinewidth": 0,
            "ticks": ""
           }
          },
          "colorscale": {
           "diverging": [
            [
             0,
             "#8e0152"
            ],
            [
             0.1,
             "#c51b7d"
            ],
            [
             0.2,
             "#de77ae"
            ],
            [
             0.3,
             "#f1b6da"
            ],
            [
             0.4,
             "#fde0ef"
            ],
            [
             0.5,
             "#f7f7f7"
            ],
            [
             0.6,
             "#e6f5d0"
            ],
            [
             0.7,
             "#b8e186"
            ],
            [
             0.8,
             "#7fbc41"
            ],
            [
             0.9,
             "#4d9221"
            ],
            [
             1,
             "#276419"
            ]
           ],
           "sequential": [
            [
             0,
             "#0d0887"
            ],
            [
             0.1111111111111111,
             "#46039f"
            ],
            [
             0.2222222222222222,
             "#7201a8"
            ],
            [
             0.3333333333333333,
             "#9c179e"
            ],
            [
             0.4444444444444444,
             "#bd3786"
            ],
            [
             0.5555555555555556,
             "#d8576b"
            ],
            [
             0.6666666666666666,
             "#ed7953"
            ],
            [
             0.7777777777777778,
             "#fb9f3a"
            ],
            [
             0.8888888888888888,
             "#fdca26"
            ],
            [
             1,
             "#f0f921"
            ]
           ],
           "sequentialminus": [
            [
             0,
             "#0d0887"
            ],
            [
             0.1111111111111111,
             "#46039f"
            ],
            [
             0.2222222222222222,
             "#7201a8"
            ],
            [
             0.3333333333333333,
             "#9c179e"
            ],
            [
             0.4444444444444444,
             "#bd3786"
            ],
            [
             0.5555555555555556,
             "#d8576b"
            ],
            [
             0.6666666666666666,
             "#ed7953"
            ],
            [
             0.7777777777777778,
             "#fb9f3a"
            ],
            [
             0.8888888888888888,
             "#fdca26"
            ],
            [
             1,
             "#f0f921"
            ]
           ]
          },
          "colorway": [
           "#636efa",
           "#EF553B",
           "#00cc96",
           "#ab63fa",
           "#FFA15A",
           "#19d3f3",
           "#FF6692",
           "#B6E880",
           "#FF97FF",
           "#FECB52"
          ],
          "font": {
           "color": "#2a3f5f"
          },
          "geo": {
           "bgcolor": "white",
           "lakecolor": "white",
           "landcolor": "#E5ECF6",
           "showlakes": true,
           "showland": true,
           "subunitcolor": "white"
          },
          "hoverlabel": {
           "align": "left"
          },
          "hovermode": "closest",
          "mapbox": {
           "style": "light"
          },
          "paper_bgcolor": "white",
          "plot_bgcolor": "#E5ECF6",
          "polar": {
           "angularaxis": {
            "gridcolor": "white",
            "linecolor": "white",
            "ticks": ""
           },
           "bgcolor": "#E5ECF6",
           "radialaxis": {
            "gridcolor": "white",
            "linecolor": "white",
            "ticks": ""
           }
          },
          "scene": {
           "xaxis": {
            "backgroundcolor": "#E5ECF6",
            "gridcolor": "white",
            "gridwidth": 2,
            "linecolor": "white",
            "showbackground": true,
            "ticks": "",
            "zerolinecolor": "white"
           },
           "yaxis": {
            "backgroundcolor": "#E5ECF6",
            "gridcolor": "white",
            "gridwidth": 2,
            "linecolor": "white",
            "showbackground": true,
            "ticks": "",
            "zerolinecolor": "white"
           },
           "zaxis": {
            "backgroundcolor": "#E5ECF6",
            "gridcolor": "white",
            "gridwidth": 2,
            "linecolor": "white",
            "showbackground": true,
            "ticks": "",
            "zerolinecolor": "white"
           }
          },
          "shapedefaults": {
           "line": {
            "color": "#2a3f5f"
           }
          },
          "ternary": {
           "aaxis": {
            "gridcolor": "white",
            "linecolor": "white",
            "ticks": ""
           },
           "baxis": {
            "gridcolor": "white",
            "linecolor": "white",
            "ticks": ""
           },
           "bgcolor": "#E5ECF6",
           "caxis": {
            "gridcolor": "white",
            "linecolor": "white",
            "ticks": ""
           }
          },
          "title": {
           "x": 0.05
          },
          "xaxis": {
           "automargin": true,
           "gridcolor": "white",
           "linecolor": "white",
           "ticks": "",
           "title": {
            "standoff": 15
           },
           "zerolinecolor": "white",
           "zerolinewidth": 2
          },
          "yaxis": {
           "automargin": true,
           "gridcolor": "white",
           "linecolor": "white",
           "ticks": "",
           "title": {
            "standoff": 15
           },
           "zerolinecolor": "white",
           "zerolinewidth": 2
          }
         }
        },
        "title": {
         "text": "Price chart"
        },
        "xaxis": {
         "anchor": "y",
         "categoryarray": [
          "NTPC",
          "ONGC",
          "COALINDIA",
          "POWERGRID",
          "ITC",
          "BPCL",
          "TATAMOTORS",
          "SBIN",
          "HINDALCO",
          "WIPRO",
          "HDFCLIFE",
          "BHARTIARTL",
          "ICICIBANK",
          "JSWSTEEL",
          "AXISBANK",
          "TATACONSUM",
          "UPL",
          "ADANIPORTS",
          "M&M",
          "SUNPHARMA",
          "INDUSINDBK",
          "CIPLA",
          "HCLTECH",
          "SBILIFE",
          "TATASTEEL",
          "TECHM",
          "HDFCBANK",
          "INFY",
          "LT",
          "GRASIM",
          "KOTAKBANK",
          "HINDUNILVR",
          "HEROMOTOCO",
          "HDFC",
          "TITAN",
          "EICHERMOT",
          "RELIANCE",
          "ASIANPAINT",
          "BRITANNIA",
          "TCS",
          "BAJAJ-AUTO",
          "DRREDDY",
          "DIVISLAB",
          "APOLLOHOSP",
          "ULTRACEMCO",
          "BAJFINANCE",
          "MARUTI",
          "BAJAJFINSV",
          "NESTLEIND",
          "SHREECEM"
         ],
         "categoryorder": "array",
         "domain": [
          0,
          1
         ],
         "title": {
          "text": "SYMBOL"
         }
        },
        "yaxis": {
         "anchor": "x",
         "domain": [
          0,
          1
         ],
         "title": {
          "text": "LTP_F"
         }
        }
       }
      },
      "text/html": [
       "<div>                            <div id=\"d34e6392-d6a5-48cc-9eef-6ac292ec0ea4\" class=\"plotly-graph-div\" style=\"height:525px; width:100%;\"></div>            <script type=\"text/javascript\">                require([\"plotly\"], function(Plotly) {                    window.PLOTLYENV=window.PLOTLYENV || {};                                    if (document.getElementById(\"d34e6392-d6a5-48cc-9eef-6ac292ec0ea4\")) {                    Plotly.newPlot(                        \"d34e6392-d6a5-48cc-9eef-6ac292ec0ea4\",                        [{\"hovertemplate\":\"SYMBOL=%{x}<br>LTP_F=%{y}<extra></extra>\",\"legendgroup\":\"NTPC\",\"marker\":{\"color\":\"#2E91E5\",\"symbol\":\"circle\"},\"mode\":\"markers\",\"name\":\"NTPC\",\"orientation\":\"v\",\"showlegend\":true,\"x\":[\"NTPC\"],\"xaxis\":\"x\",\"y\":[153.9],\"yaxis\":\"y\",\"type\":\"scatter\"},{\"hovertemplate\":\"SYMBOL=%{x}<br>LTP_F=%{y}<extra></extra>\",\"legendgroup\":\"ONGC\",\"marker\":{\"color\":\"#E15F99\",\"symbol\":\"circle\"},\"mode\":\"markers\",\"name\":\"ONGC\",\"orientation\":\"v\",\"showlegend\":true,\"x\":[\"ONGC\"],\"xaxis\":\"x\",\"y\":[173.95],\"yaxis\":\"y\",\"type\":\"scatter\"},{\"hovertemplate\":\"SYMBOL=%{x}<br>LTP_F=%{y}<extra></extra>\",\"legendgroup\":\"COALINDIA\",\"marker\":{\"color\":\"#1CA71C\",\"symbol\":\"circle\"},\"mode\":\"markers\",\"name\":\"COALINDIA\",\"orientation\":\"v\",\"showlegend\":true,\"x\":[\"COALINDIA\"],\"xaxis\":\"x\",\"y\":[186.35],\"yaxis\":\"y\",\"type\":\"scatter\"},{\"hovertemplate\":\"SYMBOL=%{x}<br>LTP_F=%{y}<extra></extra>\",\"legendgroup\":\"POWERGRID\",\"marker\":{\"color\":\"#FB0D0D\",\"symbol\":\"circle\"},\"mode\":\"markers\",\"name\":\"POWERGRID\",\"orientation\":\"v\",\"showlegend\":true,\"x\":[\"POWERGRID\"],\"xaxis\":\"x\",\"y\":[229.85],\"yaxis\":\"y\",\"type\":\"scatter\"},{\"hovertemplate\":\"SYMBOL=%{x}<br>LTP_F=%{y}<extra></extra>\",\"legendgroup\":\"ITC\",\"marker\":{\"color\":\"#DA16FF\",\"symbol\":\"circle\"},\"mode\":\"markers\",\"name\":\"ITC\",\"orientation\":\"v\",\"showlegend\":true,\"x\":[\"ITC\"],\"xaxis\":\"x\",\"y\":[269.1],\"yaxis\":\"y\",\"type\":\"scatter\"},{\"hovertemplate\":\"SYMBOL=%{x}<br>LTP_F=%{y}<extra></extra>\",\"legendgroup\":\"BPCL\",\"marker\":{\"color\":\"#222A2A\",\"symbol\":\"circle\"},\"mode\":\"markers\",\"name\":\"BPCL\",\"orientation\":\"v\",\"showlegend\":true,\"x\":[\"BPCL\"],\"xaxis\":\"x\",\"y\":[378.5],\"yaxis\":\"y\",\"type\":\"scatter\"},{\"hovertemplate\":\"SYMBOL=%{x}<br>LTP_F=%{y}<extra></extra>\",\"legendgroup\":\"TATAMOTORS\",\"marker\":{\"color\":\"#B68100\",\"symbol\":\"circle\"},\"mode\":\"markers\",\"name\":\"TATAMOTORS\",\"orientation\":\"v\",\"showlegend\":true,\"x\":[\"TATAMOTORS\"],\"xaxis\":\"x\",\"y\":[431.5],\"yaxis\":\"y\",\"type\":\"scatter\"},{\"hovertemplate\":\"SYMBOL=%{x}<br>LTP_F=%{y}<extra></extra>\",\"legendgroup\":\"SBIN\",\"marker\":{\"color\":\"#750D86\",\"symbol\":\"circle\"},\"mode\":\"markers\",\"name\":\"SBIN\",\"orientation\":\"v\",\"showlegend\":true,\"x\":[\"SBIN\"],\"xaxis\":\"x\",\"y\":[517.7],\"yaxis\":\"y\",\"type\":\"scatter\"},{\"hovertemplate\":\"SYMBOL=%{x}<br>LTP_F=%{y}<extra></extra>\",\"legendgroup\":\"HINDALCO\",\"marker\":{\"color\":\"#EB663B\",\"symbol\":\"circle\"},\"mode\":\"markers\",\"name\":\"HINDALCO\",\"orientation\":\"v\",\"showlegend\":true,\"x\":[\"HINDALCO\"],\"xaxis\":\"x\",\"y\":[545.75],\"yaxis\":\"y\",\"type\":\"scatter\"},{\"hovertemplate\":\"SYMBOL=%{x}<br>LTP_F=%{y}<extra></extra>\",\"legendgroup\":\"WIPRO\",\"marker\":{\"color\":\"#511CFB\",\"symbol\":\"circle\"},\"mode\":\"markers\",\"name\":\"WIPRO\",\"orientation\":\"v\",\"showlegend\":true,\"x\":[\"WIPRO\"],\"xaxis\":\"x\",\"y\":[559.8],\"yaxis\":\"y\",\"type\":\"scatter\"},{\"hovertemplate\":\"SYMBOL=%{x}<br>LTP_F=%{y}<extra></extra>\",\"legendgroup\":\"HDFCLIFE\",\"marker\":{\"color\":\"#00A08B\",\"symbol\":\"circle\"},\"mode\":\"markers\",\"name\":\"HDFCLIFE\",\"orientation\":\"v\",\"showlegend\":true,\"x\":[\"HDFCLIFE\"],\"xaxis\":\"x\",\"y\":[565.05],\"yaxis\":\"y\",\"type\":\"scatter\"},{\"hovertemplate\":\"SYMBOL=%{x}<br>LTP_F=%{y}<extra></extra>\",\"legendgroup\":\"BHARTIARTL\",\"marker\":{\"color\":\"#FB00D1\",\"symbol\":\"circle\"},\"mode\":\"markers\",\"name\":\"BHARTIARTL\",\"orientation\":\"v\",\"showlegend\":true,\"x\":[\"BHARTIARTL\"],\"xaxis\":\"x\",\"y\":[739.9],\"yaxis\":\"y\",\"type\":\"scatter\"},{\"hovertemplate\":\"SYMBOL=%{x}<br>LTP_F=%{y}<extra></extra>\",\"legendgroup\":\"ICICIBANK\",\"marker\":{\"color\":\"#FC0080\",\"symbol\":\"circle\"},\"mode\":\"markers\",\"name\":\"ICICIBANK\",\"orientation\":\"v\",\"showlegend\":true,\"x\":[\"ICICIBANK\"],\"xaxis\":\"x\",\"y\":[761.55],\"yaxis\":\"y\",\"type\":\"scatter\"},{\"hovertemplate\":\"SYMBOL=%{x}<br>LTP_F=%{y}<extra></extra>\",\"legendgroup\":\"JSWSTEEL\",\"marker\":{\"color\":\"#B2828D\",\"symbol\":\"circle\"},\"mode\":\"markers\",\"name\":\"JSWSTEEL\",\"orientation\":\"v\",\"showlegend\":true,\"x\":[\"JSWSTEEL\"],\"xaxis\":\"x\",\"y\":[764.45],\"yaxis\":\"y\",\"type\":\"scatter\"},{\"hovertemplate\":\"SYMBOL=%{x}<br>LTP_F=%{y}<extra></extra>\",\"legendgroup\":\"AXISBANK\",\"marker\":{\"color\":\"#6C7C32\",\"symbol\":\"circle\"},\"mode\":\"markers\",\"name\":\"AXISBANK\",\"orientation\":\"v\",\"showlegend\":true,\"x\":[\"AXISBANK\"],\"xaxis\":\"x\",\"y\":[792.0],\"yaxis\":\"y\",\"type\":\"scatter\"},{\"hovertemplate\":\"SYMBOL=%{x}<br>LTP_F=%{y}<extra></extra>\",\"legendgroup\":\"TATACONSUM\",\"marker\":{\"color\":\"#778AAE\",\"symbol\":\"circle\"},\"mode\":\"markers\",\"name\":\"TATACONSUM\",\"orientation\":\"v\",\"showlegend\":true,\"x\":[\"TATACONSUM\"],\"xaxis\":\"x\",\"y\":[816.2],\"yaxis\":\"y\",\"type\":\"scatter\"},{\"hovertemplate\":\"SYMBOL=%{x}<br>LTP_F=%{y}<extra></extra>\",\"legendgroup\":\"UPL\",\"marker\":{\"color\":\"#862A16\",\"symbol\":\"circle\"},\"mode\":\"markers\",\"name\":\"UPL\",\"orientation\":\"v\",\"showlegend\":true,\"x\":[\"UPL\"],\"xaxis\":\"x\",\"y\":[819.5],\"yaxis\":\"y\",\"type\":\"scatter\"},{\"hovertemplate\":\"SYMBOL=%{x}<br>LTP_F=%{y}<extra></extra>\",\"legendgroup\":\"ADANIPORTS\",\"marker\":{\"color\":\"#A777F1\",\"symbol\":\"circle\"},\"mode\":\"markers\",\"name\":\"ADANIPORTS\",\"orientation\":\"v\",\"showlegend\":true,\"x\":[\"ADANIPORTS\"],\"xaxis\":\"x\",\"y\":[838.15],\"yaxis\":\"y\",\"type\":\"scatter\"},{\"hovertemplate\":\"SYMBOL=%{x}<br>LTP_F=%{y}<extra></extra>\",\"legendgroup\":\"M&M\",\"marker\":{\"color\":\"#620042\",\"symbol\":\"circle\"},\"mode\":\"markers\",\"name\":\"M&M\",\"orientation\":\"v\",\"showlegend\":true,\"x\":[\"M&M\"],\"xaxis\":\"x\",\"y\":[865.0],\"yaxis\":\"y\",\"type\":\"scatter\"},{\"hovertemplate\":\"SYMBOL=%{x}<br>LTP_F=%{y}<extra></extra>\",\"legendgroup\":\"SUNPHARMA\",\"marker\":{\"color\":\"#1616A7\",\"symbol\":\"circle\"},\"mode\":\"markers\",\"name\":\"SUNPHARMA\",\"orientation\":\"v\",\"showlegend\":true,\"x\":[\"SUNPHARMA\"],\"xaxis\":\"x\",\"y\":[935.25],\"yaxis\":\"y\",\"type\":\"scatter\"},{\"hovertemplate\":\"SYMBOL=%{x}<br>LTP_F=%{y}<extra></extra>\",\"legendgroup\":\"INDUSINDBK\",\"marker\":{\"color\":\"#DA60CA\",\"symbol\":\"circle\"},\"mode\":\"markers\",\"name\":\"INDUSINDBK\",\"orientation\":\"v\",\"showlegend\":true,\"x\":[\"INDUSINDBK\"],\"xaxis\":\"x\",\"y\":[983.9],\"yaxis\":\"y\",\"type\":\"scatter\"},{\"hovertemplate\":\"SYMBOL=%{x}<br>LTP_F=%{y}<extra></extra>\",\"legendgroup\":\"CIPLA\",\"marker\":{\"color\":\"#6C4516\",\"symbol\":\"circle\"},\"mode\":\"markers\",\"name\":\"CIPLA\",\"orientation\":\"v\",\"showlegend\":true,\"x\":[\"CIPLA\"],\"xaxis\":\"x\",\"y\":[1017.35],\"yaxis\":\"y\",\"type\":\"scatter\"},{\"hovertemplate\":\"SYMBOL=%{x}<br>LTP_F=%{y}<extra></extra>\",\"legendgroup\":\"HCLTECH\",\"marker\":{\"color\":\"#0D2A63\",\"symbol\":\"circle\"},\"mode\":\"markers\",\"name\":\"HCLTECH\",\"orientation\":\"v\",\"showlegend\":true,\"x\":[\"HCLTECH\"],\"xaxis\":\"x\",\"y\":[1127.0],\"yaxis\":\"y\",\"type\":\"scatter\"},{\"hovertemplate\":\"SYMBOL=%{x}<br>LTP_F=%{y}<extra></extra>\",\"legendgroup\":\"SBILIFE\",\"marker\":{\"color\":\"#AF0038\",\"symbol\":\"circle\"},\"mode\":\"markers\",\"name\":\"SBILIFE\",\"orientation\":\"v\",\"showlegend\":true,\"x\":[\"SBILIFE\"],\"xaxis\":\"x\",\"y\":[1146.1],\"yaxis\":\"y\",\"type\":\"scatter\"},{\"hovertemplate\":\"SYMBOL=%{x}<br>LTP_F=%{y}<extra></extra>\",\"legendgroup\":\"TATASTEEL\",\"marker\":{\"color\":\"#2E91E5\",\"symbol\":\"circle\"},\"mode\":\"markers\",\"name\":\"TATASTEEL\",\"orientation\":\"v\",\"showlegend\":true,\"x\":[\"TATASTEEL\"],\"xaxis\":\"x\",\"y\":[1316.05],\"yaxis\":\"y\",\"type\":\"scatter\"},{\"hovertemplate\":\"SYMBOL=%{x}<br>LTP_F=%{y}<extra></extra>\",\"legendgroup\":\"TECHM\",\"marker\":{\"color\":\"#E15F99\",\"symbol\":\"circle\"},\"mode\":\"markers\",\"name\":\"TECHM\",\"orientation\":\"v\",\"showlegend\":true,\"x\":[\"TECHM\"],\"xaxis\":\"x\",\"y\":[1409.45],\"yaxis\":\"y\",\"type\":\"scatter\"},{\"hovertemplate\":\"SYMBOL=%{x}<br>LTP_F=%{y}<extra></extra>\",\"legendgroup\":\"HDFCBANK\",\"marker\":{\"color\":\"#1CA71C\",\"symbol\":\"circle\"},\"mode\":\"markers\",\"name\":\"HDFCBANK\",\"orientation\":\"v\",\"showlegend\":true,\"x\":[\"HDFCBANK\"],\"xaxis\":\"x\",\"y\":[1464.0],\"yaxis\":\"y\",\"type\":\"scatter\"},{\"hovertemplate\":\"SYMBOL=%{x}<br>LTP_F=%{y}<extra></extra>\",\"legendgroup\":\"INFY\",\"marker\":{\"color\":\"#FB0D0D\",\"symbol\":\"circle\"},\"mode\":\"markers\",\"name\":\"INFY\",\"orientation\":\"v\",\"showlegend\":true,\"x\":[\"INFY\"],\"xaxis\":\"x\",\"y\":[1751.0],\"yaxis\":\"y\",\"type\":\"scatter\"},{\"hovertemplate\":\"SYMBOL=%{x}<br>LTP_F=%{y}<extra></extra>\",\"legendgroup\":\"LT\",\"marker\":{\"color\":\"#DA16FF\",\"symbol\":\"circle\"},\"mode\":\"markers\",\"name\":\"LT\",\"orientation\":\"v\",\"showlegend\":true,\"x\":[\"LT\"],\"xaxis\":\"x\",\"y\":[1758.55],\"yaxis\":\"y\",\"type\":\"scatter\"},{\"hovertemplate\":\"SYMBOL=%{x}<br>LTP_F=%{y}<extra></extra>\",\"legendgroup\":\"GRASIM\",\"marker\":{\"color\":\"#222A2A\",\"symbol\":\"circle\"},\"mode\":\"markers\",\"name\":\"GRASIM\",\"orientation\":\"v\",\"showlegend\":true,\"x\":[\"GRASIM\"],\"xaxis\":\"x\",\"y\":[1763.8],\"yaxis\":\"y\",\"type\":\"scatter\"},{\"hovertemplate\":\"SYMBOL=%{x}<br>LTP_F=%{y}<extra></extra>\",\"legendgroup\":\"KOTAKBANK\",\"marker\":{\"color\":\"#B68100\",\"symbol\":\"circle\"},\"mode\":\"markers\",\"name\":\"KOTAKBANK\",\"orientation\":\"v\",\"showlegend\":true,\"x\":[\"KOTAKBANK\"],\"xaxis\":\"x\",\"y\":[1780.0],\"yaxis\":\"y\",\"type\":\"scatter\"},{\"hovertemplate\":\"SYMBOL=%{x}<br>LTP_F=%{y}<extra></extra>\",\"legendgroup\":\"HINDUNILVR\",\"marker\":{\"color\":\"#750D86\",\"symbol\":\"circle\"},\"mode\":\"markers\",\"name\":\"HINDUNILVR\",\"orientation\":\"v\",\"showlegend\":true,\"x\":[\"HINDUNILVR\"],\"xaxis\":\"x\",\"y\":[2150.75],\"yaxis\":\"y\",\"type\":\"scatter\"},{\"hovertemplate\":\"SYMBOL=%{x}<br>LTP_F=%{y}<extra></extra>\",\"legendgroup\":\"HEROMOTOCO\",\"marker\":{\"color\":\"#EB663B\",\"symbol\":\"circle\"},\"mode\":\"markers\",\"name\":\"HEROMOTOCO\",\"orientation\":\"v\",\"showlegend\":true,\"x\":[\"HEROMOTOCO\"],\"xaxis\":\"x\",\"y\":[2272.55],\"yaxis\":\"y\",\"type\":\"scatter\"},{\"hovertemplate\":\"SYMBOL=%{x}<br>LTP_F=%{y}<extra></extra>\",\"legendgroup\":\"HDFC\",\"marker\":{\"color\":\"#511CFB\",\"symbol\":\"circle\"},\"mode\":\"markers\",\"name\":\"HDFC\",\"orientation\":\"v\",\"showlegend\":true,\"x\":[\"HDFC\"],\"xaxis\":\"x\",\"y\":[2371.55],\"yaxis\":\"y\",\"type\":\"scatter\"},{\"hovertemplate\":\"SYMBOL=%{x}<br>LTP_F=%{y}<extra></extra>\",\"legendgroup\":\"TITAN\",\"marker\":{\"color\":\"#00A08B\",\"symbol\":\"circle\"},\"mode\":\"markers\",\"name\":\"TITAN\",\"orientation\":\"v\",\"showlegend\":true,\"x\":[\"TITAN\"],\"xaxis\":\"x\",\"y\":[2461.5],\"yaxis\":\"y\",\"type\":\"scatter\"},{\"hovertemplate\":\"SYMBOL=%{x}<br>LTP_F=%{y}<extra></extra>\",\"legendgroup\":\"EICHERMOT\",\"marker\":{\"color\":\"#FB00D1\",\"symbol\":\"circle\"},\"mode\":\"markers\",\"name\":\"EICHERMOT\",\"orientation\":\"v\",\"showlegend\":true,\"x\":[\"EICHERMOT\"],\"xaxis\":\"x\",\"y\":[2484.0],\"yaxis\":\"y\",\"type\":\"scatter\"},{\"hovertemplate\":\"SYMBOL=%{x}<br>LTP_F=%{y}<extra></extra>\",\"legendgroup\":\"RELIANCE\",\"marker\":{\"color\":\"#FC0080\",\"symbol\":\"circle\"},\"mode\":\"markers\",\"name\":\"RELIANCE\",\"orientation\":\"v\",\"showlegend\":true,\"x\":[\"RELIANCE\"],\"xaxis\":\"x\",\"y\":[2551.9],\"yaxis\":\"y\",\"type\":\"scatter\"},{\"hovertemplate\":\"SYMBOL=%{x}<br>LTP_F=%{y}<extra></extra>\",\"legendgroup\":\"ASIANPAINT\",\"marker\":{\"color\":\"#B2828D\",\"symbol\":\"circle\"},\"mode\":\"markers\",\"name\":\"ASIANPAINT\",\"orientation\":\"v\",\"showlegend\":true,\"x\":[\"ASIANPAINT\"],\"xaxis\":\"x\",\"y\":[3084.0],\"yaxis\":\"y\",\"type\":\"scatter\"},{\"hovertemplate\":\"SYMBOL=%{x}<br>LTP_F=%{y}<extra></extra>\",\"legendgroup\":\"BRITANNIA\",\"marker\":{\"color\":\"#6C7C32\",\"symbol\":\"circle\"},\"mode\":\"markers\",\"name\":\"BRITANNIA\",\"orientation\":\"v\",\"showlegend\":true,\"x\":[\"BRITANNIA\"],\"xaxis\":\"x\",\"y\":[3345.95],\"yaxis\":\"y\",\"type\":\"scatter\"},{\"hovertemplate\":\"SYMBOL=%{x}<br>LTP_F=%{y}<extra></extra>\",\"legendgroup\":\"TCS\",\"marker\":{\"color\":\"#778AAE\",\"symbol\":\"circle\"},\"mode\":\"markers\",\"name\":\"TCS\",\"orientation\":\"v\",\"showlegend\":true,\"x\":[\"TCS\"],\"xaxis\":\"x\",\"y\":[3664.95],\"yaxis\":\"y\",\"type\":\"scatter\"},{\"hovertemplate\":\"SYMBOL=%{x}<br>LTP_F=%{y}<extra></extra>\",\"legendgroup\":\"BAJAJ-AUTO\",\"marker\":{\"color\":\"#862A16\",\"symbol\":\"circle\"},\"mode\":\"markers\",\"name\":\"BAJAJ-AUTO\",\"orientation\":\"v\",\"showlegend\":true,\"x\":[\"BAJAJ-AUTO\"],\"xaxis\":\"x\",\"y\":[3694.65],\"yaxis\":\"y\",\"type\":\"scatter\"},{\"hovertemplate\":\"SYMBOL=%{x}<br>LTP_F=%{y}<extra></extra>\",\"legendgroup\":\"DRREDDY\",\"marker\":{\"color\":\"#A777F1\",\"symbol\":\"circle\"},\"mode\":\"markers\",\"name\":\"DRREDDY\",\"orientation\":\"v\",\"showlegend\":true,\"x\":[\"DRREDDY\"],\"xaxis\":\"x\",\"y\":[4302.0],\"yaxis\":\"y\",\"type\":\"scatter\"},{\"hovertemplate\":\"SYMBOL=%{x}<br>LTP_F=%{y}<extra></extra>\",\"legendgroup\":\"DIVISLAB\",\"marker\":{\"color\":\"#620042\",\"symbol\":\"circle\"},\"mode\":\"markers\",\"name\":\"DIVISLAB\",\"orientation\":\"v\",\"showlegend\":true,\"x\":[\"DIVISLAB\"],\"xaxis\":\"x\",\"y\":[4497.0],\"yaxis\":\"y\",\"type\":\"scatter\"},{\"hovertemplate\":\"SYMBOL=%{x}<br>LTP_F=%{y}<extra></extra>\",\"legendgroup\":\"APOLLOHOSP\",\"marker\":{\"color\":\"#1616A7\",\"symbol\":\"circle\"},\"mode\":\"markers\",\"name\":\"APOLLOHOSP\",\"orientation\":\"v\",\"showlegend\":true,\"x\":[\"APOLLOHOSP\"],\"xaxis\":\"x\",\"y\":[4735.05],\"yaxis\":\"y\",\"type\":\"scatter\"},{\"hovertemplate\":\"SYMBOL=%{x}<br>LTP_F=%{y}<extra></extra>\",\"legendgroup\":\"ULTRACEMCO\",\"marker\":{\"color\":\"#DA60CA\",\"symbol\":\"circle\"},\"mode\":\"markers\",\"name\":\"ULTRACEMCO\",\"orientation\":\"v\",\"showlegend\":true,\"x\":[\"ULTRACEMCO\"],\"xaxis\":\"x\",\"y\":[6714.0],\"yaxis\":\"y\",\"type\":\"scatter\"},{\"hovertemplate\":\"SYMBOL=%{x}<br>LTP_F=%{y}<extra></extra>\",\"legendgroup\":\"BAJFINANCE\",\"marker\":{\"color\":\"#6C4516\",\"symbol\":\"circle\"},\"mode\":\"markers\",\"name\":\"BAJFINANCE\",\"orientation\":\"v\",\"showlegend\":true,\"x\":[\"BAJFINANCE\"],\"xaxis\":\"x\",\"y\":[7315.05],\"yaxis\":\"y\",\"type\":\"scatter\"},{\"hovertemplate\":\"SYMBOL=%{x}<br>LTP_F=%{y}<extra></extra>\",\"legendgroup\":\"MARUTI\",\"marker\":{\"color\":\"#0D2A63\",\"symbol\":\"circle\"},\"mode\":\"markers\",\"name\":\"MARUTI\",\"orientation\":\"v\",\"showlegend\":true,\"x\":[\"MARUTI\"],\"xaxis\":\"x\",\"y\":[7445.0],\"yaxis\":\"y\",\"type\":\"scatter\"},{\"hovertemplate\":\"SYMBOL=%{x}<br>LTP_F=%{y}<extra></extra>\",\"legendgroup\":\"BAJAJFINSV\",\"marker\":{\"color\":\"#AF0038\",\"symbol\":\"circle\"},\"mode\":\"markers\",\"name\":\"BAJAJFINSV\",\"orientation\":\"v\",\"showlegend\":true,\"x\":[\"BAJAJFINSV\"],\"xaxis\":\"x\",\"y\":[16096.95],\"yaxis\":\"y\",\"type\":\"scatter\"},{\"hovertemplate\":\"SYMBOL=%{x}<br>LTP_F=%{y}<extra></extra>\",\"legendgroup\":\"NESTLEIND\",\"marker\":{\"color\":\"#2E91E5\",\"symbol\":\"circle\"},\"mode\":\"markers\",\"name\":\"NESTLEIND\",\"orientation\":\"v\",\"showlegend\":true,\"x\":[\"NESTLEIND\"],\"xaxis\":\"x\",\"y\":[18281.0],\"yaxis\":\"y\",\"type\":\"scatter\"},{\"hovertemplate\":\"SYMBOL=%{x}<br>LTP_F=%{y}<extra></extra>\",\"legendgroup\":\"SHREECEM\",\"marker\":{\"color\":\"#E15F99\",\"symbol\":\"circle\"},\"mode\":\"markers\",\"name\":\"SHREECEM\",\"orientation\":\"v\",\"showlegend\":true,\"x\":[\"SHREECEM\"],\"xaxis\":\"x\",\"y\":[25360.0],\"yaxis\":\"y\",\"type\":\"scatter\"}],                        {\"template\":{\"data\":{\"histogram2dcontour\":[{\"type\":\"histogram2dcontour\",\"colorbar\":{\"outlinewidth\":0,\"ticks\":\"\"},\"colorscale\":[[0.0,\"#0d0887\"],[0.1111111111111111,\"#46039f\"],[0.2222222222222222,\"#7201a8\"],[0.3333333333333333,\"#9c179e\"],[0.4444444444444444,\"#bd3786\"],[0.5555555555555556,\"#d8576b\"],[0.6666666666666666,\"#ed7953\"],[0.7777777777777778,\"#fb9f3a\"],[0.8888888888888888,\"#fdca26\"],[1.0,\"#f0f921\"]]}],\"choropleth\":[{\"type\":\"choropleth\",\"colorbar\":{\"outlinewidth\":0,\"ticks\":\"\"}}],\"histogram2d\":[{\"type\":\"histogram2d\",\"colorbar\":{\"outlinewidth\":0,\"ticks\":\"\"},\"colorscale\":[[0.0,\"#0d0887\"],[0.1111111111111111,\"#46039f\"],[0.2222222222222222,\"#7201a8\"],[0.3333333333333333,\"#9c179e\"],[0.4444444444444444,\"#bd3786\"],[0.5555555555555556,\"#d8576b\"],[0.6666666666666666,\"#ed7953\"],[0.7777777777777778,\"#fb9f3a\"],[0.8888888888888888,\"#fdca26\"],[1.0,\"#f0f921\"]]}],\"heatmap\":[{\"type\":\"heatmap\",\"colorbar\":{\"outlinewidth\":0,\"ticks\":\"\"},\"colorscale\":[[0.0,\"#0d0887\"],[0.1111111111111111,\"#46039f\"],[0.2222222222222222,\"#7201a8\"],[0.3333333333333333,\"#9c179e\"],[0.4444444444444444,\"#bd3786\"],[0.5555555555555556,\"#d8576b\"],[0.6666666666666666,\"#ed7953\"],[0.7777777777777778,\"#fb9f3a\"],[0.8888888888888888,\"#fdca26\"],[1.0,\"#f0f921\"]]}],\"heatmapgl\":[{\"type\":\"heatmapgl\",\"colorbar\":{\"outlinewidth\":0,\"ticks\":\"\"},\"colorscale\":[[0.0,\"#0d0887\"],[0.1111111111111111,\"#46039f\"],[0.2222222222222222,\"#7201a8\"],[0.3333333333333333,\"#9c179e\"],[0.4444444444444444,\"#bd3786\"],[0.5555555555555556,\"#d8576b\"],[0.6666666666666666,\"#ed7953\"],[0.7777777777777778,\"#fb9f3a\"],[0.8888888888888888,\"#fdca26\"],[1.0,\"#f0f921\"]]}],\"contourcarpet\":[{\"type\":\"contourcarpet\",\"colorbar\":{\"outlinewidth\":0,\"ticks\":\"\"}}],\"contour\":[{\"type\":\"contour\",\"colorbar\":{\"outlinewidth\":0,\"ticks\":\"\"},\"colorscale\":[[0.0,\"#0d0887\"],[0.1111111111111111,\"#46039f\"],[0.2222222222222222,\"#7201a8\"],[0.3333333333333333,\"#9c179e\"],[0.4444444444444444,\"#bd3786\"],[0.5555555555555556,\"#d8576b\"],[0.6666666666666666,\"#ed7953\"],[0.7777777777777778,\"#fb9f3a\"],[0.8888888888888888,\"#fdca26\"],[1.0,\"#f0f921\"]]}],\"surface\":[{\"type\":\"surface\",\"colorbar\":{\"outlinewidth\":0,\"ticks\":\"\"},\"colorscale\":[[0.0,\"#0d0887\"],[0.1111111111111111,\"#46039f\"],[0.2222222222222222,\"#7201a8\"],[0.3333333333333333,\"#9c179e\"],[0.4444444444444444,\"#bd3786\"],[0.5555555555555556,\"#d8576b\"],[0.6666666666666666,\"#ed7953\"],[0.7777777777777778,\"#fb9f3a\"],[0.8888888888888888,\"#fdca26\"],[1.0,\"#f0f921\"]]}],\"mesh3d\":[{\"type\":\"mesh3d\",\"colorbar\":{\"outlinewidth\":0,\"ticks\":\"\"}}],\"scatter\":[{\"fillpattern\":{\"fillmode\":\"overlay\",\"size\":10,\"solidity\":0.2},\"type\":\"scatter\"}],\"parcoords\":[{\"type\":\"parcoords\",\"line\":{\"colorbar\":{\"outlinewidth\":0,\"ticks\":\"\"}}}],\"scatterpolargl\":[{\"type\":\"scatterpolargl\",\"marker\":{\"colorbar\":{\"outlinewidth\":0,\"ticks\":\"\"}}}],\"bar\":[{\"error_x\":{\"color\":\"#2a3f5f\"},\"error_y\":{\"color\":\"#2a3f5f\"},\"marker\":{\"line\":{\"color\":\"#E5ECF6\",\"width\":0.5},\"pattern\":{\"fillmode\":\"overlay\",\"size\":10,\"solidity\":0.2}},\"type\":\"bar\"}],\"scattergeo\":[{\"type\":\"scattergeo\",\"marker\":{\"colorbar\":{\"outlinewidth\":0,\"ticks\":\"\"}}}],\"scatterpolar\":[{\"type\":\"scatterpolar\",\"marker\":{\"colorbar\":{\"outlinewidth\":0,\"ticks\":\"\"}}}],\"histogram\":[{\"marker\":{\"pattern\":{\"fillmode\":\"overlay\",\"size\":10,\"solidity\":0.2}},\"type\":\"histogram\"}],\"scattergl\":[{\"type\":\"scattergl\",\"marker\":{\"colorbar\":{\"outlinewidth\":0,\"ticks\":\"\"}}}],\"scatter3d\":[{\"type\":\"scatter3d\",\"line\":{\"colorbar\":{\"outlinewidth\":0,\"ticks\":\"\"}},\"marker\":{\"colorbar\":{\"outlinewidth\":0,\"ticks\":\"\"}}}],\"scattermapbox\":[{\"type\":\"scattermapbox\",\"marker\":{\"colorbar\":{\"outlinewidth\":0,\"ticks\":\"\"}}}],\"scatterternary\":[{\"type\":\"scatterternary\",\"marker\":{\"colorbar\":{\"outlinewidth\":0,\"ticks\":\"\"}}}],\"scattercarpet\":[{\"type\":\"scattercarpet\",\"marker\":{\"colorbar\":{\"outlinewidth\":0,\"ticks\":\"\"}}}],\"carpet\":[{\"aaxis\":{\"endlinecolor\":\"#2a3f5f\",\"gridcolor\":\"white\",\"linecolor\":\"white\",\"minorgridcolor\":\"white\",\"startlinecolor\":\"#2a3f5f\"},\"baxis\":{\"endlinecolor\":\"#2a3f5f\",\"gridcolor\":\"white\",\"linecolor\":\"white\",\"minorgridcolor\":\"white\",\"startlinecolor\":\"#2a3f5f\"},\"type\":\"carpet\"}],\"table\":[{\"cells\":{\"fill\":{\"color\":\"#EBF0F8\"},\"line\":{\"color\":\"white\"}},\"header\":{\"fill\":{\"color\":\"#C8D4E3\"},\"line\":{\"color\":\"white\"}},\"type\":\"table\"}],\"barpolar\":[{\"marker\":{\"line\":{\"color\":\"#E5ECF6\",\"width\":0.5},\"pattern\":{\"fillmode\":\"overlay\",\"size\":10,\"solidity\":0.2}},\"type\":\"barpolar\"}],\"pie\":[{\"automargin\":true,\"type\":\"pie\"}]},\"layout\":{\"autotypenumbers\":\"strict\",\"colorway\":[\"#636efa\",\"#EF553B\",\"#00cc96\",\"#ab63fa\",\"#FFA15A\",\"#19d3f3\",\"#FF6692\",\"#B6E880\",\"#FF97FF\",\"#FECB52\"],\"font\":{\"color\":\"#2a3f5f\"},\"hovermode\":\"closest\",\"hoverlabel\":{\"align\":\"left\"},\"paper_bgcolor\":\"white\",\"plot_bgcolor\":\"#E5ECF6\",\"polar\":{\"bgcolor\":\"#E5ECF6\",\"angularaxis\":{\"gridcolor\":\"white\",\"linecolor\":\"white\",\"ticks\":\"\"},\"radialaxis\":{\"gridcolor\":\"white\",\"linecolor\":\"white\",\"ticks\":\"\"}},\"ternary\":{\"bgcolor\":\"#E5ECF6\",\"aaxis\":{\"gridcolor\":\"white\",\"linecolor\":\"white\",\"ticks\":\"\"},\"baxis\":{\"gridcolor\":\"white\",\"linecolor\":\"white\",\"ticks\":\"\"},\"caxis\":{\"gridcolor\":\"white\",\"linecolor\":\"white\",\"ticks\":\"\"}},\"coloraxis\":{\"colorbar\":{\"outlinewidth\":0,\"ticks\":\"\"}},\"colorscale\":{\"sequential\":[[0.0,\"#0d0887\"],[0.1111111111111111,\"#46039f\"],[0.2222222222222222,\"#7201a8\"],[0.3333333333333333,\"#9c179e\"],[0.4444444444444444,\"#bd3786\"],[0.5555555555555556,\"#d8576b\"],[0.6666666666666666,\"#ed7953\"],[0.7777777777777778,\"#fb9f3a\"],[0.8888888888888888,\"#fdca26\"],[1.0,\"#f0f921\"]],\"sequentialminus\":[[0.0,\"#0d0887\"],[0.1111111111111111,\"#46039f\"],[0.2222222222222222,\"#7201a8\"],[0.3333333333333333,\"#9c179e\"],[0.4444444444444444,\"#bd3786\"],[0.5555555555555556,\"#d8576b\"],[0.6666666666666666,\"#ed7953\"],[0.7777777777777778,\"#fb9f3a\"],[0.8888888888888888,\"#fdca26\"],[1.0,\"#f0f921\"]],\"diverging\":[[0,\"#8e0152\"],[0.1,\"#c51b7d\"],[0.2,\"#de77ae\"],[0.3,\"#f1b6da\"],[0.4,\"#fde0ef\"],[0.5,\"#f7f7f7\"],[0.6,\"#e6f5d0\"],[0.7,\"#b8e186\"],[0.8,\"#7fbc41\"],[0.9,\"#4d9221\"],[1,\"#276419\"]]},\"xaxis\":{\"gridcolor\":\"white\",\"linecolor\":\"white\",\"ticks\":\"\",\"title\":{\"standoff\":15},\"zerolinecolor\":\"white\",\"automargin\":true,\"zerolinewidth\":2},\"yaxis\":{\"gridcolor\":\"white\",\"linecolor\":\"white\",\"ticks\":\"\",\"title\":{\"standoff\":15},\"zerolinecolor\":\"white\",\"automargin\":true,\"zerolinewidth\":2},\"scene\":{\"xaxis\":{\"backgroundcolor\":\"#E5ECF6\",\"gridcolor\":\"white\",\"linecolor\":\"white\",\"showbackground\":true,\"ticks\":\"\",\"zerolinecolor\":\"white\",\"gridwidth\":2},\"yaxis\":{\"backgroundcolor\":\"#E5ECF6\",\"gridcolor\":\"white\",\"linecolor\":\"white\",\"showbackground\":true,\"ticks\":\"\",\"zerolinecolor\":\"white\",\"gridwidth\":2},\"zaxis\":{\"backgroundcolor\":\"#E5ECF6\",\"gridcolor\":\"white\",\"linecolor\":\"white\",\"showbackground\":true,\"ticks\":\"\",\"zerolinecolor\":\"white\",\"gridwidth\":2}},\"shapedefaults\":{\"line\":{\"color\":\"#2a3f5f\"}},\"annotationdefaults\":{\"arrowcolor\":\"#2a3f5f\",\"arrowhead\":0,\"arrowwidth\":1},\"geo\":{\"bgcolor\":\"white\",\"landcolor\":\"#E5ECF6\",\"subunitcolor\":\"white\",\"showland\":true,\"showlakes\":true,\"lakecolor\":\"white\"},\"title\":{\"x\":0.05},\"mapbox\":{\"style\":\"light\"}}},\"xaxis\":{\"anchor\":\"y\",\"domain\":[0.0,1.0],\"title\":{\"text\":\"SYMBOL\"},\"categoryorder\":\"array\",\"categoryarray\":[\"NTPC\",\"ONGC\",\"COALINDIA\",\"POWERGRID\",\"ITC\",\"BPCL\",\"TATAMOTORS\",\"SBIN\",\"HINDALCO\",\"WIPRO\",\"HDFCLIFE\",\"BHARTIARTL\",\"ICICIBANK\",\"JSWSTEEL\",\"AXISBANK\",\"TATACONSUM\",\"UPL\",\"ADANIPORTS\",\"M&M\",\"SUNPHARMA\",\"INDUSINDBK\",\"CIPLA\",\"HCLTECH\",\"SBILIFE\",\"TATASTEEL\",\"TECHM\",\"HDFCBANK\",\"INFY\",\"LT\",\"GRASIM\",\"KOTAKBANK\",\"HINDUNILVR\",\"HEROMOTOCO\",\"HDFC\",\"TITAN\",\"EICHERMOT\",\"RELIANCE\",\"ASIANPAINT\",\"BRITANNIA\",\"TCS\",\"BAJAJ-AUTO\",\"DRREDDY\",\"DIVISLAB\",\"APOLLOHOSP\",\"ULTRACEMCO\",\"BAJFINANCE\",\"MARUTI\",\"BAJAJFINSV\",\"NESTLEIND\",\"SHREECEM\"]},\"yaxis\":{\"anchor\":\"x\",\"domain\":[0.0,1.0],\"title\":{\"text\":\"LTP_F\"}},\"legend\":{\"title\":{\"text\":\"SYMBOL\"},\"tracegroupgap\":0},\"title\":{\"text\":\"Price chart\"}},                        {\"responsive\": true}                    ).then(function(){\n",
       "                            \n",
       "var gd = document.getElementById('d34e6392-d6a5-48cc-9eef-6ac292ec0ea4');\n",
       "var x = new MutationObserver(function (mutations, observer) {{\n",
       "        var display = window.getComputedStyle(gd).display;\n",
       "        if (!display || display === 'none') {{\n",
       "            console.log([gd, 'removed!']);\n",
       "            Plotly.purge(gd);\n",
       "            observer.disconnect();\n",
       "        }}\n",
       "}});\n",
       "\n",
       "// Listen for the removal of the full notebook cells\n",
       "var notebookContainer = gd.closest('#notebook-container');\n",
       "if (notebookContainer) {{\n",
       "    x.observe(notebookContainer, {childList: true});\n",
       "}}\n",
       "\n",
       "// Listen for the clearing of the current output cell\n",
       "var outputEl = gd.closest('.output');\n",
       "if (outputEl) {{\n",
       "    x.observe(outputEl, {childList: true});\n",
       "}}\n",
       "\n",
       "                        })                };                });            </script>        </div>"
      ]
     },
     "metadata": {},
     "output_type": "display_data"
    }
   ],
   "source": [
    "px.scatter(data_frame=df_nifity.sort_values(by='LTP_F'),\n",
    "           x='SYMBOL',y='LTP_F',title=\"Price chart\", color='SYMBOL',\n",
    "          color_discrete_sequence=px.colors.qualitative.Dark24) "
   ]
  },
  {
   "cell_type": "markdown",
   "id": "e2c3c3f9",
   "metadata": {},
   "source": [
    "#### Volume vs LTP"
   ]
  },
  {
   "cell_type": "code",
   "execution_count": 13,
   "id": "d8e44549",
   "metadata": {},
   "outputs": [
    {
     "data": {
      "application/vnd.plotly.v1+json": {
       "config": {
        "plotlyServerURL": "https://plot.ly"
       },
       "data": [
        {
         "hovertemplate": "SYMBOL=ONGC<br>LTP_F=%{x}<br>VOLUME(shares)=%{y}<extra></extra>",
         "legendgroup": "ONGC",
         "marker": {
          "color": "#2E91E5",
          "symbol": "circle"
         },
         "mode": "markers",
         "name": "ONGC",
         "orientation": "v",
         "showlegend": true,
         "type": "scatter",
         "x": [
          173.95
         ],
         "xaxis": "x",
         "y": [
          23458303
         ],
         "yaxis": "y"
        },
        {
         "hovertemplate": "SYMBOL=APOLLOHOSP<br>LTP_F=%{x}<br>VOLUME(shares)=%{y}<extra></extra>",
         "legendgroup": "APOLLOHOSP",
         "marker": {
          "color": "#E15F99",
          "symbol": "circle"
         },
         "mode": "markers",
         "name": "APOLLOHOSP",
         "orientation": "v",
         "showlegend": true,
         "type": "scatter",
         "x": [
          4735.05
         ],
         "xaxis": "x",
         "y": [
          812061
         ],
         "yaxis": "y"
        },
        {
         "hovertemplate": "SYMBOL=UPL<br>LTP_F=%{x}<br>VOLUME(shares)=%{y}<extra></extra>",
         "legendgroup": "UPL",
         "marker": {
          "color": "#1CA71C",
          "symbol": "circle"
         },
         "mode": "markers",
         "name": "UPL",
         "orientation": "v",
         "showlegend": true,
         "type": "scatter",
         "x": [
          819.5
         ],
         "xaxis": "x",
         "y": [
          4974212
         ],
         "yaxis": "y"
        },
        {
         "hovertemplate": "SYMBOL=ITC<br>LTP_F=%{x}<br>VOLUME(shares)=%{y}<extra></extra>",
         "legendgroup": "ITC",
         "marker": {
          "color": "#FB0D0D",
          "symbol": "circle"
         },
         "mode": "markers",
         "name": "ITC",
         "orientation": "v",
         "showlegend": true,
         "type": "scatter",
         "x": [
          269.1
         ],
         "xaxis": "x",
         "y": [
          21414383
         ],
         "yaxis": "y"
        },
        {
         "hovertemplate": "SYMBOL=SUNPHARMA<br>LTP_F=%{x}<br>VOLUME(shares)=%{y}<extra></extra>",
         "legendgroup": "SUNPHARMA",
         "marker": {
          "color": "#DA16FF",
          "symbol": "circle"
         },
         "mode": "markers",
         "name": "SUNPHARMA",
         "orientation": "v",
         "showlegend": true,
         "type": "scatter",
         "x": [
          935.25
         ],
         "xaxis": "x",
         "y": [
          1825531
         ],
         "yaxis": "y"
        },
        {
         "hovertemplate": "SYMBOL=JSWSTEEL<br>LTP_F=%{x}<br>VOLUME(shares)=%{y}<extra></extra>",
         "legendgroup": "JSWSTEEL",
         "marker": {
          "color": "#222A2A",
          "symbol": "circle"
         },
         "mode": "markers",
         "name": "JSWSTEEL",
         "orientation": "v",
         "showlegend": true,
         "type": "scatter",
         "x": [
          764.45
         ],
         "xaxis": "x",
         "y": [
          6722613
         ],
         "yaxis": "y"
        },
        {
         "hovertemplate": "SYMBOL=SBIN<br>LTP_F=%{x}<br>VOLUME(shares)=%{y}<extra></extra>",
         "legendgroup": "SBIN",
         "marker": {
          "color": "#B68100",
          "symbol": "circle"
         },
         "mode": "markers",
         "name": "SBIN",
         "orientation": "v",
         "showlegend": true,
         "type": "scatter",
         "x": [
          517.7
         ],
         "xaxis": "x",
         "y": [
          15440525
         ],
         "yaxis": "y"
        },
        {
         "hovertemplate": "SYMBOL=SHREECEM<br>LTP_F=%{x}<br>VOLUME(shares)=%{y}<extra></extra>",
         "legendgroup": "SHREECEM",
         "marker": {
          "color": "#750D86",
          "symbol": "circle"
         },
         "mode": "markers",
         "name": "SHREECEM",
         "orientation": "v",
         "showlegend": true,
         "type": "scatter",
         "x": [
          25360
         ],
         "xaxis": "x",
         "y": [
          36907
         ],
         "yaxis": "y"
        },
        {
         "hovertemplate": "SYMBOL=HINDUNILVR<br>LTP_F=%{x}<br>VOLUME(shares)=%{y}<extra></extra>",
         "legendgroup": "HINDUNILVR",
         "marker": {
          "color": "#EB663B",
          "symbol": "circle"
         },
         "mode": "markers",
         "name": "HINDUNILVR",
         "orientation": "v",
         "showlegend": true,
         "type": "scatter",
         "x": [
          2150.75
         ],
         "xaxis": "x",
         "y": [
          1071601
         ],
         "yaxis": "y"
        },
        {
         "hovertemplate": "SYMBOL=NTPC<br>LTP_F=%{x}<br>VOLUME(shares)=%{y}<extra></extra>",
         "legendgroup": "NTPC",
         "marker": {
          "color": "#511CFB",
          "symbol": "circle"
         },
         "mode": "markers",
         "name": "NTPC",
         "orientation": "v",
         "showlegend": true,
         "type": "scatter",
         "x": [
          153.9
         ],
         "xaxis": "x",
         "y": [
          19454061
         ],
         "yaxis": "y"
        },
        {
         "hovertemplate": "SYMBOL=HINDALCO<br>LTP_F=%{x}<br>VOLUME(shares)=%{y}<extra></extra>",
         "legendgroup": "HINDALCO",
         "marker": {
          "color": "#00A08B",
          "symbol": "circle"
         },
         "mode": "markers",
         "name": "HINDALCO",
         "orientation": "v",
         "showlegend": true,
         "type": "scatter",
         "x": [
          545.75
         ],
         "xaxis": "x",
         "y": [
          7396320
         ],
         "yaxis": "y"
        },
        {
         "hovertemplate": "SYMBOL=LT<br>LTP_F=%{x}<br>VOLUME(shares)=%{y}<extra></extra>",
         "legendgroup": "LT",
         "marker": {
          "color": "#FB00D1",
          "symbol": "circle"
         },
         "mode": "markers",
         "name": "LT",
         "orientation": "v",
         "showlegend": true,
         "type": "scatter",
         "x": [
          1758.55
         ],
         "xaxis": "x",
         "y": [
          1673417
         ],
         "yaxis": "y"
        },
        {
         "hovertemplate": "SYMBOL=BAJFINANCE<br>LTP_F=%{x}<br>VOLUME(shares)=%{y}<extra></extra>",
         "legendgroup": "BAJFINANCE",
         "marker": {
          "color": "#FC0080",
          "symbol": "circle"
         },
         "mode": "markers",
         "name": "BAJFINANCE",
         "orientation": "v",
         "showlegend": true,
         "type": "scatter",
         "x": [
          7315.05
         ],
         "xaxis": "x",
         "y": [
          672317
         ],
         "yaxis": "y"
        },
        {
         "hovertemplate": "SYMBOL=DIVISLAB<br>LTP_F=%{x}<br>VOLUME(shares)=%{y}<extra></extra>",
         "legendgroup": "DIVISLAB",
         "marker": {
          "color": "#B2828D",
          "symbol": "circle"
         },
         "mode": "markers",
         "name": "DIVISLAB",
         "orientation": "v",
         "showlegend": true,
         "type": "scatter",
         "x": [
          4497
         ],
         "xaxis": "x",
         "y": [
          306254
         ],
         "yaxis": "y"
        },
        {
         "hovertemplate": "SYMBOL=TATACONSUM<br>LTP_F=%{x}<br>VOLUME(shares)=%{y}<extra></extra>",
         "legendgroup": "TATACONSUM",
         "marker": {
          "color": "#6C7C32",
          "symbol": "circle"
         },
         "mode": "markers",
         "name": "TATACONSUM",
         "orientation": "v",
         "showlegend": true,
         "type": "scatter",
         "x": [
          816.2
         ],
         "xaxis": "x",
         "y": [
          1036739
         ],
         "yaxis": "y"
        },
        {
         "hovertemplate": "SYMBOL=INFY<br>LTP_F=%{x}<br>VOLUME(shares)=%{y}<extra></extra>",
         "legendgroup": "INFY",
         "marker": {
          "color": "#778AAE",
          "symbol": "circle"
         },
         "mode": "markers",
         "name": "INFY",
         "orientation": "v",
         "showlegend": true,
         "type": "scatter",
         "x": [
          1751
         ],
         "xaxis": "x",
         "y": [
          6257693
         ],
         "yaxis": "y"
        },
        {
         "hovertemplate": "SYMBOL=HDFCLIFE<br>LTP_F=%{x}<br>VOLUME(shares)=%{y}<extra></extra>",
         "legendgroup": "HDFCLIFE",
         "marker": {
          "color": "#862A16",
          "symbol": "circle"
         },
         "mode": "markers",
         "name": "HDFCLIFE",
         "orientation": "v",
         "showlegend": true,
         "type": "scatter",
         "x": [
          565.05
         ],
         "xaxis": "x",
         "y": [
          2313264
         ],
         "yaxis": "y"
        },
        {
         "hovertemplate": "SYMBOL=M&M<br>LTP_F=%{x}<br>VOLUME(shares)=%{y}<extra></extra>",
         "legendgroup": "M&M",
         "marker": {
          "color": "#A777F1",
          "symbol": "circle"
         },
         "mode": "markers",
         "name": "M&M",
         "orientation": "v",
         "showlegend": true,
         "type": "scatter",
         "x": [
          865
         ],
         "xaxis": "x",
         "y": [
          3695363
         ],
         "yaxis": "y"
        },
        {
         "hovertemplate": "SYMBOL=GRASIM<br>LTP_F=%{x}<br>VOLUME(shares)=%{y}<extra></extra>",
         "legendgroup": "GRASIM",
         "marker": {
          "color": "#620042",
          "symbol": "circle"
         },
         "mode": "markers",
         "name": "GRASIM",
         "orientation": "v",
         "showlegend": true,
         "type": "scatter",
         "x": [
          1763.8
         ],
         "xaxis": "x",
         "y": [
          836083
         ],
         "yaxis": "y"
        },
        {
         "hovertemplate": "SYMBOL=WIPRO<br>LTP_F=%{x}<br>VOLUME(shares)=%{y}<extra></extra>",
         "legendgroup": "WIPRO",
         "marker": {
          "color": "#1616A7",
          "symbol": "circle"
         },
         "mode": "markers",
         "name": "WIPRO",
         "orientation": "v",
         "showlegend": true,
         "type": "scatter",
         "x": [
          559.8
         ],
         "xaxis": "x",
         "y": [
          5602288
         ],
         "yaxis": "y"
        },
        {
         "hovertemplate": "SYMBOL=COALINDIA<br>LTP_F=%{x}<br>VOLUME(shares)=%{y}<extra></extra>",
         "legendgroup": "COALINDIA",
         "marker": {
          "color": "#DA60CA",
          "symbol": "circle"
         },
         "mode": "markers",
         "name": "COALINDIA",
         "orientation": "v",
         "showlegend": true,
         "type": "scatter",
         "x": [
          186.35
         ],
         "xaxis": "x",
         "y": [
          14216953
         ],
         "yaxis": "y"
        },
        {
         "hovertemplate": "SYMBOL=BRITANNIA<br>LTP_F=%{x}<br>VOLUME(shares)=%{y}<extra></extra>",
         "legendgroup": "BRITANNIA",
         "marker": {
          "color": "#6C4516",
          "symbol": "circle"
         },
         "mode": "markers",
         "name": "BRITANNIA",
         "orientation": "v",
         "showlegend": true,
         "type": "scatter",
         "x": [
          3345.95
         ],
         "xaxis": "x",
         "y": [
          205852
         ],
         "yaxis": "y"
        },
        {
         "hovertemplate": "SYMBOL=INDUSINDBK<br>LTP_F=%{x}<br>VOLUME(shares)=%{y}<extra></extra>",
         "legendgroup": "INDUSINDBK",
         "marker": {
          "color": "#0D2A63",
          "symbol": "circle"
         },
         "mode": "markers",
         "name": "INDUSINDBK",
         "orientation": "v",
         "showlegend": true,
         "type": "scatter",
         "x": [
          983.9
         ],
         "xaxis": "x",
         "y": [
          2060127
         ],
         "yaxis": "y"
        },
        {
         "hovertemplate": "SYMBOL=BHARTIARTL<br>LTP_F=%{x}<br>VOLUME(shares)=%{y}<extra></extra>",
         "legendgroup": "BHARTIARTL",
         "marker": {
          "color": "#AF0038",
          "symbol": "circle"
         },
         "mode": "markers",
         "name": "BHARTIARTL",
         "orientation": "v",
         "showlegend": true,
         "type": "scatter",
         "x": [
          739.9
         ],
         "xaxis": "x",
         "y": [
          6343030
         ],
         "yaxis": "y"
        },
        {
         "hovertemplate": "SYMBOL=SBILIFE<br>LTP_F=%{x}<br>VOLUME(shares)=%{y}<extra></extra>",
         "legendgroup": "SBILIFE",
         "marker": {
          "color": "#2E91E5",
          "symbol": "circle"
         },
         "mode": "markers",
         "name": "SBILIFE",
         "orientation": "v",
         "showlegend": true,
         "type": "scatter",
         "x": [
          1146.1
         ],
         "xaxis": "x",
         "y": [
          509293
         ],
         "yaxis": "y"
        },
        {
         "hovertemplate": "SYMBOL=ICICIBANK<br>LTP_F=%{x}<br>VOLUME(shares)=%{y}<extra></extra>",
         "legendgroup": "ICICIBANK",
         "marker": {
          "color": "#E15F99",
          "symbol": "circle"
         },
         "mode": "markers",
         "name": "ICICIBANK",
         "orientation": "v",
         "showlegend": true,
         "type": "scatter",
         "x": [
          761.55
         ],
         "xaxis": "x",
         "y": [
          16119956
         ],
         "yaxis": "y"
        },
        {
         "hovertemplate": "SYMBOL=TATASTEEL<br>LTP_F=%{x}<br>VOLUME(shares)=%{y}<extra></extra>",
         "legendgroup": "TATASTEEL",
         "marker": {
          "color": "#1CA71C",
          "symbol": "circle"
         },
         "mode": "markers",
         "name": "TATASTEEL",
         "orientation": "v",
         "showlegend": true,
         "type": "scatter",
         "x": [
          1316.05
         ],
         "xaxis": "x",
         "y": [
          4493780
         ],
         "yaxis": "y"
        },
        {
         "hovertemplate": "SYMBOL=RELIANCE<br>LTP_F=%{x}<br>VOLUME(shares)=%{y}<extra></extra>",
         "legendgroup": "RELIANCE",
         "marker": {
          "color": "#FB0D0D",
          "symbol": "circle"
         },
         "mode": "markers",
         "name": "RELIANCE",
         "orientation": "v",
         "showlegend": true,
         "type": "scatter",
         "x": [
          2551.9
         ],
         "xaxis": "x",
         "y": [
          4778478
         ],
         "yaxis": "y"
        },
        {
         "hovertemplate": "SYMBOL=HCLTECH<br>LTP_F=%{x}<br>VOLUME(shares)=%{y}<extra></extra>",
         "legendgroup": "HCLTECH",
         "marker": {
          "color": "#DA16FF",
          "symbol": "circle"
         },
         "mode": "markers",
         "name": "HCLTECH",
         "orientation": "v",
         "showlegend": true,
         "type": "scatter",
         "x": [
          1127
         ],
         "xaxis": "x",
         "y": [
          1971580
         ],
         "yaxis": "y"
        },
        {
         "hovertemplate": "SYMBOL=TECHM<br>LTP_F=%{x}<br>VOLUME(shares)=%{y}<extra></extra>",
         "legendgroup": "TECHM",
         "marker": {
          "color": "#222A2A",
          "symbol": "circle"
         },
         "mode": "markers",
         "name": "TECHM",
         "orientation": "v",
         "showlegend": true,
         "type": "scatter",
         "x": [
          1409.45
         ],
         "xaxis": "x",
         "y": [
          1430399
         ],
         "yaxis": "y"
        },
        {
         "hovertemplate": "SYMBOL=BAJAJ-AUTO<br>LTP_F=%{x}<br>VOLUME(shares)=%{y}<extra></extra>",
         "legendgroup": "BAJAJ-AUTO",
         "marker": {
          "color": "#B68100",
          "symbol": "circle"
         },
         "mode": "markers",
         "name": "BAJAJ-AUTO",
         "orientation": "v",
         "showlegend": true,
         "type": "scatter",
         "x": [
          3694.65
         ],
         "xaxis": "x",
         "y": [
          198206
         ],
         "yaxis": "y"
        },
        {
         "hovertemplate": "SYMBOL=BPCL<br>LTP_F=%{x}<br>VOLUME(shares)=%{y}<extra></extra>",
         "legendgroup": "BPCL",
         "marker": {
          "color": "#750D86",
          "symbol": "circle"
         },
         "mode": "markers",
         "name": "BPCL",
         "orientation": "v",
         "showlegend": true,
         "type": "scatter",
         "x": [
          378.5
         ],
         "xaxis": "x",
         "y": [
          3261962
         ],
         "yaxis": "y"
        },
        {
         "hovertemplate": "SYMBOL=TCS<br>LTP_F=%{x}<br>VOLUME(shares)=%{y}<extra></extra>",
         "legendgroup": "TCS",
         "marker": {
          "color": "#EB663B",
          "symbol": "circle"
         },
         "mode": "markers",
         "name": "TCS",
         "orientation": "v",
         "showlegend": true,
         "type": "scatter",
         "x": [
          3664.95
         ],
         "xaxis": "x",
         "y": [
          1621672
         ],
         "yaxis": "y"
        },
        {
         "hovertemplate": "SYMBOL=NESTLEIND<br>LTP_F=%{x}<br>VOLUME(shares)=%{y}<extra></extra>",
         "legendgroup": "NESTLEIND",
         "marker": {
          "color": "#511CFB",
          "symbol": "circle"
         },
         "mode": "markers",
         "name": "NESTLEIND",
         "orientation": "v",
         "showlegend": true,
         "type": "scatter",
         "x": [
          18281
         ],
         "xaxis": "x",
         "y": [
          27330
         ],
         "yaxis": "y"
        },
        {
         "hovertemplate": "SYMBOL=ADANIPORTS<br>LTP_F=%{x}<br>VOLUME(shares)=%{y}<extra></extra>",
         "legendgroup": "ADANIPORTS",
         "marker": {
          "color": "#00A08B",
          "symbol": "circle"
         },
         "mode": "markers",
         "name": "ADANIPORTS",
         "orientation": "v",
         "showlegend": true,
         "type": "scatter",
         "x": [
          838.15
         ],
         "xaxis": "x",
         "y": [
          2955807
         ],
         "yaxis": "y"
        },
        {
         "hovertemplate": "SYMBOL=AXISBANK<br>LTP_F=%{x}<br>VOLUME(shares)=%{y}<extra></extra>",
         "legendgroup": "AXISBANK",
         "marker": {
          "color": "#FB00D1",
          "symbol": "circle"
         },
         "mode": "markers",
         "name": "AXISBANK",
         "orientation": "v",
         "showlegend": true,
         "type": "scatter",
         "x": [
          792
         ],
         "xaxis": "x",
         "y": [
          7640132
         ],
         "yaxis": "y"
        },
        {
         "hovertemplate": "SYMBOL=ULTRACEMCO<br>LTP_F=%{x}<br>VOLUME(shares)=%{y}<extra></extra>",
         "legendgroup": "ULTRACEMCO",
         "marker": {
          "color": "#FC0080",
          "symbol": "circle"
         },
         "mode": "markers",
         "name": "ULTRACEMCO",
         "orientation": "v",
         "showlegend": true,
         "type": "scatter",
         "x": [
          6714
         ],
         "xaxis": "x",
         "y": [
          386535
         ],
         "yaxis": "y"
        },
        {
         "hovertemplate": "SYMBOL=CIPLA<br>LTP_F=%{x}<br>VOLUME(shares)=%{y}<extra></extra>",
         "legendgroup": "CIPLA",
         "marker": {
          "color": "#B2828D",
          "symbol": "circle"
         },
         "mode": "markers",
         "name": "CIPLA",
         "orientation": "v",
         "showlegend": true,
         "type": "scatter",
         "x": [
          1017.35
         ],
         "xaxis": "x",
         "y": [
          1890795
         ],
         "yaxis": "y"
        },
        {
         "hovertemplate": "SYMBOL=TITAN<br>LTP_F=%{x}<br>VOLUME(shares)=%{y}<extra></extra>",
         "legendgroup": "TITAN",
         "marker": {
          "color": "#6C7C32",
          "symbol": "circle"
         },
         "mode": "markers",
         "name": "TITAN",
         "orientation": "v",
         "showlegend": true,
         "type": "scatter",
         "x": [
          2461.5
         ],
         "xaxis": "x",
         "y": [
          1165453
         ],
         "yaxis": "y"
        },
        {
         "hovertemplate": "SYMBOL=HEROMOTOCO<br>LTP_F=%{x}<br>VOLUME(shares)=%{y}<extra></extra>",
         "legendgroup": "HEROMOTOCO",
         "marker": {
          "color": "#778AAE",
          "symbol": "circle"
         },
         "mode": "markers",
         "name": "HEROMOTOCO",
         "orientation": "v",
         "showlegend": true,
         "type": "scatter",
         "x": [
          2272.55
         ],
         "xaxis": "x",
         "y": [
          426929
         ],
         "yaxis": "y"
        },
        {
         "hovertemplate": "SYMBOL=KOTAKBANK<br>LTP_F=%{x}<br>VOLUME(shares)=%{y}<extra></extra>",
         "legendgroup": "KOTAKBANK",
         "marker": {
          "color": "#862A16",
          "symbol": "circle"
         },
         "mode": "markers",
         "name": "KOTAKBANK",
         "orientation": "v",
         "showlegend": true,
         "type": "scatter",
         "x": [
          1780
         ],
         "xaxis": "x",
         "y": [
          1923692
         ],
         "yaxis": "y"
        },
        {
         "hovertemplate": "SYMBOL=BAJAJFINSV<br>LTP_F=%{x}<br>VOLUME(shares)=%{y}<extra></extra>",
         "legendgroup": "BAJAJFINSV",
         "marker": {
          "color": "#A777F1",
          "symbol": "circle"
         },
         "mode": "markers",
         "name": "BAJAJFINSV",
         "orientation": "v",
         "showlegend": true,
         "type": "scatter",
         "x": [
          16096.95
         ],
         "xaxis": "x",
         "y": [
          248390
         ],
         "yaxis": "y"
        },
        {
         "hovertemplate": "SYMBOL=POWERGRID<br>LTP_F=%{x}<br>VOLUME(shares)=%{y}<extra></extra>",
         "legendgroup": "POWERGRID",
         "marker": {
          "color": "#620042",
          "symbol": "circle"
         },
         "mode": "markers",
         "name": "POWERGRID",
         "orientation": "v",
         "showlegend": true,
         "type": "scatter",
         "x": [
          229.85
         ],
         "xaxis": "x",
         "y": [
          8261580
         ],
         "yaxis": "y"
        },
        {
         "hovertemplate": "SYMBOL=ASIANPAINT<br>LTP_F=%{x}<br>VOLUME(shares)=%{y}<extra></extra>",
         "legendgroup": "ASIANPAINT",
         "marker": {
          "color": "#1616A7",
          "symbol": "circle"
         },
         "mode": "markers",
         "name": "ASIANPAINT",
         "orientation": "v",
         "showlegend": true,
         "type": "scatter",
         "x": [
          3084
         ],
         "xaxis": "x",
         "y": [
          1121350
         ],
         "yaxis": "y"
        },
        {
         "hovertemplate": "SYMBOL=EICHERMOT<br>LTP_F=%{x}<br>VOLUME(shares)=%{y}<extra></extra>",
         "legendgroup": "EICHERMOT",
         "marker": {
          "color": "#DA60CA",
          "symbol": "circle"
         },
         "mode": "markers",
         "name": "EICHERMOT",
         "orientation": "v",
         "showlegend": true,
         "type": "scatter",
         "x": [
          2484
         ],
         "xaxis": "x",
         "y": [
          383935
         ],
         "yaxis": "y"
        },
        {
         "hovertemplate": "SYMBOL=TATAMOTORS<br>LTP_F=%{x}<br>VOLUME(shares)=%{y}<extra></extra>",
         "legendgroup": "TATAMOTORS",
         "marker": {
          "color": "#6C4516",
          "symbol": "circle"
         },
         "mode": "markers",
         "name": "TATAMOTORS",
         "orientation": "v",
         "showlegend": true,
         "type": "scatter",
         "x": [
          431.5
         ],
         "xaxis": "x",
         "y": [
          16817981
         ],
         "yaxis": "y"
        },
        {
         "hovertemplate": "SYMBOL=DRREDDY<br>LTP_F=%{x}<br>VOLUME(shares)=%{y}<extra></extra>",
         "legendgroup": "DRREDDY",
         "marker": {
          "color": "#0D2A63",
          "symbol": "circle"
         },
         "mode": "markers",
         "name": "DRREDDY",
         "orientation": "v",
         "showlegend": true,
         "type": "scatter",
         "x": [
          4302
         ],
         "xaxis": "x",
         "y": [
          369436
         ],
         "yaxis": "y"
        },
        {
         "hovertemplate": "SYMBOL=HDFCBANK<br>LTP_F=%{x}<br>VOLUME(shares)=%{y}<extra></extra>",
         "legendgroup": "HDFCBANK",
         "marker": {
          "color": "#AF0038",
          "symbol": "circle"
         },
         "mode": "markers",
         "name": "HDFCBANK",
         "orientation": "v",
         "showlegend": true,
         "type": "scatter",
         "x": [
          1464
         ],
         "xaxis": "x",
         "y": [
          14446260
         ],
         "yaxis": "y"
        },
        {
         "hovertemplate": "SYMBOL=HDFC<br>LTP_F=%{x}<br>VOLUME(shares)=%{y}<extra></extra>",
         "legendgroup": "HDFC",
         "marker": {
          "color": "#2E91E5",
          "symbol": "circle"
         },
         "mode": "markers",
         "name": "HDFC",
         "orientation": "v",
         "showlegend": true,
         "type": "scatter",
         "x": [
          2371.55
         ],
         "xaxis": "x",
         "y": [
          4257122
         ],
         "yaxis": "y"
        },
        {
         "hovertemplate": "SYMBOL=MARUTI<br>LTP_F=%{x}<br>VOLUME(shares)=%{y}<extra></extra>",
         "legendgroup": "MARUTI",
         "marker": {
          "color": "#E15F99",
          "symbol": "circle"
         },
         "mode": "markers",
         "name": "MARUTI",
         "orientation": "v",
         "showlegend": true,
         "type": "scatter",
         "x": [
          7445
         ],
         "xaxis": "x",
         "y": [
          527991
         ],
         "yaxis": "y"
        }
       ],
       "layout": {
        "legend": {
         "title": {
          "text": "SYMBOL"
         },
         "tracegroupgap": 0
        },
        "margin": {
         "t": 60
        },
        "template": {
         "data": {
          "bar": [
           {
            "error_x": {
             "color": "#2a3f5f"
            },
            "error_y": {
             "color": "#2a3f5f"
            },
            "marker": {
             "line": {
              "color": "#E5ECF6",
              "width": 0.5
             },
             "pattern": {
              "fillmode": "overlay",
              "size": 10,
              "solidity": 0.2
             }
            },
            "type": "bar"
           }
          ],
          "barpolar": [
           {
            "marker": {
             "line": {
              "color": "#E5ECF6",
              "width": 0.5
             },
             "pattern": {
              "fillmode": "overlay",
              "size": 10,
              "solidity": 0.2
             }
            },
            "type": "barpolar"
           }
          ],
          "carpet": [
           {
            "aaxis": {
             "endlinecolor": "#2a3f5f",
             "gridcolor": "white",
             "linecolor": "white",
             "minorgridcolor": "white",
             "startlinecolor": "#2a3f5f"
            },
            "baxis": {
             "endlinecolor": "#2a3f5f",
             "gridcolor": "white",
             "linecolor": "white",
             "minorgridcolor": "white",
             "startlinecolor": "#2a3f5f"
            },
            "type": "carpet"
           }
          ],
          "choropleth": [
           {
            "colorbar": {
             "outlinewidth": 0,
             "ticks": ""
            },
            "type": "choropleth"
           }
          ],
          "contour": [
           {
            "colorbar": {
             "outlinewidth": 0,
             "ticks": ""
            },
            "colorscale": [
             [
              0,
              "#0d0887"
             ],
             [
              0.1111111111111111,
              "#46039f"
             ],
             [
              0.2222222222222222,
              "#7201a8"
             ],
             [
              0.3333333333333333,
              "#9c179e"
             ],
             [
              0.4444444444444444,
              "#bd3786"
             ],
             [
              0.5555555555555556,
              "#d8576b"
             ],
             [
              0.6666666666666666,
              "#ed7953"
             ],
             [
              0.7777777777777778,
              "#fb9f3a"
             ],
             [
              0.8888888888888888,
              "#fdca26"
             ],
             [
              1,
              "#f0f921"
             ]
            ],
            "type": "contour"
           }
          ],
          "contourcarpet": [
           {
            "colorbar": {
             "outlinewidth": 0,
             "ticks": ""
            },
            "type": "contourcarpet"
           }
          ],
          "heatmap": [
           {
            "colorbar": {
             "outlinewidth": 0,
             "ticks": ""
            },
            "colorscale": [
             [
              0,
              "#0d0887"
             ],
             [
              0.1111111111111111,
              "#46039f"
             ],
             [
              0.2222222222222222,
              "#7201a8"
             ],
             [
              0.3333333333333333,
              "#9c179e"
             ],
             [
              0.4444444444444444,
              "#bd3786"
             ],
             [
              0.5555555555555556,
              "#d8576b"
             ],
             [
              0.6666666666666666,
              "#ed7953"
             ],
             [
              0.7777777777777778,
              "#fb9f3a"
             ],
             [
              0.8888888888888888,
              "#fdca26"
             ],
             [
              1,
              "#f0f921"
             ]
            ],
            "type": "heatmap"
           }
          ],
          "heatmapgl": [
           {
            "colorbar": {
             "outlinewidth": 0,
             "ticks": ""
            },
            "colorscale": [
             [
              0,
              "#0d0887"
             ],
             [
              0.1111111111111111,
              "#46039f"
             ],
             [
              0.2222222222222222,
              "#7201a8"
             ],
             [
              0.3333333333333333,
              "#9c179e"
             ],
             [
              0.4444444444444444,
              "#bd3786"
             ],
             [
              0.5555555555555556,
              "#d8576b"
             ],
             [
              0.6666666666666666,
              "#ed7953"
             ],
             [
              0.7777777777777778,
              "#fb9f3a"
             ],
             [
              0.8888888888888888,
              "#fdca26"
             ],
             [
              1,
              "#f0f921"
             ]
            ],
            "type": "heatmapgl"
           }
          ],
          "histogram": [
           {
            "marker": {
             "pattern": {
              "fillmode": "overlay",
              "size": 10,
              "solidity": 0.2
             }
            },
            "type": "histogram"
           }
          ],
          "histogram2d": [
           {
            "colorbar": {
             "outlinewidth": 0,
             "ticks": ""
            },
            "colorscale": [
             [
              0,
              "#0d0887"
             ],
             [
              0.1111111111111111,
              "#46039f"
             ],
             [
              0.2222222222222222,
              "#7201a8"
             ],
             [
              0.3333333333333333,
              "#9c179e"
             ],
             [
              0.4444444444444444,
              "#bd3786"
             ],
             [
              0.5555555555555556,
              "#d8576b"
             ],
             [
              0.6666666666666666,
              "#ed7953"
             ],
             [
              0.7777777777777778,
              "#fb9f3a"
             ],
             [
              0.8888888888888888,
              "#fdca26"
             ],
             [
              1,
              "#f0f921"
             ]
            ],
            "type": "histogram2d"
           }
          ],
          "histogram2dcontour": [
           {
            "colorbar": {
             "outlinewidth": 0,
             "ticks": ""
            },
            "colorscale": [
             [
              0,
              "#0d0887"
             ],
             [
              0.1111111111111111,
              "#46039f"
             ],
             [
              0.2222222222222222,
              "#7201a8"
             ],
             [
              0.3333333333333333,
              "#9c179e"
             ],
             [
              0.4444444444444444,
              "#bd3786"
             ],
             [
              0.5555555555555556,
              "#d8576b"
             ],
             [
              0.6666666666666666,
              "#ed7953"
             ],
             [
              0.7777777777777778,
              "#fb9f3a"
             ],
             [
              0.8888888888888888,
              "#fdca26"
             ],
             [
              1,
              "#f0f921"
             ]
            ],
            "type": "histogram2dcontour"
           }
          ],
          "mesh3d": [
           {
            "colorbar": {
             "outlinewidth": 0,
             "ticks": ""
            },
            "type": "mesh3d"
           }
          ],
          "parcoords": [
           {
            "line": {
             "colorbar": {
              "outlinewidth": 0,
              "ticks": ""
             }
            },
            "type": "parcoords"
           }
          ],
          "pie": [
           {
            "automargin": true,
            "type": "pie"
           }
          ],
          "scatter": [
           {
            "fillpattern": {
             "fillmode": "overlay",
             "size": 10,
             "solidity": 0.2
            },
            "type": "scatter"
           }
          ],
          "scatter3d": [
           {
            "line": {
             "colorbar": {
              "outlinewidth": 0,
              "ticks": ""
             }
            },
            "marker": {
             "colorbar": {
              "outlinewidth": 0,
              "ticks": ""
             }
            },
            "type": "scatter3d"
           }
          ],
          "scattercarpet": [
           {
            "marker": {
             "colorbar": {
              "outlinewidth": 0,
              "ticks": ""
             }
            },
            "type": "scattercarpet"
           }
          ],
          "scattergeo": [
           {
            "marker": {
             "colorbar": {
              "outlinewidth": 0,
              "ticks": ""
             }
            },
            "type": "scattergeo"
           }
          ],
          "scattergl": [
           {
            "marker": {
             "colorbar": {
              "outlinewidth": 0,
              "ticks": ""
             }
            },
            "type": "scattergl"
           }
          ],
          "scattermapbox": [
           {
            "marker": {
             "colorbar": {
              "outlinewidth": 0,
              "ticks": ""
             }
            },
            "type": "scattermapbox"
           }
          ],
          "scatterpolar": [
           {
            "marker": {
             "colorbar": {
              "outlinewidth": 0,
              "ticks": ""
             }
            },
            "type": "scatterpolar"
           }
          ],
          "scatterpolargl": [
           {
            "marker": {
             "colorbar": {
              "outlinewidth": 0,
              "ticks": ""
             }
            },
            "type": "scatterpolargl"
           }
          ],
          "scatterternary": [
           {
            "marker": {
             "colorbar": {
              "outlinewidth": 0,
              "ticks": ""
             }
            },
            "type": "scatterternary"
           }
          ],
          "surface": [
           {
            "colorbar": {
             "outlinewidth": 0,
             "ticks": ""
            },
            "colorscale": [
             [
              0,
              "#0d0887"
             ],
             [
              0.1111111111111111,
              "#46039f"
             ],
             [
              0.2222222222222222,
              "#7201a8"
             ],
             [
              0.3333333333333333,
              "#9c179e"
             ],
             [
              0.4444444444444444,
              "#bd3786"
             ],
             [
              0.5555555555555556,
              "#d8576b"
             ],
             [
              0.6666666666666666,
              "#ed7953"
             ],
             [
              0.7777777777777778,
              "#fb9f3a"
             ],
             [
              0.8888888888888888,
              "#fdca26"
             ],
             [
              1,
              "#f0f921"
             ]
            ],
            "type": "surface"
           }
          ],
          "table": [
           {
            "cells": {
             "fill": {
              "color": "#EBF0F8"
             },
             "line": {
              "color": "white"
             }
            },
            "header": {
             "fill": {
              "color": "#C8D4E3"
             },
             "line": {
              "color": "white"
             }
            },
            "type": "table"
           }
          ]
         },
         "layout": {
          "annotationdefaults": {
           "arrowcolor": "#2a3f5f",
           "arrowhead": 0,
           "arrowwidth": 1
          },
          "autotypenumbers": "strict",
          "coloraxis": {
           "colorbar": {
            "outlinewidth": 0,
            "ticks": ""
           }
          },
          "colorscale": {
           "diverging": [
            [
             0,
             "#8e0152"
            ],
            [
             0.1,
             "#c51b7d"
            ],
            [
             0.2,
             "#de77ae"
            ],
            [
             0.3,
             "#f1b6da"
            ],
            [
             0.4,
             "#fde0ef"
            ],
            [
             0.5,
             "#f7f7f7"
            ],
            [
             0.6,
             "#e6f5d0"
            ],
            [
             0.7,
             "#b8e186"
            ],
            [
             0.8,
             "#7fbc41"
            ],
            [
             0.9,
             "#4d9221"
            ],
            [
             1,
             "#276419"
            ]
           ],
           "sequential": [
            [
             0,
             "#0d0887"
            ],
            [
             0.1111111111111111,
             "#46039f"
            ],
            [
             0.2222222222222222,
             "#7201a8"
            ],
            [
             0.3333333333333333,
             "#9c179e"
            ],
            [
             0.4444444444444444,
             "#bd3786"
            ],
            [
             0.5555555555555556,
             "#d8576b"
            ],
            [
             0.6666666666666666,
             "#ed7953"
            ],
            [
             0.7777777777777778,
             "#fb9f3a"
            ],
            [
             0.8888888888888888,
             "#fdca26"
            ],
            [
             1,
             "#f0f921"
            ]
           ],
           "sequentialminus": [
            [
             0,
             "#0d0887"
            ],
            [
             0.1111111111111111,
             "#46039f"
            ],
            [
             0.2222222222222222,
             "#7201a8"
            ],
            [
             0.3333333333333333,
             "#9c179e"
            ],
            [
             0.4444444444444444,
             "#bd3786"
            ],
            [
             0.5555555555555556,
             "#d8576b"
            ],
            [
             0.6666666666666666,
             "#ed7953"
            ],
            [
             0.7777777777777778,
             "#fb9f3a"
            ],
            [
             0.8888888888888888,
             "#fdca26"
            ],
            [
             1,
             "#f0f921"
            ]
           ]
          },
          "colorway": [
           "#636efa",
           "#EF553B",
           "#00cc96",
           "#ab63fa",
           "#FFA15A",
           "#19d3f3",
           "#FF6692",
           "#B6E880",
           "#FF97FF",
           "#FECB52"
          ],
          "font": {
           "color": "#2a3f5f"
          },
          "geo": {
           "bgcolor": "white",
           "lakecolor": "white",
           "landcolor": "#E5ECF6",
           "showlakes": true,
           "showland": true,
           "subunitcolor": "white"
          },
          "hoverlabel": {
           "align": "left"
          },
          "hovermode": "closest",
          "mapbox": {
           "style": "light"
          },
          "paper_bgcolor": "white",
          "plot_bgcolor": "#E5ECF6",
          "polar": {
           "angularaxis": {
            "gridcolor": "white",
            "linecolor": "white",
            "ticks": ""
           },
           "bgcolor": "#E5ECF6",
           "radialaxis": {
            "gridcolor": "white",
            "linecolor": "white",
            "ticks": ""
           }
          },
          "scene": {
           "xaxis": {
            "backgroundcolor": "#E5ECF6",
            "gridcolor": "white",
            "gridwidth": 2,
            "linecolor": "white",
            "showbackground": true,
            "ticks": "",
            "zerolinecolor": "white"
           },
           "yaxis": {
            "backgroundcolor": "#E5ECF6",
            "gridcolor": "white",
            "gridwidth": 2,
            "linecolor": "white",
            "showbackground": true,
            "ticks": "",
            "zerolinecolor": "white"
           },
           "zaxis": {
            "backgroundcolor": "#E5ECF6",
            "gridcolor": "white",
            "gridwidth": 2,
            "linecolor": "white",
            "showbackground": true,
            "ticks": "",
            "zerolinecolor": "white"
           }
          },
          "shapedefaults": {
           "line": {
            "color": "#2a3f5f"
           }
          },
          "ternary": {
           "aaxis": {
            "gridcolor": "white",
            "linecolor": "white",
            "ticks": ""
           },
           "baxis": {
            "gridcolor": "white",
            "linecolor": "white",
            "ticks": ""
           },
           "bgcolor": "#E5ECF6",
           "caxis": {
            "gridcolor": "white",
            "linecolor": "white",
            "ticks": ""
           }
          },
          "title": {
           "x": 0.05
          },
          "xaxis": {
           "automargin": true,
           "gridcolor": "white",
           "linecolor": "white",
           "ticks": "",
           "title": {
            "standoff": 15
           },
           "zerolinecolor": "white",
           "zerolinewidth": 2
          },
          "yaxis": {
           "automargin": true,
           "gridcolor": "white",
           "linecolor": "white",
           "ticks": "",
           "title": {
            "standoff": 15
           },
           "zerolinecolor": "white",
           "zerolinewidth": 2
          }
         }
        },
        "xaxis": {
         "anchor": "y",
         "domain": [
          0,
          1
         ],
         "title": {
          "text": "LTP_F"
         }
        },
        "yaxis": {
         "anchor": "x",
         "domain": [
          0,
          1
         ],
         "title": {
          "text": "VOLUME(shares)"
         }
        }
       }
      },
      "text/html": [
       "<div>                            <div id=\"c6355a3e-5f78-4b50-9bba-bdc44029aa14\" class=\"plotly-graph-div\" style=\"height:525px; width:100%;\"></div>            <script type=\"text/javascript\">                require([\"plotly\"], function(Plotly) {                    window.PLOTLYENV=window.PLOTLYENV || {};                                    if (document.getElementById(\"c6355a3e-5f78-4b50-9bba-bdc44029aa14\")) {                    Plotly.newPlot(                        \"c6355a3e-5f78-4b50-9bba-bdc44029aa14\",                        [{\"hovertemplate\":\"SYMBOL=ONGC<br>LTP_F=%{x}<br>VOLUME(shares)=%{y}<extra></extra>\",\"legendgroup\":\"ONGC\",\"marker\":{\"color\":\"#2E91E5\",\"symbol\":\"circle\"},\"mode\":\"markers\",\"name\":\"ONGC\",\"orientation\":\"v\",\"showlegend\":true,\"x\":[173.95],\"xaxis\":\"x\",\"y\":[23458303],\"yaxis\":\"y\",\"type\":\"scatter\"},{\"hovertemplate\":\"SYMBOL=APOLLOHOSP<br>LTP_F=%{x}<br>VOLUME(shares)=%{y}<extra></extra>\",\"legendgroup\":\"APOLLOHOSP\",\"marker\":{\"color\":\"#E15F99\",\"symbol\":\"circle\"},\"mode\":\"markers\",\"name\":\"APOLLOHOSP\",\"orientation\":\"v\",\"showlegend\":true,\"x\":[4735.05],\"xaxis\":\"x\",\"y\":[812061],\"yaxis\":\"y\",\"type\":\"scatter\"},{\"hovertemplate\":\"SYMBOL=UPL<br>LTP_F=%{x}<br>VOLUME(shares)=%{y}<extra></extra>\",\"legendgroup\":\"UPL\",\"marker\":{\"color\":\"#1CA71C\",\"symbol\":\"circle\"},\"mode\":\"markers\",\"name\":\"UPL\",\"orientation\":\"v\",\"showlegend\":true,\"x\":[819.5],\"xaxis\":\"x\",\"y\":[4974212],\"yaxis\":\"y\",\"type\":\"scatter\"},{\"hovertemplate\":\"SYMBOL=ITC<br>LTP_F=%{x}<br>VOLUME(shares)=%{y}<extra></extra>\",\"legendgroup\":\"ITC\",\"marker\":{\"color\":\"#FB0D0D\",\"symbol\":\"circle\"},\"mode\":\"markers\",\"name\":\"ITC\",\"orientation\":\"v\",\"showlegend\":true,\"x\":[269.1],\"xaxis\":\"x\",\"y\":[21414383],\"yaxis\":\"y\",\"type\":\"scatter\"},{\"hovertemplate\":\"SYMBOL=SUNPHARMA<br>LTP_F=%{x}<br>VOLUME(shares)=%{y}<extra></extra>\",\"legendgroup\":\"SUNPHARMA\",\"marker\":{\"color\":\"#DA16FF\",\"symbol\":\"circle\"},\"mode\":\"markers\",\"name\":\"SUNPHARMA\",\"orientation\":\"v\",\"showlegend\":true,\"x\":[935.25],\"xaxis\":\"x\",\"y\":[1825531],\"yaxis\":\"y\",\"type\":\"scatter\"},{\"hovertemplate\":\"SYMBOL=JSWSTEEL<br>LTP_F=%{x}<br>VOLUME(shares)=%{y}<extra></extra>\",\"legendgroup\":\"JSWSTEEL\",\"marker\":{\"color\":\"#222A2A\",\"symbol\":\"circle\"},\"mode\":\"markers\",\"name\":\"JSWSTEEL\",\"orientation\":\"v\",\"showlegend\":true,\"x\":[764.45],\"xaxis\":\"x\",\"y\":[6722613],\"yaxis\":\"y\",\"type\":\"scatter\"},{\"hovertemplate\":\"SYMBOL=SBIN<br>LTP_F=%{x}<br>VOLUME(shares)=%{y}<extra></extra>\",\"legendgroup\":\"SBIN\",\"marker\":{\"color\":\"#B68100\",\"symbol\":\"circle\"},\"mode\":\"markers\",\"name\":\"SBIN\",\"orientation\":\"v\",\"showlegend\":true,\"x\":[517.7],\"xaxis\":\"x\",\"y\":[15440525],\"yaxis\":\"y\",\"type\":\"scatter\"},{\"hovertemplate\":\"SYMBOL=SHREECEM<br>LTP_F=%{x}<br>VOLUME(shares)=%{y}<extra></extra>\",\"legendgroup\":\"SHREECEM\",\"marker\":{\"color\":\"#750D86\",\"symbol\":\"circle\"},\"mode\":\"markers\",\"name\":\"SHREECEM\",\"orientation\":\"v\",\"showlegend\":true,\"x\":[25360.0],\"xaxis\":\"x\",\"y\":[36907],\"yaxis\":\"y\",\"type\":\"scatter\"},{\"hovertemplate\":\"SYMBOL=HINDUNILVR<br>LTP_F=%{x}<br>VOLUME(shares)=%{y}<extra></extra>\",\"legendgroup\":\"HINDUNILVR\",\"marker\":{\"color\":\"#EB663B\",\"symbol\":\"circle\"},\"mode\":\"markers\",\"name\":\"HINDUNILVR\",\"orientation\":\"v\",\"showlegend\":true,\"x\":[2150.75],\"xaxis\":\"x\",\"y\":[1071601],\"yaxis\":\"y\",\"type\":\"scatter\"},{\"hovertemplate\":\"SYMBOL=NTPC<br>LTP_F=%{x}<br>VOLUME(shares)=%{y}<extra></extra>\",\"legendgroup\":\"NTPC\",\"marker\":{\"color\":\"#511CFB\",\"symbol\":\"circle\"},\"mode\":\"markers\",\"name\":\"NTPC\",\"orientation\":\"v\",\"showlegend\":true,\"x\":[153.9],\"xaxis\":\"x\",\"y\":[19454061],\"yaxis\":\"y\",\"type\":\"scatter\"},{\"hovertemplate\":\"SYMBOL=HINDALCO<br>LTP_F=%{x}<br>VOLUME(shares)=%{y}<extra></extra>\",\"legendgroup\":\"HINDALCO\",\"marker\":{\"color\":\"#00A08B\",\"symbol\":\"circle\"},\"mode\":\"markers\",\"name\":\"HINDALCO\",\"orientation\":\"v\",\"showlegend\":true,\"x\":[545.75],\"xaxis\":\"x\",\"y\":[7396320],\"yaxis\":\"y\",\"type\":\"scatter\"},{\"hovertemplate\":\"SYMBOL=LT<br>LTP_F=%{x}<br>VOLUME(shares)=%{y}<extra></extra>\",\"legendgroup\":\"LT\",\"marker\":{\"color\":\"#FB00D1\",\"symbol\":\"circle\"},\"mode\":\"markers\",\"name\":\"LT\",\"orientation\":\"v\",\"showlegend\":true,\"x\":[1758.55],\"xaxis\":\"x\",\"y\":[1673417],\"yaxis\":\"y\",\"type\":\"scatter\"},{\"hovertemplate\":\"SYMBOL=BAJFINANCE<br>LTP_F=%{x}<br>VOLUME(shares)=%{y}<extra></extra>\",\"legendgroup\":\"BAJFINANCE\",\"marker\":{\"color\":\"#FC0080\",\"symbol\":\"circle\"},\"mode\":\"markers\",\"name\":\"BAJFINANCE\",\"orientation\":\"v\",\"showlegend\":true,\"x\":[7315.05],\"xaxis\":\"x\",\"y\":[672317],\"yaxis\":\"y\",\"type\":\"scatter\"},{\"hovertemplate\":\"SYMBOL=DIVISLAB<br>LTP_F=%{x}<br>VOLUME(shares)=%{y}<extra></extra>\",\"legendgroup\":\"DIVISLAB\",\"marker\":{\"color\":\"#B2828D\",\"symbol\":\"circle\"},\"mode\":\"markers\",\"name\":\"DIVISLAB\",\"orientation\":\"v\",\"showlegend\":true,\"x\":[4497.0],\"xaxis\":\"x\",\"y\":[306254],\"yaxis\":\"y\",\"type\":\"scatter\"},{\"hovertemplate\":\"SYMBOL=TATACONSUM<br>LTP_F=%{x}<br>VOLUME(shares)=%{y}<extra></extra>\",\"legendgroup\":\"TATACONSUM\",\"marker\":{\"color\":\"#6C7C32\",\"symbol\":\"circle\"},\"mode\":\"markers\",\"name\":\"TATACONSUM\",\"orientation\":\"v\",\"showlegend\":true,\"x\":[816.2],\"xaxis\":\"x\",\"y\":[1036739],\"yaxis\":\"y\",\"type\":\"scatter\"},{\"hovertemplate\":\"SYMBOL=INFY<br>LTP_F=%{x}<br>VOLUME(shares)=%{y}<extra></extra>\",\"legendgroup\":\"INFY\",\"marker\":{\"color\":\"#778AAE\",\"symbol\":\"circle\"},\"mode\":\"markers\",\"name\":\"INFY\",\"orientation\":\"v\",\"showlegend\":true,\"x\":[1751.0],\"xaxis\":\"x\",\"y\":[6257693],\"yaxis\":\"y\",\"type\":\"scatter\"},{\"hovertemplate\":\"SYMBOL=HDFCLIFE<br>LTP_F=%{x}<br>VOLUME(shares)=%{y}<extra></extra>\",\"legendgroup\":\"HDFCLIFE\",\"marker\":{\"color\":\"#862A16\",\"symbol\":\"circle\"},\"mode\":\"markers\",\"name\":\"HDFCLIFE\",\"orientation\":\"v\",\"showlegend\":true,\"x\":[565.05],\"xaxis\":\"x\",\"y\":[2313264],\"yaxis\":\"y\",\"type\":\"scatter\"},{\"hovertemplate\":\"SYMBOL=M&M<br>LTP_F=%{x}<br>VOLUME(shares)=%{y}<extra></extra>\",\"legendgroup\":\"M&M\",\"marker\":{\"color\":\"#A777F1\",\"symbol\":\"circle\"},\"mode\":\"markers\",\"name\":\"M&M\",\"orientation\":\"v\",\"showlegend\":true,\"x\":[865.0],\"xaxis\":\"x\",\"y\":[3695363],\"yaxis\":\"y\",\"type\":\"scatter\"},{\"hovertemplate\":\"SYMBOL=GRASIM<br>LTP_F=%{x}<br>VOLUME(shares)=%{y}<extra></extra>\",\"legendgroup\":\"GRASIM\",\"marker\":{\"color\":\"#620042\",\"symbol\":\"circle\"},\"mode\":\"markers\",\"name\":\"GRASIM\",\"orientation\":\"v\",\"showlegend\":true,\"x\":[1763.8],\"xaxis\":\"x\",\"y\":[836083],\"yaxis\":\"y\",\"type\":\"scatter\"},{\"hovertemplate\":\"SYMBOL=WIPRO<br>LTP_F=%{x}<br>VOLUME(shares)=%{y}<extra></extra>\",\"legendgroup\":\"WIPRO\",\"marker\":{\"color\":\"#1616A7\",\"symbol\":\"circle\"},\"mode\":\"markers\",\"name\":\"WIPRO\",\"orientation\":\"v\",\"showlegend\":true,\"x\":[559.8],\"xaxis\":\"x\",\"y\":[5602288],\"yaxis\":\"y\",\"type\":\"scatter\"},{\"hovertemplate\":\"SYMBOL=COALINDIA<br>LTP_F=%{x}<br>VOLUME(shares)=%{y}<extra></extra>\",\"legendgroup\":\"COALINDIA\",\"marker\":{\"color\":\"#DA60CA\",\"symbol\":\"circle\"},\"mode\":\"markers\",\"name\":\"COALINDIA\",\"orientation\":\"v\",\"showlegend\":true,\"x\":[186.35],\"xaxis\":\"x\",\"y\":[14216953],\"yaxis\":\"y\",\"type\":\"scatter\"},{\"hovertemplate\":\"SYMBOL=BRITANNIA<br>LTP_F=%{x}<br>VOLUME(shares)=%{y}<extra></extra>\",\"legendgroup\":\"BRITANNIA\",\"marker\":{\"color\":\"#6C4516\",\"symbol\":\"circle\"},\"mode\":\"markers\",\"name\":\"BRITANNIA\",\"orientation\":\"v\",\"showlegend\":true,\"x\":[3345.95],\"xaxis\":\"x\",\"y\":[205852],\"yaxis\":\"y\",\"type\":\"scatter\"},{\"hovertemplate\":\"SYMBOL=INDUSINDBK<br>LTP_F=%{x}<br>VOLUME(shares)=%{y}<extra></extra>\",\"legendgroup\":\"INDUSINDBK\",\"marker\":{\"color\":\"#0D2A63\",\"symbol\":\"circle\"},\"mode\":\"markers\",\"name\":\"INDUSINDBK\",\"orientation\":\"v\",\"showlegend\":true,\"x\":[983.9],\"xaxis\":\"x\",\"y\":[2060127],\"yaxis\":\"y\",\"type\":\"scatter\"},{\"hovertemplate\":\"SYMBOL=BHARTIARTL<br>LTP_F=%{x}<br>VOLUME(shares)=%{y}<extra></extra>\",\"legendgroup\":\"BHARTIARTL\",\"marker\":{\"color\":\"#AF0038\",\"symbol\":\"circle\"},\"mode\":\"markers\",\"name\":\"BHARTIARTL\",\"orientation\":\"v\",\"showlegend\":true,\"x\":[739.9],\"xaxis\":\"x\",\"y\":[6343030],\"yaxis\":\"y\",\"type\":\"scatter\"},{\"hovertemplate\":\"SYMBOL=SBILIFE<br>LTP_F=%{x}<br>VOLUME(shares)=%{y}<extra></extra>\",\"legendgroup\":\"SBILIFE\",\"marker\":{\"color\":\"#2E91E5\",\"symbol\":\"circle\"},\"mode\":\"markers\",\"name\":\"SBILIFE\",\"orientation\":\"v\",\"showlegend\":true,\"x\":[1146.1],\"xaxis\":\"x\",\"y\":[509293],\"yaxis\":\"y\",\"type\":\"scatter\"},{\"hovertemplate\":\"SYMBOL=ICICIBANK<br>LTP_F=%{x}<br>VOLUME(shares)=%{y}<extra></extra>\",\"legendgroup\":\"ICICIBANK\",\"marker\":{\"color\":\"#E15F99\",\"symbol\":\"circle\"},\"mode\":\"markers\",\"name\":\"ICICIBANK\",\"orientation\":\"v\",\"showlegend\":true,\"x\":[761.55],\"xaxis\":\"x\",\"y\":[16119956],\"yaxis\":\"y\",\"type\":\"scatter\"},{\"hovertemplate\":\"SYMBOL=TATASTEEL<br>LTP_F=%{x}<br>VOLUME(shares)=%{y}<extra></extra>\",\"legendgroup\":\"TATASTEEL\",\"marker\":{\"color\":\"#1CA71C\",\"symbol\":\"circle\"},\"mode\":\"markers\",\"name\":\"TATASTEEL\",\"orientation\":\"v\",\"showlegend\":true,\"x\":[1316.05],\"xaxis\":\"x\",\"y\":[4493780],\"yaxis\":\"y\",\"type\":\"scatter\"},{\"hovertemplate\":\"SYMBOL=RELIANCE<br>LTP_F=%{x}<br>VOLUME(shares)=%{y}<extra></extra>\",\"legendgroup\":\"RELIANCE\",\"marker\":{\"color\":\"#FB0D0D\",\"symbol\":\"circle\"},\"mode\":\"markers\",\"name\":\"RELIANCE\",\"orientation\":\"v\",\"showlegend\":true,\"x\":[2551.9],\"xaxis\":\"x\",\"y\":[4778478],\"yaxis\":\"y\",\"type\":\"scatter\"},{\"hovertemplate\":\"SYMBOL=HCLTECH<br>LTP_F=%{x}<br>VOLUME(shares)=%{y}<extra></extra>\",\"legendgroup\":\"HCLTECH\",\"marker\":{\"color\":\"#DA16FF\",\"symbol\":\"circle\"},\"mode\":\"markers\",\"name\":\"HCLTECH\",\"orientation\":\"v\",\"showlegend\":true,\"x\":[1127.0],\"xaxis\":\"x\",\"y\":[1971580],\"yaxis\":\"y\",\"type\":\"scatter\"},{\"hovertemplate\":\"SYMBOL=TECHM<br>LTP_F=%{x}<br>VOLUME(shares)=%{y}<extra></extra>\",\"legendgroup\":\"TECHM\",\"marker\":{\"color\":\"#222A2A\",\"symbol\":\"circle\"},\"mode\":\"markers\",\"name\":\"TECHM\",\"orientation\":\"v\",\"showlegend\":true,\"x\":[1409.45],\"xaxis\":\"x\",\"y\":[1430399],\"yaxis\":\"y\",\"type\":\"scatter\"},{\"hovertemplate\":\"SYMBOL=BAJAJ-AUTO<br>LTP_F=%{x}<br>VOLUME(shares)=%{y}<extra></extra>\",\"legendgroup\":\"BAJAJ-AUTO\",\"marker\":{\"color\":\"#B68100\",\"symbol\":\"circle\"},\"mode\":\"markers\",\"name\":\"BAJAJ-AUTO\",\"orientation\":\"v\",\"showlegend\":true,\"x\":[3694.65],\"xaxis\":\"x\",\"y\":[198206],\"yaxis\":\"y\",\"type\":\"scatter\"},{\"hovertemplate\":\"SYMBOL=BPCL<br>LTP_F=%{x}<br>VOLUME(shares)=%{y}<extra></extra>\",\"legendgroup\":\"BPCL\",\"marker\":{\"color\":\"#750D86\",\"symbol\":\"circle\"},\"mode\":\"markers\",\"name\":\"BPCL\",\"orientation\":\"v\",\"showlegend\":true,\"x\":[378.5],\"xaxis\":\"x\",\"y\":[3261962],\"yaxis\":\"y\",\"type\":\"scatter\"},{\"hovertemplate\":\"SYMBOL=TCS<br>LTP_F=%{x}<br>VOLUME(shares)=%{y}<extra></extra>\",\"legendgroup\":\"TCS\",\"marker\":{\"color\":\"#EB663B\",\"symbol\":\"circle\"},\"mode\":\"markers\",\"name\":\"TCS\",\"orientation\":\"v\",\"showlegend\":true,\"x\":[3664.95],\"xaxis\":\"x\",\"y\":[1621672],\"yaxis\":\"y\",\"type\":\"scatter\"},{\"hovertemplate\":\"SYMBOL=NESTLEIND<br>LTP_F=%{x}<br>VOLUME(shares)=%{y}<extra></extra>\",\"legendgroup\":\"NESTLEIND\",\"marker\":{\"color\":\"#511CFB\",\"symbol\":\"circle\"},\"mode\":\"markers\",\"name\":\"NESTLEIND\",\"orientation\":\"v\",\"showlegend\":true,\"x\":[18281.0],\"xaxis\":\"x\",\"y\":[27330],\"yaxis\":\"y\",\"type\":\"scatter\"},{\"hovertemplate\":\"SYMBOL=ADANIPORTS<br>LTP_F=%{x}<br>VOLUME(shares)=%{y}<extra></extra>\",\"legendgroup\":\"ADANIPORTS\",\"marker\":{\"color\":\"#00A08B\",\"symbol\":\"circle\"},\"mode\":\"markers\",\"name\":\"ADANIPORTS\",\"orientation\":\"v\",\"showlegend\":true,\"x\":[838.15],\"xaxis\":\"x\",\"y\":[2955807],\"yaxis\":\"y\",\"type\":\"scatter\"},{\"hovertemplate\":\"SYMBOL=AXISBANK<br>LTP_F=%{x}<br>VOLUME(shares)=%{y}<extra></extra>\",\"legendgroup\":\"AXISBANK\",\"marker\":{\"color\":\"#FB00D1\",\"symbol\":\"circle\"},\"mode\":\"markers\",\"name\":\"AXISBANK\",\"orientation\":\"v\",\"showlegend\":true,\"x\":[792.0],\"xaxis\":\"x\",\"y\":[7640132],\"yaxis\":\"y\",\"type\":\"scatter\"},{\"hovertemplate\":\"SYMBOL=ULTRACEMCO<br>LTP_F=%{x}<br>VOLUME(shares)=%{y}<extra></extra>\",\"legendgroup\":\"ULTRACEMCO\",\"marker\":{\"color\":\"#FC0080\",\"symbol\":\"circle\"},\"mode\":\"markers\",\"name\":\"ULTRACEMCO\",\"orientation\":\"v\",\"showlegend\":true,\"x\":[6714.0],\"xaxis\":\"x\",\"y\":[386535],\"yaxis\":\"y\",\"type\":\"scatter\"},{\"hovertemplate\":\"SYMBOL=CIPLA<br>LTP_F=%{x}<br>VOLUME(shares)=%{y}<extra></extra>\",\"legendgroup\":\"CIPLA\",\"marker\":{\"color\":\"#B2828D\",\"symbol\":\"circle\"},\"mode\":\"markers\",\"name\":\"CIPLA\",\"orientation\":\"v\",\"showlegend\":true,\"x\":[1017.35],\"xaxis\":\"x\",\"y\":[1890795],\"yaxis\":\"y\",\"type\":\"scatter\"},{\"hovertemplate\":\"SYMBOL=TITAN<br>LTP_F=%{x}<br>VOLUME(shares)=%{y}<extra></extra>\",\"legendgroup\":\"TITAN\",\"marker\":{\"color\":\"#6C7C32\",\"symbol\":\"circle\"},\"mode\":\"markers\",\"name\":\"TITAN\",\"orientation\":\"v\",\"showlegend\":true,\"x\":[2461.5],\"xaxis\":\"x\",\"y\":[1165453],\"yaxis\":\"y\",\"type\":\"scatter\"},{\"hovertemplate\":\"SYMBOL=HEROMOTOCO<br>LTP_F=%{x}<br>VOLUME(shares)=%{y}<extra></extra>\",\"legendgroup\":\"HEROMOTOCO\",\"marker\":{\"color\":\"#778AAE\",\"symbol\":\"circle\"},\"mode\":\"markers\",\"name\":\"HEROMOTOCO\",\"orientation\":\"v\",\"showlegend\":true,\"x\":[2272.55],\"xaxis\":\"x\",\"y\":[426929],\"yaxis\":\"y\",\"type\":\"scatter\"},{\"hovertemplate\":\"SYMBOL=KOTAKBANK<br>LTP_F=%{x}<br>VOLUME(shares)=%{y}<extra></extra>\",\"legendgroup\":\"KOTAKBANK\",\"marker\":{\"color\":\"#862A16\",\"symbol\":\"circle\"},\"mode\":\"markers\",\"name\":\"KOTAKBANK\",\"orientation\":\"v\",\"showlegend\":true,\"x\":[1780.0],\"xaxis\":\"x\",\"y\":[1923692],\"yaxis\":\"y\",\"type\":\"scatter\"},{\"hovertemplate\":\"SYMBOL=BAJAJFINSV<br>LTP_F=%{x}<br>VOLUME(shares)=%{y}<extra></extra>\",\"legendgroup\":\"BAJAJFINSV\",\"marker\":{\"color\":\"#A777F1\",\"symbol\":\"circle\"},\"mode\":\"markers\",\"name\":\"BAJAJFINSV\",\"orientation\":\"v\",\"showlegend\":true,\"x\":[16096.95],\"xaxis\":\"x\",\"y\":[248390],\"yaxis\":\"y\",\"type\":\"scatter\"},{\"hovertemplate\":\"SYMBOL=POWERGRID<br>LTP_F=%{x}<br>VOLUME(shares)=%{y}<extra></extra>\",\"legendgroup\":\"POWERGRID\",\"marker\":{\"color\":\"#620042\",\"symbol\":\"circle\"},\"mode\":\"markers\",\"name\":\"POWERGRID\",\"orientation\":\"v\",\"showlegend\":true,\"x\":[229.85],\"xaxis\":\"x\",\"y\":[8261580],\"yaxis\":\"y\",\"type\":\"scatter\"},{\"hovertemplate\":\"SYMBOL=ASIANPAINT<br>LTP_F=%{x}<br>VOLUME(shares)=%{y}<extra></extra>\",\"legendgroup\":\"ASIANPAINT\",\"marker\":{\"color\":\"#1616A7\",\"symbol\":\"circle\"},\"mode\":\"markers\",\"name\":\"ASIANPAINT\",\"orientation\":\"v\",\"showlegend\":true,\"x\":[3084.0],\"xaxis\":\"x\",\"y\":[1121350],\"yaxis\":\"y\",\"type\":\"scatter\"},{\"hovertemplate\":\"SYMBOL=EICHERMOT<br>LTP_F=%{x}<br>VOLUME(shares)=%{y}<extra></extra>\",\"legendgroup\":\"EICHERMOT\",\"marker\":{\"color\":\"#DA60CA\",\"symbol\":\"circle\"},\"mode\":\"markers\",\"name\":\"EICHERMOT\",\"orientation\":\"v\",\"showlegend\":true,\"x\":[2484.0],\"xaxis\":\"x\",\"y\":[383935],\"yaxis\":\"y\",\"type\":\"scatter\"},{\"hovertemplate\":\"SYMBOL=TATAMOTORS<br>LTP_F=%{x}<br>VOLUME(shares)=%{y}<extra></extra>\",\"legendgroup\":\"TATAMOTORS\",\"marker\":{\"color\":\"#6C4516\",\"symbol\":\"circle\"},\"mode\":\"markers\",\"name\":\"TATAMOTORS\",\"orientation\":\"v\",\"showlegend\":true,\"x\":[431.5],\"xaxis\":\"x\",\"y\":[16817981],\"yaxis\":\"y\",\"type\":\"scatter\"},{\"hovertemplate\":\"SYMBOL=DRREDDY<br>LTP_F=%{x}<br>VOLUME(shares)=%{y}<extra></extra>\",\"legendgroup\":\"DRREDDY\",\"marker\":{\"color\":\"#0D2A63\",\"symbol\":\"circle\"},\"mode\":\"markers\",\"name\":\"DRREDDY\",\"orientation\":\"v\",\"showlegend\":true,\"x\":[4302.0],\"xaxis\":\"x\",\"y\":[369436],\"yaxis\":\"y\",\"type\":\"scatter\"},{\"hovertemplate\":\"SYMBOL=HDFCBANK<br>LTP_F=%{x}<br>VOLUME(shares)=%{y}<extra></extra>\",\"legendgroup\":\"HDFCBANK\",\"marker\":{\"color\":\"#AF0038\",\"symbol\":\"circle\"},\"mode\":\"markers\",\"name\":\"HDFCBANK\",\"orientation\":\"v\",\"showlegend\":true,\"x\":[1464.0],\"xaxis\":\"x\",\"y\":[14446260],\"yaxis\":\"y\",\"type\":\"scatter\"},{\"hovertemplate\":\"SYMBOL=HDFC<br>LTP_F=%{x}<br>VOLUME(shares)=%{y}<extra></extra>\",\"legendgroup\":\"HDFC\",\"marker\":{\"color\":\"#2E91E5\",\"symbol\":\"circle\"},\"mode\":\"markers\",\"name\":\"HDFC\",\"orientation\":\"v\",\"showlegend\":true,\"x\":[2371.55],\"xaxis\":\"x\",\"y\":[4257122],\"yaxis\":\"y\",\"type\":\"scatter\"},{\"hovertemplate\":\"SYMBOL=MARUTI<br>LTP_F=%{x}<br>VOLUME(shares)=%{y}<extra></extra>\",\"legendgroup\":\"MARUTI\",\"marker\":{\"color\":\"#E15F99\",\"symbol\":\"circle\"},\"mode\":\"markers\",\"name\":\"MARUTI\",\"orientation\":\"v\",\"showlegend\":true,\"x\":[7445.0],\"xaxis\":\"x\",\"y\":[527991],\"yaxis\":\"y\",\"type\":\"scatter\"}],                        {\"template\":{\"data\":{\"histogram2dcontour\":[{\"type\":\"histogram2dcontour\",\"colorbar\":{\"outlinewidth\":0,\"ticks\":\"\"},\"colorscale\":[[0.0,\"#0d0887\"],[0.1111111111111111,\"#46039f\"],[0.2222222222222222,\"#7201a8\"],[0.3333333333333333,\"#9c179e\"],[0.4444444444444444,\"#bd3786\"],[0.5555555555555556,\"#d8576b\"],[0.6666666666666666,\"#ed7953\"],[0.7777777777777778,\"#fb9f3a\"],[0.8888888888888888,\"#fdca26\"],[1.0,\"#f0f921\"]]}],\"choropleth\":[{\"type\":\"choropleth\",\"colorbar\":{\"outlinewidth\":0,\"ticks\":\"\"}}],\"histogram2d\":[{\"type\":\"histogram2d\",\"colorbar\":{\"outlinewidth\":0,\"ticks\":\"\"},\"colorscale\":[[0.0,\"#0d0887\"],[0.1111111111111111,\"#46039f\"],[0.2222222222222222,\"#7201a8\"],[0.3333333333333333,\"#9c179e\"],[0.4444444444444444,\"#bd3786\"],[0.5555555555555556,\"#d8576b\"],[0.6666666666666666,\"#ed7953\"],[0.7777777777777778,\"#fb9f3a\"],[0.8888888888888888,\"#fdca26\"],[1.0,\"#f0f921\"]]}],\"heatmap\":[{\"type\":\"heatmap\",\"colorbar\":{\"outlinewidth\":0,\"ticks\":\"\"},\"colorscale\":[[0.0,\"#0d0887\"],[0.1111111111111111,\"#46039f\"],[0.2222222222222222,\"#7201a8\"],[0.3333333333333333,\"#9c179e\"],[0.4444444444444444,\"#bd3786\"],[0.5555555555555556,\"#d8576b\"],[0.6666666666666666,\"#ed7953\"],[0.7777777777777778,\"#fb9f3a\"],[0.8888888888888888,\"#fdca26\"],[1.0,\"#f0f921\"]]}],\"heatmapgl\":[{\"type\":\"heatmapgl\",\"colorbar\":{\"outlinewidth\":0,\"ticks\":\"\"},\"colorscale\":[[0.0,\"#0d0887\"],[0.1111111111111111,\"#46039f\"],[0.2222222222222222,\"#7201a8\"],[0.3333333333333333,\"#9c179e\"],[0.4444444444444444,\"#bd3786\"],[0.5555555555555556,\"#d8576b\"],[0.6666666666666666,\"#ed7953\"],[0.7777777777777778,\"#fb9f3a\"],[0.8888888888888888,\"#fdca26\"],[1.0,\"#f0f921\"]]}],\"contourcarpet\":[{\"type\":\"contourcarpet\",\"colorbar\":{\"outlinewidth\":0,\"ticks\":\"\"}}],\"contour\":[{\"type\":\"contour\",\"colorbar\":{\"outlinewidth\":0,\"ticks\":\"\"},\"colorscale\":[[0.0,\"#0d0887\"],[0.1111111111111111,\"#46039f\"],[0.2222222222222222,\"#7201a8\"],[0.3333333333333333,\"#9c179e\"],[0.4444444444444444,\"#bd3786\"],[0.5555555555555556,\"#d8576b\"],[0.6666666666666666,\"#ed7953\"],[0.7777777777777778,\"#fb9f3a\"],[0.8888888888888888,\"#fdca26\"],[1.0,\"#f0f921\"]]}],\"surface\":[{\"type\":\"surface\",\"colorbar\":{\"outlinewidth\":0,\"ticks\":\"\"},\"colorscale\":[[0.0,\"#0d0887\"],[0.1111111111111111,\"#46039f\"],[0.2222222222222222,\"#7201a8\"],[0.3333333333333333,\"#9c179e\"],[0.4444444444444444,\"#bd3786\"],[0.5555555555555556,\"#d8576b\"],[0.6666666666666666,\"#ed7953\"],[0.7777777777777778,\"#fb9f3a\"],[0.8888888888888888,\"#fdca26\"],[1.0,\"#f0f921\"]]}],\"mesh3d\":[{\"type\":\"mesh3d\",\"colorbar\":{\"outlinewidth\":0,\"ticks\":\"\"}}],\"scatter\":[{\"fillpattern\":{\"fillmode\":\"overlay\",\"size\":10,\"solidity\":0.2},\"type\":\"scatter\"}],\"parcoords\":[{\"type\":\"parcoords\",\"line\":{\"colorbar\":{\"outlinewidth\":0,\"ticks\":\"\"}}}],\"scatterpolargl\":[{\"type\":\"scatterpolargl\",\"marker\":{\"colorbar\":{\"outlinewidth\":0,\"ticks\":\"\"}}}],\"bar\":[{\"error_x\":{\"color\":\"#2a3f5f\"},\"error_y\":{\"color\":\"#2a3f5f\"},\"marker\":{\"line\":{\"color\":\"#E5ECF6\",\"width\":0.5},\"pattern\":{\"fillmode\":\"overlay\",\"size\":10,\"solidity\":0.2}},\"type\":\"bar\"}],\"scattergeo\":[{\"type\":\"scattergeo\",\"marker\":{\"colorbar\":{\"outlinewidth\":0,\"ticks\":\"\"}}}],\"scatterpolar\":[{\"type\":\"scatterpolar\",\"marker\":{\"colorbar\":{\"outlinewidth\":0,\"ticks\":\"\"}}}],\"histogram\":[{\"marker\":{\"pattern\":{\"fillmode\":\"overlay\",\"size\":10,\"solidity\":0.2}},\"type\":\"histogram\"}],\"scattergl\":[{\"type\":\"scattergl\",\"marker\":{\"colorbar\":{\"outlinewidth\":0,\"ticks\":\"\"}}}],\"scatter3d\":[{\"type\":\"scatter3d\",\"line\":{\"colorbar\":{\"outlinewidth\":0,\"ticks\":\"\"}},\"marker\":{\"colorbar\":{\"outlinewidth\":0,\"ticks\":\"\"}}}],\"scattermapbox\":[{\"type\":\"scattermapbox\",\"marker\":{\"colorbar\":{\"outlinewidth\":0,\"ticks\":\"\"}}}],\"scatterternary\":[{\"type\":\"scatterternary\",\"marker\":{\"colorbar\":{\"outlinewidth\":0,\"ticks\":\"\"}}}],\"scattercarpet\":[{\"type\":\"scattercarpet\",\"marker\":{\"colorbar\":{\"outlinewidth\":0,\"ticks\":\"\"}}}],\"carpet\":[{\"aaxis\":{\"endlinecolor\":\"#2a3f5f\",\"gridcolor\":\"white\",\"linecolor\":\"white\",\"minorgridcolor\":\"white\",\"startlinecolor\":\"#2a3f5f\"},\"baxis\":{\"endlinecolor\":\"#2a3f5f\",\"gridcolor\":\"white\",\"linecolor\":\"white\",\"minorgridcolor\":\"white\",\"startlinecolor\":\"#2a3f5f\"},\"type\":\"carpet\"}],\"table\":[{\"cells\":{\"fill\":{\"color\":\"#EBF0F8\"},\"line\":{\"color\":\"white\"}},\"header\":{\"fill\":{\"color\":\"#C8D4E3\"},\"line\":{\"color\":\"white\"}},\"type\":\"table\"}],\"barpolar\":[{\"marker\":{\"line\":{\"color\":\"#E5ECF6\",\"width\":0.5},\"pattern\":{\"fillmode\":\"overlay\",\"size\":10,\"solidity\":0.2}},\"type\":\"barpolar\"}],\"pie\":[{\"automargin\":true,\"type\":\"pie\"}]},\"layout\":{\"autotypenumbers\":\"strict\",\"colorway\":[\"#636efa\",\"#EF553B\",\"#00cc96\",\"#ab63fa\",\"#FFA15A\",\"#19d3f3\",\"#FF6692\",\"#B6E880\",\"#FF97FF\",\"#FECB52\"],\"font\":{\"color\":\"#2a3f5f\"},\"hovermode\":\"closest\",\"hoverlabel\":{\"align\":\"left\"},\"paper_bgcolor\":\"white\",\"plot_bgcolor\":\"#E5ECF6\",\"polar\":{\"bgcolor\":\"#E5ECF6\",\"angularaxis\":{\"gridcolor\":\"white\",\"linecolor\":\"white\",\"ticks\":\"\"},\"radialaxis\":{\"gridcolor\":\"white\",\"linecolor\":\"white\",\"ticks\":\"\"}},\"ternary\":{\"bgcolor\":\"#E5ECF6\",\"aaxis\":{\"gridcolor\":\"white\",\"linecolor\":\"white\",\"ticks\":\"\"},\"baxis\":{\"gridcolor\":\"white\",\"linecolor\":\"white\",\"ticks\":\"\"},\"caxis\":{\"gridcolor\":\"white\",\"linecolor\":\"white\",\"ticks\":\"\"}},\"coloraxis\":{\"colorbar\":{\"outlinewidth\":0,\"ticks\":\"\"}},\"colorscale\":{\"sequential\":[[0.0,\"#0d0887\"],[0.1111111111111111,\"#46039f\"],[0.2222222222222222,\"#7201a8\"],[0.3333333333333333,\"#9c179e\"],[0.4444444444444444,\"#bd3786\"],[0.5555555555555556,\"#d8576b\"],[0.6666666666666666,\"#ed7953\"],[0.7777777777777778,\"#fb9f3a\"],[0.8888888888888888,\"#fdca26\"],[1.0,\"#f0f921\"]],\"sequentialminus\":[[0.0,\"#0d0887\"],[0.1111111111111111,\"#46039f\"],[0.2222222222222222,\"#7201a8\"],[0.3333333333333333,\"#9c179e\"],[0.4444444444444444,\"#bd3786\"],[0.5555555555555556,\"#d8576b\"],[0.6666666666666666,\"#ed7953\"],[0.7777777777777778,\"#fb9f3a\"],[0.8888888888888888,\"#fdca26\"],[1.0,\"#f0f921\"]],\"diverging\":[[0,\"#8e0152\"],[0.1,\"#c51b7d\"],[0.2,\"#de77ae\"],[0.3,\"#f1b6da\"],[0.4,\"#fde0ef\"],[0.5,\"#f7f7f7\"],[0.6,\"#e6f5d0\"],[0.7,\"#b8e186\"],[0.8,\"#7fbc41\"],[0.9,\"#4d9221\"],[1,\"#276419\"]]},\"xaxis\":{\"gridcolor\":\"white\",\"linecolor\":\"white\",\"ticks\":\"\",\"title\":{\"standoff\":15},\"zerolinecolor\":\"white\",\"automargin\":true,\"zerolinewidth\":2},\"yaxis\":{\"gridcolor\":\"white\",\"linecolor\":\"white\",\"ticks\":\"\",\"title\":{\"standoff\":15},\"zerolinecolor\":\"white\",\"automargin\":true,\"zerolinewidth\":2},\"scene\":{\"xaxis\":{\"backgroundcolor\":\"#E5ECF6\",\"gridcolor\":\"white\",\"linecolor\":\"white\",\"showbackground\":true,\"ticks\":\"\",\"zerolinecolor\":\"white\",\"gridwidth\":2},\"yaxis\":{\"backgroundcolor\":\"#E5ECF6\",\"gridcolor\":\"white\",\"linecolor\":\"white\",\"showbackground\":true,\"ticks\":\"\",\"zerolinecolor\":\"white\",\"gridwidth\":2},\"zaxis\":{\"backgroundcolor\":\"#E5ECF6\",\"gridcolor\":\"white\",\"linecolor\":\"white\",\"showbackground\":true,\"ticks\":\"\",\"zerolinecolor\":\"white\",\"gridwidth\":2}},\"shapedefaults\":{\"line\":{\"color\":\"#2a3f5f\"}},\"annotationdefaults\":{\"arrowcolor\":\"#2a3f5f\",\"arrowhead\":0,\"arrowwidth\":1},\"geo\":{\"bgcolor\":\"white\",\"landcolor\":\"#E5ECF6\",\"subunitcolor\":\"white\",\"showland\":true,\"showlakes\":true,\"lakecolor\":\"white\"},\"title\":{\"x\":0.05},\"mapbox\":{\"style\":\"light\"}}},\"xaxis\":{\"anchor\":\"y\",\"domain\":[0.0,1.0],\"title\":{\"text\":\"LTP_F\"}},\"yaxis\":{\"anchor\":\"x\",\"domain\":[0.0,1.0],\"title\":{\"text\":\"VOLUME(shares)\"}},\"legend\":{\"title\":{\"text\":\"SYMBOL\"},\"tracegroupgap\":0},\"margin\":{\"t\":60}},                        {\"responsive\": true}                    ).then(function(){\n",
       "                            \n",
       "var gd = document.getElementById('c6355a3e-5f78-4b50-9bba-bdc44029aa14');\n",
       "var x = new MutationObserver(function (mutations, observer) {{\n",
       "        var display = window.getComputedStyle(gd).display;\n",
       "        if (!display || display === 'none') {{\n",
       "            console.log([gd, 'removed!']);\n",
       "            Plotly.purge(gd);\n",
       "            observer.disconnect();\n",
       "        }}\n",
       "}});\n",
       "\n",
       "// Listen for the removal of the full notebook cells\n",
       "var notebookContainer = gd.closest('#notebook-container');\n",
       "if (notebookContainer) {{\n",
       "    x.observe(notebookContainer, {childList: true});\n",
       "}}\n",
       "\n",
       "// Listen for the clearing of the current output cell\n",
       "var outputEl = gd.closest('.output');\n",
       "if (outputEl) {{\n",
       "    x.observe(outputEl, {childList: true});\n",
       "}}\n",
       "\n",
       "                        })                };                });            </script>        </div>"
      ]
     },
     "metadata": {},
     "output_type": "display_data"
    }
   ],
   "source": [
    "px.scatter(df_nifity,x='LTP_F',y='VOLUME(shares)',color='SYMBOL',\n",
    "           color_discrete_sequence=px.colors.qualitative.Dark24)"
   ]
  },
  {
   "cell_type": "markdown",
   "id": "54a164f2",
   "metadata": {},
   "source": [
    "##### LTP vs %CHNG"
   ]
  },
  {
   "cell_type": "code",
   "execution_count": 14,
   "id": "ed60ceee",
   "metadata": {},
   "outputs": [
    {
     "data": {
      "application/vnd.plotly.v1+json": {
       "config": {
        "plotlyServerURL": "https://plot.ly"
       },
       "data": [
        {
         "hovertemplate": "SYMBOL=ONGC<br>LTP_F=%{x}<br>%CHNG=%{y}<extra></extra>",
         "legendgroup": "ONGC",
         "marker": {
          "color": "#2E91E5",
          "symbol": "circle"
         },
         "mode": "markers",
         "name": "ONGC",
         "orientation": "v",
         "showlegend": true,
         "type": "scatter",
         "x": [
          173.95
         ],
         "xaxis": "x",
         "y": [
          2.99
         ],
         "yaxis": "y"
        },
        {
         "hovertemplate": "SYMBOL=APOLLOHOSP<br>LTP_F=%{x}<br>%CHNG=%{y}<extra></extra>",
         "legendgroup": "APOLLOHOSP",
         "marker": {
          "color": "#E15F99",
          "symbol": "circle"
         },
         "mode": "markers",
         "name": "APOLLOHOSP",
         "orientation": "v",
         "showlegend": true,
         "type": "scatter",
         "x": [
          4735.05
         ],
         "xaxis": "x",
         "y": [
          2.35
         ],
         "yaxis": "y"
        },
        {
         "hovertemplate": "SYMBOL=UPL<br>LTP_F=%{x}<br>%CHNG=%{y}<extra></extra>",
         "legendgroup": "UPL",
         "marker": {
          "color": "#1CA71C",
          "symbol": "circle"
         },
         "mode": "markers",
         "name": "UPL",
         "orientation": "v",
         "showlegend": true,
         "type": "scatter",
         "x": [
          819.5
         ],
         "xaxis": "x",
         "y": [
          1.72
         ],
         "yaxis": "y"
        },
        {
         "hovertemplate": "SYMBOL=ITC<br>LTP_F=%{x}<br>%CHNG=%{y}<extra></extra>",
         "legendgroup": "ITC",
         "marker": {
          "color": "#FB0D0D",
          "symbol": "circle"
         },
         "mode": "markers",
         "name": "ITC",
         "orientation": "v",
         "showlegend": true,
         "type": "scatter",
         "x": [
          269.1
         ],
         "xaxis": "x",
         "y": [
          1.62
         ],
         "yaxis": "y"
        },
        {
         "hovertemplate": "SYMBOL=SUNPHARMA<br>LTP_F=%{x}<br>%CHNG=%{y}<extra></extra>",
         "legendgroup": "SUNPHARMA",
         "marker": {
          "color": "#DA16FF",
          "symbol": "circle"
         },
         "mode": "markers",
         "name": "SUNPHARMA",
         "orientation": "v",
         "showlegend": true,
         "type": "scatter",
         "x": [
          935.25
         ],
         "xaxis": "x",
         "y": [
          1.51
         ],
         "yaxis": "y"
        },
        {
         "hovertemplate": "SYMBOL=JSWSTEEL<br>LTP_F=%{x}<br>%CHNG=%{y}<extra></extra>",
         "legendgroup": "JSWSTEEL",
         "marker": {
          "color": "#222A2A",
          "symbol": "circle"
         },
         "mode": "markers",
         "name": "JSWSTEEL",
         "orientation": "v",
         "showlegend": true,
         "type": "scatter",
         "x": [
          764.45
         ],
         "xaxis": "x",
         "y": [
          1.13
         ],
         "yaxis": "y"
        },
        {
         "hovertemplate": "SYMBOL=SBIN<br>LTP_F=%{x}<br>%CHNG=%{y}<extra></extra>",
         "legendgroup": "SBIN",
         "marker": {
          "color": "#B68100",
          "symbol": "circle"
         },
         "mode": "markers",
         "name": "SBIN",
         "orientation": "v",
         "showlegend": true,
         "type": "scatter",
         "x": [
          517.7
         ],
         "xaxis": "x",
         "y": [
          0.95
         ],
         "yaxis": "y"
        },
        {
         "hovertemplate": "SYMBOL=SHREECEM<br>LTP_F=%{x}<br>%CHNG=%{y}<extra></extra>",
         "legendgroup": "SHREECEM",
         "marker": {
          "color": "#750D86",
          "symbol": "circle"
         },
         "mode": "markers",
         "name": "SHREECEM",
         "orientation": "v",
         "showlegend": true,
         "type": "scatter",
         "x": [
          25360
         ],
         "xaxis": "x",
         "y": [
          0.94
         ],
         "yaxis": "y"
        },
        {
         "hovertemplate": "SYMBOL=HINDUNILVR<br>LTP_F=%{x}<br>%CHNG=%{y}<extra></extra>",
         "legendgroup": "HINDUNILVR",
         "marker": {
          "color": "#EB663B",
          "symbol": "circle"
         },
         "mode": "markers",
         "name": "HINDUNILVR",
         "orientation": "v",
         "showlegend": true,
         "type": "scatter",
         "x": [
          2150.75
         ],
         "xaxis": "x",
         "y": [
          0.87
         ],
         "yaxis": "y"
        },
        {
         "hovertemplate": "SYMBOL=NTPC<br>LTP_F=%{x}<br>%CHNG=%{y}<extra></extra>",
         "legendgroup": "NTPC",
         "marker": {
          "color": "#511CFB",
          "symbol": "circle"
         },
         "mode": "markers",
         "name": "NTPC",
         "orientation": "v",
         "showlegend": true,
         "type": "scatter",
         "x": [
          153.9
         ],
         "xaxis": "x",
         "y": [
          0.85
         ],
         "yaxis": "y"
        },
        {
         "hovertemplate": "SYMBOL=HINDALCO<br>LTP_F=%{x}<br>%CHNG=%{y}<extra></extra>",
         "legendgroup": "HINDALCO",
         "marker": {
          "color": "#00A08B",
          "symbol": "circle"
         },
         "mode": "markers",
         "name": "HINDALCO",
         "orientation": "v",
         "showlegend": true,
         "type": "scatter",
         "x": [
          545.75
         ],
         "xaxis": "x",
         "y": [
          0.63
         ],
         "yaxis": "y"
        },
        {
         "hovertemplate": "SYMBOL=LT<br>LTP_F=%{x}<br>%CHNG=%{y}<extra></extra>",
         "legendgroup": "LT",
         "marker": {
          "color": "#FB00D1",
          "symbol": "circle"
         },
         "mode": "markers",
         "name": "LT",
         "orientation": "v",
         "showlegend": true,
         "type": "scatter",
         "x": [
          1758.55
         ],
         "xaxis": "x",
         "y": [
          0.62
         ],
         "yaxis": "y"
        },
        {
         "hovertemplate": "SYMBOL=BAJFINANCE<br>LTP_F=%{x}<br>%CHNG=%{y}<extra></extra>",
         "legendgroup": "BAJFINANCE",
         "marker": {
          "color": "#FC0080",
          "symbol": "circle"
         },
         "mode": "markers",
         "name": "BAJFINANCE",
         "orientation": "v",
         "showlegend": true,
         "type": "scatter",
         "x": [
          7315.05
         ],
         "xaxis": "x",
         "y": [
          0.56
         ],
         "yaxis": "y"
        },
        {
         "hovertemplate": "SYMBOL=DIVISLAB<br>LTP_F=%{x}<br>%CHNG=%{y}<extra></extra>",
         "legendgroup": "DIVISLAB",
         "marker": {
          "color": "#B2828D",
          "symbol": "circle"
         },
         "mode": "markers",
         "name": "DIVISLAB",
         "orientation": "v",
         "showlegend": true,
         "type": "scatter",
         "x": [
          4497
         ],
         "xaxis": "x",
         "y": [
          0.53
         ],
         "yaxis": "y"
        },
        {
         "hovertemplate": "SYMBOL=TATACONSUM<br>LTP_F=%{x}<br>%CHNG=%{y}<extra></extra>",
         "legendgroup": "TATACONSUM",
         "marker": {
          "color": "#6C7C32",
          "symbol": "circle"
         },
         "mode": "markers",
         "name": "TATACONSUM",
         "orientation": "v",
         "showlegend": true,
         "type": "scatter",
         "x": [
          816.2
         ],
         "xaxis": "x",
         "y": [
          0.5
         ],
         "yaxis": "y"
        },
        {
         "hovertemplate": "SYMBOL=INFY<br>LTP_F=%{x}<br>%CHNG=%{y}<extra></extra>",
         "legendgroup": "INFY",
         "marker": {
          "color": "#778AAE",
          "symbol": "circle"
         },
         "mode": "markers",
         "name": "INFY",
         "orientation": "v",
         "showlegend": true,
         "type": "scatter",
         "x": [
          1751
         ],
         "xaxis": "x",
         "y": [
          0.49
         ],
         "yaxis": "y"
        },
        {
         "hovertemplate": "SYMBOL=HDFCLIFE<br>LTP_F=%{x}<br>%CHNG=%{y}<extra></extra>",
         "legendgroup": "HDFCLIFE",
         "marker": {
          "color": "#862A16",
          "symbol": "circle"
         },
         "mode": "markers",
         "name": "HDFCLIFE",
         "orientation": "v",
         "showlegend": true,
         "type": "scatter",
         "x": [
          565.05
         ],
         "xaxis": "x",
         "y": [
          0.49
         ],
         "yaxis": "y"
        },
        {
         "hovertemplate": "SYMBOL=M&M<br>LTP_F=%{x}<br>%CHNG=%{y}<extra></extra>",
         "legendgroup": "M&M",
         "marker": {
          "color": "#A777F1",
          "symbol": "circle"
         },
         "mode": "markers",
         "name": "M&M",
         "orientation": "v",
         "showlegend": true,
         "type": "scatter",
         "x": [
          865
         ],
         "xaxis": "x",
         "y": [
          0.49
         ],
         "yaxis": "y"
        },
        {
         "hovertemplate": "SYMBOL=GRASIM<br>LTP_F=%{x}<br>%CHNG=%{y}<extra></extra>",
         "legendgroup": "GRASIM",
         "marker": {
          "color": "#620042",
          "symbol": "circle"
         },
         "mode": "markers",
         "name": "GRASIM",
         "orientation": "v",
         "showlegend": true,
         "type": "scatter",
         "x": [
          1763.8
         ],
         "xaxis": "x",
         "y": [
          0.47
         ],
         "yaxis": "y"
        },
        {
         "hovertemplate": "SYMBOL=WIPRO<br>LTP_F=%{x}<br>%CHNG=%{y}<extra></extra>",
         "legendgroup": "WIPRO",
         "marker": {
          "color": "#1616A7",
          "symbol": "circle"
         },
         "mode": "markers",
         "name": "WIPRO",
         "orientation": "v",
         "showlegend": true,
         "type": "scatter",
         "x": [
          559.8
         ],
         "xaxis": "x",
         "y": [
          0.2
         ],
         "yaxis": "y"
        },
        {
         "hovertemplate": "SYMBOL=COALINDIA<br>LTP_F=%{x}<br>%CHNG=%{y}<extra></extra>",
         "legendgroup": "COALINDIA",
         "marker": {
          "color": "#DA60CA",
          "symbol": "circle"
         },
         "mode": "markers",
         "name": "COALINDIA",
         "orientation": "v",
         "showlegend": true,
         "type": "scatter",
         "x": [
          186.35
         ],
         "xaxis": "x",
         "y": [
          0.19
         ],
         "yaxis": "y"
        },
        {
         "hovertemplate": "SYMBOL=BRITANNIA<br>LTP_F=%{x}<br>%CHNG=%{y}<extra></extra>",
         "legendgroup": "BRITANNIA",
         "marker": {
          "color": "#6C4516",
          "symbol": "circle"
         },
         "mode": "markers",
         "name": "BRITANNIA",
         "orientation": "v",
         "showlegend": true,
         "type": "scatter",
         "x": [
          3345.95
         ],
         "xaxis": "x",
         "y": [
          0.06
         ],
         "yaxis": "y"
        },
        {
         "hovertemplate": "SYMBOL=INDUSINDBK<br>LTP_F=%{x}<br>%CHNG=%{y}<extra></extra>",
         "legendgroup": "INDUSINDBK",
         "marker": {
          "color": "#0D2A63",
          "symbol": "circle"
         },
         "mode": "markers",
         "name": "INDUSINDBK",
         "orientation": "v",
         "showlegend": true,
         "type": "scatter",
         "x": [
          983.9
         ],
         "xaxis": "x",
         "y": [
          -0.12
         ],
         "yaxis": "y"
        },
        {
         "hovertemplate": "SYMBOL=BHARTIARTL<br>LTP_F=%{x}<br>%CHNG=%{y}<extra></extra>",
         "legendgroup": "BHARTIARTL",
         "marker": {
          "color": "#AF0038",
          "symbol": "circle"
         },
         "mode": "markers",
         "name": "BHARTIARTL",
         "orientation": "v",
         "showlegend": true,
         "type": "scatter",
         "x": [
          739.9
         ],
         "xaxis": "x",
         "y": [
          -0.24
         ],
         "yaxis": "y"
        },
        {
         "hovertemplate": "SYMBOL=SBILIFE<br>LTP_F=%{x}<br>%CHNG=%{y}<extra></extra>",
         "legendgroup": "SBILIFE",
         "marker": {
          "color": "#2E91E5",
          "symbol": "circle"
         },
         "mode": "markers",
         "name": "SBILIFE",
         "orientation": "v",
         "showlegend": true,
         "type": "scatter",
         "x": [
          1146.1
         ],
         "xaxis": "x",
         "y": [
          -0.26
         ],
         "yaxis": "y"
        },
        {
         "hovertemplate": "SYMBOL=ICICIBANK<br>LTP_F=%{x}<br>%CHNG=%{y}<extra></extra>",
         "legendgroup": "ICICIBANK",
         "marker": {
          "color": "#E15F99",
          "symbol": "circle"
         },
         "mode": "markers",
         "name": "ICICIBANK",
         "orientation": "v",
         "showlegend": true,
         "type": "scatter",
         "x": [
          761.55
         ],
         "xaxis": "x",
         "y": [
          -0.3
         ],
         "yaxis": "y"
        },
        {
         "hovertemplate": "SYMBOL=TATASTEEL<br>LTP_F=%{x}<br>%CHNG=%{y}<extra></extra>",
         "legendgroup": "TATASTEEL",
         "marker": {
          "color": "#1CA71C",
          "symbol": "circle"
         },
         "mode": "markers",
         "name": "TATASTEEL",
         "orientation": "v",
         "showlegend": true,
         "type": "scatter",
         "x": [
          1316.05
         ],
         "xaxis": "x",
         "y": [
          -0.32
         ],
         "yaxis": "y"
        },
        {
         "hovertemplate": "SYMBOL=RELIANCE<br>LTP_F=%{x}<br>%CHNG=%{y}<extra></extra>",
         "legendgroup": "RELIANCE",
         "marker": {
          "color": "#FB0D0D",
          "symbol": "circle"
         },
         "mode": "markers",
         "name": "RELIANCE",
         "orientation": "v",
         "showlegend": true,
         "type": "scatter",
         "x": [
          2551.9
         ],
         "xaxis": "x",
         "y": [
          -0.36
         ],
         "yaxis": "y"
        },
        {
         "hovertemplate": "SYMBOL=HCLTECH<br>LTP_F=%{x}<br>%CHNG=%{y}<extra></extra>",
         "legendgroup": "HCLTECH",
         "marker": {
          "color": "#DA16FF",
          "symbol": "circle"
         },
         "mode": "markers",
         "name": "HCLTECH",
         "orientation": "v",
         "showlegend": true,
         "type": "scatter",
         "x": [
          1127
         ],
         "xaxis": "x",
         "y": [
          -0.37
         ],
         "yaxis": "y"
        },
        {
         "hovertemplate": "SYMBOL=TECHM<br>LTP_F=%{x}<br>%CHNG=%{y}<extra></extra>",
         "legendgroup": "TECHM",
         "marker": {
          "color": "#222A2A",
          "symbol": "circle"
         },
         "mode": "markers",
         "name": "TECHM",
         "orientation": "v",
         "showlegend": true,
         "type": "scatter",
         "x": [
          1409.45
         ],
         "xaxis": "x",
         "y": [
          -0.39
         ],
         "yaxis": "y"
        },
        {
         "hovertemplate": "SYMBOL=BAJAJ-AUTO<br>LTP_F=%{x}<br>%CHNG=%{y}<extra></extra>",
         "legendgroup": "BAJAJ-AUTO",
         "marker": {
          "color": "#B68100",
          "symbol": "circle"
         },
         "mode": "markers",
         "name": "BAJAJ-AUTO",
         "orientation": "v",
         "showlegend": true,
         "type": "scatter",
         "x": [
          3694.65
         ],
         "xaxis": "x",
         "y": [
          -0.47
         ],
         "yaxis": "y"
        },
        {
         "hovertemplate": "SYMBOL=BPCL<br>LTP_F=%{x}<br>%CHNG=%{y}<extra></extra>",
         "legendgroup": "BPCL",
         "marker": {
          "color": "#750D86",
          "symbol": "circle"
         },
         "mode": "markers",
         "name": "BPCL",
         "orientation": "v",
         "showlegend": true,
         "type": "scatter",
         "x": [
          378.5
         ],
         "xaxis": "x",
         "y": [
          -0.55
         ],
         "yaxis": "y"
        },
        {
         "hovertemplate": "SYMBOL=TCS<br>LTP_F=%{x}<br>%CHNG=%{y}<extra></extra>",
         "legendgroup": "TCS",
         "marker": {
          "color": "#EB663B",
          "symbol": "circle"
         },
         "mode": "markers",
         "name": "TCS",
         "orientation": "v",
         "showlegend": true,
         "type": "scatter",
         "x": [
          3664.95
         ],
         "xaxis": "x",
         "y": [
          -0.71
         ],
         "yaxis": "y"
        },
        {
         "hovertemplate": "SYMBOL=NESTLEIND<br>LTP_F=%{x}<br>%CHNG=%{y}<extra></extra>",
         "legendgroup": "NESTLEIND",
         "marker": {
          "color": "#511CFB",
          "symbol": "circle"
         },
         "mode": "markers",
         "name": "NESTLEIND",
         "orientation": "v",
         "showlegend": true,
         "type": "scatter",
         "x": [
          18281
         ],
         "xaxis": "x",
         "y": [
          -0.74
         ],
         "yaxis": "y"
        },
        {
         "hovertemplate": "SYMBOL=ADANIPORTS<br>LTP_F=%{x}<br>%CHNG=%{y}<extra></extra>",
         "legendgroup": "ADANIPORTS",
         "marker": {
          "color": "#00A08B",
          "symbol": "circle"
         },
         "mode": "markers",
         "name": "ADANIPORTS",
         "orientation": "v",
         "showlegend": true,
         "type": "scatter",
         "x": [
          838.15
         ],
         "xaxis": "x",
         "y": [
          -0.8
         ],
         "yaxis": "y"
        },
        {
         "hovertemplate": "SYMBOL=AXISBANK<br>LTP_F=%{x}<br>%CHNG=%{y}<extra></extra>",
         "legendgroup": "AXISBANK",
         "marker": {
          "color": "#FB00D1",
          "symbol": "circle"
         },
         "mode": "markers",
         "name": "AXISBANK",
         "orientation": "v",
         "showlegend": true,
         "type": "scatter",
         "x": [
          792
         ],
         "xaxis": "x",
         "y": [
          -0.81
         ],
         "yaxis": "y"
        },
        {
         "hovertemplate": "SYMBOL=ULTRACEMCO<br>LTP_F=%{x}<br>%CHNG=%{y}<extra></extra>",
         "legendgroup": "ULTRACEMCO",
         "marker": {
          "color": "#FC0080",
          "symbol": "circle"
         },
         "mode": "markers",
         "name": "ULTRACEMCO",
         "orientation": "v",
         "showlegend": true,
         "type": "scatter",
         "x": [
          6714
         ],
         "xaxis": "x",
         "y": [
          -0.91
         ],
         "yaxis": "y"
        },
        {
         "hovertemplate": "SYMBOL=CIPLA<br>LTP_F=%{x}<br>%CHNG=%{y}<extra></extra>",
         "legendgroup": "CIPLA",
         "marker": {
          "color": "#B2828D",
          "symbol": "circle"
         },
         "mode": "markers",
         "name": "CIPLA",
         "orientation": "v",
         "showlegend": true,
         "type": "scatter",
         "x": [
          1017.35
         ],
         "xaxis": "x",
         "y": [
          -0.96
         ],
         "yaxis": "y"
        },
        {
         "hovertemplate": "SYMBOL=TITAN<br>LTP_F=%{x}<br>%CHNG=%{y}<extra></extra>",
         "legendgroup": "TITAN",
         "marker": {
          "color": "#6C7C32",
          "symbol": "circle"
         },
         "mode": "markers",
         "name": "TITAN",
         "orientation": "v",
         "showlegend": true,
         "type": "scatter",
         "x": [
          2461.5
         ],
         "xaxis": "x",
         "y": [
          -1.07
         ],
         "yaxis": "y"
        },
        {
         "hovertemplate": "SYMBOL=HEROMOTOCO<br>LTP_F=%{x}<br>%CHNG=%{y}<extra></extra>",
         "legendgroup": "HEROMOTOCO",
         "marker": {
          "color": "#778AAE",
          "symbol": "circle"
         },
         "mode": "markers",
         "name": "HEROMOTOCO",
         "orientation": "v",
         "showlegend": true,
         "type": "scatter",
         "x": [
          2272.55
         ],
         "xaxis": "x",
         "y": [
          -1.1
         ],
         "yaxis": "y"
        },
        {
         "hovertemplate": "SYMBOL=KOTAKBANK<br>LTP_F=%{x}<br>%CHNG=%{y}<extra></extra>",
         "legendgroup": "KOTAKBANK",
         "marker": {
          "color": "#862A16",
          "symbol": "circle"
         },
         "mode": "markers",
         "name": "KOTAKBANK",
         "orientation": "v",
         "showlegend": true,
         "type": "scatter",
         "x": [
          1780
         ],
         "xaxis": "x",
         "y": [
          -1.21
         ],
         "yaxis": "y"
        },
        {
         "hovertemplate": "SYMBOL=BAJAJFINSV<br>LTP_F=%{x}<br>%CHNG=%{y}<extra></extra>",
         "legendgroup": "BAJAJFINSV",
         "marker": {
          "color": "#A777F1",
          "symbol": "circle"
         },
         "mode": "markers",
         "name": "BAJAJFINSV",
         "orientation": "v",
         "showlegend": true,
         "type": "scatter",
         "x": [
          16096.95
         ],
         "xaxis": "x",
         "y": [
          -1.35
         ],
         "yaxis": "y"
        },
        {
         "hovertemplate": "SYMBOL=POWERGRID<br>LTP_F=%{x}<br>%CHNG=%{y}<extra></extra>",
         "legendgroup": "POWERGRID",
         "marker": {
          "color": "#620042",
          "symbol": "circle"
         },
         "mode": "markers",
         "name": "POWERGRID",
         "orientation": "v",
         "showlegend": true,
         "type": "scatter",
         "x": [
          229.85
         ],
         "xaxis": "x",
         "y": [
          -1.39
         ],
         "yaxis": "y"
        },
        {
         "hovertemplate": "SYMBOL=ASIANPAINT<br>LTP_F=%{x}<br>%CHNG=%{y}<extra></extra>",
         "legendgroup": "ASIANPAINT",
         "marker": {
          "color": "#1616A7",
          "symbol": "circle"
         },
         "mode": "markers",
         "name": "ASIANPAINT",
         "orientation": "v",
         "showlegend": true,
         "type": "scatter",
         "x": [
          3084
         ],
         "xaxis": "x",
         "y": [
          -1.43
         ],
         "yaxis": "y"
        },
        {
         "hovertemplate": "SYMBOL=EICHERMOT<br>LTP_F=%{x}<br>%CHNG=%{y}<extra></extra>",
         "legendgroup": "EICHERMOT",
         "marker": {
          "color": "#DA60CA",
          "symbol": "circle"
         },
         "mode": "markers",
         "name": "EICHERMOT",
         "orientation": "v",
         "showlegend": true,
         "type": "scatter",
         "x": [
          2484
         ],
         "xaxis": "x",
         "y": [
          -1.5
         ],
         "yaxis": "y"
        },
        {
         "hovertemplate": "SYMBOL=TATAMOTORS<br>LTP_F=%{x}<br>%CHNG=%{y}<extra></extra>",
         "legendgroup": "TATAMOTORS",
         "marker": {
          "color": "#6C4516",
          "symbol": "circle"
         },
         "mode": "markers",
         "name": "TATAMOTORS",
         "orientation": "v",
         "showlegend": true,
         "type": "scatter",
         "x": [
          431.5
         ],
         "xaxis": "x",
         "y": [
          -1.55
         ],
         "yaxis": "y"
        },
        {
         "hovertemplate": "SYMBOL=DRREDDY<br>LTP_F=%{x}<br>%CHNG=%{y}<extra></extra>",
         "legendgroup": "DRREDDY",
         "marker": {
          "color": "#0D2A63",
          "symbol": "circle"
         },
         "mode": "markers",
         "name": "DRREDDY",
         "orientation": "v",
         "showlegend": true,
         "type": "scatter",
         "x": [
          4302
         ],
         "xaxis": "x",
         "y": [
          -1.61
         ],
         "yaxis": "y"
        },
        {
         "hovertemplate": "SYMBOL=HDFCBANK<br>LTP_F=%{x}<br>%CHNG=%{y}<extra></extra>",
         "legendgroup": "HDFCBANK",
         "marker": {
          "color": "#AF0038",
          "symbol": "circle"
         },
         "mode": "markers",
         "name": "HDFCBANK",
         "orientation": "v",
         "showlegend": true,
         "type": "scatter",
         "x": [
          1464
         ],
         "xaxis": "x",
         "y": [
          -1.98
         ],
         "yaxis": "y"
        },
        {
         "hovertemplate": "SYMBOL=HDFC<br>LTP_F=%{x}<br>%CHNG=%{y}<extra></extra>",
         "legendgroup": "HDFC",
         "marker": {
          "color": "#2E91E5",
          "symbol": "circle"
         },
         "mode": "markers",
         "name": "HDFC",
         "orientation": "v",
         "showlegend": true,
         "type": "scatter",
         "x": [
          2371.55
         ],
         "xaxis": "x",
         "y": [
          -2.23
         ],
         "yaxis": "y"
        },
        {
         "hovertemplate": "SYMBOL=MARUTI<br>LTP_F=%{x}<br>%CHNG=%{y}<extra></extra>",
         "legendgroup": "MARUTI",
         "marker": {
          "color": "#E15F99",
          "symbol": "circle"
         },
         "mode": "markers",
         "name": "MARUTI",
         "orientation": "v",
         "showlegend": true,
         "type": "scatter",
         "x": [
          7445
         ],
         "xaxis": "x",
         "y": [
          -2.28
         ],
         "yaxis": "y"
        }
       ],
       "layout": {
        "legend": {
         "title": {
          "text": "SYMBOL"
         },
         "tracegroupgap": 0
        },
        "margin": {
         "t": 60
        },
        "template": {
         "data": {
          "bar": [
           {
            "error_x": {
             "color": "#2a3f5f"
            },
            "error_y": {
             "color": "#2a3f5f"
            },
            "marker": {
             "line": {
              "color": "#E5ECF6",
              "width": 0.5
             },
             "pattern": {
              "fillmode": "overlay",
              "size": 10,
              "solidity": 0.2
             }
            },
            "type": "bar"
           }
          ],
          "barpolar": [
           {
            "marker": {
             "line": {
              "color": "#E5ECF6",
              "width": 0.5
             },
             "pattern": {
              "fillmode": "overlay",
              "size": 10,
              "solidity": 0.2
             }
            },
            "type": "barpolar"
           }
          ],
          "carpet": [
           {
            "aaxis": {
             "endlinecolor": "#2a3f5f",
             "gridcolor": "white",
             "linecolor": "white",
             "minorgridcolor": "white",
             "startlinecolor": "#2a3f5f"
            },
            "baxis": {
             "endlinecolor": "#2a3f5f",
             "gridcolor": "white",
             "linecolor": "white",
             "minorgridcolor": "white",
             "startlinecolor": "#2a3f5f"
            },
            "type": "carpet"
           }
          ],
          "choropleth": [
           {
            "colorbar": {
             "outlinewidth": 0,
             "ticks": ""
            },
            "type": "choropleth"
           }
          ],
          "contour": [
           {
            "colorbar": {
             "outlinewidth": 0,
             "ticks": ""
            },
            "colorscale": [
             [
              0,
              "#0d0887"
             ],
             [
              0.1111111111111111,
              "#46039f"
             ],
             [
              0.2222222222222222,
              "#7201a8"
             ],
             [
              0.3333333333333333,
              "#9c179e"
             ],
             [
              0.4444444444444444,
              "#bd3786"
             ],
             [
              0.5555555555555556,
              "#d8576b"
             ],
             [
              0.6666666666666666,
              "#ed7953"
             ],
             [
              0.7777777777777778,
              "#fb9f3a"
             ],
             [
              0.8888888888888888,
              "#fdca26"
             ],
             [
              1,
              "#f0f921"
             ]
            ],
            "type": "contour"
           }
          ],
          "contourcarpet": [
           {
            "colorbar": {
             "outlinewidth": 0,
             "ticks": ""
            },
            "type": "contourcarpet"
           }
          ],
          "heatmap": [
           {
            "colorbar": {
             "outlinewidth": 0,
             "ticks": ""
            },
            "colorscale": [
             [
              0,
              "#0d0887"
             ],
             [
              0.1111111111111111,
              "#46039f"
             ],
             [
              0.2222222222222222,
              "#7201a8"
             ],
             [
              0.3333333333333333,
              "#9c179e"
             ],
             [
              0.4444444444444444,
              "#bd3786"
             ],
             [
              0.5555555555555556,
              "#d8576b"
             ],
             [
              0.6666666666666666,
              "#ed7953"
             ],
             [
              0.7777777777777778,
              "#fb9f3a"
             ],
             [
              0.8888888888888888,
              "#fdca26"
             ],
             [
              1,
              "#f0f921"
             ]
            ],
            "type": "heatmap"
           }
          ],
          "heatmapgl": [
           {
            "colorbar": {
             "outlinewidth": 0,
             "ticks": ""
            },
            "colorscale": [
             [
              0,
              "#0d0887"
             ],
             [
              0.1111111111111111,
              "#46039f"
             ],
             [
              0.2222222222222222,
              "#7201a8"
             ],
             [
              0.3333333333333333,
              "#9c179e"
             ],
             [
              0.4444444444444444,
              "#bd3786"
             ],
             [
              0.5555555555555556,
              "#d8576b"
             ],
             [
              0.6666666666666666,
              "#ed7953"
             ],
             [
              0.7777777777777778,
              "#fb9f3a"
             ],
             [
              0.8888888888888888,
              "#fdca26"
             ],
             [
              1,
              "#f0f921"
             ]
            ],
            "type": "heatmapgl"
           }
          ],
          "histogram": [
           {
            "marker": {
             "pattern": {
              "fillmode": "overlay",
              "size": 10,
              "solidity": 0.2
             }
            },
            "type": "histogram"
           }
          ],
          "histogram2d": [
           {
            "colorbar": {
             "outlinewidth": 0,
             "ticks": ""
            },
            "colorscale": [
             [
              0,
              "#0d0887"
             ],
             [
              0.1111111111111111,
              "#46039f"
             ],
             [
              0.2222222222222222,
              "#7201a8"
             ],
             [
              0.3333333333333333,
              "#9c179e"
             ],
             [
              0.4444444444444444,
              "#bd3786"
             ],
             [
              0.5555555555555556,
              "#d8576b"
             ],
             [
              0.6666666666666666,
              "#ed7953"
             ],
             [
              0.7777777777777778,
              "#fb9f3a"
             ],
             [
              0.8888888888888888,
              "#fdca26"
             ],
             [
              1,
              "#f0f921"
             ]
            ],
            "type": "histogram2d"
           }
          ],
          "histogram2dcontour": [
           {
            "colorbar": {
             "outlinewidth": 0,
             "ticks": ""
            },
            "colorscale": [
             [
              0,
              "#0d0887"
             ],
             [
              0.1111111111111111,
              "#46039f"
             ],
             [
              0.2222222222222222,
              "#7201a8"
             ],
             [
              0.3333333333333333,
              "#9c179e"
             ],
             [
              0.4444444444444444,
              "#bd3786"
             ],
             [
              0.5555555555555556,
              "#d8576b"
             ],
             [
              0.6666666666666666,
              "#ed7953"
             ],
             [
              0.7777777777777778,
              "#fb9f3a"
             ],
             [
              0.8888888888888888,
              "#fdca26"
             ],
             [
              1,
              "#f0f921"
             ]
            ],
            "type": "histogram2dcontour"
           }
          ],
          "mesh3d": [
           {
            "colorbar": {
             "outlinewidth": 0,
             "ticks": ""
            },
            "type": "mesh3d"
           }
          ],
          "parcoords": [
           {
            "line": {
             "colorbar": {
              "outlinewidth": 0,
              "ticks": ""
             }
            },
            "type": "parcoords"
           }
          ],
          "pie": [
           {
            "automargin": true,
            "type": "pie"
           }
          ],
          "scatter": [
           {
            "fillpattern": {
             "fillmode": "overlay",
             "size": 10,
             "solidity": 0.2
            },
            "type": "scatter"
           }
          ],
          "scatter3d": [
           {
            "line": {
             "colorbar": {
              "outlinewidth": 0,
              "ticks": ""
             }
            },
            "marker": {
             "colorbar": {
              "outlinewidth": 0,
              "ticks": ""
             }
            },
            "type": "scatter3d"
           }
          ],
          "scattercarpet": [
           {
            "marker": {
             "colorbar": {
              "outlinewidth": 0,
              "ticks": ""
             }
            },
            "type": "scattercarpet"
           }
          ],
          "scattergeo": [
           {
            "marker": {
             "colorbar": {
              "outlinewidth": 0,
              "ticks": ""
             }
            },
            "type": "scattergeo"
           }
          ],
          "scattergl": [
           {
            "marker": {
             "colorbar": {
              "outlinewidth": 0,
              "ticks": ""
             }
            },
            "type": "scattergl"
           }
          ],
          "scattermapbox": [
           {
            "marker": {
             "colorbar": {
              "outlinewidth": 0,
              "ticks": ""
             }
            },
            "type": "scattermapbox"
           }
          ],
          "scatterpolar": [
           {
            "marker": {
             "colorbar": {
              "outlinewidth": 0,
              "ticks": ""
             }
            },
            "type": "scatterpolar"
           }
          ],
          "scatterpolargl": [
           {
            "marker": {
             "colorbar": {
              "outlinewidth": 0,
              "ticks": ""
             }
            },
            "type": "scatterpolargl"
           }
          ],
          "scatterternary": [
           {
            "marker": {
             "colorbar": {
              "outlinewidth": 0,
              "ticks": ""
             }
            },
            "type": "scatterternary"
           }
          ],
          "surface": [
           {
            "colorbar": {
             "outlinewidth": 0,
             "ticks": ""
            },
            "colorscale": [
             [
              0,
              "#0d0887"
             ],
             [
              0.1111111111111111,
              "#46039f"
             ],
             [
              0.2222222222222222,
              "#7201a8"
             ],
             [
              0.3333333333333333,
              "#9c179e"
             ],
             [
              0.4444444444444444,
              "#bd3786"
             ],
             [
              0.5555555555555556,
              "#d8576b"
             ],
             [
              0.6666666666666666,
              "#ed7953"
             ],
             [
              0.7777777777777778,
              "#fb9f3a"
             ],
             [
              0.8888888888888888,
              "#fdca26"
             ],
             [
              1,
              "#f0f921"
             ]
            ],
            "type": "surface"
           }
          ],
          "table": [
           {
            "cells": {
             "fill": {
              "color": "#EBF0F8"
             },
             "line": {
              "color": "white"
             }
            },
            "header": {
             "fill": {
              "color": "#C8D4E3"
             },
             "line": {
              "color": "white"
             }
            },
            "type": "table"
           }
          ]
         },
         "layout": {
          "annotationdefaults": {
           "arrowcolor": "#2a3f5f",
           "arrowhead": 0,
           "arrowwidth": 1
          },
          "autotypenumbers": "strict",
          "coloraxis": {
           "colorbar": {
            "outlinewidth": 0,
            "ticks": ""
           }
          },
          "colorscale": {
           "diverging": [
            [
             0,
             "#8e0152"
            ],
            [
             0.1,
             "#c51b7d"
            ],
            [
             0.2,
             "#de77ae"
            ],
            [
             0.3,
             "#f1b6da"
            ],
            [
             0.4,
             "#fde0ef"
            ],
            [
             0.5,
             "#f7f7f7"
            ],
            [
             0.6,
             "#e6f5d0"
            ],
            [
             0.7,
             "#b8e186"
            ],
            [
             0.8,
             "#7fbc41"
            ],
            [
             0.9,
             "#4d9221"
            ],
            [
             1,
             "#276419"
            ]
           ],
           "sequential": [
            [
             0,
             "#0d0887"
            ],
            [
             0.1111111111111111,
             "#46039f"
            ],
            [
             0.2222222222222222,
             "#7201a8"
            ],
            [
             0.3333333333333333,
             "#9c179e"
            ],
            [
             0.4444444444444444,
             "#bd3786"
            ],
            [
             0.5555555555555556,
             "#d8576b"
            ],
            [
             0.6666666666666666,
             "#ed7953"
            ],
            [
             0.7777777777777778,
             "#fb9f3a"
            ],
            [
             0.8888888888888888,
             "#fdca26"
            ],
            [
             1,
             "#f0f921"
            ]
           ],
           "sequentialminus": [
            [
             0,
             "#0d0887"
            ],
            [
             0.1111111111111111,
             "#46039f"
            ],
            [
             0.2222222222222222,
             "#7201a8"
            ],
            [
             0.3333333333333333,
             "#9c179e"
            ],
            [
             0.4444444444444444,
             "#bd3786"
            ],
            [
             0.5555555555555556,
             "#d8576b"
            ],
            [
             0.6666666666666666,
             "#ed7953"
            ],
            [
             0.7777777777777778,
             "#fb9f3a"
            ],
            [
             0.8888888888888888,
             "#fdca26"
            ],
            [
             1,
             "#f0f921"
            ]
           ]
          },
          "colorway": [
           "#636efa",
           "#EF553B",
           "#00cc96",
           "#ab63fa",
           "#FFA15A",
           "#19d3f3",
           "#FF6692",
           "#B6E880",
           "#FF97FF",
           "#FECB52"
          ],
          "font": {
           "color": "#2a3f5f"
          },
          "geo": {
           "bgcolor": "white",
           "lakecolor": "white",
           "landcolor": "#E5ECF6",
           "showlakes": true,
           "showland": true,
           "subunitcolor": "white"
          },
          "hoverlabel": {
           "align": "left"
          },
          "hovermode": "closest",
          "mapbox": {
           "style": "light"
          },
          "paper_bgcolor": "white",
          "plot_bgcolor": "#E5ECF6",
          "polar": {
           "angularaxis": {
            "gridcolor": "white",
            "linecolor": "white",
            "ticks": ""
           },
           "bgcolor": "#E5ECF6",
           "radialaxis": {
            "gridcolor": "white",
            "linecolor": "white",
            "ticks": ""
           }
          },
          "scene": {
           "xaxis": {
            "backgroundcolor": "#E5ECF6",
            "gridcolor": "white",
            "gridwidth": 2,
            "linecolor": "white",
            "showbackground": true,
            "ticks": "",
            "zerolinecolor": "white"
           },
           "yaxis": {
            "backgroundcolor": "#E5ECF6",
            "gridcolor": "white",
            "gridwidth": 2,
            "linecolor": "white",
            "showbackground": true,
            "ticks": "",
            "zerolinecolor": "white"
           },
           "zaxis": {
            "backgroundcolor": "#E5ECF6",
            "gridcolor": "white",
            "gridwidth": 2,
            "linecolor": "white",
            "showbackground": true,
            "ticks": "",
            "zerolinecolor": "white"
           }
          },
          "shapedefaults": {
           "line": {
            "color": "#2a3f5f"
           }
          },
          "ternary": {
           "aaxis": {
            "gridcolor": "white",
            "linecolor": "white",
            "ticks": ""
           },
           "baxis": {
            "gridcolor": "white",
            "linecolor": "white",
            "ticks": ""
           },
           "bgcolor": "#E5ECF6",
           "caxis": {
            "gridcolor": "white",
            "linecolor": "white",
            "ticks": ""
           }
          },
          "title": {
           "x": 0.05
          },
          "xaxis": {
           "automargin": true,
           "gridcolor": "white",
           "linecolor": "white",
           "ticks": "",
           "title": {
            "standoff": 15
           },
           "zerolinecolor": "white",
           "zerolinewidth": 2
          },
          "yaxis": {
           "automargin": true,
           "gridcolor": "white",
           "linecolor": "white",
           "ticks": "",
           "title": {
            "standoff": 15
           },
           "zerolinecolor": "white",
           "zerolinewidth": 2
          }
         }
        },
        "xaxis": {
         "anchor": "y",
         "domain": [
          0,
          1
         ],
         "title": {
          "text": "LTP_F"
         }
        },
        "yaxis": {
         "anchor": "x",
         "domain": [
          0,
          1
         ],
         "title": {
          "text": "%CHNG"
         }
        }
       }
      },
      "text/html": [
       "<div>                            <div id=\"539337cf-86c0-4391-9ecc-a5f4569820a9\" class=\"plotly-graph-div\" style=\"height:525px; width:100%;\"></div>            <script type=\"text/javascript\">                require([\"plotly\"], function(Plotly) {                    window.PLOTLYENV=window.PLOTLYENV || {};                                    if (document.getElementById(\"539337cf-86c0-4391-9ecc-a5f4569820a9\")) {                    Plotly.newPlot(                        \"539337cf-86c0-4391-9ecc-a5f4569820a9\",                        [{\"hovertemplate\":\"SYMBOL=ONGC<br>LTP_F=%{x}<br>%CHNG=%{y}<extra></extra>\",\"legendgroup\":\"ONGC\",\"marker\":{\"color\":\"#2E91E5\",\"symbol\":\"circle\"},\"mode\":\"markers\",\"name\":\"ONGC\",\"orientation\":\"v\",\"showlegend\":true,\"x\":[173.95],\"xaxis\":\"x\",\"y\":[2.99],\"yaxis\":\"y\",\"type\":\"scatter\"},{\"hovertemplate\":\"SYMBOL=APOLLOHOSP<br>LTP_F=%{x}<br>%CHNG=%{y}<extra></extra>\",\"legendgroup\":\"APOLLOHOSP\",\"marker\":{\"color\":\"#E15F99\",\"symbol\":\"circle\"},\"mode\":\"markers\",\"name\":\"APOLLOHOSP\",\"orientation\":\"v\",\"showlegend\":true,\"x\":[4735.05],\"xaxis\":\"x\",\"y\":[2.35],\"yaxis\":\"y\",\"type\":\"scatter\"},{\"hovertemplate\":\"SYMBOL=UPL<br>LTP_F=%{x}<br>%CHNG=%{y}<extra></extra>\",\"legendgroup\":\"UPL\",\"marker\":{\"color\":\"#1CA71C\",\"symbol\":\"circle\"},\"mode\":\"markers\",\"name\":\"UPL\",\"orientation\":\"v\",\"showlegend\":true,\"x\":[819.5],\"xaxis\":\"x\",\"y\":[1.72],\"yaxis\":\"y\",\"type\":\"scatter\"},{\"hovertemplate\":\"SYMBOL=ITC<br>LTP_F=%{x}<br>%CHNG=%{y}<extra></extra>\",\"legendgroup\":\"ITC\",\"marker\":{\"color\":\"#FB0D0D\",\"symbol\":\"circle\"},\"mode\":\"markers\",\"name\":\"ITC\",\"orientation\":\"v\",\"showlegend\":true,\"x\":[269.1],\"xaxis\":\"x\",\"y\":[1.62],\"yaxis\":\"y\",\"type\":\"scatter\"},{\"hovertemplate\":\"SYMBOL=SUNPHARMA<br>LTP_F=%{x}<br>%CHNG=%{y}<extra></extra>\",\"legendgroup\":\"SUNPHARMA\",\"marker\":{\"color\":\"#DA16FF\",\"symbol\":\"circle\"},\"mode\":\"markers\",\"name\":\"SUNPHARMA\",\"orientation\":\"v\",\"showlegend\":true,\"x\":[935.25],\"xaxis\":\"x\",\"y\":[1.51],\"yaxis\":\"y\",\"type\":\"scatter\"},{\"hovertemplate\":\"SYMBOL=JSWSTEEL<br>LTP_F=%{x}<br>%CHNG=%{y}<extra></extra>\",\"legendgroup\":\"JSWSTEEL\",\"marker\":{\"color\":\"#222A2A\",\"symbol\":\"circle\"},\"mode\":\"markers\",\"name\":\"JSWSTEEL\",\"orientation\":\"v\",\"showlegend\":true,\"x\":[764.45],\"xaxis\":\"x\",\"y\":[1.13],\"yaxis\":\"y\",\"type\":\"scatter\"},{\"hovertemplate\":\"SYMBOL=SBIN<br>LTP_F=%{x}<br>%CHNG=%{y}<extra></extra>\",\"legendgroup\":\"SBIN\",\"marker\":{\"color\":\"#B68100\",\"symbol\":\"circle\"},\"mode\":\"markers\",\"name\":\"SBIN\",\"orientation\":\"v\",\"showlegend\":true,\"x\":[517.7],\"xaxis\":\"x\",\"y\":[0.95],\"yaxis\":\"y\",\"type\":\"scatter\"},{\"hovertemplate\":\"SYMBOL=SHREECEM<br>LTP_F=%{x}<br>%CHNG=%{y}<extra></extra>\",\"legendgroup\":\"SHREECEM\",\"marker\":{\"color\":\"#750D86\",\"symbol\":\"circle\"},\"mode\":\"markers\",\"name\":\"SHREECEM\",\"orientation\":\"v\",\"showlegend\":true,\"x\":[25360.0],\"xaxis\":\"x\",\"y\":[0.94],\"yaxis\":\"y\",\"type\":\"scatter\"},{\"hovertemplate\":\"SYMBOL=HINDUNILVR<br>LTP_F=%{x}<br>%CHNG=%{y}<extra></extra>\",\"legendgroup\":\"HINDUNILVR\",\"marker\":{\"color\":\"#EB663B\",\"symbol\":\"circle\"},\"mode\":\"markers\",\"name\":\"HINDUNILVR\",\"orientation\":\"v\",\"showlegend\":true,\"x\":[2150.75],\"xaxis\":\"x\",\"y\":[0.87],\"yaxis\":\"y\",\"type\":\"scatter\"},{\"hovertemplate\":\"SYMBOL=NTPC<br>LTP_F=%{x}<br>%CHNG=%{y}<extra></extra>\",\"legendgroup\":\"NTPC\",\"marker\":{\"color\":\"#511CFB\",\"symbol\":\"circle\"},\"mode\":\"markers\",\"name\":\"NTPC\",\"orientation\":\"v\",\"showlegend\":true,\"x\":[153.9],\"xaxis\":\"x\",\"y\":[0.85],\"yaxis\":\"y\",\"type\":\"scatter\"},{\"hovertemplate\":\"SYMBOL=HINDALCO<br>LTP_F=%{x}<br>%CHNG=%{y}<extra></extra>\",\"legendgroup\":\"HINDALCO\",\"marker\":{\"color\":\"#00A08B\",\"symbol\":\"circle\"},\"mode\":\"markers\",\"name\":\"HINDALCO\",\"orientation\":\"v\",\"showlegend\":true,\"x\":[545.75],\"xaxis\":\"x\",\"y\":[0.63],\"yaxis\":\"y\",\"type\":\"scatter\"},{\"hovertemplate\":\"SYMBOL=LT<br>LTP_F=%{x}<br>%CHNG=%{y}<extra></extra>\",\"legendgroup\":\"LT\",\"marker\":{\"color\":\"#FB00D1\",\"symbol\":\"circle\"},\"mode\":\"markers\",\"name\":\"LT\",\"orientation\":\"v\",\"showlegend\":true,\"x\":[1758.55],\"xaxis\":\"x\",\"y\":[0.62],\"yaxis\":\"y\",\"type\":\"scatter\"},{\"hovertemplate\":\"SYMBOL=BAJFINANCE<br>LTP_F=%{x}<br>%CHNG=%{y}<extra></extra>\",\"legendgroup\":\"BAJFINANCE\",\"marker\":{\"color\":\"#FC0080\",\"symbol\":\"circle\"},\"mode\":\"markers\",\"name\":\"BAJFINANCE\",\"orientation\":\"v\",\"showlegend\":true,\"x\":[7315.05],\"xaxis\":\"x\",\"y\":[0.56],\"yaxis\":\"y\",\"type\":\"scatter\"},{\"hovertemplate\":\"SYMBOL=DIVISLAB<br>LTP_F=%{x}<br>%CHNG=%{y}<extra></extra>\",\"legendgroup\":\"DIVISLAB\",\"marker\":{\"color\":\"#B2828D\",\"symbol\":\"circle\"},\"mode\":\"markers\",\"name\":\"DIVISLAB\",\"orientation\":\"v\",\"showlegend\":true,\"x\":[4497.0],\"xaxis\":\"x\",\"y\":[0.53],\"yaxis\":\"y\",\"type\":\"scatter\"},{\"hovertemplate\":\"SYMBOL=TATACONSUM<br>LTP_F=%{x}<br>%CHNG=%{y}<extra></extra>\",\"legendgroup\":\"TATACONSUM\",\"marker\":{\"color\":\"#6C7C32\",\"symbol\":\"circle\"},\"mode\":\"markers\",\"name\":\"TATACONSUM\",\"orientation\":\"v\",\"showlegend\":true,\"x\":[816.2],\"xaxis\":\"x\",\"y\":[0.5],\"yaxis\":\"y\",\"type\":\"scatter\"},{\"hovertemplate\":\"SYMBOL=INFY<br>LTP_F=%{x}<br>%CHNG=%{y}<extra></extra>\",\"legendgroup\":\"INFY\",\"marker\":{\"color\":\"#778AAE\",\"symbol\":\"circle\"},\"mode\":\"markers\",\"name\":\"INFY\",\"orientation\":\"v\",\"showlegend\":true,\"x\":[1751.0],\"xaxis\":\"x\",\"y\":[0.49],\"yaxis\":\"y\",\"type\":\"scatter\"},{\"hovertemplate\":\"SYMBOL=HDFCLIFE<br>LTP_F=%{x}<br>%CHNG=%{y}<extra></extra>\",\"legendgroup\":\"HDFCLIFE\",\"marker\":{\"color\":\"#862A16\",\"symbol\":\"circle\"},\"mode\":\"markers\",\"name\":\"HDFCLIFE\",\"orientation\":\"v\",\"showlegend\":true,\"x\":[565.05],\"xaxis\":\"x\",\"y\":[0.49],\"yaxis\":\"y\",\"type\":\"scatter\"},{\"hovertemplate\":\"SYMBOL=M&M<br>LTP_F=%{x}<br>%CHNG=%{y}<extra></extra>\",\"legendgroup\":\"M&M\",\"marker\":{\"color\":\"#A777F1\",\"symbol\":\"circle\"},\"mode\":\"markers\",\"name\":\"M&M\",\"orientation\":\"v\",\"showlegend\":true,\"x\":[865.0],\"xaxis\":\"x\",\"y\":[0.49],\"yaxis\":\"y\",\"type\":\"scatter\"},{\"hovertemplate\":\"SYMBOL=GRASIM<br>LTP_F=%{x}<br>%CHNG=%{y}<extra></extra>\",\"legendgroup\":\"GRASIM\",\"marker\":{\"color\":\"#620042\",\"symbol\":\"circle\"},\"mode\":\"markers\",\"name\":\"GRASIM\",\"orientation\":\"v\",\"showlegend\":true,\"x\":[1763.8],\"xaxis\":\"x\",\"y\":[0.47],\"yaxis\":\"y\",\"type\":\"scatter\"},{\"hovertemplate\":\"SYMBOL=WIPRO<br>LTP_F=%{x}<br>%CHNG=%{y}<extra></extra>\",\"legendgroup\":\"WIPRO\",\"marker\":{\"color\":\"#1616A7\",\"symbol\":\"circle\"},\"mode\":\"markers\",\"name\":\"WIPRO\",\"orientation\":\"v\",\"showlegend\":true,\"x\":[559.8],\"xaxis\":\"x\",\"y\":[0.2],\"yaxis\":\"y\",\"type\":\"scatter\"},{\"hovertemplate\":\"SYMBOL=COALINDIA<br>LTP_F=%{x}<br>%CHNG=%{y}<extra></extra>\",\"legendgroup\":\"COALINDIA\",\"marker\":{\"color\":\"#DA60CA\",\"symbol\":\"circle\"},\"mode\":\"markers\",\"name\":\"COALINDIA\",\"orientation\":\"v\",\"showlegend\":true,\"x\":[186.35],\"xaxis\":\"x\",\"y\":[0.19],\"yaxis\":\"y\",\"type\":\"scatter\"},{\"hovertemplate\":\"SYMBOL=BRITANNIA<br>LTP_F=%{x}<br>%CHNG=%{y}<extra></extra>\",\"legendgroup\":\"BRITANNIA\",\"marker\":{\"color\":\"#6C4516\",\"symbol\":\"circle\"},\"mode\":\"markers\",\"name\":\"BRITANNIA\",\"orientation\":\"v\",\"showlegend\":true,\"x\":[3345.95],\"xaxis\":\"x\",\"y\":[0.06],\"yaxis\":\"y\",\"type\":\"scatter\"},{\"hovertemplate\":\"SYMBOL=INDUSINDBK<br>LTP_F=%{x}<br>%CHNG=%{y}<extra></extra>\",\"legendgroup\":\"INDUSINDBK\",\"marker\":{\"color\":\"#0D2A63\",\"symbol\":\"circle\"},\"mode\":\"markers\",\"name\":\"INDUSINDBK\",\"orientation\":\"v\",\"showlegend\":true,\"x\":[983.9],\"xaxis\":\"x\",\"y\":[-0.12],\"yaxis\":\"y\",\"type\":\"scatter\"},{\"hovertemplate\":\"SYMBOL=BHARTIARTL<br>LTP_F=%{x}<br>%CHNG=%{y}<extra></extra>\",\"legendgroup\":\"BHARTIARTL\",\"marker\":{\"color\":\"#AF0038\",\"symbol\":\"circle\"},\"mode\":\"markers\",\"name\":\"BHARTIARTL\",\"orientation\":\"v\",\"showlegend\":true,\"x\":[739.9],\"xaxis\":\"x\",\"y\":[-0.24],\"yaxis\":\"y\",\"type\":\"scatter\"},{\"hovertemplate\":\"SYMBOL=SBILIFE<br>LTP_F=%{x}<br>%CHNG=%{y}<extra></extra>\",\"legendgroup\":\"SBILIFE\",\"marker\":{\"color\":\"#2E91E5\",\"symbol\":\"circle\"},\"mode\":\"markers\",\"name\":\"SBILIFE\",\"orientation\":\"v\",\"showlegend\":true,\"x\":[1146.1],\"xaxis\":\"x\",\"y\":[-0.26],\"yaxis\":\"y\",\"type\":\"scatter\"},{\"hovertemplate\":\"SYMBOL=ICICIBANK<br>LTP_F=%{x}<br>%CHNG=%{y}<extra></extra>\",\"legendgroup\":\"ICICIBANK\",\"marker\":{\"color\":\"#E15F99\",\"symbol\":\"circle\"},\"mode\":\"markers\",\"name\":\"ICICIBANK\",\"orientation\":\"v\",\"showlegend\":true,\"x\":[761.55],\"xaxis\":\"x\",\"y\":[-0.3],\"yaxis\":\"y\",\"type\":\"scatter\"},{\"hovertemplate\":\"SYMBOL=TATASTEEL<br>LTP_F=%{x}<br>%CHNG=%{y}<extra></extra>\",\"legendgroup\":\"TATASTEEL\",\"marker\":{\"color\":\"#1CA71C\",\"symbol\":\"circle\"},\"mode\":\"markers\",\"name\":\"TATASTEEL\",\"orientation\":\"v\",\"showlegend\":true,\"x\":[1316.05],\"xaxis\":\"x\",\"y\":[-0.32],\"yaxis\":\"y\",\"type\":\"scatter\"},{\"hovertemplate\":\"SYMBOL=RELIANCE<br>LTP_F=%{x}<br>%CHNG=%{y}<extra></extra>\",\"legendgroup\":\"RELIANCE\",\"marker\":{\"color\":\"#FB0D0D\",\"symbol\":\"circle\"},\"mode\":\"markers\",\"name\":\"RELIANCE\",\"orientation\":\"v\",\"showlegend\":true,\"x\":[2551.9],\"xaxis\":\"x\",\"y\":[-0.36],\"yaxis\":\"y\",\"type\":\"scatter\"},{\"hovertemplate\":\"SYMBOL=HCLTECH<br>LTP_F=%{x}<br>%CHNG=%{y}<extra></extra>\",\"legendgroup\":\"HCLTECH\",\"marker\":{\"color\":\"#DA16FF\",\"symbol\":\"circle\"},\"mode\":\"markers\",\"name\":\"HCLTECH\",\"orientation\":\"v\",\"showlegend\":true,\"x\":[1127.0],\"xaxis\":\"x\",\"y\":[-0.37],\"yaxis\":\"y\",\"type\":\"scatter\"},{\"hovertemplate\":\"SYMBOL=TECHM<br>LTP_F=%{x}<br>%CHNG=%{y}<extra></extra>\",\"legendgroup\":\"TECHM\",\"marker\":{\"color\":\"#222A2A\",\"symbol\":\"circle\"},\"mode\":\"markers\",\"name\":\"TECHM\",\"orientation\":\"v\",\"showlegend\":true,\"x\":[1409.45],\"xaxis\":\"x\",\"y\":[-0.39],\"yaxis\":\"y\",\"type\":\"scatter\"},{\"hovertemplate\":\"SYMBOL=BAJAJ-AUTO<br>LTP_F=%{x}<br>%CHNG=%{y}<extra></extra>\",\"legendgroup\":\"BAJAJ-AUTO\",\"marker\":{\"color\":\"#B68100\",\"symbol\":\"circle\"},\"mode\":\"markers\",\"name\":\"BAJAJ-AUTO\",\"orientation\":\"v\",\"showlegend\":true,\"x\":[3694.65],\"xaxis\":\"x\",\"y\":[-0.47],\"yaxis\":\"y\",\"type\":\"scatter\"},{\"hovertemplate\":\"SYMBOL=BPCL<br>LTP_F=%{x}<br>%CHNG=%{y}<extra></extra>\",\"legendgroup\":\"BPCL\",\"marker\":{\"color\":\"#750D86\",\"symbol\":\"circle\"},\"mode\":\"markers\",\"name\":\"BPCL\",\"orientation\":\"v\",\"showlegend\":true,\"x\":[378.5],\"xaxis\":\"x\",\"y\":[-0.55],\"yaxis\":\"y\",\"type\":\"scatter\"},{\"hovertemplate\":\"SYMBOL=TCS<br>LTP_F=%{x}<br>%CHNG=%{y}<extra></extra>\",\"legendgroup\":\"TCS\",\"marker\":{\"color\":\"#EB663B\",\"symbol\":\"circle\"},\"mode\":\"markers\",\"name\":\"TCS\",\"orientation\":\"v\",\"showlegend\":true,\"x\":[3664.95],\"xaxis\":\"x\",\"y\":[-0.71],\"yaxis\":\"y\",\"type\":\"scatter\"},{\"hovertemplate\":\"SYMBOL=NESTLEIND<br>LTP_F=%{x}<br>%CHNG=%{y}<extra></extra>\",\"legendgroup\":\"NESTLEIND\",\"marker\":{\"color\":\"#511CFB\",\"symbol\":\"circle\"},\"mode\":\"markers\",\"name\":\"NESTLEIND\",\"orientation\":\"v\",\"showlegend\":true,\"x\":[18281.0],\"xaxis\":\"x\",\"y\":[-0.74],\"yaxis\":\"y\",\"type\":\"scatter\"},{\"hovertemplate\":\"SYMBOL=ADANIPORTS<br>LTP_F=%{x}<br>%CHNG=%{y}<extra></extra>\",\"legendgroup\":\"ADANIPORTS\",\"marker\":{\"color\":\"#00A08B\",\"symbol\":\"circle\"},\"mode\":\"markers\",\"name\":\"ADANIPORTS\",\"orientation\":\"v\",\"showlegend\":true,\"x\":[838.15],\"xaxis\":\"x\",\"y\":[-0.8],\"yaxis\":\"y\",\"type\":\"scatter\"},{\"hovertemplate\":\"SYMBOL=AXISBANK<br>LTP_F=%{x}<br>%CHNG=%{y}<extra></extra>\",\"legendgroup\":\"AXISBANK\",\"marker\":{\"color\":\"#FB00D1\",\"symbol\":\"circle\"},\"mode\":\"markers\",\"name\":\"AXISBANK\",\"orientation\":\"v\",\"showlegend\":true,\"x\":[792.0],\"xaxis\":\"x\",\"y\":[-0.81],\"yaxis\":\"y\",\"type\":\"scatter\"},{\"hovertemplate\":\"SYMBOL=ULTRACEMCO<br>LTP_F=%{x}<br>%CHNG=%{y}<extra></extra>\",\"legendgroup\":\"ULTRACEMCO\",\"marker\":{\"color\":\"#FC0080\",\"symbol\":\"circle\"},\"mode\":\"markers\",\"name\":\"ULTRACEMCO\",\"orientation\":\"v\",\"showlegend\":true,\"x\":[6714.0],\"xaxis\":\"x\",\"y\":[-0.91],\"yaxis\":\"y\",\"type\":\"scatter\"},{\"hovertemplate\":\"SYMBOL=CIPLA<br>LTP_F=%{x}<br>%CHNG=%{y}<extra></extra>\",\"legendgroup\":\"CIPLA\",\"marker\":{\"color\":\"#B2828D\",\"symbol\":\"circle\"},\"mode\":\"markers\",\"name\":\"CIPLA\",\"orientation\":\"v\",\"showlegend\":true,\"x\":[1017.35],\"xaxis\":\"x\",\"y\":[-0.96],\"yaxis\":\"y\",\"type\":\"scatter\"},{\"hovertemplate\":\"SYMBOL=TITAN<br>LTP_F=%{x}<br>%CHNG=%{y}<extra></extra>\",\"legendgroup\":\"TITAN\",\"marker\":{\"color\":\"#6C7C32\",\"symbol\":\"circle\"},\"mode\":\"markers\",\"name\":\"TITAN\",\"orientation\":\"v\",\"showlegend\":true,\"x\":[2461.5],\"xaxis\":\"x\",\"y\":[-1.07],\"yaxis\":\"y\",\"type\":\"scatter\"},{\"hovertemplate\":\"SYMBOL=HEROMOTOCO<br>LTP_F=%{x}<br>%CHNG=%{y}<extra></extra>\",\"legendgroup\":\"HEROMOTOCO\",\"marker\":{\"color\":\"#778AAE\",\"symbol\":\"circle\"},\"mode\":\"markers\",\"name\":\"HEROMOTOCO\",\"orientation\":\"v\",\"showlegend\":true,\"x\":[2272.55],\"xaxis\":\"x\",\"y\":[-1.1],\"yaxis\":\"y\",\"type\":\"scatter\"},{\"hovertemplate\":\"SYMBOL=KOTAKBANK<br>LTP_F=%{x}<br>%CHNG=%{y}<extra></extra>\",\"legendgroup\":\"KOTAKBANK\",\"marker\":{\"color\":\"#862A16\",\"symbol\":\"circle\"},\"mode\":\"markers\",\"name\":\"KOTAKBANK\",\"orientation\":\"v\",\"showlegend\":true,\"x\":[1780.0],\"xaxis\":\"x\",\"y\":[-1.21],\"yaxis\":\"y\",\"type\":\"scatter\"},{\"hovertemplate\":\"SYMBOL=BAJAJFINSV<br>LTP_F=%{x}<br>%CHNG=%{y}<extra></extra>\",\"legendgroup\":\"BAJAJFINSV\",\"marker\":{\"color\":\"#A777F1\",\"symbol\":\"circle\"},\"mode\":\"markers\",\"name\":\"BAJAJFINSV\",\"orientation\":\"v\",\"showlegend\":true,\"x\":[16096.95],\"xaxis\":\"x\",\"y\":[-1.35],\"yaxis\":\"y\",\"type\":\"scatter\"},{\"hovertemplate\":\"SYMBOL=POWERGRID<br>LTP_F=%{x}<br>%CHNG=%{y}<extra></extra>\",\"legendgroup\":\"POWERGRID\",\"marker\":{\"color\":\"#620042\",\"symbol\":\"circle\"},\"mode\":\"markers\",\"name\":\"POWERGRID\",\"orientation\":\"v\",\"showlegend\":true,\"x\":[229.85],\"xaxis\":\"x\",\"y\":[-1.39],\"yaxis\":\"y\",\"type\":\"scatter\"},{\"hovertemplate\":\"SYMBOL=ASIANPAINT<br>LTP_F=%{x}<br>%CHNG=%{y}<extra></extra>\",\"legendgroup\":\"ASIANPAINT\",\"marker\":{\"color\":\"#1616A7\",\"symbol\":\"circle\"},\"mode\":\"markers\",\"name\":\"ASIANPAINT\",\"orientation\":\"v\",\"showlegend\":true,\"x\":[3084.0],\"xaxis\":\"x\",\"y\":[-1.43],\"yaxis\":\"y\",\"type\":\"scatter\"},{\"hovertemplate\":\"SYMBOL=EICHERMOT<br>LTP_F=%{x}<br>%CHNG=%{y}<extra></extra>\",\"legendgroup\":\"EICHERMOT\",\"marker\":{\"color\":\"#DA60CA\",\"symbol\":\"circle\"},\"mode\":\"markers\",\"name\":\"EICHERMOT\",\"orientation\":\"v\",\"showlegend\":true,\"x\":[2484.0],\"xaxis\":\"x\",\"y\":[-1.5],\"yaxis\":\"y\",\"type\":\"scatter\"},{\"hovertemplate\":\"SYMBOL=TATAMOTORS<br>LTP_F=%{x}<br>%CHNG=%{y}<extra></extra>\",\"legendgroup\":\"TATAMOTORS\",\"marker\":{\"color\":\"#6C4516\",\"symbol\":\"circle\"},\"mode\":\"markers\",\"name\":\"TATAMOTORS\",\"orientation\":\"v\",\"showlegend\":true,\"x\":[431.5],\"xaxis\":\"x\",\"y\":[-1.55],\"yaxis\":\"y\",\"type\":\"scatter\"},{\"hovertemplate\":\"SYMBOL=DRREDDY<br>LTP_F=%{x}<br>%CHNG=%{y}<extra></extra>\",\"legendgroup\":\"DRREDDY\",\"marker\":{\"color\":\"#0D2A63\",\"symbol\":\"circle\"},\"mode\":\"markers\",\"name\":\"DRREDDY\",\"orientation\":\"v\",\"showlegend\":true,\"x\":[4302.0],\"xaxis\":\"x\",\"y\":[-1.61],\"yaxis\":\"y\",\"type\":\"scatter\"},{\"hovertemplate\":\"SYMBOL=HDFCBANK<br>LTP_F=%{x}<br>%CHNG=%{y}<extra></extra>\",\"legendgroup\":\"HDFCBANK\",\"marker\":{\"color\":\"#AF0038\",\"symbol\":\"circle\"},\"mode\":\"markers\",\"name\":\"HDFCBANK\",\"orientation\":\"v\",\"showlegend\":true,\"x\":[1464.0],\"xaxis\":\"x\",\"y\":[-1.98],\"yaxis\":\"y\",\"type\":\"scatter\"},{\"hovertemplate\":\"SYMBOL=HDFC<br>LTP_F=%{x}<br>%CHNG=%{y}<extra></extra>\",\"legendgroup\":\"HDFC\",\"marker\":{\"color\":\"#2E91E5\",\"symbol\":\"circle\"},\"mode\":\"markers\",\"name\":\"HDFC\",\"orientation\":\"v\",\"showlegend\":true,\"x\":[2371.55],\"xaxis\":\"x\",\"y\":[-2.23],\"yaxis\":\"y\",\"type\":\"scatter\"},{\"hovertemplate\":\"SYMBOL=MARUTI<br>LTP_F=%{x}<br>%CHNG=%{y}<extra></extra>\",\"legendgroup\":\"MARUTI\",\"marker\":{\"color\":\"#E15F99\",\"symbol\":\"circle\"},\"mode\":\"markers\",\"name\":\"MARUTI\",\"orientation\":\"v\",\"showlegend\":true,\"x\":[7445.0],\"xaxis\":\"x\",\"y\":[-2.28],\"yaxis\":\"y\",\"type\":\"scatter\"}],                        {\"template\":{\"data\":{\"histogram2dcontour\":[{\"type\":\"histogram2dcontour\",\"colorbar\":{\"outlinewidth\":0,\"ticks\":\"\"},\"colorscale\":[[0.0,\"#0d0887\"],[0.1111111111111111,\"#46039f\"],[0.2222222222222222,\"#7201a8\"],[0.3333333333333333,\"#9c179e\"],[0.4444444444444444,\"#bd3786\"],[0.5555555555555556,\"#d8576b\"],[0.6666666666666666,\"#ed7953\"],[0.7777777777777778,\"#fb9f3a\"],[0.8888888888888888,\"#fdca26\"],[1.0,\"#f0f921\"]]}],\"choropleth\":[{\"type\":\"choropleth\",\"colorbar\":{\"outlinewidth\":0,\"ticks\":\"\"}}],\"histogram2d\":[{\"type\":\"histogram2d\",\"colorbar\":{\"outlinewidth\":0,\"ticks\":\"\"},\"colorscale\":[[0.0,\"#0d0887\"],[0.1111111111111111,\"#46039f\"],[0.2222222222222222,\"#7201a8\"],[0.3333333333333333,\"#9c179e\"],[0.4444444444444444,\"#bd3786\"],[0.5555555555555556,\"#d8576b\"],[0.6666666666666666,\"#ed7953\"],[0.7777777777777778,\"#fb9f3a\"],[0.8888888888888888,\"#fdca26\"],[1.0,\"#f0f921\"]]}],\"heatmap\":[{\"type\":\"heatmap\",\"colorbar\":{\"outlinewidth\":0,\"ticks\":\"\"},\"colorscale\":[[0.0,\"#0d0887\"],[0.1111111111111111,\"#46039f\"],[0.2222222222222222,\"#7201a8\"],[0.3333333333333333,\"#9c179e\"],[0.4444444444444444,\"#bd3786\"],[0.5555555555555556,\"#d8576b\"],[0.6666666666666666,\"#ed7953\"],[0.7777777777777778,\"#fb9f3a\"],[0.8888888888888888,\"#fdca26\"],[1.0,\"#f0f921\"]]}],\"heatmapgl\":[{\"type\":\"heatmapgl\",\"colorbar\":{\"outlinewidth\":0,\"ticks\":\"\"},\"colorscale\":[[0.0,\"#0d0887\"],[0.1111111111111111,\"#46039f\"],[0.2222222222222222,\"#7201a8\"],[0.3333333333333333,\"#9c179e\"],[0.4444444444444444,\"#bd3786\"],[0.5555555555555556,\"#d8576b\"],[0.6666666666666666,\"#ed7953\"],[0.7777777777777778,\"#fb9f3a\"],[0.8888888888888888,\"#fdca26\"],[1.0,\"#f0f921\"]]}],\"contourcarpet\":[{\"type\":\"contourcarpet\",\"colorbar\":{\"outlinewidth\":0,\"ticks\":\"\"}}],\"contour\":[{\"type\":\"contour\",\"colorbar\":{\"outlinewidth\":0,\"ticks\":\"\"},\"colorscale\":[[0.0,\"#0d0887\"],[0.1111111111111111,\"#46039f\"],[0.2222222222222222,\"#7201a8\"],[0.3333333333333333,\"#9c179e\"],[0.4444444444444444,\"#bd3786\"],[0.5555555555555556,\"#d8576b\"],[0.6666666666666666,\"#ed7953\"],[0.7777777777777778,\"#fb9f3a\"],[0.8888888888888888,\"#fdca26\"],[1.0,\"#f0f921\"]]}],\"surface\":[{\"type\":\"surface\",\"colorbar\":{\"outlinewidth\":0,\"ticks\":\"\"},\"colorscale\":[[0.0,\"#0d0887\"],[0.1111111111111111,\"#46039f\"],[0.2222222222222222,\"#7201a8\"],[0.3333333333333333,\"#9c179e\"],[0.4444444444444444,\"#bd3786\"],[0.5555555555555556,\"#d8576b\"],[0.6666666666666666,\"#ed7953\"],[0.7777777777777778,\"#fb9f3a\"],[0.8888888888888888,\"#fdca26\"],[1.0,\"#f0f921\"]]}],\"mesh3d\":[{\"type\":\"mesh3d\",\"colorbar\":{\"outlinewidth\":0,\"ticks\":\"\"}}],\"scatter\":[{\"fillpattern\":{\"fillmode\":\"overlay\",\"size\":10,\"solidity\":0.2},\"type\":\"scatter\"}],\"parcoords\":[{\"type\":\"parcoords\",\"line\":{\"colorbar\":{\"outlinewidth\":0,\"ticks\":\"\"}}}],\"scatterpolargl\":[{\"type\":\"scatterpolargl\",\"marker\":{\"colorbar\":{\"outlinewidth\":0,\"ticks\":\"\"}}}],\"bar\":[{\"error_x\":{\"color\":\"#2a3f5f\"},\"error_y\":{\"color\":\"#2a3f5f\"},\"marker\":{\"line\":{\"color\":\"#E5ECF6\",\"width\":0.5},\"pattern\":{\"fillmode\":\"overlay\",\"size\":10,\"solidity\":0.2}},\"type\":\"bar\"}],\"scattergeo\":[{\"type\":\"scattergeo\",\"marker\":{\"colorbar\":{\"outlinewidth\":0,\"ticks\":\"\"}}}],\"scatterpolar\":[{\"type\":\"scatterpolar\",\"marker\":{\"colorbar\":{\"outlinewidth\":0,\"ticks\":\"\"}}}],\"histogram\":[{\"marker\":{\"pattern\":{\"fillmode\":\"overlay\",\"size\":10,\"solidity\":0.2}},\"type\":\"histogram\"}],\"scattergl\":[{\"type\":\"scattergl\",\"marker\":{\"colorbar\":{\"outlinewidth\":0,\"ticks\":\"\"}}}],\"scatter3d\":[{\"type\":\"scatter3d\",\"line\":{\"colorbar\":{\"outlinewidth\":0,\"ticks\":\"\"}},\"marker\":{\"colorbar\":{\"outlinewidth\":0,\"ticks\":\"\"}}}],\"scattermapbox\":[{\"type\":\"scattermapbox\",\"marker\":{\"colorbar\":{\"outlinewidth\":0,\"ticks\":\"\"}}}],\"scatterternary\":[{\"type\":\"scatterternary\",\"marker\":{\"colorbar\":{\"outlinewidth\":0,\"ticks\":\"\"}}}],\"scattercarpet\":[{\"type\":\"scattercarpet\",\"marker\":{\"colorbar\":{\"outlinewidth\":0,\"ticks\":\"\"}}}],\"carpet\":[{\"aaxis\":{\"endlinecolor\":\"#2a3f5f\",\"gridcolor\":\"white\",\"linecolor\":\"white\",\"minorgridcolor\":\"white\",\"startlinecolor\":\"#2a3f5f\"},\"baxis\":{\"endlinecolor\":\"#2a3f5f\",\"gridcolor\":\"white\",\"linecolor\":\"white\",\"minorgridcolor\":\"white\",\"startlinecolor\":\"#2a3f5f\"},\"type\":\"carpet\"}],\"table\":[{\"cells\":{\"fill\":{\"color\":\"#EBF0F8\"},\"line\":{\"color\":\"white\"}},\"header\":{\"fill\":{\"color\":\"#C8D4E3\"},\"line\":{\"color\":\"white\"}},\"type\":\"table\"}],\"barpolar\":[{\"marker\":{\"line\":{\"color\":\"#E5ECF6\",\"width\":0.5},\"pattern\":{\"fillmode\":\"overlay\",\"size\":10,\"solidity\":0.2}},\"type\":\"barpolar\"}],\"pie\":[{\"automargin\":true,\"type\":\"pie\"}]},\"layout\":{\"autotypenumbers\":\"strict\",\"colorway\":[\"#636efa\",\"#EF553B\",\"#00cc96\",\"#ab63fa\",\"#FFA15A\",\"#19d3f3\",\"#FF6692\",\"#B6E880\",\"#FF97FF\",\"#FECB52\"],\"font\":{\"color\":\"#2a3f5f\"},\"hovermode\":\"closest\",\"hoverlabel\":{\"align\":\"left\"},\"paper_bgcolor\":\"white\",\"plot_bgcolor\":\"#E5ECF6\",\"polar\":{\"bgcolor\":\"#E5ECF6\",\"angularaxis\":{\"gridcolor\":\"white\",\"linecolor\":\"white\",\"ticks\":\"\"},\"radialaxis\":{\"gridcolor\":\"white\",\"linecolor\":\"white\",\"ticks\":\"\"}},\"ternary\":{\"bgcolor\":\"#E5ECF6\",\"aaxis\":{\"gridcolor\":\"white\",\"linecolor\":\"white\",\"ticks\":\"\"},\"baxis\":{\"gridcolor\":\"white\",\"linecolor\":\"white\",\"ticks\":\"\"},\"caxis\":{\"gridcolor\":\"white\",\"linecolor\":\"white\",\"ticks\":\"\"}},\"coloraxis\":{\"colorbar\":{\"outlinewidth\":0,\"ticks\":\"\"}},\"colorscale\":{\"sequential\":[[0.0,\"#0d0887\"],[0.1111111111111111,\"#46039f\"],[0.2222222222222222,\"#7201a8\"],[0.3333333333333333,\"#9c179e\"],[0.4444444444444444,\"#bd3786\"],[0.5555555555555556,\"#d8576b\"],[0.6666666666666666,\"#ed7953\"],[0.7777777777777778,\"#fb9f3a\"],[0.8888888888888888,\"#fdca26\"],[1.0,\"#f0f921\"]],\"sequentialminus\":[[0.0,\"#0d0887\"],[0.1111111111111111,\"#46039f\"],[0.2222222222222222,\"#7201a8\"],[0.3333333333333333,\"#9c179e\"],[0.4444444444444444,\"#bd3786\"],[0.5555555555555556,\"#d8576b\"],[0.6666666666666666,\"#ed7953\"],[0.7777777777777778,\"#fb9f3a\"],[0.8888888888888888,\"#fdca26\"],[1.0,\"#f0f921\"]],\"diverging\":[[0,\"#8e0152\"],[0.1,\"#c51b7d\"],[0.2,\"#de77ae\"],[0.3,\"#f1b6da\"],[0.4,\"#fde0ef\"],[0.5,\"#f7f7f7\"],[0.6,\"#e6f5d0\"],[0.7,\"#b8e186\"],[0.8,\"#7fbc41\"],[0.9,\"#4d9221\"],[1,\"#276419\"]]},\"xaxis\":{\"gridcolor\":\"white\",\"linecolor\":\"white\",\"ticks\":\"\",\"title\":{\"standoff\":15},\"zerolinecolor\":\"white\",\"automargin\":true,\"zerolinewidth\":2},\"yaxis\":{\"gridcolor\":\"white\",\"linecolor\":\"white\",\"ticks\":\"\",\"title\":{\"standoff\":15},\"zerolinecolor\":\"white\",\"automargin\":true,\"zerolinewidth\":2},\"scene\":{\"xaxis\":{\"backgroundcolor\":\"#E5ECF6\",\"gridcolor\":\"white\",\"linecolor\":\"white\",\"showbackground\":true,\"ticks\":\"\",\"zerolinecolor\":\"white\",\"gridwidth\":2},\"yaxis\":{\"backgroundcolor\":\"#E5ECF6\",\"gridcolor\":\"white\",\"linecolor\":\"white\",\"showbackground\":true,\"ticks\":\"\",\"zerolinecolor\":\"white\",\"gridwidth\":2},\"zaxis\":{\"backgroundcolor\":\"#E5ECF6\",\"gridcolor\":\"white\",\"linecolor\":\"white\",\"showbackground\":true,\"ticks\":\"\",\"zerolinecolor\":\"white\",\"gridwidth\":2}},\"shapedefaults\":{\"line\":{\"color\":\"#2a3f5f\"}},\"annotationdefaults\":{\"arrowcolor\":\"#2a3f5f\",\"arrowhead\":0,\"arrowwidth\":1},\"geo\":{\"bgcolor\":\"white\",\"landcolor\":\"#E5ECF6\",\"subunitcolor\":\"white\",\"showland\":true,\"showlakes\":true,\"lakecolor\":\"white\"},\"title\":{\"x\":0.05},\"mapbox\":{\"style\":\"light\"}}},\"xaxis\":{\"anchor\":\"y\",\"domain\":[0.0,1.0],\"title\":{\"text\":\"LTP_F\"}},\"yaxis\":{\"anchor\":\"x\",\"domain\":[0.0,1.0],\"title\":{\"text\":\"%CHNG\"}},\"legend\":{\"title\":{\"text\":\"SYMBOL\"},\"tracegroupgap\":0},\"margin\":{\"t\":60}},                        {\"responsive\": true}                    ).then(function(){\n",
       "                            \n",
       "var gd = document.getElementById('539337cf-86c0-4391-9ecc-a5f4569820a9');\n",
       "var x = new MutationObserver(function (mutations, observer) {{\n",
       "        var display = window.getComputedStyle(gd).display;\n",
       "        if (!display || display === 'none') {{\n",
       "            console.log([gd, 'removed!']);\n",
       "            Plotly.purge(gd);\n",
       "            observer.disconnect();\n",
       "        }}\n",
       "}});\n",
       "\n",
       "// Listen for the removal of the full notebook cells\n",
       "var notebookContainer = gd.closest('#notebook-container');\n",
       "if (notebookContainer) {{\n",
       "    x.observe(notebookContainer, {childList: true});\n",
       "}}\n",
       "\n",
       "// Listen for the clearing of the current output cell\n",
       "var outputEl = gd.closest('.output');\n",
       "if (outputEl) {{\n",
       "    x.observe(outputEl, {childList: true});\n",
       "}}\n",
       "\n",
       "                        })                };                });            </script>        </div>"
      ]
     },
     "metadata": {},
     "output_type": "display_data"
    }
   ],
   "source": [
    "px.scatter((df_nifity),x='LTP_F',y='%CHNG',color='SYMBOL',\n",
    "           color_discrete_sequence=px.colors.qualitative.Dark24)"
   ]
  },
  {
   "cell_type": "markdown",
   "id": "170a5b75",
   "metadata": {},
   "source": [
    "##### %CHNG vs CHNG"
   ]
  },
  {
   "cell_type": "code",
   "execution_count": 15,
   "id": "af157fe2",
   "metadata": {},
   "outputs": [
    {
     "data": {
      "application/vnd.plotly.v1+json": {
       "config": {
        "plotlyServerURL": "https://plot.ly"
       },
       "data": [
        {
         "hovertemplate": "SYMBOL=ONGC<br>CHNG=%{x}<br>%CHNG=%{y}<extra></extra>",
         "legendgroup": "ONGC",
         "marker": {
          "color": "#2E91E5",
          "symbol": "circle"
         },
         "mode": "markers",
         "name": "ONGC",
         "orientation": "v",
         "showlegend": true,
         "type": "scatter",
         "x": [
          5.05
         ],
         "xaxis": "x",
         "y": [
          2.99
         ],
         "yaxis": "y"
        },
        {
         "hovertemplate": "SYMBOL=APOLLOHOSP<br>CHNG=%{x}<br>%CHNG=%{y}<extra></extra>",
         "legendgroup": "APOLLOHOSP",
         "marker": {
          "color": "#E15F99",
          "symbol": "circle"
         },
         "mode": "markers",
         "name": "APOLLOHOSP",
         "orientation": "v",
         "showlegend": true,
         "type": "scatter",
         "x": [
          108.75
         ],
         "xaxis": "x",
         "y": [
          2.35
         ],
         "yaxis": "y"
        },
        {
         "hovertemplate": "SYMBOL=UPL<br>CHNG=%{x}<br>%CHNG=%{y}<extra></extra>",
         "legendgroup": "UPL",
         "marker": {
          "color": "#1CA71C",
          "symbol": "circle"
         },
         "mode": "markers",
         "name": "UPL",
         "orientation": "v",
         "showlegend": true,
         "type": "scatter",
         "x": [
          13.85
         ],
         "xaxis": "x",
         "y": [
          1.72
         ],
         "yaxis": "y"
        },
        {
         "hovertemplate": "SYMBOL=ITC<br>CHNG=%{x}<br>%CHNG=%{y}<extra></extra>",
         "legendgroup": "ITC",
         "marker": {
          "color": "#FB0D0D",
          "symbol": "circle"
         },
         "mode": "markers",
         "name": "ITC",
         "orientation": "v",
         "showlegend": true,
         "type": "scatter",
         "x": [
          4.3
         ],
         "xaxis": "x",
         "y": [
          1.62
         ],
         "yaxis": "y"
        },
        {
         "hovertemplate": "SYMBOL=SUNPHARMA<br>CHNG=%{x}<br>%CHNG=%{y}<extra></extra>",
         "legendgroup": "SUNPHARMA",
         "marker": {
          "color": "#DA16FF",
          "symbol": "circle"
         },
         "mode": "markers",
         "name": "SUNPHARMA",
         "orientation": "v",
         "showlegend": true,
         "type": "scatter",
         "x": [
          13.95
         ],
         "xaxis": "x",
         "y": [
          1.51
         ],
         "yaxis": "y"
        },
        {
         "hovertemplate": "SYMBOL=JSWSTEEL<br>CHNG=%{x}<br>%CHNG=%{y}<extra></extra>",
         "legendgroup": "JSWSTEEL",
         "marker": {
          "color": "#222A2A",
          "symbol": "circle"
         },
         "mode": "markers",
         "name": "JSWSTEEL",
         "orientation": "v",
         "showlegend": true,
         "type": "scatter",
         "x": [
          8.55
         ],
         "xaxis": "x",
         "y": [
          1.13
         ],
         "yaxis": "y"
        },
        {
         "hovertemplate": "SYMBOL=SBIN<br>CHNG=%{x}<br>%CHNG=%{y}<extra></extra>",
         "legendgroup": "SBIN",
         "marker": {
          "color": "#B68100",
          "symbol": "circle"
         },
         "mode": "markers",
         "name": "SBIN",
         "orientation": "v",
         "showlegend": true,
         "type": "scatter",
         "x": [
          4.85
         ],
         "xaxis": "x",
         "y": [
          0.95
         ],
         "yaxis": "y"
        },
        {
         "hovertemplate": "SYMBOL=SHREECEM<br>CHNG=%{x}<br>%CHNG=%{y}<extra></extra>",
         "legendgroup": "SHREECEM",
         "marker": {
          "color": "#750D86",
          "symbol": "circle"
         },
         "mode": "markers",
         "name": "SHREECEM",
         "orientation": "v",
         "showlegend": true,
         "type": "scatter",
         "x": [
          237.35
         ],
         "xaxis": "x",
         "y": [
          0.94
         ],
         "yaxis": "y"
        },
        {
         "hovertemplate": "SYMBOL=HINDUNILVR<br>CHNG=%{x}<br>%CHNG=%{y}<extra></extra>",
         "legendgroup": "HINDUNILVR",
         "marker": {
          "color": "#EB663B",
          "symbol": "circle"
         },
         "mode": "markers",
         "name": "HINDUNILVR",
         "orientation": "v",
         "showlegend": true,
         "type": "scatter",
         "x": [
          18.5
         ],
         "xaxis": "x",
         "y": [
          0.87
         ],
         "yaxis": "y"
        },
        {
         "hovertemplate": "SYMBOL=NTPC<br>CHNG=%{x}<br>%CHNG=%{y}<extra></extra>",
         "legendgroup": "NTPC",
         "marker": {
          "color": "#511CFB",
          "symbol": "circle"
         },
         "mode": "markers",
         "name": "NTPC",
         "orientation": "v",
         "showlegend": true,
         "type": "scatter",
         "x": [
          1.3
         ],
         "xaxis": "x",
         "y": [
          0.85
         ],
         "yaxis": "y"
        },
        {
         "hovertemplate": "SYMBOL=HINDALCO<br>CHNG=%{x}<br>%CHNG=%{y}<extra></extra>",
         "legendgroup": "HINDALCO",
         "marker": {
          "color": "#00A08B",
          "symbol": "circle"
         },
         "mode": "markers",
         "name": "HINDALCO",
         "orientation": "v",
         "showlegend": true,
         "type": "scatter",
         "x": [
          3.4
         ],
         "xaxis": "x",
         "y": [
          0.63
         ],
         "yaxis": "y"
        },
        {
         "hovertemplate": "SYMBOL=LT<br>CHNG=%{x}<br>%CHNG=%{y}<extra></extra>",
         "legendgroup": "LT",
         "marker": {
          "color": "#FB00D1",
          "symbol": "circle"
         },
         "mode": "markers",
         "name": "LT",
         "orientation": "v",
         "showlegend": true,
         "type": "scatter",
         "x": [
          10.85
         ],
         "xaxis": "x",
         "y": [
          0.62
         ],
         "yaxis": "y"
        },
        {
         "hovertemplate": "SYMBOL=BAJFINANCE<br>CHNG=%{x}<br>%CHNG=%{y}<extra></extra>",
         "legendgroup": "BAJFINANCE",
         "marker": {
          "color": "#FC0080",
          "symbol": "circle"
         },
         "mode": "markers",
         "name": "BAJFINANCE",
         "orientation": "v",
         "showlegend": true,
         "type": "scatter",
         "x": [
          40.55
         ],
         "xaxis": "x",
         "y": [
          0.56
         ],
         "yaxis": "y"
        },
        {
         "hovertemplate": "SYMBOL=DIVISLAB<br>CHNG=%{x}<br>%CHNG=%{y}<extra></extra>",
         "legendgroup": "DIVISLAB",
         "marker": {
          "color": "#B2828D",
          "symbol": "circle"
         },
         "mode": "markers",
         "name": "DIVISLAB",
         "orientation": "v",
         "showlegend": true,
         "type": "scatter",
         "x": [
          23.6
         ],
         "xaxis": "x",
         "y": [
          0.53
         ],
         "yaxis": "y"
        },
        {
         "hovertemplate": "SYMBOL=TATACONSUM<br>CHNG=%{x}<br>%CHNG=%{y}<extra></extra>",
         "legendgroup": "TATACONSUM",
         "marker": {
          "color": "#6C7C32",
          "symbol": "circle"
         },
         "mode": "markers",
         "name": "TATACONSUM",
         "orientation": "v",
         "showlegend": true,
         "type": "scatter",
         "x": [
          4.1
         ],
         "xaxis": "x",
         "y": [
          0.5
         ],
         "yaxis": "y"
        },
        {
         "hovertemplate": "SYMBOL=INFY<br>CHNG=%{x}<br>%CHNG=%{y}<extra></extra>",
         "legendgroup": "INFY",
         "marker": {
          "color": "#778AAE",
          "symbol": "circle"
         },
         "mode": "markers",
         "name": "INFY",
         "orientation": "v",
         "showlegend": true,
         "type": "scatter",
         "x": [
          8.55
         ],
         "xaxis": "x",
         "y": [
          0.49
         ],
         "yaxis": "y"
        },
        {
         "hovertemplate": "SYMBOL=HDFCLIFE<br>CHNG=%{x}<br>%CHNG=%{y}<extra></extra>",
         "legendgroup": "HDFCLIFE",
         "marker": {
          "color": "#862A16",
          "symbol": "circle"
         },
         "mode": "markers",
         "name": "HDFCLIFE",
         "orientation": "v",
         "showlegend": true,
         "type": "scatter",
         "x": [
          2.75
         ],
         "xaxis": "x",
         "y": [
          0.49
         ],
         "yaxis": "y"
        },
        {
         "hovertemplate": "SYMBOL=M&M<br>CHNG=%{x}<br>%CHNG=%{y}<extra></extra>",
         "legendgroup": "M&M",
         "marker": {
          "color": "#A777F1",
          "symbol": "circle"
         },
         "mode": "markers",
         "name": "M&M",
         "orientation": "v",
         "showlegend": true,
         "type": "scatter",
         "x": [
          4.2
         ],
         "xaxis": "x",
         "y": [
          0.49
         ],
         "yaxis": "y"
        },
        {
         "hovertemplate": "SYMBOL=GRASIM<br>CHNG=%{x}<br>%CHNG=%{y}<extra></extra>",
         "legendgroup": "GRASIM",
         "marker": {
          "color": "#620042",
          "symbol": "circle"
         },
         "mode": "markers",
         "name": "GRASIM",
         "orientation": "v",
         "showlegend": true,
         "type": "scatter",
         "x": [
          8.3
         ],
         "xaxis": "x",
         "y": [
          0.47
         ],
         "yaxis": "y"
        },
        {
         "hovertemplate": "SYMBOL=WIPRO<br>CHNG=%{x}<br>%CHNG=%{y}<extra></extra>",
         "legendgroup": "WIPRO",
         "marker": {
          "color": "#1616A7",
          "symbol": "circle"
         },
         "mode": "markers",
         "name": "WIPRO",
         "orientation": "v",
         "showlegend": true,
         "type": "scatter",
         "x": [
          1.1
         ],
         "xaxis": "x",
         "y": [
          0.2
         ],
         "yaxis": "y"
        },
        {
         "hovertemplate": "SYMBOL=COALINDIA<br>CHNG=%{x}<br>%CHNG=%{y}<extra></extra>",
         "legendgroup": "COALINDIA",
         "marker": {
          "color": "#DA60CA",
          "symbol": "circle"
         },
         "mode": "markers",
         "name": "COALINDIA",
         "orientation": "v",
         "showlegend": true,
         "type": "scatter",
         "x": [
          0.35
         ],
         "xaxis": "x",
         "y": [
          0.19
         ],
         "yaxis": "y"
        },
        {
         "hovertemplate": "SYMBOL=BRITANNIA<br>CHNG=%{x}<br>%CHNG=%{y}<extra></extra>",
         "legendgroup": "BRITANNIA",
         "marker": {
          "color": "#6C4516",
          "symbol": "circle"
         },
         "mode": "markers",
         "name": "BRITANNIA",
         "orientation": "v",
         "showlegend": true,
         "type": "scatter",
         "x": [
          1.85
         ],
         "xaxis": "x",
         "y": [
          0.06
         ],
         "yaxis": "y"
        },
        {
         "hovertemplate": "SYMBOL=INDUSINDBK<br>CHNG=%{x}<br>%CHNG=%{y}<extra></extra>",
         "legendgroup": "INDUSINDBK",
         "marker": {
          "color": "#0D2A63",
          "symbol": "circle"
         },
         "mode": "markers",
         "name": "INDUSINDBK",
         "orientation": "v",
         "showlegend": true,
         "type": "scatter",
         "x": [
          -1.2
         ],
         "xaxis": "x",
         "y": [
          -0.12
         ],
         "yaxis": "y"
        },
        {
         "hovertemplate": "SYMBOL=BHARTIARTL<br>CHNG=%{x}<br>%CHNG=%{y}<extra></extra>",
         "legendgroup": "BHARTIARTL",
         "marker": {
          "color": "#AF0038",
          "symbol": "circle"
         },
         "mode": "markers",
         "name": "BHARTIARTL",
         "orientation": "v",
         "showlegend": true,
         "type": "scatter",
         "x": [
          -1.75
         ],
         "xaxis": "x",
         "y": [
          -0.24
         ],
         "yaxis": "y"
        },
        {
         "hovertemplate": "SYMBOL=SBILIFE<br>CHNG=%{x}<br>%CHNG=%{y}<extra></extra>",
         "legendgroup": "SBILIFE",
         "marker": {
          "color": "#2E91E5",
          "symbol": "circle"
         },
         "mode": "markers",
         "name": "SBILIFE",
         "orientation": "v",
         "showlegend": true,
         "type": "scatter",
         "x": [
          -3
         ],
         "xaxis": "x",
         "y": [
          -0.26
         ],
         "yaxis": "y"
        },
        {
         "hovertemplate": "SYMBOL=ICICIBANK<br>CHNG=%{x}<br>%CHNG=%{y}<extra></extra>",
         "legendgroup": "ICICIBANK",
         "marker": {
          "color": "#E15F99",
          "symbol": "circle"
         },
         "mode": "markers",
         "name": "ICICIBANK",
         "orientation": "v",
         "showlegend": true,
         "type": "scatter",
         "x": [
          -2.3
         ],
         "xaxis": "x",
         "y": [
          -0.3
         ],
         "yaxis": "y"
        },
        {
         "hovertemplate": "SYMBOL=TATASTEEL<br>CHNG=%{x}<br>%CHNG=%{y}<extra></extra>",
         "legendgroup": "TATASTEEL",
         "marker": {
          "color": "#1CA71C",
          "symbol": "circle"
         },
         "mode": "markers",
         "name": "TATASTEEL",
         "orientation": "v",
         "showlegend": true,
         "type": "scatter",
         "x": [
          -4.2
         ],
         "xaxis": "x",
         "y": [
          -0.32
         ],
         "yaxis": "y"
        },
        {
         "hovertemplate": "SYMBOL=RELIANCE<br>CHNG=%{x}<br>%CHNG=%{y}<extra></extra>",
         "legendgroup": "RELIANCE",
         "marker": {
          "color": "#FB0D0D",
          "symbol": "circle"
         },
         "mode": "markers",
         "name": "RELIANCE",
         "orientation": "v",
         "showlegend": true,
         "type": "scatter",
         "x": [
          -9.15
         ],
         "xaxis": "x",
         "y": [
          -0.36
         ],
         "yaxis": "y"
        },
        {
         "hovertemplate": "SYMBOL=HCLTECH<br>CHNG=%{x}<br>%CHNG=%{y}<extra></extra>",
         "legendgroup": "HCLTECH",
         "marker": {
          "color": "#DA16FF",
          "symbol": "circle"
         },
         "mode": "markers",
         "name": "HCLTECH",
         "orientation": "v",
         "showlegend": true,
         "type": "scatter",
         "x": [
          -4.15
         ],
         "xaxis": "x",
         "y": [
          -0.37
         ],
         "yaxis": "y"
        },
        {
         "hovertemplate": "SYMBOL=TECHM<br>CHNG=%{x}<br>%CHNG=%{y}<extra></extra>",
         "legendgroup": "TECHM",
         "marker": {
          "color": "#222A2A",
          "symbol": "circle"
         },
         "mode": "markers",
         "name": "TECHM",
         "orientation": "v",
         "showlegend": true,
         "type": "scatter",
         "x": [
          -5.55
         ],
         "xaxis": "x",
         "y": [
          -0.39
         ],
         "yaxis": "y"
        },
        {
         "hovertemplate": "SYMBOL=BAJAJ-AUTO<br>CHNG=%{x}<br>%CHNG=%{y}<extra></extra>",
         "legendgroup": "BAJAJ-AUTO",
         "marker": {
          "color": "#B68100",
          "symbol": "circle"
         },
         "mode": "markers",
         "name": "BAJAJ-AUTO",
         "orientation": "v",
         "showlegend": true,
         "type": "scatter",
         "x": [
          -17.4
         ],
         "xaxis": "x",
         "y": [
          -0.47
         ],
         "yaxis": "y"
        },
        {
         "hovertemplate": "SYMBOL=BPCL<br>CHNG=%{x}<br>%CHNG=%{y}<extra></extra>",
         "legendgroup": "BPCL",
         "marker": {
          "color": "#750D86",
          "symbol": "circle"
         },
         "mode": "markers",
         "name": "BPCL",
         "orientation": "v",
         "showlegend": true,
         "type": "scatter",
         "x": [
          -2.1
         ],
         "xaxis": "x",
         "y": [
          -0.55
         ],
         "yaxis": "y"
        },
        {
         "hovertemplate": "SYMBOL=TCS<br>CHNG=%{x}<br>%CHNG=%{y}<extra></extra>",
         "legendgroup": "TCS",
         "marker": {
          "color": "#EB663B",
          "symbol": "circle"
         },
         "mode": "markers",
         "name": "TCS",
         "orientation": "v",
         "showlegend": true,
         "type": "scatter",
         "x": [
          -26.15
         ],
         "xaxis": "x",
         "y": [
          -0.71
         ],
         "yaxis": "y"
        },
        {
         "hovertemplate": "SYMBOL=NESTLEIND<br>CHNG=%{x}<br>%CHNG=%{y}<extra></extra>",
         "legendgroup": "NESTLEIND",
         "marker": {
          "color": "#511CFB",
          "symbol": "circle"
         },
         "mode": "markers",
         "name": "NESTLEIND",
         "orientation": "v",
         "showlegend": true,
         "type": "scatter",
         "x": [
          -136.8
         ],
         "xaxis": "x",
         "y": [
          -0.74
         ],
         "yaxis": "y"
        },
        {
         "hovertemplate": "SYMBOL=ADANIPORTS<br>CHNG=%{x}<br>%CHNG=%{y}<extra></extra>",
         "legendgroup": "ADANIPORTS",
         "marker": {
          "color": "#00A08B",
          "symbol": "circle"
         },
         "mode": "markers",
         "name": "ADANIPORTS",
         "orientation": "v",
         "showlegend": true,
         "type": "scatter",
         "x": [
          -6.75
         ],
         "xaxis": "x",
         "y": [
          -0.8
         ],
         "yaxis": "y"
        },
        {
         "hovertemplate": "SYMBOL=AXISBANK<br>CHNG=%{x}<br>%CHNG=%{y}<extra></extra>",
         "legendgroup": "AXISBANK",
         "marker": {
          "color": "#FB00D1",
          "symbol": "circle"
         },
         "mode": "markers",
         "name": "AXISBANK",
         "orientation": "v",
         "showlegend": true,
         "type": "scatter",
         "x": [
          -6.45
         ],
         "xaxis": "x",
         "y": [
          -0.81
         ],
         "yaxis": "y"
        },
        {
         "hovertemplate": "SYMBOL=ULTRACEMCO<br>CHNG=%{x}<br>%CHNG=%{y}<extra></extra>",
         "legendgroup": "ULTRACEMCO",
         "marker": {
          "color": "#FC0080",
          "symbol": "circle"
         },
         "mode": "markers",
         "name": "ULTRACEMCO",
         "orientation": "v",
         "showlegend": true,
         "type": "scatter",
         "x": [
          -61.55
         ],
         "xaxis": "x",
         "y": [
          -0.91
         ],
         "yaxis": "y"
        },
        {
         "hovertemplate": "SYMBOL=CIPLA<br>CHNG=%{x}<br>%CHNG=%{y}<extra></extra>",
         "legendgroup": "CIPLA",
         "marker": {
          "color": "#B2828D",
          "symbol": "circle"
         },
         "mode": "markers",
         "name": "CIPLA",
         "orientation": "v",
         "showlegend": true,
         "type": "scatter",
         "x": [
          -9.9
         ],
         "xaxis": "x",
         "y": [
          -0.96
         ],
         "yaxis": "y"
        },
        {
         "hovertemplate": "SYMBOL=TITAN<br>CHNG=%{x}<br>%CHNG=%{y}<extra></extra>",
         "legendgroup": "TITAN",
         "marker": {
          "color": "#6C7C32",
          "symbol": "circle"
         },
         "mode": "markers",
         "name": "TITAN",
         "orientation": "v",
         "showlegend": true,
         "type": "scatter",
         "x": [
          -26.7
         ],
         "xaxis": "x",
         "y": [
          -1.07
         ],
         "yaxis": "y"
        },
        {
         "hovertemplate": "SYMBOL=HEROMOTOCO<br>CHNG=%{x}<br>%CHNG=%{y}<extra></extra>",
         "legendgroup": "HEROMOTOCO",
         "marker": {
          "color": "#778AAE",
          "symbol": "circle"
         },
         "mode": "markers",
         "name": "HEROMOTOCO",
         "orientation": "v",
         "showlegend": true,
         "type": "scatter",
         "x": [
          -25.35
         ],
         "xaxis": "x",
         "y": [
          -1.1
         ],
         "yaxis": "y"
        },
        {
         "hovertemplate": "SYMBOL=KOTAKBANK<br>CHNG=%{x}<br>%CHNG=%{y}<extra></extra>",
         "legendgroup": "KOTAKBANK",
         "marker": {
          "color": "#862A16",
          "symbol": "circle"
         },
         "mode": "markers",
         "name": "KOTAKBANK",
         "orientation": "v",
         "showlegend": true,
         "type": "scatter",
         "x": [
          -21.85
         ],
         "xaxis": "x",
         "y": [
          -1.21
         ],
         "yaxis": "y"
        },
        {
         "hovertemplate": "SYMBOL=BAJAJFINSV<br>CHNG=%{x}<br>%CHNG=%{y}<extra></extra>",
         "legendgroup": "BAJAJFINSV",
         "marker": {
          "color": "#A777F1",
          "symbol": "circle"
         },
         "mode": "markers",
         "name": "BAJAJFINSV",
         "orientation": "v",
         "showlegend": true,
         "type": "scatter",
         "x": [
          -221.1
         ],
         "xaxis": "x",
         "y": [
          -1.35
         ],
         "yaxis": "y"
        },
        {
         "hovertemplate": "SYMBOL=POWERGRID<br>CHNG=%{x}<br>%CHNG=%{y}<extra></extra>",
         "legendgroup": "POWERGRID",
         "marker": {
          "color": "#620042",
          "symbol": "circle"
         },
         "mode": "markers",
         "name": "POWERGRID",
         "orientation": "v",
         "showlegend": true,
         "type": "scatter",
         "x": [
          -3.25
         ],
         "xaxis": "x",
         "y": [
          -1.39
         ],
         "yaxis": "y"
        },
        {
         "hovertemplate": "SYMBOL=ASIANPAINT<br>CHNG=%{x}<br>%CHNG=%{y}<extra></extra>",
         "legendgroup": "ASIANPAINT",
         "marker": {
          "color": "#1616A7",
          "symbol": "circle"
         },
         "mode": "markers",
         "name": "ASIANPAINT",
         "orientation": "v",
         "showlegend": true,
         "type": "scatter",
         "x": [
          -44.65
         ],
         "xaxis": "x",
         "y": [
          -1.43
         ],
         "yaxis": "y"
        },
        {
         "hovertemplate": "SYMBOL=EICHERMOT<br>CHNG=%{x}<br>%CHNG=%{y}<extra></extra>",
         "legendgroup": "EICHERMOT",
         "marker": {
          "color": "#DA60CA",
          "symbol": "circle"
         },
         "mode": "markers",
         "name": "EICHERMOT",
         "orientation": "v",
         "showlegend": true,
         "type": "scatter",
         "x": [
          -37.8
         ],
         "xaxis": "x",
         "y": [
          -1.5
         ],
         "yaxis": "y"
        },
        {
         "hovertemplate": "SYMBOL=TATAMOTORS<br>CHNG=%{x}<br>%CHNG=%{y}<extra></extra>",
         "legendgroup": "TATAMOTORS",
         "marker": {
          "color": "#6C4516",
          "symbol": "circle"
         },
         "mode": "markers",
         "name": "TATAMOTORS",
         "orientation": "v",
         "showlegend": true,
         "type": "scatter",
         "x": [
          -6.8
         ],
         "xaxis": "x",
         "y": [
          -1.55
         ],
         "yaxis": "y"
        },
        {
         "hovertemplate": "SYMBOL=DRREDDY<br>CHNG=%{x}<br>%CHNG=%{y}<extra></extra>",
         "legendgroup": "DRREDDY",
         "marker": {
          "color": "#0D2A63",
          "symbol": "circle"
         },
         "mode": "markers",
         "name": "DRREDDY",
         "orientation": "v",
         "showlegend": true,
         "type": "scatter",
         "x": [
          -70.35
         ],
         "xaxis": "x",
         "y": [
          -1.61
         ],
         "yaxis": "y"
        },
        {
         "hovertemplate": "SYMBOL=HDFCBANK<br>CHNG=%{x}<br>%CHNG=%{y}<extra></extra>",
         "legendgroup": "HDFCBANK",
         "marker": {
          "color": "#AF0038",
          "symbol": "circle"
         },
         "mode": "markers",
         "name": "HDFCBANK",
         "orientation": "v",
         "showlegend": true,
         "type": "scatter",
         "x": [
          -29.5
         ],
         "xaxis": "x",
         "y": [
          -1.98
         ],
         "yaxis": "y"
        },
        {
         "hovertemplate": "SYMBOL=HDFC<br>CHNG=%{x}<br>%CHNG=%{y}<extra></extra>",
         "legendgroup": "HDFC",
         "marker": {
          "color": "#2E91E5",
          "symbol": "circle"
         },
         "mode": "markers",
         "name": "HDFC",
         "orientation": "v",
         "showlegend": true,
         "type": "scatter",
         "x": [
          -54.15
         ],
         "xaxis": "x",
         "y": [
          -2.23
         ],
         "yaxis": "y"
        },
        {
         "hovertemplate": "SYMBOL=MARUTI<br>CHNG=%{x}<br>%CHNG=%{y}<extra></extra>",
         "legendgroup": "MARUTI",
         "marker": {
          "color": "#E15F99",
          "symbol": "circle"
         },
         "mode": "markers",
         "name": "MARUTI",
         "orientation": "v",
         "showlegend": true,
         "type": "scatter",
         "x": [
          -173.35
         ],
         "xaxis": "x",
         "y": [
          -2.28
         ],
         "yaxis": "y"
        }
       ],
       "layout": {
        "legend": {
         "title": {
          "text": "SYMBOL"
         },
         "tracegroupgap": 0
        },
        "margin": {
         "t": 60
        },
        "template": {
         "data": {
          "bar": [
           {
            "error_x": {
             "color": "#2a3f5f"
            },
            "error_y": {
             "color": "#2a3f5f"
            },
            "marker": {
             "line": {
              "color": "#E5ECF6",
              "width": 0.5
             },
             "pattern": {
              "fillmode": "overlay",
              "size": 10,
              "solidity": 0.2
             }
            },
            "type": "bar"
           }
          ],
          "barpolar": [
           {
            "marker": {
             "line": {
              "color": "#E5ECF6",
              "width": 0.5
             },
             "pattern": {
              "fillmode": "overlay",
              "size": 10,
              "solidity": 0.2
             }
            },
            "type": "barpolar"
           }
          ],
          "carpet": [
           {
            "aaxis": {
             "endlinecolor": "#2a3f5f",
             "gridcolor": "white",
             "linecolor": "white",
             "minorgridcolor": "white",
             "startlinecolor": "#2a3f5f"
            },
            "baxis": {
             "endlinecolor": "#2a3f5f",
             "gridcolor": "white",
             "linecolor": "white",
             "minorgridcolor": "white",
             "startlinecolor": "#2a3f5f"
            },
            "type": "carpet"
           }
          ],
          "choropleth": [
           {
            "colorbar": {
             "outlinewidth": 0,
             "ticks": ""
            },
            "type": "choropleth"
           }
          ],
          "contour": [
           {
            "colorbar": {
             "outlinewidth": 0,
             "ticks": ""
            },
            "colorscale": [
             [
              0,
              "#0d0887"
             ],
             [
              0.1111111111111111,
              "#46039f"
             ],
             [
              0.2222222222222222,
              "#7201a8"
             ],
             [
              0.3333333333333333,
              "#9c179e"
             ],
             [
              0.4444444444444444,
              "#bd3786"
             ],
             [
              0.5555555555555556,
              "#d8576b"
             ],
             [
              0.6666666666666666,
              "#ed7953"
             ],
             [
              0.7777777777777778,
              "#fb9f3a"
             ],
             [
              0.8888888888888888,
              "#fdca26"
             ],
             [
              1,
              "#f0f921"
             ]
            ],
            "type": "contour"
           }
          ],
          "contourcarpet": [
           {
            "colorbar": {
             "outlinewidth": 0,
             "ticks": ""
            },
            "type": "contourcarpet"
           }
          ],
          "heatmap": [
           {
            "colorbar": {
             "outlinewidth": 0,
             "ticks": ""
            },
            "colorscale": [
             [
              0,
              "#0d0887"
             ],
             [
              0.1111111111111111,
              "#46039f"
             ],
             [
              0.2222222222222222,
              "#7201a8"
             ],
             [
              0.3333333333333333,
              "#9c179e"
             ],
             [
              0.4444444444444444,
              "#bd3786"
             ],
             [
              0.5555555555555556,
              "#d8576b"
             ],
             [
              0.6666666666666666,
              "#ed7953"
             ],
             [
              0.7777777777777778,
              "#fb9f3a"
             ],
             [
              0.8888888888888888,
              "#fdca26"
             ],
             [
              1,
              "#f0f921"
             ]
            ],
            "type": "heatmap"
           }
          ],
          "heatmapgl": [
           {
            "colorbar": {
             "outlinewidth": 0,
             "ticks": ""
            },
            "colorscale": [
             [
              0,
              "#0d0887"
             ],
             [
              0.1111111111111111,
              "#46039f"
             ],
             [
              0.2222222222222222,
              "#7201a8"
             ],
             [
              0.3333333333333333,
              "#9c179e"
             ],
             [
              0.4444444444444444,
              "#bd3786"
             ],
             [
              0.5555555555555556,
              "#d8576b"
             ],
             [
              0.6666666666666666,
              "#ed7953"
             ],
             [
              0.7777777777777778,
              "#fb9f3a"
             ],
             [
              0.8888888888888888,
              "#fdca26"
             ],
             [
              1,
              "#f0f921"
             ]
            ],
            "type": "heatmapgl"
           }
          ],
          "histogram": [
           {
            "marker": {
             "pattern": {
              "fillmode": "overlay",
              "size": 10,
              "solidity": 0.2
             }
            },
            "type": "histogram"
           }
          ],
          "histogram2d": [
           {
            "colorbar": {
             "outlinewidth": 0,
             "ticks": ""
            },
            "colorscale": [
             [
              0,
              "#0d0887"
             ],
             [
              0.1111111111111111,
              "#46039f"
             ],
             [
              0.2222222222222222,
              "#7201a8"
             ],
             [
              0.3333333333333333,
              "#9c179e"
             ],
             [
              0.4444444444444444,
              "#bd3786"
             ],
             [
              0.5555555555555556,
              "#d8576b"
             ],
             [
              0.6666666666666666,
              "#ed7953"
             ],
             [
              0.7777777777777778,
              "#fb9f3a"
             ],
             [
              0.8888888888888888,
              "#fdca26"
             ],
             [
              1,
              "#f0f921"
             ]
            ],
            "type": "histogram2d"
           }
          ],
          "histogram2dcontour": [
           {
            "colorbar": {
             "outlinewidth": 0,
             "ticks": ""
            },
            "colorscale": [
             [
              0,
              "#0d0887"
             ],
             [
              0.1111111111111111,
              "#46039f"
             ],
             [
              0.2222222222222222,
              "#7201a8"
             ],
             [
              0.3333333333333333,
              "#9c179e"
             ],
             [
              0.4444444444444444,
              "#bd3786"
             ],
             [
              0.5555555555555556,
              "#d8576b"
             ],
             [
              0.6666666666666666,
              "#ed7953"
             ],
             [
              0.7777777777777778,
              "#fb9f3a"
             ],
             [
              0.8888888888888888,
              "#fdca26"
             ],
             [
              1,
              "#f0f921"
             ]
            ],
            "type": "histogram2dcontour"
           }
          ],
          "mesh3d": [
           {
            "colorbar": {
             "outlinewidth": 0,
             "ticks": ""
            },
            "type": "mesh3d"
           }
          ],
          "parcoords": [
           {
            "line": {
             "colorbar": {
              "outlinewidth": 0,
              "ticks": ""
             }
            },
            "type": "parcoords"
           }
          ],
          "pie": [
           {
            "automargin": true,
            "type": "pie"
           }
          ],
          "scatter": [
           {
            "fillpattern": {
             "fillmode": "overlay",
             "size": 10,
             "solidity": 0.2
            },
            "type": "scatter"
           }
          ],
          "scatter3d": [
           {
            "line": {
             "colorbar": {
              "outlinewidth": 0,
              "ticks": ""
             }
            },
            "marker": {
             "colorbar": {
              "outlinewidth": 0,
              "ticks": ""
             }
            },
            "type": "scatter3d"
           }
          ],
          "scattercarpet": [
           {
            "marker": {
             "colorbar": {
              "outlinewidth": 0,
              "ticks": ""
             }
            },
            "type": "scattercarpet"
           }
          ],
          "scattergeo": [
           {
            "marker": {
             "colorbar": {
              "outlinewidth": 0,
              "ticks": ""
             }
            },
            "type": "scattergeo"
           }
          ],
          "scattergl": [
           {
            "marker": {
             "colorbar": {
              "outlinewidth": 0,
              "ticks": ""
             }
            },
            "type": "scattergl"
           }
          ],
          "scattermapbox": [
           {
            "marker": {
             "colorbar": {
              "outlinewidth": 0,
              "ticks": ""
             }
            },
            "type": "scattermapbox"
           }
          ],
          "scatterpolar": [
           {
            "marker": {
             "colorbar": {
              "outlinewidth": 0,
              "ticks": ""
             }
            },
            "type": "scatterpolar"
           }
          ],
          "scatterpolargl": [
           {
            "marker": {
             "colorbar": {
              "outlinewidth": 0,
              "ticks": ""
             }
            },
            "type": "scatterpolargl"
           }
          ],
          "scatterternary": [
           {
            "marker": {
             "colorbar": {
              "outlinewidth": 0,
              "ticks": ""
             }
            },
            "type": "scatterternary"
           }
          ],
          "surface": [
           {
            "colorbar": {
             "outlinewidth": 0,
             "ticks": ""
            },
            "colorscale": [
             [
              0,
              "#0d0887"
             ],
             [
              0.1111111111111111,
              "#46039f"
             ],
             [
              0.2222222222222222,
              "#7201a8"
             ],
             [
              0.3333333333333333,
              "#9c179e"
             ],
             [
              0.4444444444444444,
              "#bd3786"
             ],
             [
              0.5555555555555556,
              "#d8576b"
             ],
             [
              0.6666666666666666,
              "#ed7953"
             ],
             [
              0.7777777777777778,
              "#fb9f3a"
             ],
             [
              0.8888888888888888,
              "#fdca26"
             ],
             [
              1,
              "#f0f921"
             ]
            ],
            "type": "surface"
           }
          ],
          "table": [
           {
            "cells": {
             "fill": {
              "color": "#EBF0F8"
             },
             "line": {
              "color": "white"
             }
            },
            "header": {
             "fill": {
              "color": "#C8D4E3"
             },
             "line": {
              "color": "white"
             }
            },
            "type": "table"
           }
          ]
         },
         "layout": {
          "annotationdefaults": {
           "arrowcolor": "#2a3f5f",
           "arrowhead": 0,
           "arrowwidth": 1
          },
          "autotypenumbers": "strict",
          "coloraxis": {
           "colorbar": {
            "outlinewidth": 0,
            "ticks": ""
           }
          },
          "colorscale": {
           "diverging": [
            [
             0,
             "#8e0152"
            ],
            [
             0.1,
             "#c51b7d"
            ],
            [
             0.2,
             "#de77ae"
            ],
            [
             0.3,
             "#f1b6da"
            ],
            [
             0.4,
             "#fde0ef"
            ],
            [
             0.5,
             "#f7f7f7"
            ],
            [
             0.6,
             "#e6f5d0"
            ],
            [
             0.7,
             "#b8e186"
            ],
            [
             0.8,
             "#7fbc41"
            ],
            [
             0.9,
             "#4d9221"
            ],
            [
             1,
             "#276419"
            ]
           ],
           "sequential": [
            [
             0,
             "#0d0887"
            ],
            [
             0.1111111111111111,
             "#46039f"
            ],
            [
             0.2222222222222222,
             "#7201a8"
            ],
            [
             0.3333333333333333,
             "#9c179e"
            ],
            [
             0.4444444444444444,
             "#bd3786"
            ],
            [
             0.5555555555555556,
             "#d8576b"
            ],
            [
             0.6666666666666666,
             "#ed7953"
            ],
            [
             0.7777777777777778,
             "#fb9f3a"
            ],
            [
             0.8888888888888888,
             "#fdca26"
            ],
            [
             1,
             "#f0f921"
            ]
           ],
           "sequentialminus": [
            [
             0,
             "#0d0887"
            ],
            [
             0.1111111111111111,
             "#46039f"
            ],
            [
             0.2222222222222222,
             "#7201a8"
            ],
            [
             0.3333333333333333,
             "#9c179e"
            ],
            [
             0.4444444444444444,
             "#bd3786"
            ],
            [
             0.5555555555555556,
             "#d8576b"
            ],
            [
             0.6666666666666666,
             "#ed7953"
            ],
            [
             0.7777777777777778,
             "#fb9f3a"
            ],
            [
             0.8888888888888888,
             "#fdca26"
            ],
            [
             1,
             "#f0f921"
            ]
           ]
          },
          "colorway": [
           "#636efa",
           "#EF553B",
           "#00cc96",
           "#ab63fa",
           "#FFA15A",
           "#19d3f3",
           "#FF6692",
           "#B6E880",
           "#FF97FF",
           "#FECB52"
          ],
          "font": {
           "color": "#2a3f5f"
          },
          "geo": {
           "bgcolor": "white",
           "lakecolor": "white",
           "landcolor": "#E5ECF6",
           "showlakes": true,
           "showland": true,
           "subunitcolor": "white"
          },
          "hoverlabel": {
           "align": "left"
          },
          "hovermode": "closest",
          "mapbox": {
           "style": "light"
          },
          "paper_bgcolor": "white",
          "plot_bgcolor": "#E5ECF6",
          "polar": {
           "angularaxis": {
            "gridcolor": "white",
            "linecolor": "white",
            "ticks": ""
           },
           "bgcolor": "#E5ECF6",
           "radialaxis": {
            "gridcolor": "white",
            "linecolor": "white",
            "ticks": ""
           }
          },
          "scene": {
           "xaxis": {
            "backgroundcolor": "#E5ECF6",
            "gridcolor": "white",
            "gridwidth": 2,
            "linecolor": "white",
            "showbackground": true,
            "ticks": "",
            "zerolinecolor": "white"
           },
           "yaxis": {
            "backgroundcolor": "#E5ECF6",
            "gridcolor": "white",
            "gridwidth": 2,
            "linecolor": "white",
            "showbackground": true,
            "ticks": "",
            "zerolinecolor": "white"
           },
           "zaxis": {
            "backgroundcolor": "#E5ECF6",
            "gridcolor": "white",
            "gridwidth": 2,
            "linecolor": "white",
            "showbackground": true,
            "ticks": "",
            "zerolinecolor": "white"
           }
          },
          "shapedefaults": {
           "line": {
            "color": "#2a3f5f"
           }
          },
          "ternary": {
           "aaxis": {
            "gridcolor": "white",
            "linecolor": "white",
            "ticks": ""
           },
           "baxis": {
            "gridcolor": "white",
            "linecolor": "white",
            "ticks": ""
           },
           "bgcolor": "#E5ECF6",
           "caxis": {
            "gridcolor": "white",
            "linecolor": "white",
            "ticks": ""
           }
          },
          "title": {
           "x": 0.05
          },
          "xaxis": {
           "automargin": true,
           "gridcolor": "white",
           "linecolor": "white",
           "ticks": "",
           "title": {
            "standoff": 15
           },
           "zerolinecolor": "white",
           "zerolinewidth": 2
          },
          "yaxis": {
           "automargin": true,
           "gridcolor": "white",
           "linecolor": "white",
           "ticks": "",
           "title": {
            "standoff": 15
           },
           "zerolinecolor": "white",
           "zerolinewidth": 2
          }
         }
        },
        "xaxis": {
         "anchor": "y",
         "domain": [
          0,
          1
         ],
         "title": {
          "text": "CHNG"
         }
        },
        "yaxis": {
         "anchor": "x",
         "domain": [
          0,
          1
         ],
         "title": {
          "text": "%CHNG"
         }
        }
       }
      },
      "text/html": [
       "<div>                            <div id=\"4ee31cb8-1086-4821-9f8a-58416c88945b\" class=\"plotly-graph-div\" style=\"height:525px; width:100%;\"></div>            <script type=\"text/javascript\">                require([\"plotly\"], function(Plotly) {                    window.PLOTLYENV=window.PLOTLYENV || {};                                    if (document.getElementById(\"4ee31cb8-1086-4821-9f8a-58416c88945b\")) {                    Plotly.newPlot(                        \"4ee31cb8-1086-4821-9f8a-58416c88945b\",                        [{\"hovertemplate\":\"SYMBOL=ONGC<br>CHNG=%{x}<br>%CHNG=%{y}<extra></extra>\",\"legendgroup\":\"ONGC\",\"marker\":{\"color\":\"#2E91E5\",\"symbol\":\"circle\"},\"mode\":\"markers\",\"name\":\"ONGC\",\"orientation\":\"v\",\"showlegend\":true,\"x\":[5.05],\"xaxis\":\"x\",\"y\":[2.99],\"yaxis\":\"y\",\"type\":\"scatter\"},{\"hovertemplate\":\"SYMBOL=APOLLOHOSP<br>CHNG=%{x}<br>%CHNG=%{y}<extra></extra>\",\"legendgroup\":\"APOLLOHOSP\",\"marker\":{\"color\":\"#E15F99\",\"symbol\":\"circle\"},\"mode\":\"markers\",\"name\":\"APOLLOHOSP\",\"orientation\":\"v\",\"showlegend\":true,\"x\":[108.75],\"xaxis\":\"x\",\"y\":[2.35],\"yaxis\":\"y\",\"type\":\"scatter\"},{\"hovertemplate\":\"SYMBOL=UPL<br>CHNG=%{x}<br>%CHNG=%{y}<extra></extra>\",\"legendgroup\":\"UPL\",\"marker\":{\"color\":\"#1CA71C\",\"symbol\":\"circle\"},\"mode\":\"markers\",\"name\":\"UPL\",\"orientation\":\"v\",\"showlegend\":true,\"x\":[13.85],\"xaxis\":\"x\",\"y\":[1.72],\"yaxis\":\"y\",\"type\":\"scatter\"},{\"hovertemplate\":\"SYMBOL=ITC<br>CHNG=%{x}<br>%CHNG=%{y}<extra></extra>\",\"legendgroup\":\"ITC\",\"marker\":{\"color\":\"#FB0D0D\",\"symbol\":\"circle\"},\"mode\":\"markers\",\"name\":\"ITC\",\"orientation\":\"v\",\"showlegend\":true,\"x\":[4.3],\"xaxis\":\"x\",\"y\":[1.62],\"yaxis\":\"y\",\"type\":\"scatter\"},{\"hovertemplate\":\"SYMBOL=SUNPHARMA<br>CHNG=%{x}<br>%CHNG=%{y}<extra></extra>\",\"legendgroup\":\"SUNPHARMA\",\"marker\":{\"color\":\"#DA16FF\",\"symbol\":\"circle\"},\"mode\":\"markers\",\"name\":\"SUNPHARMA\",\"orientation\":\"v\",\"showlegend\":true,\"x\":[13.95],\"xaxis\":\"x\",\"y\":[1.51],\"yaxis\":\"y\",\"type\":\"scatter\"},{\"hovertemplate\":\"SYMBOL=JSWSTEEL<br>CHNG=%{x}<br>%CHNG=%{y}<extra></extra>\",\"legendgroup\":\"JSWSTEEL\",\"marker\":{\"color\":\"#222A2A\",\"symbol\":\"circle\"},\"mode\":\"markers\",\"name\":\"JSWSTEEL\",\"orientation\":\"v\",\"showlegend\":true,\"x\":[8.55],\"xaxis\":\"x\",\"y\":[1.13],\"yaxis\":\"y\",\"type\":\"scatter\"},{\"hovertemplate\":\"SYMBOL=SBIN<br>CHNG=%{x}<br>%CHNG=%{y}<extra></extra>\",\"legendgroup\":\"SBIN\",\"marker\":{\"color\":\"#B68100\",\"symbol\":\"circle\"},\"mode\":\"markers\",\"name\":\"SBIN\",\"orientation\":\"v\",\"showlegend\":true,\"x\":[4.85],\"xaxis\":\"x\",\"y\":[0.95],\"yaxis\":\"y\",\"type\":\"scatter\"},{\"hovertemplate\":\"SYMBOL=SHREECEM<br>CHNG=%{x}<br>%CHNG=%{y}<extra></extra>\",\"legendgroup\":\"SHREECEM\",\"marker\":{\"color\":\"#750D86\",\"symbol\":\"circle\"},\"mode\":\"markers\",\"name\":\"SHREECEM\",\"orientation\":\"v\",\"showlegend\":true,\"x\":[237.35],\"xaxis\":\"x\",\"y\":[0.94],\"yaxis\":\"y\",\"type\":\"scatter\"},{\"hovertemplate\":\"SYMBOL=HINDUNILVR<br>CHNG=%{x}<br>%CHNG=%{y}<extra></extra>\",\"legendgroup\":\"HINDUNILVR\",\"marker\":{\"color\":\"#EB663B\",\"symbol\":\"circle\"},\"mode\":\"markers\",\"name\":\"HINDUNILVR\",\"orientation\":\"v\",\"showlegend\":true,\"x\":[18.5],\"xaxis\":\"x\",\"y\":[0.87],\"yaxis\":\"y\",\"type\":\"scatter\"},{\"hovertemplate\":\"SYMBOL=NTPC<br>CHNG=%{x}<br>%CHNG=%{y}<extra></extra>\",\"legendgroup\":\"NTPC\",\"marker\":{\"color\":\"#511CFB\",\"symbol\":\"circle\"},\"mode\":\"markers\",\"name\":\"NTPC\",\"orientation\":\"v\",\"showlegend\":true,\"x\":[1.3],\"xaxis\":\"x\",\"y\":[0.85],\"yaxis\":\"y\",\"type\":\"scatter\"},{\"hovertemplate\":\"SYMBOL=HINDALCO<br>CHNG=%{x}<br>%CHNG=%{y}<extra></extra>\",\"legendgroup\":\"HINDALCO\",\"marker\":{\"color\":\"#00A08B\",\"symbol\":\"circle\"},\"mode\":\"markers\",\"name\":\"HINDALCO\",\"orientation\":\"v\",\"showlegend\":true,\"x\":[3.4],\"xaxis\":\"x\",\"y\":[0.63],\"yaxis\":\"y\",\"type\":\"scatter\"},{\"hovertemplate\":\"SYMBOL=LT<br>CHNG=%{x}<br>%CHNG=%{y}<extra></extra>\",\"legendgroup\":\"LT\",\"marker\":{\"color\":\"#FB00D1\",\"symbol\":\"circle\"},\"mode\":\"markers\",\"name\":\"LT\",\"orientation\":\"v\",\"showlegend\":true,\"x\":[10.85],\"xaxis\":\"x\",\"y\":[0.62],\"yaxis\":\"y\",\"type\":\"scatter\"},{\"hovertemplate\":\"SYMBOL=BAJFINANCE<br>CHNG=%{x}<br>%CHNG=%{y}<extra></extra>\",\"legendgroup\":\"BAJFINANCE\",\"marker\":{\"color\":\"#FC0080\",\"symbol\":\"circle\"},\"mode\":\"markers\",\"name\":\"BAJFINANCE\",\"orientation\":\"v\",\"showlegend\":true,\"x\":[40.55],\"xaxis\":\"x\",\"y\":[0.56],\"yaxis\":\"y\",\"type\":\"scatter\"},{\"hovertemplate\":\"SYMBOL=DIVISLAB<br>CHNG=%{x}<br>%CHNG=%{y}<extra></extra>\",\"legendgroup\":\"DIVISLAB\",\"marker\":{\"color\":\"#B2828D\",\"symbol\":\"circle\"},\"mode\":\"markers\",\"name\":\"DIVISLAB\",\"orientation\":\"v\",\"showlegend\":true,\"x\":[23.6],\"xaxis\":\"x\",\"y\":[0.53],\"yaxis\":\"y\",\"type\":\"scatter\"},{\"hovertemplate\":\"SYMBOL=TATACONSUM<br>CHNG=%{x}<br>%CHNG=%{y}<extra></extra>\",\"legendgroup\":\"TATACONSUM\",\"marker\":{\"color\":\"#6C7C32\",\"symbol\":\"circle\"},\"mode\":\"markers\",\"name\":\"TATACONSUM\",\"orientation\":\"v\",\"showlegend\":true,\"x\":[4.1],\"xaxis\":\"x\",\"y\":[0.5],\"yaxis\":\"y\",\"type\":\"scatter\"},{\"hovertemplate\":\"SYMBOL=INFY<br>CHNG=%{x}<br>%CHNG=%{y}<extra></extra>\",\"legendgroup\":\"INFY\",\"marker\":{\"color\":\"#778AAE\",\"symbol\":\"circle\"},\"mode\":\"markers\",\"name\":\"INFY\",\"orientation\":\"v\",\"showlegend\":true,\"x\":[8.55],\"xaxis\":\"x\",\"y\":[0.49],\"yaxis\":\"y\",\"type\":\"scatter\"},{\"hovertemplate\":\"SYMBOL=HDFCLIFE<br>CHNG=%{x}<br>%CHNG=%{y}<extra></extra>\",\"legendgroup\":\"HDFCLIFE\",\"marker\":{\"color\":\"#862A16\",\"symbol\":\"circle\"},\"mode\":\"markers\",\"name\":\"HDFCLIFE\",\"orientation\":\"v\",\"showlegend\":true,\"x\":[2.75],\"xaxis\":\"x\",\"y\":[0.49],\"yaxis\":\"y\",\"type\":\"scatter\"},{\"hovertemplate\":\"SYMBOL=M&M<br>CHNG=%{x}<br>%CHNG=%{y}<extra></extra>\",\"legendgroup\":\"M&M\",\"marker\":{\"color\":\"#A777F1\",\"symbol\":\"circle\"},\"mode\":\"markers\",\"name\":\"M&M\",\"orientation\":\"v\",\"showlegend\":true,\"x\":[4.2],\"xaxis\":\"x\",\"y\":[0.49],\"yaxis\":\"y\",\"type\":\"scatter\"},{\"hovertemplate\":\"SYMBOL=GRASIM<br>CHNG=%{x}<br>%CHNG=%{y}<extra></extra>\",\"legendgroup\":\"GRASIM\",\"marker\":{\"color\":\"#620042\",\"symbol\":\"circle\"},\"mode\":\"markers\",\"name\":\"GRASIM\",\"orientation\":\"v\",\"showlegend\":true,\"x\":[8.3],\"xaxis\":\"x\",\"y\":[0.47],\"yaxis\":\"y\",\"type\":\"scatter\"},{\"hovertemplate\":\"SYMBOL=WIPRO<br>CHNG=%{x}<br>%CHNG=%{y}<extra></extra>\",\"legendgroup\":\"WIPRO\",\"marker\":{\"color\":\"#1616A7\",\"symbol\":\"circle\"},\"mode\":\"markers\",\"name\":\"WIPRO\",\"orientation\":\"v\",\"showlegend\":true,\"x\":[1.1],\"xaxis\":\"x\",\"y\":[0.2],\"yaxis\":\"y\",\"type\":\"scatter\"},{\"hovertemplate\":\"SYMBOL=COALINDIA<br>CHNG=%{x}<br>%CHNG=%{y}<extra></extra>\",\"legendgroup\":\"COALINDIA\",\"marker\":{\"color\":\"#DA60CA\",\"symbol\":\"circle\"},\"mode\":\"markers\",\"name\":\"COALINDIA\",\"orientation\":\"v\",\"showlegend\":true,\"x\":[0.35],\"xaxis\":\"x\",\"y\":[0.19],\"yaxis\":\"y\",\"type\":\"scatter\"},{\"hovertemplate\":\"SYMBOL=BRITANNIA<br>CHNG=%{x}<br>%CHNG=%{y}<extra></extra>\",\"legendgroup\":\"BRITANNIA\",\"marker\":{\"color\":\"#6C4516\",\"symbol\":\"circle\"},\"mode\":\"markers\",\"name\":\"BRITANNIA\",\"orientation\":\"v\",\"showlegend\":true,\"x\":[1.85],\"xaxis\":\"x\",\"y\":[0.06],\"yaxis\":\"y\",\"type\":\"scatter\"},{\"hovertemplate\":\"SYMBOL=INDUSINDBK<br>CHNG=%{x}<br>%CHNG=%{y}<extra></extra>\",\"legendgroup\":\"INDUSINDBK\",\"marker\":{\"color\":\"#0D2A63\",\"symbol\":\"circle\"},\"mode\":\"markers\",\"name\":\"INDUSINDBK\",\"orientation\":\"v\",\"showlegend\":true,\"x\":[-1.2],\"xaxis\":\"x\",\"y\":[-0.12],\"yaxis\":\"y\",\"type\":\"scatter\"},{\"hovertemplate\":\"SYMBOL=BHARTIARTL<br>CHNG=%{x}<br>%CHNG=%{y}<extra></extra>\",\"legendgroup\":\"BHARTIARTL\",\"marker\":{\"color\":\"#AF0038\",\"symbol\":\"circle\"},\"mode\":\"markers\",\"name\":\"BHARTIARTL\",\"orientation\":\"v\",\"showlegend\":true,\"x\":[-1.75],\"xaxis\":\"x\",\"y\":[-0.24],\"yaxis\":\"y\",\"type\":\"scatter\"},{\"hovertemplate\":\"SYMBOL=SBILIFE<br>CHNG=%{x}<br>%CHNG=%{y}<extra></extra>\",\"legendgroup\":\"SBILIFE\",\"marker\":{\"color\":\"#2E91E5\",\"symbol\":\"circle\"},\"mode\":\"markers\",\"name\":\"SBILIFE\",\"orientation\":\"v\",\"showlegend\":true,\"x\":[-3.0],\"xaxis\":\"x\",\"y\":[-0.26],\"yaxis\":\"y\",\"type\":\"scatter\"},{\"hovertemplate\":\"SYMBOL=ICICIBANK<br>CHNG=%{x}<br>%CHNG=%{y}<extra></extra>\",\"legendgroup\":\"ICICIBANK\",\"marker\":{\"color\":\"#E15F99\",\"symbol\":\"circle\"},\"mode\":\"markers\",\"name\":\"ICICIBANK\",\"orientation\":\"v\",\"showlegend\":true,\"x\":[-2.3],\"xaxis\":\"x\",\"y\":[-0.3],\"yaxis\":\"y\",\"type\":\"scatter\"},{\"hovertemplate\":\"SYMBOL=TATASTEEL<br>CHNG=%{x}<br>%CHNG=%{y}<extra></extra>\",\"legendgroup\":\"TATASTEEL\",\"marker\":{\"color\":\"#1CA71C\",\"symbol\":\"circle\"},\"mode\":\"markers\",\"name\":\"TATASTEEL\",\"orientation\":\"v\",\"showlegend\":true,\"x\":[-4.2],\"xaxis\":\"x\",\"y\":[-0.32],\"yaxis\":\"y\",\"type\":\"scatter\"},{\"hovertemplate\":\"SYMBOL=RELIANCE<br>CHNG=%{x}<br>%CHNG=%{y}<extra></extra>\",\"legendgroup\":\"RELIANCE\",\"marker\":{\"color\":\"#FB0D0D\",\"symbol\":\"circle\"},\"mode\":\"markers\",\"name\":\"RELIANCE\",\"orientation\":\"v\",\"showlegend\":true,\"x\":[-9.15],\"xaxis\":\"x\",\"y\":[-0.36],\"yaxis\":\"y\",\"type\":\"scatter\"},{\"hovertemplate\":\"SYMBOL=HCLTECH<br>CHNG=%{x}<br>%CHNG=%{y}<extra></extra>\",\"legendgroup\":\"HCLTECH\",\"marker\":{\"color\":\"#DA16FF\",\"symbol\":\"circle\"},\"mode\":\"markers\",\"name\":\"HCLTECH\",\"orientation\":\"v\",\"showlegend\":true,\"x\":[-4.15],\"xaxis\":\"x\",\"y\":[-0.37],\"yaxis\":\"y\",\"type\":\"scatter\"},{\"hovertemplate\":\"SYMBOL=TECHM<br>CHNG=%{x}<br>%CHNG=%{y}<extra></extra>\",\"legendgroup\":\"TECHM\",\"marker\":{\"color\":\"#222A2A\",\"symbol\":\"circle\"},\"mode\":\"markers\",\"name\":\"TECHM\",\"orientation\":\"v\",\"showlegend\":true,\"x\":[-5.55],\"xaxis\":\"x\",\"y\":[-0.39],\"yaxis\":\"y\",\"type\":\"scatter\"},{\"hovertemplate\":\"SYMBOL=BAJAJ-AUTO<br>CHNG=%{x}<br>%CHNG=%{y}<extra></extra>\",\"legendgroup\":\"BAJAJ-AUTO\",\"marker\":{\"color\":\"#B68100\",\"symbol\":\"circle\"},\"mode\":\"markers\",\"name\":\"BAJAJ-AUTO\",\"orientation\":\"v\",\"showlegend\":true,\"x\":[-17.4],\"xaxis\":\"x\",\"y\":[-0.47],\"yaxis\":\"y\",\"type\":\"scatter\"},{\"hovertemplate\":\"SYMBOL=BPCL<br>CHNG=%{x}<br>%CHNG=%{y}<extra></extra>\",\"legendgroup\":\"BPCL\",\"marker\":{\"color\":\"#750D86\",\"symbol\":\"circle\"},\"mode\":\"markers\",\"name\":\"BPCL\",\"orientation\":\"v\",\"showlegend\":true,\"x\":[-2.1],\"xaxis\":\"x\",\"y\":[-0.55],\"yaxis\":\"y\",\"type\":\"scatter\"},{\"hovertemplate\":\"SYMBOL=TCS<br>CHNG=%{x}<br>%CHNG=%{y}<extra></extra>\",\"legendgroup\":\"TCS\",\"marker\":{\"color\":\"#EB663B\",\"symbol\":\"circle\"},\"mode\":\"markers\",\"name\":\"TCS\",\"orientation\":\"v\",\"showlegend\":true,\"x\":[-26.15],\"xaxis\":\"x\",\"y\":[-0.71],\"yaxis\":\"y\",\"type\":\"scatter\"},{\"hovertemplate\":\"SYMBOL=NESTLEIND<br>CHNG=%{x}<br>%CHNG=%{y}<extra></extra>\",\"legendgroup\":\"NESTLEIND\",\"marker\":{\"color\":\"#511CFB\",\"symbol\":\"circle\"},\"mode\":\"markers\",\"name\":\"NESTLEIND\",\"orientation\":\"v\",\"showlegend\":true,\"x\":[-136.8],\"xaxis\":\"x\",\"y\":[-0.74],\"yaxis\":\"y\",\"type\":\"scatter\"},{\"hovertemplate\":\"SYMBOL=ADANIPORTS<br>CHNG=%{x}<br>%CHNG=%{y}<extra></extra>\",\"legendgroup\":\"ADANIPORTS\",\"marker\":{\"color\":\"#00A08B\",\"symbol\":\"circle\"},\"mode\":\"markers\",\"name\":\"ADANIPORTS\",\"orientation\":\"v\",\"showlegend\":true,\"x\":[-6.75],\"xaxis\":\"x\",\"y\":[-0.8],\"yaxis\":\"y\",\"type\":\"scatter\"},{\"hovertemplate\":\"SYMBOL=AXISBANK<br>CHNG=%{x}<br>%CHNG=%{y}<extra></extra>\",\"legendgroup\":\"AXISBANK\",\"marker\":{\"color\":\"#FB00D1\",\"symbol\":\"circle\"},\"mode\":\"markers\",\"name\":\"AXISBANK\",\"orientation\":\"v\",\"showlegend\":true,\"x\":[-6.45],\"xaxis\":\"x\",\"y\":[-0.81],\"yaxis\":\"y\",\"type\":\"scatter\"},{\"hovertemplate\":\"SYMBOL=ULTRACEMCO<br>CHNG=%{x}<br>%CHNG=%{y}<extra></extra>\",\"legendgroup\":\"ULTRACEMCO\",\"marker\":{\"color\":\"#FC0080\",\"symbol\":\"circle\"},\"mode\":\"markers\",\"name\":\"ULTRACEMCO\",\"orientation\":\"v\",\"showlegend\":true,\"x\":[-61.55],\"xaxis\":\"x\",\"y\":[-0.91],\"yaxis\":\"y\",\"type\":\"scatter\"},{\"hovertemplate\":\"SYMBOL=CIPLA<br>CHNG=%{x}<br>%CHNG=%{y}<extra></extra>\",\"legendgroup\":\"CIPLA\",\"marker\":{\"color\":\"#B2828D\",\"symbol\":\"circle\"},\"mode\":\"markers\",\"name\":\"CIPLA\",\"orientation\":\"v\",\"showlegend\":true,\"x\":[-9.9],\"xaxis\":\"x\",\"y\":[-0.96],\"yaxis\":\"y\",\"type\":\"scatter\"},{\"hovertemplate\":\"SYMBOL=TITAN<br>CHNG=%{x}<br>%CHNG=%{y}<extra></extra>\",\"legendgroup\":\"TITAN\",\"marker\":{\"color\":\"#6C7C32\",\"symbol\":\"circle\"},\"mode\":\"markers\",\"name\":\"TITAN\",\"orientation\":\"v\",\"showlegend\":true,\"x\":[-26.7],\"xaxis\":\"x\",\"y\":[-1.07],\"yaxis\":\"y\",\"type\":\"scatter\"},{\"hovertemplate\":\"SYMBOL=HEROMOTOCO<br>CHNG=%{x}<br>%CHNG=%{y}<extra></extra>\",\"legendgroup\":\"HEROMOTOCO\",\"marker\":{\"color\":\"#778AAE\",\"symbol\":\"circle\"},\"mode\":\"markers\",\"name\":\"HEROMOTOCO\",\"orientation\":\"v\",\"showlegend\":true,\"x\":[-25.35],\"xaxis\":\"x\",\"y\":[-1.1],\"yaxis\":\"y\",\"type\":\"scatter\"},{\"hovertemplate\":\"SYMBOL=KOTAKBANK<br>CHNG=%{x}<br>%CHNG=%{y}<extra></extra>\",\"legendgroup\":\"KOTAKBANK\",\"marker\":{\"color\":\"#862A16\",\"symbol\":\"circle\"},\"mode\":\"markers\",\"name\":\"KOTAKBANK\",\"orientation\":\"v\",\"showlegend\":true,\"x\":[-21.85],\"xaxis\":\"x\",\"y\":[-1.21],\"yaxis\":\"y\",\"type\":\"scatter\"},{\"hovertemplate\":\"SYMBOL=BAJAJFINSV<br>CHNG=%{x}<br>%CHNG=%{y}<extra></extra>\",\"legendgroup\":\"BAJAJFINSV\",\"marker\":{\"color\":\"#A777F1\",\"symbol\":\"circle\"},\"mode\":\"markers\",\"name\":\"BAJAJFINSV\",\"orientation\":\"v\",\"showlegend\":true,\"x\":[-221.1],\"xaxis\":\"x\",\"y\":[-1.35],\"yaxis\":\"y\",\"type\":\"scatter\"},{\"hovertemplate\":\"SYMBOL=POWERGRID<br>CHNG=%{x}<br>%CHNG=%{y}<extra></extra>\",\"legendgroup\":\"POWERGRID\",\"marker\":{\"color\":\"#620042\",\"symbol\":\"circle\"},\"mode\":\"markers\",\"name\":\"POWERGRID\",\"orientation\":\"v\",\"showlegend\":true,\"x\":[-3.25],\"xaxis\":\"x\",\"y\":[-1.39],\"yaxis\":\"y\",\"type\":\"scatter\"},{\"hovertemplate\":\"SYMBOL=ASIANPAINT<br>CHNG=%{x}<br>%CHNG=%{y}<extra></extra>\",\"legendgroup\":\"ASIANPAINT\",\"marker\":{\"color\":\"#1616A7\",\"symbol\":\"circle\"},\"mode\":\"markers\",\"name\":\"ASIANPAINT\",\"orientation\":\"v\",\"showlegend\":true,\"x\":[-44.65],\"xaxis\":\"x\",\"y\":[-1.43],\"yaxis\":\"y\",\"type\":\"scatter\"},{\"hovertemplate\":\"SYMBOL=EICHERMOT<br>CHNG=%{x}<br>%CHNG=%{y}<extra></extra>\",\"legendgroup\":\"EICHERMOT\",\"marker\":{\"color\":\"#DA60CA\",\"symbol\":\"circle\"},\"mode\":\"markers\",\"name\":\"EICHERMOT\",\"orientation\":\"v\",\"showlegend\":true,\"x\":[-37.8],\"xaxis\":\"x\",\"y\":[-1.5],\"yaxis\":\"y\",\"type\":\"scatter\"},{\"hovertemplate\":\"SYMBOL=TATAMOTORS<br>CHNG=%{x}<br>%CHNG=%{y}<extra></extra>\",\"legendgroup\":\"TATAMOTORS\",\"marker\":{\"color\":\"#6C4516\",\"symbol\":\"circle\"},\"mode\":\"markers\",\"name\":\"TATAMOTORS\",\"orientation\":\"v\",\"showlegend\":true,\"x\":[-6.8],\"xaxis\":\"x\",\"y\":[-1.55],\"yaxis\":\"y\",\"type\":\"scatter\"},{\"hovertemplate\":\"SYMBOL=DRREDDY<br>CHNG=%{x}<br>%CHNG=%{y}<extra></extra>\",\"legendgroup\":\"DRREDDY\",\"marker\":{\"color\":\"#0D2A63\",\"symbol\":\"circle\"},\"mode\":\"markers\",\"name\":\"DRREDDY\",\"orientation\":\"v\",\"showlegend\":true,\"x\":[-70.35],\"xaxis\":\"x\",\"y\":[-1.61],\"yaxis\":\"y\",\"type\":\"scatter\"},{\"hovertemplate\":\"SYMBOL=HDFCBANK<br>CHNG=%{x}<br>%CHNG=%{y}<extra></extra>\",\"legendgroup\":\"HDFCBANK\",\"marker\":{\"color\":\"#AF0038\",\"symbol\":\"circle\"},\"mode\":\"markers\",\"name\":\"HDFCBANK\",\"orientation\":\"v\",\"showlegend\":true,\"x\":[-29.5],\"xaxis\":\"x\",\"y\":[-1.98],\"yaxis\":\"y\",\"type\":\"scatter\"},{\"hovertemplate\":\"SYMBOL=HDFC<br>CHNG=%{x}<br>%CHNG=%{y}<extra></extra>\",\"legendgroup\":\"HDFC\",\"marker\":{\"color\":\"#2E91E5\",\"symbol\":\"circle\"},\"mode\":\"markers\",\"name\":\"HDFC\",\"orientation\":\"v\",\"showlegend\":true,\"x\":[-54.15],\"xaxis\":\"x\",\"y\":[-2.23],\"yaxis\":\"y\",\"type\":\"scatter\"},{\"hovertemplate\":\"SYMBOL=MARUTI<br>CHNG=%{x}<br>%CHNG=%{y}<extra></extra>\",\"legendgroup\":\"MARUTI\",\"marker\":{\"color\":\"#E15F99\",\"symbol\":\"circle\"},\"mode\":\"markers\",\"name\":\"MARUTI\",\"orientation\":\"v\",\"showlegend\":true,\"x\":[-173.35],\"xaxis\":\"x\",\"y\":[-2.28],\"yaxis\":\"y\",\"type\":\"scatter\"}],                        {\"template\":{\"data\":{\"histogram2dcontour\":[{\"type\":\"histogram2dcontour\",\"colorbar\":{\"outlinewidth\":0,\"ticks\":\"\"},\"colorscale\":[[0.0,\"#0d0887\"],[0.1111111111111111,\"#46039f\"],[0.2222222222222222,\"#7201a8\"],[0.3333333333333333,\"#9c179e\"],[0.4444444444444444,\"#bd3786\"],[0.5555555555555556,\"#d8576b\"],[0.6666666666666666,\"#ed7953\"],[0.7777777777777778,\"#fb9f3a\"],[0.8888888888888888,\"#fdca26\"],[1.0,\"#f0f921\"]]}],\"choropleth\":[{\"type\":\"choropleth\",\"colorbar\":{\"outlinewidth\":0,\"ticks\":\"\"}}],\"histogram2d\":[{\"type\":\"histogram2d\",\"colorbar\":{\"outlinewidth\":0,\"ticks\":\"\"},\"colorscale\":[[0.0,\"#0d0887\"],[0.1111111111111111,\"#46039f\"],[0.2222222222222222,\"#7201a8\"],[0.3333333333333333,\"#9c179e\"],[0.4444444444444444,\"#bd3786\"],[0.5555555555555556,\"#d8576b\"],[0.6666666666666666,\"#ed7953\"],[0.7777777777777778,\"#fb9f3a\"],[0.8888888888888888,\"#fdca26\"],[1.0,\"#f0f921\"]]}],\"heatmap\":[{\"type\":\"heatmap\",\"colorbar\":{\"outlinewidth\":0,\"ticks\":\"\"},\"colorscale\":[[0.0,\"#0d0887\"],[0.1111111111111111,\"#46039f\"],[0.2222222222222222,\"#7201a8\"],[0.3333333333333333,\"#9c179e\"],[0.4444444444444444,\"#bd3786\"],[0.5555555555555556,\"#d8576b\"],[0.6666666666666666,\"#ed7953\"],[0.7777777777777778,\"#fb9f3a\"],[0.8888888888888888,\"#fdca26\"],[1.0,\"#f0f921\"]]}],\"heatmapgl\":[{\"type\":\"heatmapgl\",\"colorbar\":{\"outlinewidth\":0,\"ticks\":\"\"},\"colorscale\":[[0.0,\"#0d0887\"],[0.1111111111111111,\"#46039f\"],[0.2222222222222222,\"#7201a8\"],[0.3333333333333333,\"#9c179e\"],[0.4444444444444444,\"#bd3786\"],[0.5555555555555556,\"#d8576b\"],[0.6666666666666666,\"#ed7953\"],[0.7777777777777778,\"#fb9f3a\"],[0.8888888888888888,\"#fdca26\"],[1.0,\"#f0f921\"]]}],\"contourcarpet\":[{\"type\":\"contourcarpet\",\"colorbar\":{\"outlinewidth\":0,\"ticks\":\"\"}}],\"contour\":[{\"type\":\"contour\",\"colorbar\":{\"outlinewidth\":0,\"ticks\":\"\"},\"colorscale\":[[0.0,\"#0d0887\"],[0.1111111111111111,\"#46039f\"],[0.2222222222222222,\"#7201a8\"],[0.3333333333333333,\"#9c179e\"],[0.4444444444444444,\"#bd3786\"],[0.5555555555555556,\"#d8576b\"],[0.6666666666666666,\"#ed7953\"],[0.7777777777777778,\"#fb9f3a\"],[0.8888888888888888,\"#fdca26\"],[1.0,\"#f0f921\"]]}],\"surface\":[{\"type\":\"surface\",\"colorbar\":{\"outlinewidth\":0,\"ticks\":\"\"},\"colorscale\":[[0.0,\"#0d0887\"],[0.1111111111111111,\"#46039f\"],[0.2222222222222222,\"#7201a8\"],[0.3333333333333333,\"#9c179e\"],[0.4444444444444444,\"#bd3786\"],[0.5555555555555556,\"#d8576b\"],[0.6666666666666666,\"#ed7953\"],[0.7777777777777778,\"#fb9f3a\"],[0.8888888888888888,\"#fdca26\"],[1.0,\"#f0f921\"]]}],\"mesh3d\":[{\"type\":\"mesh3d\",\"colorbar\":{\"outlinewidth\":0,\"ticks\":\"\"}}],\"scatter\":[{\"fillpattern\":{\"fillmode\":\"overlay\",\"size\":10,\"solidity\":0.2},\"type\":\"scatter\"}],\"parcoords\":[{\"type\":\"parcoords\",\"line\":{\"colorbar\":{\"outlinewidth\":0,\"ticks\":\"\"}}}],\"scatterpolargl\":[{\"type\":\"scatterpolargl\",\"marker\":{\"colorbar\":{\"outlinewidth\":0,\"ticks\":\"\"}}}],\"bar\":[{\"error_x\":{\"color\":\"#2a3f5f\"},\"error_y\":{\"color\":\"#2a3f5f\"},\"marker\":{\"line\":{\"color\":\"#E5ECF6\",\"width\":0.5},\"pattern\":{\"fillmode\":\"overlay\",\"size\":10,\"solidity\":0.2}},\"type\":\"bar\"}],\"scattergeo\":[{\"type\":\"scattergeo\",\"marker\":{\"colorbar\":{\"outlinewidth\":0,\"ticks\":\"\"}}}],\"scatterpolar\":[{\"type\":\"scatterpolar\",\"marker\":{\"colorbar\":{\"outlinewidth\":0,\"ticks\":\"\"}}}],\"histogram\":[{\"marker\":{\"pattern\":{\"fillmode\":\"overlay\",\"size\":10,\"solidity\":0.2}},\"type\":\"histogram\"}],\"scattergl\":[{\"type\":\"scattergl\",\"marker\":{\"colorbar\":{\"outlinewidth\":0,\"ticks\":\"\"}}}],\"scatter3d\":[{\"type\":\"scatter3d\",\"line\":{\"colorbar\":{\"outlinewidth\":0,\"ticks\":\"\"}},\"marker\":{\"colorbar\":{\"outlinewidth\":0,\"ticks\":\"\"}}}],\"scattermapbox\":[{\"type\":\"scattermapbox\",\"marker\":{\"colorbar\":{\"outlinewidth\":0,\"ticks\":\"\"}}}],\"scatterternary\":[{\"type\":\"scatterternary\",\"marker\":{\"colorbar\":{\"outlinewidth\":0,\"ticks\":\"\"}}}],\"scattercarpet\":[{\"type\":\"scattercarpet\",\"marker\":{\"colorbar\":{\"outlinewidth\":0,\"ticks\":\"\"}}}],\"carpet\":[{\"aaxis\":{\"endlinecolor\":\"#2a3f5f\",\"gridcolor\":\"white\",\"linecolor\":\"white\",\"minorgridcolor\":\"white\",\"startlinecolor\":\"#2a3f5f\"},\"baxis\":{\"endlinecolor\":\"#2a3f5f\",\"gridcolor\":\"white\",\"linecolor\":\"white\",\"minorgridcolor\":\"white\",\"startlinecolor\":\"#2a3f5f\"},\"type\":\"carpet\"}],\"table\":[{\"cells\":{\"fill\":{\"color\":\"#EBF0F8\"},\"line\":{\"color\":\"white\"}},\"header\":{\"fill\":{\"color\":\"#C8D4E3\"},\"line\":{\"color\":\"white\"}},\"type\":\"table\"}],\"barpolar\":[{\"marker\":{\"line\":{\"color\":\"#E5ECF6\",\"width\":0.5},\"pattern\":{\"fillmode\":\"overlay\",\"size\":10,\"solidity\":0.2}},\"type\":\"barpolar\"}],\"pie\":[{\"automargin\":true,\"type\":\"pie\"}]},\"layout\":{\"autotypenumbers\":\"strict\",\"colorway\":[\"#636efa\",\"#EF553B\",\"#00cc96\",\"#ab63fa\",\"#FFA15A\",\"#19d3f3\",\"#FF6692\",\"#B6E880\",\"#FF97FF\",\"#FECB52\"],\"font\":{\"color\":\"#2a3f5f\"},\"hovermode\":\"closest\",\"hoverlabel\":{\"align\":\"left\"},\"paper_bgcolor\":\"white\",\"plot_bgcolor\":\"#E5ECF6\",\"polar\":{\"bgcolor\":\"#E5ECF6\",\"angularaxis\":{\"gridcolor\":\"white\",\"linecolor\":\"white\",\"ticks\":\"\"},\"radialaxis\":{\"gridcolor\":\"white\",\"linecolor\":\"white\",\"ticks\":\"\"}},\"ternary\":{\"bgcolor\":\"#E5ECF6\",\"aaxis\":{\"gridcolor\":\"white\",\"linecolor\":\"white\",\"ticks\":\"\"},\"baxis\":{\"gridcolor\":\"white\",\"linecolor\":\"white\",\"ticks\":\"\"},\"caxis\":{\"gridcolor\":\"white\",\"linecolor\":\"white\",\"ticks\":\"\"}},\"coloraxis\":{\"colorbar\":{\"outlinewidth\":0,\"ticks\":\"\"}},\"colorscale\":{\"sequential\":[[0.0,\"#0d0887\"],[0.1111111111111111,\"#46039f\"],[0.2222222222222222,\"#7201a8\"],[0.3333333333333333,\"#9c179e\"],[0.4444444444444444,\"#bd3786\"],[0.5555555555555556,\"#d8576b\"],[0.6666666666666666,\"#ed7953\"],[0.7777777777777778,\"#fb9f3a\"],[0.8888888888888888,\"#fdca26\"],[1.0,\"#f0f921\"]],\"sequentialminus\":[[0.0,\"#0d0887\"],[0.1111111111111111,\"#46039f\"],[0.2222222222222222,\"#7201a8\"],[0.3333333333333333,\"#9c179e\"],[0.4444444444444444,\"#bd3786\"],[0.5555555555555556,\"#d8576b\"],[0.6666666666666666,\"#ed7953\"],[0.7777777777777778,\"#fb9f3a\"],[0.8888888888888888,\"#fdca26\"],[1.0,\"#f0f921\"]],\"diverging\":[[0,\"#8e0152\"],[0.1,\"#c51b7d\"],[0.2,\"#de77ae\"],[0.3,\"#f1b6da\"],[0.4,\"#fde0ef\"],[0.5,\"#f7f7f7\"],[0.6,\"#e6f5d0\"],[0.7,\"#b8e186\"],[0.8,\"#7fbc41\"],[0.9,\"#4d9221\"],[1,\"#276419\"]]},\"xaxis\":{\"gridcolor\":\"white\",\"linecolor\":\"white\",\"ticks\":\"\",\"title\":{\"standoff\":15},\"zerolinecolor\":\"white\",\"automargin\":true,\"zerolinewidth\":2},\"yaxis\":{\"gridcolor\":\"white\",\"linecolor\":\"white\",\"ticks\":\"\",\"title\":{\"standoff\":15},\"zerolinecolor\":\"white\",\"automargin\":true,\"zerolinewidth\":2},\"scene\":{\"xaxis\":{\"backgroundcolor\":\"#E5ECF6\",\"gridcolor\":\"white\",\"linecolor\":\"white\",\"showbackground\":true,\"ticks\":\"\",\"zerolinecolor\":\"white\",\"gridwidth\":2},\"yaxis\":{\"backgroundcolor\":\"#E5ECF6\",\"gridcolor\":\"white\",\"linecolor\":\"white\",\"showbackground\":true,\"ticks\":\"\",\"zerolinecolor\":\"white\",\"gridwidth\":2},\"zaxis\":{\"backgroundcolor\":\"#E5ECF6\",\"gridcolor\":\"white\",\"linecolor\":\"white\",\"showbackground\":true,\"ticks\":\"\",\"zerolinecolor\":\"white\",\"gridwidth\":2}},\"shapedefaults\":{\"line\":{\"color\":\"#2a3f5f\"}},\"annotationdefaults\":{\"arrowcolor\":\"#2a3f5f\",\"arrowhead\":0,\"arrowwidth\":1},\"geo\":{\"bgcolor\":\"white\",\"landcolor\":\"#E5ECF6\",\"subunitcolor\":\"white\",\"showland\":true,\"showlakes\":true,\"lakecolor\":\"white\"},\"title\":{\"x\":0.05},\"mapbox\":{\"style\":\"light\"}}},\"xaxis\":{\"anchor\":\"y\",\"domain\":[0.0,1.0],\"title\":{\"text\":\"CHNG\"}},\"yaxis\":{\"anchor\":\"x\",\"domain\":[0.0,1.0],\"title\":{\"text\":\"%CHNG\"}},\"legend\":{\"title\":{\"text\":\"SYMBOL\"},\"tracegroupgap\":0},\"margin\":{\"t\":60}},                        {\"responsive\": true}                    ).then(function(){\n",
       "                            \n",
       "var gd = document.getElementById('4ee31cb8-1086-4821-9f8a-58416c88945b');\n",
       "var x = new MutationObserver(function (mutations, observer) {{\n",
       "        var display = window.getComputedStyle(gd).display;\n",
       "        if (!display || display === 'none') {{\n",
       "            console.log([gd, 'removed!']);\n",
       "            Plotly.purge(gd);\n",
       "            observer.disconnect();\n",
       "        }}\n",
       "}});\n",
       "\n",
       "// Listen for the removal of the full notebook cells\n",
       "var notebookContainer = gd.closest('#notebook-container');\n",
       "if (notebookContainer) {{\n",
       "    x.observe(notebookContainer, {childList: true});\n",
       "}}\n",
       "\n",
       "// Listen for the clearing of the current output cell\n",
       "var outputEl = gd.closest('.output');\n",
       "if (outputEl) {{\n",
       "    x.observe(outputEl, {childList: true});\n",
       "}}\n",
       "\n",
       "                        })                };                });            </script>        </div>"
      ]
     },
     "metadata": {},
     "output_type": "display_data"
    }
   ],
   "source": [
    "px.scatter((df_nifity),x='CHNG',y='%CHNG',color='SYMBOL',\n",
    "           color_discrete_sequence=px.colors.qualitative.Dark24)"
   ]
  },
  {
   "cell_type": "code",
   "execution_count": 16,
   "id": "26a10a91",
   "metadata": {},
   "outputs": [
    {
     "data": {
      "application/vnd.plotly.v1+json": {
       "config": {
        "plotlyServerURL": "https://plot.ly"
       },
       "data": [
        {
         "alignmentgroup": "True",
         "bingroup": "x",
         "hovertemplate": "SYMBOL=ONGC<br>%CHNG=%{x}<br>count=%{y}<extra></extra>",
         "legendgroup": "ONGC",
         "marker": {
          "color": "#2E91E5",
          "pattern": {
           "shape": ""
          }
         },
         "name": "ONGC",
         "offsetgroup": "ONGC",
         "orientation": "v",
         "showlegend": true,
         "type": "histogram",
         "x": [
          2.99
         ],
         "xaxis": "x",
         "yaxis": "y"
        },
        {
         "alignmentgroup": "True",
         "bingroup": "x",
         "hovertemplate": "SYMBOL=APOLLOHOSP<br>%CHNG=%{x}<br>count=%{y}<extra></extra>",
         "legendgroup": "APOLLOHOSP",
         "marker": {
          "color": "#E15F99",
          "pattern": {
           "shape": ""
          }
         },
         "name": "APOLLOHOSP",
         "offsetgroup": "APOLLOHOSP",
         "orientation": "v",
         "showlegend": true,
         "type": "histogram",
         "x": [
          2.35
         ],
         "xaxis": "x",
         "yaxis": "y"
        },
        {
         "alignmentgroup": "True",
         "bingroup": "x",
         "hovertemplate": "SYMBOL=UPL<br>%CHNG=%{x}<br>count=%{y}<extra></extra>",
         "legendgroup": "UPL",
         "marker": {
          "color": "#1CA71C",
          "pattern": {
           "shape": ""
          }
         },
         "name": "UPL",
         "offsetgroup": "UPL",
         "orientation": "v",
         "showlegend": true,
         "type": "histogram",
         "x": [
          1.72
         ],
         "xaxis": "x",
         "yaxis": "y"
        },
        {
         "alignmentgroup": "True",
         "bingroup": "x",
         "hovertemplate": "SYMBOL=ITC<br>%CHNG=%{x}<br>count=%{y}<extra></extra>",
         "legendgroup": "ITC",
         "marker": {
          "color": "#FB0D0D",
          "pattern": {
           "shape": ""
          }
         },
         "name": "ITC",
         "offsetgroup": "ITC",
         "orientation": "v",
         "showlegend": true,
         "type": "histogram",
         "x": [
          1.62
         ],
         "xaxis": "x",
         "yaxis": "y"
        },
        {
         "alignmentgroup": "True",
         "bingroup": "x",
         "hovertemplate": "SYMBOL=SUNPHARMA<br>%CHNG=%{x}<br>count=%{y}<extra></extra>",
         "legendgroup": "SUNPHARMA",
         "marker": {
          "color": "#DA16FF",
          "pattern": {
           "shape": ""
          }
         },
         "name": "SUNPHARMA",
         "offsetgroup": "SUNPHARMA",
         "orientation": "v",
         "showlegend": true,
         "type": "histogram",
         "x": [
          1.51
         ],
         "xaxis": "x",
         "yaxis": "y"
        },
        {
         "alignmentgroup": "True",
         "bingroup": "x",
         "hovertemplate": "SYMBOL=JSWSTEEL<br>%CHNG=%{x}<br>count=%{y}<extra></extra>",
         "legendgroup": "JSWSTEEL",
         "marker": {
          "color": "#222A2A",
          "pattern": {
           "shape": ""
          }
         },
         "name": "JSWSTEEL",
         "offsetgroup": "JSWSTEEL",
         "orientation": "v",
         "showlegend": true,
         "type": "histogram",
         "x": [
          1.13
         ],
         "xaxis": "x",
         "yaxis": "y"
        },
        {
         "alignmentgroup": "True",
         "bingroup": "x",
         "hovertemplate": "SYMBOL=SBIN<br>%CHNG=%{x}<br>count=%{y}<extra></extra>",
         "legendgroup": "SBIN",
         "marker": {
          "color": "#B68100",
          "pattern": {
           "shape": ""
          }
         },
         "name": "SBIN",
         "offsetgroup": "SBIN",
         "orientation": "v",
         "showlegend": true,
         "type": "histogram",
         "x": [
          0.95
         ],
         "xaxis": "x",
         "yaxis": "y"
        },
        {
         "alignmentgroup": "True",
         "bingroup": "x",
         "hovertemplate": "SYMBOL=SHREECEM<br>%CHNG=%{x}<br>count=%{y}<extra></extra>",
         "legendgroup": "SHREECEM",
         "marker": {
          "color": "#750D86",
          "pattern": {
           "shape": ""
          }
         },
         "name": "SHREECEM",
         "offsetgroup": "SHREECEM",
         "orientation": "v",
         "showlegend": true,
         "type": "histogram",
         "x": [
          0.94
         ],
         "xaxis": "x",
         "yaxis": "y"
        },
        {
         "alignmentgroup": "True",
         "bingroup": "x",
         "hovertemplate": "SYMBOL=HINDUNILVR<br>%CHNG=%{x}<br>count=%{y}<extra></extra>",
         "legendgroup": "HINDUNILVR",
         "marker": {
          "color": "#EB663B",
          "pattern": {
           "shape": ""
          }
         },
         "name": "HINDUNILVR",
         "offsetgroup": "HINDUNILVR",
         "orientation": "v",
         "showlegend": true,
         "type": "histogram",
         "x": [
          0.87
         ],
         "xaxis": "x",
         "yaxis": "y"
        },
        {
         "alignmentgroup": "True",
         "bingroup": "x",
         "hovertemplate": "SYMBOL=NTPC<br>%CHNG=%{x}<br>count=%{y}<extra></extra>",
         "legendgroup": "NTPC",
         "marker": {
          "color": "#511CFB",
          "pattern": {
           "shape": ""
          }
         },
         "name": "NTPC",
         "offsetgroup": "NTPC",
         "orientation": "v",
         "showlegend": true,
         "type": "histogram",
         "x": [
          0.85
         ],
         "xaxis": "x",
         "yaxis": "y"
        },
        {
         "alignmentgroup": "True",
         "bingroup": "x",
         "hovertemplate": "SYMBOL=HINDALCO<br>%CHNG=%{x}<br>count=%{y}<extra></extra>",
         "legendgroup": "HINDALCO",
         "marker": {
          "color": "#00A08B",
          "pattern": {
           "shape": ""
          }
         },
         "name": "HINDALCO",
         "offsetgroup": "HINDALCO",
         "orientation": "v",
         "showlegend": true,
         "type": "histogram",
         "x": [
          0.63
         ],
         "xaxis": "x",
         "yaxis": "y"
        },
        {
         "alignmentgroup": "True",
         "bingroup": "x",
         "hovertemplate": "SYMBOL=LT<br>%CHNG=%{x}<br>count=%{y}<extra></extra>",
         "legendgroup": "LT",
         "marker": {
          "color": "#FB00D1",
          "pattern": {
           "shape": ""
          }
         },
         "name": "LT",
         "offsetgroup": "LT",
         "orientation": "v",
         "showlegend": true,
         "type": "histogram",
         "x": [
          0.62
         ],
         "xaxis": "x",
         "yaxis": "y"
        },
        {
         "alignmentgroup": "True",
         "bingroup": "x",
         "hovertemplate": "SYMBOL=BAJFINANCE<br>%CHNG=%{x}<br>count=%{y}<extra></extra>",
         "legendgroup": "BAJFINANCE",
         "marker": {
          "color": "#FC0080",
          "pattern": {
           "shape": ""
          }
         },
         "name": "BAJFINANCE",
         "offsetgroup": "BAJFINANCE",
         "orientation": "v",
         "showlegend": true,
         "type": "histogram",
         "x": [
          0.56
         ],
         "xaxis": "x",
         "yaxis": "y"
        },
        {
         "alignmentgroup": "True",
         "bingroup": "x",
         "hovertemplate": "SYMBOL=DIVISLAB<br>%CHNG=%{x}<br>count=%{y}<extra></extra>",
         "legendgroup": "DIVISLAB",
         "marker": {
          "color": "#B2828D",
          "pattern": {
           "shape": ""
          }
         },
         "name": "DIVISLAB",
         "offsetgroup": "DIVISLAB",
         "orientation": "v",
         "showlegend": true,
         "type": "histogram",
         "x": [
          0.53
         ],
         "xaxis": "x",
         "yaxis": "y"
        },
        {
         "alignmentgroup": "True",
         "bingroup": "x",
         "hovertemplate": "SYMBOL=TATACONSUM<br>%CHNG=%{x}<br>count=%{y}<extra></extra>",
         "legendgroup": "TATACONSUM",
         "marker": {
          "color": "#6C7C32",
          "pattern": {
           "shape": ""
          }
         },
         "name": "TATACONSUM",
         "offsetgroup": "TATACONSUM",
         "orientation": "v",
         "showlegend": true,
         "type": "histogram",
         "x": [
          0.5
         ],
         "xaxis": "x",
         "yaxis": "y"
        },
        {
         "alignmentgroup": "True",
         "bingroup": "x",
         "hovertemplate": "SYMBOL=INFY<br>%CHNG=%{x}<br>count=%{y}<extra></extra>",
         "legendgroup": "INFY",
         "marker": {
          "color": "#778AAE",
          "pattern": {
           "shape": ""
          }
         },
         "name": "INFY",
         "offsetgroup": "INFY",
         "orientation": "v",
         "showlegend": true,
         "type": "histogram",
         "x": [
          0.49
         ],
         "xaxis": "x",
         "yaxis": "y"
        },
        {
         "alignmentgroup": "True",
         "bingroup": "x",
         "hovertemplate": "SYMBOL=HDFCLIFE<br>%CHNG=%{x}<br>count=%{y}<extra></extra>",
         "legendgroup": "HDFCLIFE",
         "marker": {
          "color": "#862A16",
          "pattern": {
           "shape": ""
          }
         },
         "name": "HDFCLIFE",
         "offsetgroup": "HDFCLIFE",
         "orientation": "v",
         "showlegend": true,
         "type": "histogram",
         "x": [
          0.49
         ],
         "xaxis": "x",
         "yaxis": "y"
        },
        {
         "alignmentgroup": "True",
         "bingroup": "x",
         "hovertemplate": "SYMBOL=M&M<br>%CHNG=%{x}<br>count=%{y}<extra></extra>",
         "legendgroup": "M&M",
         "marker": {
          "color": "#A777F1",
          "pattern": {
           "shape": ""
          }
         },
         "name": "M&M",
         "offsetgroup": "M&M",
         "orientation": "v",
         "showlegend": true,
         "type": "histogram",
         "x": [
          0.49
         ],
         "xaxis": "x",
         "yaxis": "y"
        },
        {
         "alignmentgroup": "True",
         "bingroup": "x",
         "hovertemplate": "SYMBOL=GRASIM<br>%CHNG=%{x}<br>count=%{y}<extra></extra>",
         "legendgroup": "GRASIM",
         "marker": {
          "color": "#620042",
          "pattern": {
           "shape": ""
          }
         },
         "name": "GRASIM",
         "offsetgroup": "GRASIM",
         "orientation": "v",
         "showlegend": true,
         "type": "histogram",
         "x": [
          0.47
         ],
         "xaxis": "x",
         "yaxis": "y"
        },
        {
         "alignmentgroup": "True",
         "bingroup": "x",
         "hovertemplate": "SYMBOL=WIPRO<br>%CHNG=%{x}<br>count=%{y}<extra></extra>",
         "legendgroup": "WIPRO",
         "marker": {
          "color": "#1616A7",
          "pattern": {
           "shape": ""
          }
         },
         "name": "WIPRO",
         "offsetgroup": "WIPRO",
         "orientation": "v",
         "showlegend": true,
         "type": "histogram",
         "x": [
          0.2
         ],
         "xaxis": "x",
         "yaxis": "y"
        },
        {
         "alignmentgroup": "True",
         "bingroup": "x",
         "hovertemplate": "SYMBOL=COALINDIA<br>%CHNG=%{x}<br>count=%{y}<extra></extra>",
         "legendgroup": "COALINDIA",
         "marker": {
          "color": "#DA60CA",
          "pattern": {
           "shape": ""
          }
         },
         "name": "COALINDIA",
         "offsetgroup": "COALINDIA",
         "orientation": "v",
         "showlegend": true,
         "type": "histogram",
         "x": [
          0.19
         ],
         "xaxis": "x",
         "yaxis": "y"
        },
        {
         "alignmentgroup": "True",
         "bingroup": "x",
         "hovertemplate": "SYMBOL=BRITANNIA<br>%CHNG=%{x}<br>count=%{y}<extra></extra>",
         "legendgroup": "BRITANNIA",
         "marker": {
          "color": "#6C4516",
          "pattern": {
           "shape": ""
          }
         },
         "name": "BRITANNIA",
         "offsetgroup": "BRITANNIA",
         "orientation": "v",
         "showlegend": true,
         "type": "histogram",
         "x": [
          0.06
         ],
         "xaxis": "x",
         "yaxis": "y"
        },
        {
         "alignmentgroup": "True",
         "bingroup": "x",
         "hovertemplate": "SYMBOL=INDUSINDBK<br>%CHNG=%{x}<br>count=%{y}<extra></extra>",
         "legendgroup": "INDUSINDBK",
         "marker": {
          "color": "#0D2A63",
          "pattern": {
           "shape": ""
          }
         },
         "name": "INDUSINDBK",
         "offsetgroup": "INDUSINDBK",
         "orientation": "v",
         "showlegend": true,
         "type": "histogram",
         "x": [
          -0.12
         ],
         "xaxis": "x",
         "yaxis": "y"
        },
        {
         "alignmentgroup": "True",
         "bingroup": "x",
         "hovertemplate": "SYMBOL=BHARTIARTL<br>%CHNG=%{x}<br>count=%{y}<extra></extra>",
         "legendgroup": "BHARTIARTL",
         "marker": {
          "color": "#AF0038",
          "pattern": {
           "shape": ""
          }
         },
         "name": "BHARTIARTL",
         "offsetgroup": "BHARTIARTL",
         "orientation": "v",
         "showlegend": true,
         "type": "histogram",
         "x": [
          -0.24
         ],
         "xaxis": "x",
         "yaxis": "y"
        },
        {
         "alignmentgroup": "True",
         "bingroup": "x",
         "hovertemplate": "SYMBOL=SBILIFE<br>%CHNG=%{x}<br>count=%{y}<extra></extra>",
         "legendgroup": "SBILIFE",
         "marker": {
          "color": "#2E91E5",
          "pattern": {
           "shape": ""
          }
         },
         "name": "SBILIFE",
         "offsetgroup": "SBILIFE",
         "orientation": "v",
         "showlegend": true,
         "type": "histogram",
         "x": [
          -0.26
         ],
         "xaxis": "x",
         "yaxis": "y"
        },
        {
         "alignmentgroup": "True",
         "bingroup": "x",
         "hovertemplate": "SYMBOL=ICICIBANK<br>%CHNG=%{x}<br>count=%{y}<extra></extra>",
         "legendgroup": "ICICIBANK",
         "marker": {
          "color": "#E15F99",
          "pattern": {
           "shape": ""
          }
         },
         "name": "ICICIBANK",
         "offsetgroup": "ICICIBANK",
         "orientation": "v",
         "showlegend": true,
         "type": "histogram",
         "x": [
          -0.3
         ],
         "xaxis": "x",
         "yaxis": "y"
        },
        {
         "alignmentgroup": "True",
         "bingroup": "x",
         "hovertemplate": "SYMBOL=TATASTEEL<br>%CHNG=%{x}<br>count=%{y}<extra></extra>",
         "legendgroup": "TATASTEEL",
         "marker": {
          "color": "#1CA71C",
          "pattern": {
           "shape": ""
          }
         },
         "name": "TATASTEEL",
         "offsetgroup": "TATASTEEL",
         "orientation": "v",
         "showlegend": true,
         "type": "histogram",
         "x": [
          -0.32
         ],
         "xaxis": "x",
         "yaxis": "y"
        },
        {
         "alignmentgroup": "True",
         "bingroup": "x",
         "hovertemplate": "SYMBOL=RELIANCE<br>%CHNG=%{x}<br>count=%{y}<extra></extra>",
         "legendgroup": "RELIANCE",
         "marker": {
          "color": "#FB0D0D",
          "pattern": {
           "shape": ""
          }
         },
         "name": "RELIANCE",
         "offsetgroup": "RELIANCE",
         "orientation": "v",
         "showlegend": true,
         "type": "histogram",
         "x": [
          -0.36
         ],
         "xaxis": "x",
         "yaxis": "y"
        },
        {
         "alignmentgroup": "True",
         "bingroup": "x",
         "hovertemplate": "SYMBOL=HCLTECH<br>%CHNG=%{x}<br>count=%{y}<extra></extra>",
         "legendgroup": "HCLTECH",
         "marker": {
          "color": "#DA16FF",
          "pattern": {
           "shape": ""
          }
         },
         "name": "HCLTECH",
         "offsetgroup": "HCLTECH",
         "orientation": "v",
         "showlegend": true,
         "type": "histogram",
         "x": [
          -0.37
         ],
         "xaxis": "x",
         "yaxis": "y"
        },
        {
         "alignmentgroup": "True",
         "bingroup": "x",
         "hovertemplate": "SYMBOL=TECHM<br>%CHNG=%{x}<br>count=%{y}<extra></extra>",
         "legendgroup": "TECHM",
         "marker": {
          "color": "#222A2A",
          "pattern": {
           "shape": ""
          }
         },
         "name": "TECHM",
         "offsetgroup": "TECHM",
         "orientation": "v",
         "showlegend": true,
         "type": "histogram",
         "x": [
          -0.39
         ],
         "xaxis": "x",
         "yaxis": "y"
        },
        {
         "alignmentgroup": "True",
         "bingroup": "x",
         "hovertemplate": "SYMBOL=BAJAJ-AUTO<br>%CHNG=%{x}<br>count=%{y}<extra></extra>",
         "legendgroup": "BAJAJ-AUTO",
         "marker": {
          "color": "#B68100",
          "pattern": {
           "shape": ""
          }
         },
         "name": "BAJAJ-AUTO",
         "offsetgroup": "BAJAJ-AUTO",
         "orientation": "v",
         "showlegend": true,
         "type": "histogram",
         "x": [
          -0.47
         ],
         "xaxis": "x",
         "yaxis": "y"
        },
        {
         "alignmentgroup": "True",
         "bingroup": "x",
         "hovertemplate": "SYMBOL=BPCL<br>%CHNG=%{x}<br>count=%{y}<extra></extra>",
         "legendgroup": "BPCL",
         "marker": {
          "color": "#750D86",
          "pattern": {
           "shape": ""
          }
         },
         "name": "BPCL",
         "offsetgroup": "BPCL",
         "orientation": "v",
         "showlegend": true,
         "type": "histogram",
         "x": [
          -0.55
         ],
         "xaxis": "x",
         "yaxis": "y"
        },
        {
         "alignmentgroup": "True",
         "bingroup": "x",
         "hovertemplate": "SYMBOL=TCS<br>%CHNG=%{x}<br>count=%{y}<extra></extra>",
         "legendgroup": "TCS",
         "marker": {
          "color": "#EB663B",
          "pattern": {
           "shape": ""
          }
         },
         "name": "TCS",
         "offsetgroup": "TCS",
         "orientation": "v",
         "showlegend": true,
         "type": "histogram",
         "x": [
          -0.71
         ],
         "xaxis": "x",
         "yaxis": "y"
        },
        {
         "alignmentgroup": "True",
         "bingroup": "x",
         "hovertemplate": "SYMBOL=NESTLEIND<br>%CHNG=%{x}<br>count=%{y}<extra></extra>",
         "legendgroup": "NESTLEIND",
         "marker": {
          "color": "#511CFB",
          "pattern": {
           "shape": ""
          }
         },
         "name": "NESTLEIND",
         "offsetgroup": "NESTLEIND",
         "orientation": "v",
         "showlegend": true,
         "type": "histogram",
         "x": [
          -0.74
         ],
         "xaxis": "x",
         "yaxis": "y"
        },
        {
         "alignmentgroup": "True",
         "bingroup": "x",
         "hovertemplate": "SYMBOL=ADANIPORTS<br>%CHNG=%{x}<br>count=%{y}<extra></extra>",
         "legendgroup": "ADANIPORTS",
         "marker": {
          "color": "#00A08B",
          "pattern": {
           "shape": ""
          }
         },
         "name": "ADANIPORTS",
         "offsetgroup": "ADANIPORTS",
         "orientation": "v",
         "showlegend": true,
         "type": "histogram",
         "x": [
          -0.8
         ],
         "xaxis": "x",
         "yaxis": "y"
        },
        {
         "alignmentgroup": "True",
         "bingroup": "x",
         "hovertemplate": "SYMBOL=AXISBANK<br>%CHNG=%{x}<br>count=%{y}<extra></extra>",
         "legendgroup": "AXISBANK",
         "marker": {
          "color": "#FB00D1",
          "pattern": {
           "shape": ""
          }
         },
         "name": "AXISBANK",
         "offsetgroup": "AXISBANK",
         "orientation": "v",
         "showlegend": true,
         "type": "histogram",
         "x": [
          -0.81
         ],
         "xaxis": "x",
         "yaxis": "y"
        },
        {
         "alignmentgroup": "True",
         "bingroup": "x",
         "hovertemplate": "SYMBOL=ULTRACEMCO<br>%CHNG=%{x}<br>count=%{y}<extra></extra>",
         "legendgroup": "ULTRACEMCO",
         "marker": {
          "color": "#FC0080",
          "pattern": {
           "shape": ""
          }
         },
         "name": "ULTRACEMCO",
         "offsetgroup": "ULTRACEMCO",
         "orientation": "v",
         "showlegend": true,
         "type": "histogram",
         "x": [
          -0.91
         ],
         "xaxis": "x",
         "yaxis": "y"
        },
        {
         "alignmentgroup": "True",
         "bingroup": "x",
         "hovertemplate": "SYMBOL=CIPLA<br>%CHNG=%{x}<br>count=%{y}<extra></extra>",
         "legendgroup": "CIPLA",
         "marker": {
          "color": "#B2828D",
          "pattern": {
           "shape": ""
          }
         },
         "name": "CIPLA",
         "offsetgroup": "CIPLA",
         "orientation": "v",
         "showlegend": true,
         "type": "histogram",
         "x": [
          -0.96
         ],
         "xaxis": "x",
         "yaxis": "y"
        },
        {
         "alignmentgroup": "True",
         "bingroup": "x",
         "hovertemplate": "SYMBOL=TITAN<br>%CHNG=%{x}<br>count=%{y}<extra></extra>",
         "legendgroup": "TITAN",
         "marker": {
          "color": "#6C7C32",
          "pattern": {
           "shape": ""
          }
         },
         "name": "TITAN",
         "offsetgroup": "TITAN",
         "orientation": "v",
         "showlegend": true,
         "type": "histogram",
         "x": [
          -1.07
         ],
         "xaxis": "x",
         "yaxis": "y"
        },
        {
         "alignmentgroup": "True",
         "bingroup": "x",
         "hovertemplate": "SYMBOL=HEROMOTOCO<br>%CHNG=%{x}<br>count=%{y}<extra></extra>",
         "legendgroup": "HEROMOTOCO",
         "marker": {
          "color": "#778AAE",
          "pattern": {
           "shape": ""
          }
         },
         "name": "HEROMOTOCO",
         "offsetgroup": "HEROMOTOCO",
         "orientation": "v",
         "showlegend": true,
         "type": "histogram",
         "x": [
          -1.1
         ],
         "xaxis": "x",
         "yaxis": "y"
        },
        {
         "alignmentgroup": "True",
         "bingroup": "x",
         "hovertemplate": "SYMBOL=KOTAKBANK<br>%CHNG=%{x}<br>count=%{y}<extra></extra>",
         "legendgroup": "KOTAKBANK",
         "marker": {
          "color": "#862A16",
          "pattern": {
           "shape": ""
          }
         },
         "name": "KOTAKBANK",
         "offsetgroup": "KOTAKBANK",
         "orientation": "v",
         "showlegend": true,
         "type": "histogram",
         "x": [
          -1.21
         ],
         "xaxis": "x",
         "yaxis": "y"
        },
        {
         "alignmentgroup": "True",
         "bingroup": "x",
         "hovertemplate": "SYMBOL=BAJAJFINSV<br>%CHNG=%{x}<br>count=%{y}<extra></extra>",
         "legendgroup": "BAJAJFINSV",
         "marker": {
          "color": "#A777F1",
          "pattern": {
           "shape": ""
          }
         },
         "name": "BAJAJFINSV",
         "offsetgroup": "BAJAJFINSV",
         "orientation": "v",
         "showlegend": true,
         "type": "histogram",
         "x": [
          -1.35
         ],
         "xaxis": "x",
         "yaxis": "y"
        },
        {
         "alignmentgroup": "True",
         "bingroup": "x",
         "hovertemplate": "SYMBOL=POWERGRID<br>%CHNG=%{x}<br>count=%{y}<extra></extra>",
         "legendgroup": "POWERGRID",
         "marker": {
          "color": "#620042",
          "pattern": {
           "shape": ""
          }
         },
         "name": "POWERGRID",
         "offsetgroup": "POWERGRID",
         "orientation": "v",
         "showlegend": true,
         "type": "histogram",
         "x": [
          -1.39
         ],
         "xaxis": "x",
         "yaxis": "y"
        },
        {
         "alignmentgroup": "True",
         "bingroup": "x",
         "hovertemplate": "SYMBOL=ASIANPAINT<br>%CHNG=%{x}<br>count=%{y}<extra></extra>",
         "legendgroup": "ASIANPAINT",
         "marker": {
          "color": "#1616A7",
          "pattern": {
           "shape": ""
          }
         },
         "name": "ASIANPAINT",
         "offsetgroup": "ASIANPAINT",
         "orientation": "v",
         "showlegend": true,
         "type": "histogram",
         "x": [
          -1.43
         ],
         "xaxis": "x",
         "yaxis": "y"
        },
        {
         "alignmentgroup": "True",
         "bingroup": "x",
         "hovertemplate": "SYMBOL=EICHERMOT<br>%CHNG=%{x}<br>count=%{y}<extra></extra>",
         "legendgroup": "EICHERMOT",
         "marker": {
          "color": "#DA60CA",
          "pattern": {
           "shape": ""
          }
         },
         "name": "EICHERMOT",
         "offsetgroup": "EICHERMOT",
         "orientation": "v",
         "showlegend": true,
         "type": "histogram",
         "x": [
          -1.5
         ],
         "xaxis": "x",
         "yaxis": "y"
        },
        {
         "alignmentgroup": "True",
         "bingroup": "x",
         "hovertemplate": "SYMBOL=TATAMOTORS<br>%CHNG=%{x}<br>count=%{y}<extra></extra>",
         "legendgroup": "TATAMOTORS",
         "marker": {
          "color": "#6C4516",
          "pattern": {
           "shape": ""
          }
         },
         "name": "TATAMOTORS",
         "offsetgroup": "TATAMOTORS",
         "orientation": "v",
         "showlegend": true,
         "type": "histogram",
         "x": [
          -1.55
         ],
         "xaxis": "x",
         "yaxis": "y"
        },
        {
         "alignmentgroup": "True",
         "bingroup": "x",
         "hovertemplate": "SYMBOL=DRREDDY<br>%CHNG=%{x}<br>count=%{y}<extra></extra>",
         "legendgroup": "DRREDDY",
         "marker": {
          "color": "#0D2A63",
          "pattern": {
           "shape": ""
          }
         },
         "name": "DRREDDY",
         "offsetgroup": "DRREDDY",
         "orientation": "v",
         "showlegend": true,
         "type": "histogram",
         "x": [
          -1.61
         ],
         "xaxis": "x",
         "yaxis": "y"
        },
        {
         "alignmentgroup": "True",
         "bingroup": "x",
         "hovertemplate": "SYMBOL=HDFCBANK<br>%CHNG=%{x}<br>count=%{y}<extra></extra>",
         "legendgroup": "HDFCBANK",
         "marker": {
          "color": "#AF0038",
          "pattern": {
           "shape": ""
          }
         },
         "name": "HDFCBANK",
         "offsetgroup": "HDFCBANK",
         "orientation": "v",
         "showlegend": true,
         "type": "histogram",
         "x": [
          -1.98
         ],
         "xaxis": "x",
         "yaxis": "y"
        },
        {
         "alignmentgroup": "True",
         "bingroup": "x",
         "hovertemplate": "SYMBOL=HDFC<br>%CHNG=%{x}<br>count=%{y}<extra></extra>",
         "legendgroup": "HDFC",
         "marker": {
          "color": "#2E91E5",
          "pattern": {
           "shape": ""
          }
         },
         "name": "HDFC",
         "offsetgroup": "HDFC",
         "orientation": "v",
         "showlegend": true,
         "type": "histogram",
         "x": [
          -2.23
         ],
         "xaxis": "x",
         "yaxis": "y"
        },
        {
         "alignmentgroup": "True",
         "bingroup": "x",
         "hovertemplate": "SYMBOL=MARUTI<br>%CHNG=%{x}<br>count=%{y}<extra></extra>",
         "legendgroup": "MARUTI",
         "marker": {
          "color": "#E15F99",
          "pattern": {
           "shape": ""
          }
         },
         "name": "MARUTI",
         "offsetgroup": "MARUTI",
         "orientation": "v",
         "showlegend": true,
         "type": "histogram",
         "x": [
          -2.28
         ],
         "xaxis": "x",
         "yaxis": "y"
        }
       ],
       "layout": {
        "barmode": "relative",
        "legend": {
         "title": {
          "text": "SYMBOL"
         },
         "tracegroupgap": 0
        },
        "margin": {
         "t": 60
        },
        "template": {
         "data": {
          "bar": [
           {
            "error_x": {
             "color": "#2a3f5f"
            },
            "error_y": {
             "color": "#2a3f5f"
            },
            "marker": {
             "line": {
              "color": "#E5ECF6",
              "width": 0.5
             },
             "pattern": {
              "fillmode": "overlay",
              "size": 10,
              "solidity": 0.2
             }
            },
            "type": "bar"
           }
          ],
          "barpolar": [
           {
            "marker": {
             "line": {
              "color": "#E5ECF6",
              "width": 0.5
             },
             "pattern": {
              "fillmode": "overlay",
              "size": 10,
              "solidity": 0.2
             }
            },
            "type": "barpolar"
           }
          ],
          "carpet": [
           {
            "aaxis": {
             "endlinecolor": "#2a3f5f",
             "gridcolor": "white",
             "linecolor": "white",
             "minorgridcolor": "white",
             "startlinecolor": "#2a3f5f"
            },
            "baxis": {
             "endlinecolor": "#2a3f5f",
             "gridcolor": "white",
             "linecolor": "white",
             "minorgridcolor": "white",
             "startlinecolor": "#2a3f5f"
            },
            "type": "carpet"
           }
          ],
          "choropleth": [
           {
            "colorbar": {
             "outlinewidth": 0,
             "ticks": ""
            },
            "type": "choropleth"
           }
          ],
          "contour": [
           {
            "colorbar": {
             "outlinewidth": 0,
             "ticks": ""
            },
            "colorscale": [
             [
              0,
              "#0d0887"
             ],
             [
              0.1111111111111111,
              "#46039f"
             ],
             [
              0.2222222222222222,
              "#7201a8"
             ],
             [
              0.3333333333333333,
              "#9c179e"
             ],
             [
              0.4444444444444444,
              "#bd3786"
             ],
             [
              0.5555555555555556,
              "#d8576b"
             ],
             [
              0.6666666666666666,
              "#ed7953"
             ],
             [
              0.7777777777777778,
              "#fb9f3a"
             ],
             [
              0.8888888888888888,
              "#fdca26"
             ],
             [
              1,
              "#f0f921"
             ]
            ],
            "type": "contour"
           }
          ],
          "contourcarpet": [
           {
            "colorbar": {
             "outlinewidth": 0,
             "ticks": ""
            },
            "type": "contourcarpet"
           }
          ],
          "heatmap": [
           {
            "colorbar": {
             "outlinewidth": 0,
             "ticks": ""
            },
            "colorscale": [
             [
              0,
              "#0d0887"
             ],
             [
              0.1111111111111111,
              "#46039f"
             ],
             [
              0.2222222222222222,
              "#7201a8"
             ],
             [
              0.3333333333333333,
              "#9c179e"
             ],
             [
              0.4444444444444444,
              "#bd3786"
             ],
             [
              0.5555555555555556,
              "#d8576b"
             ],
             [
              0.6666666666666666,
              "#ed7953"
             ],
             [
              0.7777777777777778,
              "#fb9f3a"
             ],
             [
              0.8888888888888888,
              "#fdca26"
             ],
             [
              1,
              "#f0f921"
             ]
            ],
            "type": "heatmap"
           }
          ],
          "heatmapgl": [
           {
            "colorbar": {
             "outlinewidth": 0,
             "ticks": ""
            },
            "colorscale": [
             [
              0,
              "#0d0887"
             ],
             [
              0.1111111111111111,
              "#46039f"
             ],
             [
              0.2222222222222222,
              "#7201a8"
             ],
             [
              0.3333333333333333,
              "#9c179e"
             ],
             [
              0.4444444444444444,
              "#bd3786"
             ],
             [
              0.5555555555555556,
              "#d8576b"
             ],
             [
              0.6666666666666666,
              "#ed7953"
             ],
             [
              0.7777777777777778,
              "#fb9f3a"
             ],
             [
              0.8888888888888888,
              "#fdca26"
             ],
             [
              1,
              "#f0f921"
             ]
            ],
            "type": "heatmapgl"
           }
          ],
          "histogram": [
           {
            "marker": {
             "pattern": {
              "fillmode": "overlay",
              "size": 10,
              "solidity": 0.2
             }
            },
            "type": "histogram"
           }
          ],
          "histogram2d": [
           {
            "colorbar": {
             "outlinewidth": 0,
             "ticks": ""
            },
            "colorscale": [
             [
              0,
              "#0d0887"
             ],
             [
              0.1111111111111111,
              "#46039f"
             ],
             [
              0.2222222222222222,
              "#7201a8"
             ],
             [
              0.3333333333333333,
              "#9c179e"
             ],
             [
              0.4444444444444444,
              "#bd3786"
             ],
             [
              0.5555555555555556,
              "#d8576b"
             ],
             [
              0.6666666666666666,
              "#ed7953"
             ],
             [
              0.7777777777777778,
              "#fb9f3a"
             ],
             [
              0.8888888888888888,
              "#fdca26"
             ],
             [
              1,
              "#f0f921"
             ]
            ],
            "type": "histogram2d"
           }
          ],
          "histogram2dcontour": [
           {
            "colorbar": {
             "outlinewidth": 0,
             "ticks": ""
            },
            "colorscale": [
             [
              0,
              "#0d0887"
             ],
             [
              0.1111111111111111,
              "#46039f"
             ],
             [
              0.2222222222222222,
              "#7201a8"
             ],
             [
              0.3333333333333333,
              "#9c179e"
             ],
             [
              0.4444444444444444,
              "#bd3786"
             ],
             [
              0.5555555555555556,
              "#d8576b"
             ],
             [
              0.6666666666666666,
              "#ed7953"
             ],
             [
              0.7777777777777778,
              "#fb9f3a"
             ],
             [
              0.8888888888888888,
              "#fdca26"
             ],
             [
              1,
              "#f0f921"
             ]
            ],
            "type": "histogram2dcontour"
           }
          ],
          "mesh3d": [
           {
            "colorbar": {
             "outlinewidth": 0,
             "ticks": ""
            },
            "type": "mesh3d"
           }
          ],
          "parcoords": [
           {
            "line": {
             "colorbar": {
              "outlinewidth": 0,
              "ticks": ""
             }
            },
            "type": "parcoords"
           }
          ],
          "pie": [
           {
            "automargin": true,
            "type": "pie"
           }
          ],
          "scatter": [
           {
            "fillpattern": {
             "fillmode": "overlay",
             "size": 10,
             "solidity": 0.2
            },
            "type": "scatter"
           }
          ],
          "scatter3d": [
           {
            "line": {
             "colorbar": {
              "outlinewidth": 0,
              "ticks": ""
             }
            },
            "marker": {
             "colorbar": {
              "outlinewidth": 0,
              "ticks": ""
             }
            },
            "type": "scatter3d"
           }
          ],
          "scattercarpet": [
           {
            "marker": {
             "colorbar": {
              "outlinewidth": 0,
              "ticks": ""
             }
            },
            "type": "scattercarpet"
           }
          ],
          "scattergeo": [
           {
            "marker": {
             "colorbar": {
              "outlinewidth": 0,
              "ticks": ""
             }
            },
            "type": "scattergeo"
           }
          ],
          "scattergl": [
           {
            "marker": {
             "colorbar": {
              "outlinewidth": 0,
              "ticks": ""
             }
            },
            "type": "scattergl"
           }
          ],
          "scattermapbox": [
           {
            "marker": {
             "colorbar": {
              "outlinewidth": 0,
              "ticks": ""
             }
            },
            "type": "scattermapbox"
           }
          ],
          "scatterpolar": [
           {
            "marker": {
             "colorbar": {
              "outlinewidth": 0,
              "ticks": ""
             }
            },
            "type": "scatterpolar"
           }
          ],
          "scatterpolargl": [
           {
            "marker": {
             "colorbar": {
              "outlinewidth": 0,
              "ticks": ""
             }
            },
            "type": "scatterpolargl"
           }
          ],
          "scatterternary": [
           {
            "marker": {
             "colorbar": {
              "outlinewidth": 0,
              "ticks": ""
             }
            },
            "type": "scatterternary"
           }
          ],
          "surface": [
           {
            "colorbar": {
             "outlinewidth": 0,
             "ticks": ""
            },
            "colorscale": [
             [
              0,
              "#0d0887"
             ],
             [
              0.1111111111111111,
              "#46039f"
             ],
             [
              0.2222222222222222,
              "#7201a8"
             ],
             [
              0.3333333333333333,
              "#9c179e"
             ],
             [
              0.4444444444444444,
              "#bd3786"
             ],
             [
              0.5555555555555556,
              "#d8576b"
             ],
             [
              0.6666666666666666,
              "#ed7953"
             ],
             [
              0.7777777777777778,
              "#fb9f3a"
             ],
             [
              0.8888888888888888,
              "#fdca26"
             ],
             [
              1,
              "#f0f921"
             ]
            ],
            "type": "surface"
           }
          ],
          "table": [
           {
            "cells": {
             "fill": {
              "color": "#EBF0F8"
             },
             "line": {
              "color": "white"
             }
            },
            "header": {
             "fill": {
              "color": "#C8D4E3"
             },
             "line": {
              "color": "white"
             }
            },
            "type": "table"
           }
          ]
         },
         "layout": {
          "annotationdefaults": {
           "arrowcolor": "#2a3f5f",
           "arrowhead": 0,
           "arrowwidth": 1
          },
          "autotypenumbers": "strict",
          "coloraxis": {
           "colorbar": {
            "outlinewidth": 0,
            "ticks": ""
           }
          },
          "colorscale": {
           "diverging": [
            [
             0,
             "#8e0152"
            ],
            [
             0.1,
             "#c51b7d"
            ],
            [
             0.2,
             "#de77ae"
            ],
            [
             0.3,
             "#f1b6da"
            ],
            [
             0.4,
             "#fde0ef"
            ],
            [
             0.5,
             "#f7f7f7"
            ],
            [
             0.6,
             "#e6f5d0"
            ],
            [
             0.7,
             "#b8e186"
            ],
            [
             0.8,
             "#7fbc41"
            ],
            [
             0.9,
             "#4d9221"
            ],
            [
             1,
             "#276419"
            ]
           ],
           "sequential": [
            [
             0,
             "#0d0887"
            ],
            [
             0.1111111111111111,
             "#46039f"
            ],
            [
             0.2222222222222222,
             "#7201a8"
            ],
            [
             0.3333333333333333,
             "#9c179e"
            ],
            [
             0.4444444444444444,
             "#bd3786"
            ],
            [
             0.5555555555555556,
             "#d8576b"
            ],
            [
             0.6666666666666666,
             "#ed7953"
            ],
            [
             0.7777777777777778,
             "#fb9f3a"
            ],
            [
             0.8888888888888888,
             "#fdca26"
            ],
            [
             1,
             "#f0f921"
            ]
           ],
           "sequentialminus": [
            [
             0,
             "#0d0887"
            ],
            [
             0.1111111111111111,
             "#46039f"
            ],
            [
             0.2222222222222222,
             "#7201a8"
            ],
            [
             0.3333333333333333,
             "#9c179e"
            ],
            [
             0.4444444444444444,
             "#bd3786"
            ],
            [
             0.5555555555555556,
             "#d8576b"
            ],
            [
             0.6666666666666666,
             "#ed7953"
            ],
            [
             0.7777777777777778,
             "#fb9f3a"
            ],
            [
             0.8888888888888888,
             "#fdca26"
            ],
            [
             1,
             "#f0f921"
            ]
           ]
          },
          "colorway": [
           "#636efa",
           "#EF553B",
           "#00cc96",
           "#ab63fa",
           "#FFA15A",
           "#19d3f3",
           "#FF6692",
           "#B6E880",
           "#FF97FF",
           "#FECB52"
          ],
          "font": {
           "color": "#2a3f5f"
          },
          "geo": {
           "bgcolor": "white",
           "lakecolor": "white",
           "landcolor": "#E5ECF6",
           "showlakes": true,
           "showland": true,
           "subunitcolor": "white"
          },
          "hoverlabel": {
           "align": "left"
          },
          "hovermode": "closest",
          "mapbox": {
           "style": "light"
          },
          "paper_bgcolor": "white",
          "plot_bgcolor": "#E5ECF6",
          "polar": {
           "angularaxis": {
            "gridcolor": "white",
            "linecolor": "white",
            "ticks": ""
           },
           "bgcolor": "#E5ECF6",
           "radialaxis": {
            "gridcolor": "white",
            "linecolor": "white",
            "ticks": ""
           }
          },
          "scene": {
           "xaxis": {
            "backgroundcolor": "#E5ECF6",
            "gridcolor": "white",
            "gridwidth": 2,
            "linecolor": "white",
            "showbackground": true,
            "ticks": "",
            "zerolinecolor": "white"
           },
           "yaxis": {
            "backgroundcolor": "#E5ECF6",
            "gridcolor": "white",
            "gridwidth": 2,
            "linecolor": "white",
            "showbackground": true,
            "ticks": "",
            "zerolinecolor": "white"
           },
           "zaxis": {
            "backgroundcolor": "#E5ECF6",
            "gridcolor": "white",
            "gridwidth": 2,
            "linecolor": "white",
            "showbackground": true,
            "ticks": "",
            "zerolinecolor": "white"
           }
          },
          "shapedefaults": {
           "line": {
            "color": "#2a3f5f"
           }
          },
          "ternary": {
           "aaxis": {
            "gridcolor": "white",
            "linecolor": "white",
            "ticks": ""
           },
           "baxis": {
            "gridcolor": "white",
            "linecolor": "white",
            "ticks": ""
           },
           "bgcolor": "#E5ECF6",
           "caxis": {
            "gridcolor": "white",
            "linecolor": "white",
            "ticks": ""
           }
          },
          "title": {
           "x": 0.05
          },
          "xaxis": {
           "automargin": true,
           "gridcolor": "white",
           "linecolor": "white",
           "ticks": "",
           "title": {
            "standoff": 15
           },
           "zerolinecolor": "white",
           "zerolinewidth": 2
          },
          "yaxis": {
           "automargin": true,
           "gridcolor": "white",
           "linecolor": "white",
           "ticks": "",
           "title": {
            "standoff": 15
           },
           "zerolinecolor": "white",
           "zerolinewidth": 2
          }
         }
        },
        "xaxis": {
         "anchor": "y",
         "domain": [
          0,
          1
         ],
         "title": {
          "text": "%CHNG"
         }
        },
        "yaxis": {
         "anchor": "x",
         "domain": [
          0,
          1
         ],
         "title": {
          "text": "count"
         }
        }
       }
      },
      "text/html": [
       "<div>                            <div id=\"085eac55-a89b-436e-9669-c794980524d2\" class=\"plotly-graph-div\" style=\"height:525px; width:100%;\"></div>            <script type=\"text/javascript\">                require([\"plotly\"], function(Plotly) {                    window.PLOTLYENV=window.PLOTLYENV || {};                                    if (document.getElementById(\"085eac55-a89b-436e-9669-c794980524d2\")) {                    Plotly.newPlot(                        \"085eac55-a89b-436e-9669-c794980524d2\",                        [{\"alignmentgroup\":\"True\",\"bingroup\":\"x\",\"hovertemplate\":\"SYMBOL=ONGC<br>%CHNG=%{x}<br>count=%{y}<extra></extra>\",\"legendgroup\":\"ONGC\",\"marker\":{\"color\":\"#2E91E5\",\"pattern\":{\"shape\":\"\"}},\"name\":\"ONGC\",\"offsetgroup\":\"ONGC\",\"orientation\":\"v\",\"showlegend\":true,\"x\":[2.99],\"xaxis\":\"x\",\"yaxis\":\"y\",\"type\":\"histogram\"},{\"alignmentgroup\":\"True\",\"bingroup\":\"x\",\"hovertemplate\":\"SYMBOL=APOLLOHOSP<br>%CHNG=%{x}<br>count=%{y}<extra></extra>\",\"legendgroup\":\"APOLLOHOSP\",\"marker\":{\"color\":\"#E15F99\",\"pattern\":{\"shape\":\"\"}},\"name\":\"APOLLOHOSP\",\"offsetgroup\":\"APOLLOHOSP\",\"orientation\":\"v\",\"showlegend\":true,\"x\":[2.35],\"xaxis\":\"x\",\"yaxis\":\"y\",\"type\":\"histogram\"},{\"alignmentgroup\":\"True\",\"bingroup\":\"x\",\"hovertemplate\":\"SYMBOL=UPL<br>%CHNG=%{x}<br>count=%{y}<extra></extra>\",\"legendgroup\":\"UPL\",\"marker\":{\"color\":\"#1CA71C\",\"pattern\":{\"shape\":\"\"}},\"name\":\"UPL\",\"offsetgroup\":\"UPL\",\"orientation\":\"v\",\"showlegend\":true,\"x\":[1.72],\"xaxis\":\"x\",\"yaxis\":\"y\",\"type\":\"histogram\"},{\"alignmentgroup\":\"True\",\"bingroup\":\"x\",\"hovertemplate\":\"SYMBOL=ITC<br>%CHNG=%{x}<br>count=%{y}<extra></extra>\",\"legendgroup\":\"ITC\",\"marker\":{\"color\":\"#FB0D0D\",\"pattern\":{\"shape\":\"\"}},\"name\":\"ITC\",\"offsetgroup\":\"ITC\",\"orientation\":\"v\",\"showlegend\":true,\"x\":[1.62],\"xaxis\":\"x\",\"yaxis\":\"y\",\"type\":\"histogram\"},{\"alignmentgroup\":\"True\",\"bingroup\":\"x\",\"hovertemplate\":\"SYMBOL=SUNPHARMA<br>%CHNG=%{x}<br>count=%{y}<extra></extra>\",\"legendgroup\":\"SUNPHARMA\",\"marker\":{\"color\":\"#DA16FF\",\"pattern\":{\"shape\":\"\"}},\"name\":\"SUNPHARMA\",\"offsetgroup\":\"SUNPHARMA\",\"orientation\":\"v\",\"showlegend\":true,\"x\":[1.51],\"xaxis\":\"x\",\"yaxis\":\"y\",\"type\":\"histogram\"},{\"alignmentgroup\":\"True\",\"bingroup\":\"x\",\"hovertemplate\":\"SYMBOL=JSWSTEEL<br>%CHNG=%{x}<br>count=%{y}<extra></extra>\",\"legendgroup\":\"JSWSTEEL\",\"marker\":{\"color\":\"#222A2A\",\"pattern\":{\"shape\":\"\"}},\"name\":\"JSWSTEEL\",\"offsetgroup\":\"JSWSTEEL\",\"orientation\":\"v\",\"showlegend\":true,\"x\":[1.13],\"xaxis\":\"x\",\"yaxis\":\"y\",\"type\":\"histogram\"},{\"alignmentgroup\":\"True\",\"bingroup\":\"x\",\"hovertemplate\":\"SYMBOL=SBIN<br>%CHNG=%{x}<br>count=%{y}<extra></extra>\",\"legendgroup\":\"SBIN\",\"marker\":{\"color\":\"#B68100\",\"pattern\":{\"shape\":\"\"}},\"name\":\"SBIN\",\"offsetgroup\":\"SBIN\",\"orientation\":\"v\",\"showlegend\":true,\"x\":[0.95],\"xaxis\":\"x\",\"yaxis\":\"y\",\"type\":\"histogram\"},{\"alignmentgroup\":\"True\",\"bingroup\":\"x\",\"hovertemplate\":\"SYMBOL=SHREECEM<br>%CHNG=%{x}<br>count=%{y}<extra></extra>\",\"legendgroup\":\"SHREECEM\",\"marker\":{\"color\":\"#750D86\",\"pattern\":{\"shape\":\"\"}},\"name\":\"SHREECEM\",\"offsetgroup\":\"SHREECEM\",\"orientation\":\"v\",\"showlegend\":true,\"x\":[0.94],\"xaxis\":\"x\",\"yaxis\":\"y\",\"type\":\"histogram\"},{\"alignmentgroup\":\"True\",\"bingroup\":\"x\",\"hovertemplate\":\"SYMBOL=HINDUNILVR<br>%CHNG=%{x}<br>count=%{y}<extra></extra>\",\"legendgroup\":\"HINDUNILVR\",\"marker\":{\"color\":\"#EB663B\",\"pattern\":{\"shape\":\"\"}},\"name\":\"HINDUNILVR\",\"offsetgroup\":\"HINDUNILVR\",\"orientation\":\"v\",\"showlegend\":true,\"x\":[0.87],\"xaxis\":\"x\",\"yaxis\":\"y\",\"type\":\"histogram\"},{\"alignmentgroup\":\"True\",\"bingroup\":\"x\",\"hovertemplate\":\"SYMBOL=NTPC<br>%CHNG=%{x}<br>count=%{y}<extra></extra>\",\"legendgroup\":\"NTPC\",\"marker\":{\"color\":\"#511CFB\",\"pattern\":{\"shape\":\"\"}},\"name\":\"NTPC\",\"offsetgroup\":\"NTPC\",\"orientation\":\"v\",\"showlegend\":true,\"x\":[0.85],\"xaxis\":\"x\",\"yaxis\":\"y\",\"type\":\"histogram\"},{\"alignmentgroup\":\"True\",\"bingroup\":\"x\",\"hovertemplate\":\"SYMBOL=HINDALCO<br>%CHNG=%{x}<br>count=%{y}<extra></extra>\",\"legendgroup\":\"HINDALCO\",\"marker\":{\"color\":\"#00A08B\",\"pattern\":{\"shape\":\"\"}},\"name\":\"HINDALCO\",\"offsetgroup\":\"HINDALCO\",\"orientation\":\"v\",\"showlegend\":true,\"x\":[0.63],\"xaxis\":\"x\",\"yaxis\":\"y\",\"type\":\"histogram\"},{\"alignmentgroup\":\"True\",\"bingroup\":\"x\",\"hovertemplate\":\"SYMBOL=LT<br>%CHNG=%{x}<br>count=%{y}<extra></extra>\",\"legendgroup\":\"LT\",\"marker\":{\"color\":\"#FB00D1\",\"pattern\":{\"shape\":\"\"}},\"name\":\"LT\",\"offsetgroup\":\"LT\",\"orientation\":\"v\",\"showlegend\":true,\"x\":[0.62],\"xaxis\":\"x\",\"yaxis\":\"y\",\"type\":\"histogram\"},{\"alignmentgroup\":\"True\",\"bingroup\":\"x\",\"hovertemplate\":\"SYMBOL=BAJFINANCE<br>%CHNG=%{x}<br>count=%{y}<extra></extra>\",\"legendgroup\":\"BAJFINANCE\",\"marker\":{\"color\":\"#FC0080\",\"pattern\":{\"shape\":\"\"}},\"name\":\"BAJFINANCE\",\"offsetgroup\":\"BAJFINANCE\",\"orientation\":\"v\",\"showlegend\":true,\"x\":[0.56],\"xaxis\":\"x\",\"yaxis\":\"y\",\"type\":\"histogram\"},{\"alignmentgroup\":\"True\",\"bingroup\":\"x\",\"hovertemplate\":\"SYMBOL=DIVISLAB<br>%CHNG=%{x}<br>count=%{y}<extra></extra>\",\"legendgroup\":\"DIVISLAB\",\"marker\":{\"color\":\"#B2828D\",\"pattern\":{\"shape\":\"\"}},\"name\":\"DIVISLAB\",\"offsetgroup\":\"DIVISLAB\",\"orientation\":\"v\",\"showlegend\":true,\"x\":[0.53],\"xaxis\":\"x\",\"yaxis\":\"y\",\"type\":\"histogram\"},{\"alignmentgroup\":\"True\",\"bingroup\":\"x\",\"hovertemplate\":\"SYMBOL=TATACONSUM<br>%CHNG=%{x}<br>count=%{y}<extra></extra>\",\"legendgroup\":\"TATACONSUM\",\"marker\":{\"color\":\"#6C7C32\",\"pattern\":{\"shape\":\"\"}},\"name\":\"TATACONSUM\",\"offsetgroup\":\"TATACONSUM\",\"orientation\":\"v\",\"showlegend\":true,\"x\":[0.5],\"xaxis\":\"x\",\"yaxis\":\"y\",\"type\":\"histogram\"},{\"alignmentgroup\":\"True\",\"bingroup\":\"x\",\"hovertemplate\":\"SYMBOL=INFY<br>%CHNG=%{x}<br>count=%{y}<extra></extra>\",\"legendgroup\":\"INFY\",\"marker\":{\"color\":\"#778AAE\",\"pattern\":{\"shape\":\"\"}},\"name\":\"INFY\",\"offsetgroup\":\"INFY\",\"orientation\":\"v\",\"showlegend\":true,\"x\":[0.49],\"xaxis\":\"x\",\"yaxis\":\"y\",\"type\":\"histogram\"},{\"alignmentgroup\":\"True\",\"bingroup\":\"x\",\"hovertemplate\":\"SYMBOL=HDFCLIFE<br>%CHNG=%{x}<br>count=%{y}<extra></extra>\",\"legendgroup\":\"HDFCLIFE\",\"marker\":{\"color\":\"#862A16\",\"pattern\":{\"shape\":\"\"}},\"name\":\"HDFCLIFE\",\"offsetgroup\":\"HDFCLIFE\",\"orientation\":\"v\",\"showlegend\":true,\"x\":[0.49],\"xaxis\":\"x\",\"yaxis\":\"y\",\"type\":\"histogram\"},{\"alignmentgroup\":\"True\",\"bingroup\":\"x\",\"hovertemplate\":\"SYMBOL=M&M<br>%CHNG=%{x}<br>count=%{y}<extra></extra>\",\"legendgroup\":\"M&M\",\"marker\":{\"color\":\"#A777F1\",\"pattern\":{\"shape\":\"\"}},\"name\":\"M&M\",\"offsetgroup\":\"M&M\",\"orientation\":\"v\",\"showlegend\":true,\"x\":[0.49],\"xaxis\":\"x\",\"yaxis\":\"y\",\"type\":\"histogram\"},{\"alignmentgroup\":\"True\",\"bingroup\":\"x\",\"hovertemplate\":\"SYMBOL=GRASIM<br>%CHNG=%{x}<br>count=%{y}<extra></extra>\",\"legendgroup\":\"GRASIM\",\"marker\":{\"color\":\"#620042\",\"pattern\":{\"shape\":\"\"}},\"name\":\"GRASIM\",\"offsetgroup\":\"GRASIM\",\"orientation\":\"v\",\"showlegend\":true,\"x\":[0.47],\"xaxis\":\"x\",\"yaxis\":\"y\",\"type\":\"histogram\"},{\"alignmentgroup\":\"True\",\"bingroup\":\"x\",\"hovertemplate\":\"SYMBOL=WIPRO<br>%CHNG=%{x}<br>count=%{y}<extra></extra>\",\"legendgroup\":\"WIPRO\",\"marker\":{\"color\":\"#1616A7\",\"pattern\":{\"shape\":\"\"}},\"name\":\"WIPRO\",\"offsetgroup\":\"WIPRO\",\"orientation\":\"v\",\"showlegend\":true,\"x\":[0.2],\"xaxis\":\"x\",\"yaxis\":\"y\",\"type\":\"histogram\"},{\"alignmentgroup\":\"True\",\"bingroup\":\"x\",\"hovertemplate\":\"SYMBOL=COALINDIA<br>%CHNG=%{x}<br>count=%{y}<extra></extra>\",\"legendgroup\":\"COALINDIA\",\"marker\":{\"color\":\"#DA60CA\",\"pattern\":{\"shape\":\"\"}},\"name\":\"COALINDIA\",\"offsetgroup\":\"COALINDIA\",\"orientation\":\"v\",\"showlegend\":true,\"x\":[0.19],\"xaxis\":\"x\",\"yaxis\":\"y\",\"type\":\"histogram\"},{\"alignmentgroup\":\"True\",\"bingroup\":\"x\",\"hovertemplate\":\"SYMBOL=BRITANNIA<br>%CHNG=%{x}<br>count=%{y}<extra></extra>\",\"legendgroup\":\"BRITANNIA\",\"marker\":{\"color\":\"#6C4516\",\"pattern\":{\"shape\":\"\"}},\"name\":\"BRITANNIA\",\"offsetgroup\":\"BRITANNIA\",\"orientation\":\"v\",\"showlegend\":true,\"x\":[0.06],\"xaxis\":\"x\",\"yaxis\":\"y\",\"type\":\"histogram\"},{\"alignmentgroup\":\"True\",\"bingroup\":\"x\",\"hovertemplate\":\"SYMBOL=INDUSINDBK<br>%CHNG=%{x}<br>count=%{y}<extra></extra>\",\"legendgroup\":\"INDUSINDBK\",\"marker\":{\"color\":\"#0D2A63\",\"pattern\":{\"shape\":\"\"}},\"name\":\"INDUSINDBK\",\"offsetgroup\":\"INDUSINDBK\",\"orientation\":\"v\",\"showlegend\":true,\"x\":[-0.12],\"xaxis\":\"x\",\"yaxis\":\"y\",\"type\":\"histogram\"},{\"alignmentgroup\":\"True\",\"bingroup\":\"x\",\"hovertemplate\":\"SYMBOL=BHARTIARTL<br>%CHNG=%{x}<br>count=%{y}<extra></extra>\",\"legendgroup\":\"BHARTIARTL\",\"marker\":{\"color\":\"#AF0038\",\"pattern\":{\"shape\":\"\"}},\"name\":\"BHARTIARTL\",\"offsetgroup\":\"BHARTIARTL\",\"orientation\":\"v\",\"showlegend\":true,\"x\":[-0.24],\"xaxis\":\"x\",\"yaxis\":\"y\",\"type\":\"histogram\"},{\"alignmentgroup\":\"True\",\"bingroup\":\"x\",\"hovertemplate\":\"SYMBOL=SBILIFE<br>%CHNG=%{x}<br>count=%{y}<extra></extra>\",\"legendgroup\":\"SBILIFE\",\"marker\":{\"color\":\"#2E91E5\",\"pattern\":{\"shape\":\"\"}},\"name\":\"SBILIFE\",\"offsetgroup\":\"SBILIFE\",\"orientation\":\"v\",\"showlegend\":true,\"x\":[-0.26],\"xaxis\":\"x\",\"yaxis\":\"y\",\"type\":\"histogram\"},{\"alignmentgroup\":\"True\",\"bingroup\":\"x\",\"hovertemplate\":\"SYMBOL=ICICIBANK<br>%CHNG=%{x}<br>count=%{y}<extra></extra>\",\"legendgroup\":\"ICICIBANK\",\"marker\":{\"color\":\"#E15F99\",\"pattern\":{\"shape\":\"\"}},\"name\":\"ICICIBANK\",\"offsetgroup\":\"ICICIBANK\",\"orientation\":\"v\",\"showlegend\":true,\"x\":[-0.3],\"xaxis\":\"x\",\"yaxis\":\"y\",\"type\":\"histogram\"},{\"alignmentgroup\":\"True\",\"bingroup\":\"x\",\"hovertemplate\":\"SYMBOL=TATASTEEL<br>%CHNG=%{x}<br>count=%{y}<extra></extra>\",\"legendgroup\":\"TATASTEEL\",\"marker\":{\"color\":\"#1CA71C\",\"pattern\":{\"shape\":\"\"}},\"name\":\"TATASTEEL\",\"offsetgroup\":\"TATASTEEL\",\"orientation\":\"v\",\"showlegend\":true,\"x\":[-0.32],\"xaxis\":\"x\",\"yaxis\":\"y\",\"type\":\"histogram\"},{\"alignmentgroup\":\"True\",\"bingroup\":\"x\",\"hovertemplate\":\"SYMBOL=RELIANCE<br>%CHNG=%{x}<br>count=%{y}<extra></extra>\",\"legendgroup\":\"RELIANCE\",\"marker\":{\"color\":\"#FB0D0D\",\"pattern\":{\"shape\":\"\"}},\"name\":\"RELIANCE\",\"offsetgroup\":\"RELIANCE\",\"orientation\":\"v\",\"showlegend\":true,\"x\":[-0.36],\"xaxis\":\"x\",\"yaxis\":\"y\",\"type\":\"histogram\"},{\"alignmentgroup\":\"True\",\"bingroup\":\"x\",\"hovertemplate\":\"SYMBOL=HCLTECH<br>%CHNG=%{x}<br>count=%{y}<extra></extra>\",\"legendgroup\":\"HCLTECH\",\"marker\":{\"color\":\"#DA16FF\",\"pattern\":{\"shape\":\"\"}},\"name\":\"HCLTECH\",\"offsetgroup\":\"HCLTECH\",\"orientation\":\"v\",\"showlegend\":true,\"x\":[-0.37],\"xaxis\":\"x\",\"yaxis\":\"y\",\"type\":\"histogram\"},{\"alignmentgroup\":\"True\",\"bingroup\":\"x\",\"hovertemplate\":\"SYMBOL=TECHM<br>%CHNG=%{x}<br>count=%{y}<extra></extra>\",\"legendgroup\":\"TECHM\",\"marker\":{\"color\":\"#222A2A\",\"pattern\":{\"shape\":\"\"}},\"name\":\"TECHM\",\"offsetgroup\":\"TECHM\",\"orientation\":\"v\",\"showlegend\":true,\"x\":[-0.39],\"xaxis\":\"x\",\"yaxis\":\"y\",\"type\":\"histogram\"},{\"alignmentgroup\":\"True\",\"bingroup\":\"x\",\"hovertemplate\":\"SYMBOL=BAJAJ-AUTO<br>%CHNG=%{x}<br>count=%{y}<extra></extra>\",\"legendgroup\":\"BAJAJ-AUTO\",\"marker\":{\"color\":\"#B68100\",\"pattern\":{\"shape\":\"\"}},\"name\":\"BAJAJ-AUTO\",\"offsetgroup\":\"BAJAJ-AUTO\",\"orientation\":\"v\",\"showlegend\":true,\"x\":[-0.47],\"xaxis\":\"x\",\"yaxis\":\"y\",\"type\":\"histogram\"},{\"alignmentgroup\":\"True\",\"bingroup\":\"x\",\"hovertemplate\":\"SYMBOL=BPCL<br>%CHNG=%{x}<br>count=%{y}<extra></extra>\",\"legendgroup\":\"BPCL\",\"marker\":{\"color\":\"#750D86\",\"pattern\":{\"shape\":\"\"}},\"name\":\"BPCL\",\"offsetgroup\":\"BPCL\",\"orientation\":\"v\",\"showlegend\":true,\"x\":[-0.55],\"xaxis\":\"x\",\"yaxis\":\"y\",\"type\":\"histogram\"},{\"alignmentgroup\":\"True\",\"bingroup\":\"x\",\"hovertemplate\":\"SYMBOL=TCS<br>%CHNG=%{x}<br>count=%{y}<extra></extra>\",\"legendgroup\":\"TCS\",\"marker\":{\"color\":\"#EB663B\",\"pattern\":{\"shape\":\"\"}},\"name\":\"TCS\",\"offsetgroup\":\"TCS\",\"orientation\":\"v\",\"showlegend\":true,\"x\":[-0.71],\"xaxis\":\"x\",\"yaxis\":\"y\",\"type\":\"histogram\"},{\"alignmentgroup\":\"True\",\"bingroup\":\"x\",\"hovertemplate\":\"SYMBOL=NESTLEIND<br>%CHNG=%{x}<br>count=%{y}<extra></extra>\",\"legendgroup\":\"NESTLEIND\",\"marker\":{\"color\":\"#511CFB\",\"pattern\":{\"shape\":\"\"}},\"name\":\"NESTLEIND\",\"offsetgroup\":\"NESTLEIND\",\"orientation\":\"v\",\"showlegend\":true,\"x\":[-0.74],\"xaxis\":\"x\",\"yaxis\":\"y\",\"type\":\"histogram\"},{\"alignmentgroup\":\"True\",\"bingroup\":\"x\",\"hovertemplate\":\"SYMBOL=ADANIPORTS<br>%CHNG=%{x}<br>count=%{y}<extra></extra>\",\"legendgroup\":\"ADANIPORTS\",\"marker\":{\"color\":\"#00A08B\",\"pattern\":{\"shape\":\"\"}},\"name\":\"ADANIPORTS\",\"offsetgroup\":\"ADANIPORTS\",\"orientation\":\"v\",\"showlegend\":true,\"x\":[-0.8],\"xaxis\":\"x\",\"yaxis\":\"y\",\"type\":\"histogram\"},{\"alignmentgroup\":\"True\",\"bingroup\":\"x\",\"hovertemplate\":\"SYMBOL=AXISBANK<br>%CHNG=%{x}<br>count=%{y}<extra></extra>\",\"legendgroup\":\"AXISBANK\",\"marker\":{\"color\":\"#FB00D1\",\"pattern\":{\"shape\":\"\"}},\"name\":\"AXISBANK\",\"offsetgroup\":\"AXISBANK\",\"orientation\":\"v\",\"showlegend\":true,\"x\":[-0.81],\"xaxis\":\"x\",\"yaxis\":\"y\",\"type\":\"histogram\"},{\"alignmentgroup\":\"True\",\"bingroup\":\"x\",\"hovertemplate\":\"SYMBOL=ULTRACEMCO<br>%CHNG=%{x}<br>count=%{y}<extra></extra>\",\"legendgroup\":\"ULTRACEMCO\",\"marker\":{\"color\":\"#FC0080\",\"pattern\":{\"shape\":\"\"}},\"name\":\"ULTRACEMCO\",\"offsetgroup\":\"ULTRACEMCO\",\"orientation\":\"v\",\"showlegend\":true,\"x\":[-0.91],\"xaxis\":\"x\",\"yaxis\":\"y\",\"type\":\"histogram\"},{\"alignmentgroup\":\"True\",\"bingroup\":\"x\",\"hovertemplate\":\"SYMBOL=CIPLA<br>%CHNG=%{x}<br>count=%{y}<extra></extra>\",\"legendgroup\":\"CIPLA\",\"marker\":{\"color\":\"#B2828D\",\"pattern\":{\"shape\":\"\"}},\"name\":\"CIPLA\",\"offsetgroup\":\"CIPLA\",\"orientation\":\"v\",\"showlegend\":true,\"x\":[-0.96],\"xaxis\":\"x\",\"yaxis\":\"y\",\"type\":\"histogram\"},{\"alignmentgroup\":\"True\",\"bingroup\":\"x\",\"hovertemplate\":\"SYMBOL=TITAN<br>%CHNG=%{x}<br>count=%{y}<extra></extra>\",\"legendgroup\":\"TITAN\",\"marker\":{\"color\":\"#6C7C32\",\"pattern\":{\"shape\":\"\"}},\"name\":\"TITAN\",\"offsetgroup\":\"TITAN\",\"orientation\":\"v\",\"showlegend\":true,\"x\":[-1.07],\"xaxis\":\"x\",\"yaxis\":\"y\",\"type\":\"histogram\"},{\"alignmentgroup\":\"True\",\"bingroup\":\"x\",\"hovertemplate\":\"SYMBOL=HEROMOTOCO<br>%CHNG=%{x}<br>count=%{y}<extra></extra>\",\"legendgroup\":\"HEROMOTOCO\",\"marker\":{\"color\":\"#778AAE\",\"pattern\":{\"shape\":\"\"}},\"name\":\"HEROMOTOCO\",\"offsetgroup\":\"HEROMOTOCO\",\"orientation\":\"v\",\"showlegend\":true,\"x\":[-1.1],\"xaxis\":\"x\",\"yaxis\":\"y\",\"type\":\"histogram\"},{\"alignmentgroup\":\"True\",\"bingroup\":\"x\",\"hovertemplate\":\"SYMBOL=KOTAKBANK<br>%CHNG=%{x}<br>count=%{y}<extra></extra>\",\"legendgroup\":\"KOTAKBANK\",\"marker\":{\"color\":\"#862A16\",\"pattern\":{\"shape\":\"\"}},\"name\":\"KOTAKBANK\",\"offsetgroup\":\"KOTAKBANK\",\"orientation\":\"v\",\"showlegend\":true,\"x\":[-1.21],\"xaxis\":\"x\",\"yaxis\":\"y\",\"type\":\"histogram\"},{\"alignmentgroup\":\"True\",\"bingroup\":\"x\",\"hovertemplate\":\"SYMBOL=BAJAJFINSV<br>%CHNG=%{x}<br>count=%{y}<extra></extra>\",\"legendgroup\":\"BAJAJFINSV\",\"marker\":{\"color\":\"#A777F1\",\"pattern\":{\"shape\":\"\"}},\"name\":\"BAJAJFINSV\",\"offsetgroup\":\"BAJAJFINSV\",\"orientation\":\"v\",\"showlegend\":true,\"x\":[-1.35],\"xaxis\":\"x\",\"yaxis\":\"y\",\"type\":\"histogram\"},{\"alignmentgroup\":\"True\",\"bingroup\":\"x\",\"hovertemplate\":\"SYMBOL=POWERGRID<br>%CHNG=%{x}<br>count=%{y}<extra></extra>\",\"legendgroup\":\"POWERGRID\",\"marker\":{\"color\":\"#620042\",\"pattern\":{\"shape\":\"\"}},\"name\":\"POWERGRID\",\"offsetgroup\":\"POWERGRID\",\"orientation\":\"v\",\"showlegend\":true,\"x\":[-1.39],\"xaxis\":\"x\",\"yaxis\":\"y\",\"type\":\"histogram\"},{\"alignmentgroup\":\"True\",\"bingroup\":\"x\",\"hovertemplate\":\"SYMBOL=ASIANPAINT<br>%CHNG=%{x}<br>count=%{y}<extra></extra>\",\"legendgroup\":\"ASIANPAINT\",\"marker\":{\"color\":\"#1616A7\",\"pattern\":{\"shape\":\"\"}},\"name\":\"ASIANPAINT\",\"offsetgroup\":\"ASIANPAINT\",\"orientation\":\"v\",\"showlegend\":true,\"x\":[-1.43],\"xaxis\":\"x\",\"yaxis\":\"y\",\"type\":\"histogram\"},{\"alignmentgroup\":\"True\",\"bingroup\":\"x\",\"hovertemplate\":\"SYMBOL=EICHERMOT<br>%CHNG=%{x}<br>count=%{y}<extra></extra>\",\"legendgroup\":\"EICHERMOT\",\"marker\":{\"color\":\"#DA60CA\",\"pattern\":{\"shape\":\"\"}},\"name\":\"EICHERMOT\",\"offsetgroup\":\"EICHERMOT\",\"orientation\":\"v\",\"showlegend\":true,\"x\":[-1.5],\"xaxis\":\"x\",\"yaxis\":\"y\",\"type\":\"histogram\"},{\"alignmentgroup\":\"True\",\"bingroup\":\"x\",\"hovertemplate\":\"SYMBOL=TATAMOTORS<br>%CHNG=%{x}<br>count=%{y}<extra></extra>\",\"legendgroup\":\"TATAMOTORS\",\"marker\":{\"color\":\"#6C4516\",\"pattern\":{\"shape\":\"\"}},\"name\":\"TATAMOTORS\",\"offsetgroup\":\"TATAMOTORS\",\"orientation\":\"v\",\"showlegend\":true,\"x\":[-1.55],\"xaxis\":\"x\",\"yaxis\":\"y\",\"type\":\"histogram\"},{\"alignmentgroup\":\"True\",\"bingroup\":\"x\",\"hovertemplate\":\"SYMBOL=DRREDDY<br>%CHNG=%{x}<br>count=%{y}<extra></extra>\",\"legendgroup\":\"DRREDDY\",\"marker\":{\"color\":\"#0D2A63\",\"pattern\":{\"shape\":\"\"}},\"name\":\"DRREDDY\",\"offsetgroup\":\"DRREDDY\",\"orientation\":\"v\",\"showlegend\":true,\"x\":[-1.61],\"xaxis\":\"x\",\"yaxis\":\"y\",\"type\":\"histogram\"},{\"alignmentgroup\":\"True\",\"bingroup\":\"x\",\"hovertemplate\":\"SYMBOL=HDFCBANK<br>%CHNG=%{x}<br>count=%{y}<extra></extra>\",\"legendgroup\":\"HDFCBANK\",\"marker\":{\"color\":\"#AF0038\",\"pattern\":{\"shape\":\"\"}},\"name\":\"HDFCBANK\",\"offsetgroup\":\"HDFCBANK\",\"orientation\":\"v\",\"showlegend\":true,\"x\":[-1.98],\"xaxis\":\"x\",\"yaxis\":\"y\",\"type\":\"histogram\"},{\"alignmentgroup\":\"True\",\"bingroup\":\"x\",\"hovertemplate\":\"SYMBOL=HDFC<br>%CHNG=%{x}<br>count=%{y}<extra></extra>\",\"legendgroup\":\"HDFC\",\"marker\":{\"color\":\"#2E91E5\",\"pattern\":{\"shape\":\"\"}},\"name\":\"HDFC\",\"offsetgroup\":\"HDFC\",\"orientation\":\"v\",\"showlegend\":true,\"x\":[-2.23],\"xaxis\":\"x\",\"yaxis\":\"y\",\"type\":\"histogram\"},{\"alignmentgroup\":\"True\",\"bingroup\":\"x\",\"hovertemplate\":\"SYMBOL=MARUTI<br>%CHNG=%{x}<br>count=%{y}<extra></extra>\",\"legendgroup\":\"MARUTI\",\"marker\":{\"color\":\"#E15F99\",\"pattern\":{\"shape\":\"\"}},\"name\":\"MARUTI\",\"offsetgroup\":\"MARUTI\",\"orientation\":\"v\",\"showlegend\":true,\"x\":[-2.28],\"xaxis\":\"x\",\"yaxis\":\"y\",\"type\":\"histogram\"}],                        {\"template\":{\"data\":{\"histogram2dcontour\":[{\"type\":\"histogram2dcontour\",\"colorbar\":{\"outlinewidth\":0,\"ticks\":\"\"},\"colorscale\":[[0.0,\"#0d0887\"],[0.1111111111111111,\"#46039f\"],[0.2222222222222222,\"#7201a8\"],[0.3333333333333333,\"#9c179e\"],[0.4444444444444444,\"#bd3786\"],[0.5555555555555556,\"#d8576b\"],[0.6666666666666666,\"#ed7953\"],[0.7777777777777778,\"#fb9f3a\"],[0.8888888888888888,\"#fdca26\"],[1.0,\"#f0f921\"]]}],\"choropleth\":[{\"type\":\"choropleth\",\"colorbar\":{\"outlinewidth\":0,\"ticks\":\"\"}}],\"histogram2d\":[{\"type\":\"histogram2d\",\"colorbar\":{\"outlinewidth\":0,\"ticks\":\"\"},\"colorscale\":[[0.0,\"#0d0887\"],[0.1111111111111111,\"#46039f\"],[0.2222222222222222,\"#7201a8\"],[0.3333333333333333,\"#9c179e\"],[0.4444444444444444,\"#bd3786\"],[0.5555555555555556,\"#d8576b\"],[0.6666666666666666,\"#ed7953\"],[0.7777777777777778,\"#fb9f3a\"],[0.8888888888888888,\"#fdca26\"],[1.0,\"#f0f921\"]]}],\"heatmap\":[{\"type\":\"heatmap\",\"colorbar\":{\"outlinewidth\":0,\"ticks\":\"\"},\"colorscale\":[[0.0,\"#0d0887\"],[0.1111111111111111,\"#46039f\"],[0.2222222222222222,\"#7201a8\"],[0.3333333333333333,\"#9c179e\"],[0.4444444444444444,\"#bd3786\"],[0.5555555555555556,\"#d8576b\"],[0.6666666666666666,\"#ed7953\"],[0.7777777777777778,\"#fb9f3a\"],[0.8888888888888888,\"#fdca26\"],[1.0,\"#f0f921\"]]}],\"heatmapgl\":[{\"type\":\"heatmapgl\",\"colorbar\":{\"outlinewidth\":0,\"ticks\":\"\"},\"colorscale\":[[0.0,\"#0d0887\"],[0.1111111111111111,\"#46039f\"],[0.2222222222222222,\"#7201a8\"],[0.3333333333333333,\"#9c179e\"],[0.4444444444444444,\"#bd3786\"],[0.5555555555555556,\"#d8576b\"],[0.6666666666666666,\"#ed7953\"],[0.7777777777777778,\"#fb9f3a\"],[0.8888888888888888,\"#fdca26\"],[1.0,\"#f0f921\"]]}],\"contourcarpet\":[{\"type\":\"contourcarpet\",\"colorbar\":{\"outlinewidth\":0,\"ticks\":\"\"}}],\"contour\":[{\"type\":\"contour\",\"colorbar\":{\"outlinewidth\":0,\"ticks\":\"\"},\"colorscale\":[[0.0,\"#0d0887\"],[0.1111111111111111,\"#46039f\"],[0.2222222222222222,\"#7201a8\"],[0.3333333333333333,\"#9c179e\"],[0.4444444444444444,\"#bd3786\"],[0.5555555555555556,\"#d8576b\"],[0.6666666666666666,\"#ed7953\"],[0.7777777777777778,\"#fb9f3a\"],[0.8888888888888888,\"#fdca26\"],[1.0,\"#f0f921\"]]}],\"surface\":[{\"type\":\"surface\",\"colorbar\":{\"outlinewidth\":0,\"ticks\":\"\"},\"colorscale\":[[0.0,\"#0d0887\"],[0.1111111111111111,\"#46039f\"],[0.2222222222222222,\"#7201a8\"],[0.3333333333333333,\"#9c179e\"],[0.4444444444444444,\"#bd3786\"],[0.5555555555555556,\"#d8576b\"],[0.6666666666666666,\"#ed7953\"],[0.7777777777777778,\"#fb9f3a\"],[0.8888888888888888,\"#fdca26\"],[1.0,\"#f0f921\"]]}],\"mesh3d\":[{\"type\":\"mesh3d\",\"colorbar\":{\"outlinewidth\":0,\"ticks\":\"\"}}],\"scatter\":[{\"fillpattern\":{\"fillmode\":\"overlay\",\"size\":10,\"solidity\":0.2},\"type\":\"scatter\"}],\"parcoords\":[{\"type\":\"parcoords\",\"line\":{\"colorbar\":{\"outlinewidth\":0,\"ticks\":\"\"}}}],\"scatterpolargl\":[{\"type\":\"scatterpolargl\",\"marker\":{\"colorbar\":{\"outlinewidth\":0,\"ticks\":\"\"}}}],\"bar\":[{\"error_x\":{\"color\":\"#2a3f5f\"},\"error_y\":{\"color\":\"#2a3f5f\"},\"marker\":{\"line\":{\"color\":\"#E5ECF6\",\"width\":0.5},\"pattern\":{\"fillmode\":\"overlay\",\"size\":10,\"solidity\":0.2}},\"type\":\"bar\"}],\"scattergeo\":[{\"type\":\"scattergeo\",\"marker\":{\"colorbar\":{\"outlinewidth\":0,\"ticks\":\"\"}}}],\"scatterpolar\":[{\"type\":\"scatterpolar\",\"marker\":{\"colorbar\":{\"outlinewidth\":0,\"ticks\":\"\"}}}],\"histogram\":[{\"marker\":{\"pattern\":{\"fillmode\":\"overlay\",\"size\":10,\"solidity\":0.2}},\"type\":\"histogram\"}],\"scattergl\":[{\"type\":\"scattergl\",\"marker\":{\"colorbar\":{\"outlinewidth\":0,\"ticks\":\"\"}}}],\"scatter3d\":[{\"type\":\"scatter3d\",\"line\":{\"colorbar\":{\"outlinewidth\":0,\"ticks\":\"\"}},\"marker\":{\"colorbar\":{\"outlinewidth\":0,\"ticks\":\"\"}}}],\"scattermapbox\":[{\"type\":\"scattermapbox\",\"marker\":{\"colorbar\":{\"outlinewidth\":0,\"ticks\":\"\"}}}],\"scatterternary\":[{\"type\":\"scatterternary\",\"marker\":{\"colorbar\":{\"outlinewidth\":0,\"ticks\":\"\"}}}],\"scattercarpet\":[{\"type\":\"scattercarpet\",\"marker\":{\"colorbar\":{\"outlinewidth\":0,\"ticks\":\"\"}}}],\"carpet\":[{\"aaxis\":{\"endlinecolor\":\"#2a3f5f\",\"gridcolor\":\"white\",\"linecolor\":\"white\",\"minorgridcolor\":\"white\",\"startlinecolor\":\"#2a3f5f\"},\"baxis\":{\"endlinecolor\":\"#2a3f5f\",\"gridcolor\":\"white\",\"linecolor\":\"white\",\"minorgridcolor\":\"white\",\"startlinecolor\":\"#2a3f5f\"},\"type\":\"carpet\"}],\"table\":[{\"cells\":{\"fill\":{\"color\":\"#EBF0F8\"},\"line\":{\"color\":\"white\"}},\"header\":{\"fill\":{\"color\":\"#C8D4E3\"},\"line\":{\"color\":\"white\"}},\"type\":\"table\"}],\"barpolar\":[{\"marker\":{\"line\":{\"color\":\"#E5ECF6\",\"width\":0.5},\"pattern\":{\"fillmode\":\"overlay\",\"size\":10,\"solidity\":0.2}},\"type\":\"barpolar\"}],\"pie\":[{\"automargin\":true,\"type\":\"pie\"}]},\"layout\":{\"autotypenumbers\":\"strict\",\"colorway\":[\"#636efa\",\"#EF553B\",\"#00cc96\",\"#ab63fa\",\"#FFA15A\",\"#19d3f3\",\"#FF6692\",\"#B6E880\",\"#FF97FF\",\"#FECB52\"],\"font\":{\"color\":\"#2a3f5f\"},\"hovermode\":\"closest\",\"hoverlabel\":{\"align\":\"left\"},\"paper_bgcolor\":\"white\",\"plot_bgcolor\":\"#E5ECF6\",\"polar\":{\"bgcolor\":\"#E5ECF6\",\"angularaxis\":{\"gridcolor\":\"white\",\"linecolor\":\"white\",\"ticks\":\"\"},\"radialaxis\":{\"gridcolor\":\"white\",\"linecolor\":\"white\",\"ticks\":\"\"}},\"ternary\":{\"bgcolor\":\"#E5ECF6\",\"aaxis\":{\"gridcolor\":\"white\",\"linecolor\":\"white\",\"ticks\":\"\"},\"baxis\":{\"gridcolor\":\"white\",\"linecolor\":\"white\",\"ticks\":\"\"},\"caxis\":{\"gridcolor\":\"white\",\"linecolor\":\"white\",\"ticks\":\"\"}},\"coloraxis\":{\"colorbar\":{\"outlinewidth\":0,\"ticks\":\"\"}},\"colorscale\":{\"sequential\":[[0.0,\"#0d0887\"],[0.1111111111111111,\"#46039f\"],[0.2222222222222222,\"#7201a8\"],[0.3333333333333333,\"#9c179e\"],[0.4444444444444444,\"#bd3786\"],[0.5555555555555556,\"#d8576b\"],[0.6666666666666666,\"#ed7953\"],[0.7777777777777778,\"#fb9f3a\"],[0.8888888888888888,\"#fdca26\"],[1.0,\"#f0f921\"]],\"sequentialminus\":[[0.0,\"#0d0887\"],[0.1111111111111111,\"#46039f\"],[0.2222222222222222,\"#7201a8\"],[0.3333333333333333,\"#9c179e\"],[0.4444444444444444,\"#bd3786\"],[0.5555555555555556,\"#d8576b\"],[0.6666666666666666,\"#ed7953\"],[0.7777777777777778,\"#fb9f3a\"],[0.8888888888888888,\"#fdca26\"],[1.0,\"#f0f921\"]],\"diverging\":[[0,\"#8e0152\"],[0.1,\"#c51b7d\"],[0.2,\"#de77ae\"],[0.3,\"#f1b6da\"],[0.4,\"#fde0ef\"],[0.5,\"#f7f7f7\"],[0.6,\"#e6f5d0\"],[0.7,\"#b8e186\"],[0.8,\"#7fbc41\"],[0.9,\"#4d9221\"],[1,\"#276419\"]]},\"xaxis\":{\"gridcolor\":\"white\",\"linecolor\":\"white\",\"ticks\":\"\",\"title\":{\"standoff\":15},\"zerolinecolor\":\"white\",\"automargin\":true,\"zerolinewidth\":2},\"yaxis\":{\"gridcolor\":\"white\",\"linecolor\":\"white\",\"ticks\":\"\",\"title\":{\"standoff\":15},\"zerolinecolor\":\"white\",\"automargin\":true,\"zerolinewidth\":2},\"scene\":{\"xaxis\":{\"backgroundcolor\":\"#E5ECF6\",\"gridcolor\":\"white\",\"linecolor\":\"white\",\"showbackground\":true,\"ticks\":\"\",\"zerolinecolor\":\"white\",\"gridwidth\":2},\"yaxis\":{\"backgroundcolor\":\"#E5ECF6\",\"gridcolor\":\"white\",\"linecolor\":\"white\",\"showbackground\":true,\"ticks\":\"\",\"zerolinecolor\":\"white\",\"gridwidth\":2},\"zaxis\":{\"backgroundcolor\":\"#E5ECF6\",\"gridcolor\":\"white\",\"linecolor\":\"white\",\"showbackground\":true,\"ticks\":\"\",\"zerolinecolor\":\"white\",\"gridwidth\":2}},\"shapedefaults\":{\"line\":{\"color\":\"#2a3f5f\"}},\"annotationdefaults\":{\"arrowcolor\":\"#2a3f5f\",\"arrowhead\":0,\"arrowwidth\":1},\"geo\":{\"bgcolor\":\"white\",\"landcolor\":\"#E5ECF6\",\"subunitcolor\":\"white\",\"showland\":true,\"showlakes\":true,\"lakecolor\":\"white\"},\"title\":{\"x\":0.05},\"mapbox\":{\"style\":\"light\"}}},\"xaxis\":{\"anchor\":\"y\",\"domain\":[0.0,1.0],\"title\":{\"text\":\"%CHNG\"}},\"yaxis\":{\"anchor\":\"x\",\"domain\":[0.0,1.0],\"title\":{\"text\":\"count\"}},\"legend\":{\"title\":{\"text\":\"SYMBOL\"},\"tracegroupgap\":0},\"margin\":{\"t\":60},\"barmode\":\"relative\"},                        {\"responsive\": true}                    ).then(function(){\n",
       "                            \n",
       "var gd = document.getElementById('085eac55-a89b-436e-9669-c794980524d2');\n",
       "var x = new MutationObserver(function (mutations, observer) {{\n",
       "        var display = window.getComputedStyle(gd).display;\n",
       "        if (!display || display === 'none') {{\n",
       "            console.log([gd, 'removed!']);\n",
       "            Plotly.purge(gd);\n",
       "            observer.disconnect();\n",
       "        }}\n",
       "}});\n",
       "\n",
       "// Listen for the removal of the full notebook cells\n",
       "var notebookContainer = gd.closest('#notebook-container');\n",
       "if (notebookContainer) {{\n",
       "    x.observe(notebookContainer, {childList: true});\n",
       "}}\n",
       "\n",
       "// Listen for the clearing of the current output cell\n",
       "var outputEl = gd.closest('.output');\n",
       "if (outputEl) {{\n",
       "    x.observe(outputEl, {childList: true});\n",
       "}}\n",
       "\n",
       "                        })                };                });            </script>        </div>"
      ]
     },
     "metadata": {},
     "output_type": "display_data"
    }
   ],
   "source": [
    "px.histogram((df_nifity),x='%CHNG',color='SYMBOL',\n",
    "           color_discrete_sequence=px.colors.qualitative.Dark24)"
   ]
  }
 ],
 "metadata": {
  "kernelspec": {
   "display_name": "Python 3 (ipykernel)",
   "language": "python",
   "name": "python3"
  },
  "language_info": {
   "codemirror_mode": {
    "name": "ipython",
    "version": 3
   },
   "file_extension": ".py",
   "mimetype": "text/x-python",
   "name": "python",
   "nbconvert_exporter": "python",
   "pygments_lexer": "ipython3",
   "version": "3.10.4"
  }
 },
 "nbformat": 4,
 "nbformat_minor": 5
}
