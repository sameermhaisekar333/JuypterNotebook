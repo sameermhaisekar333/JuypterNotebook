{
 "cells": [
  {
   "cell_type": "markdown",
   "id": "b24d9cc9",
   "metadata": {},
   "source": [
    "#### Required Packages"
   ]
  },
  {
   "cell_type": "code",
   "execution_count": 1,
   "id": "81b85f35",
   "metadata": {
    "scrolled": false
   },
   "outputs": [
    {
     "name": "stdout",
     "output_type": "stream",
     "text": [
      "Collecting package metadata (current_repodata.json): done\n",
      "Solving environment: done\n",
      "\n",
      "\n",
      "==> WARNING: A newer version of conda exists. <==\n",
      "  current version: 4.10.1\n",
      "  latest version: 4.12.0\n",
      "\n",
      "Please update conda by running\n",
      "\n",
      "    $ conda update -n base -c defaults conda\n",
      "\n",
      "\n",
      "\n",
      "## Package Plan ##\n",
      "\n",
      "  environment location: /home/sameer/anaconda3/envs/venv\n",
      "\n",
      "  added / updated specs:\n",
      "    - beautifulsoup4\n",
      "\n",
      "\n",
      "The following NEW packages will be INSTALLED:\n",
      "\n",
      "  beautifulsoup4     pkgs/main/noarch::beautifulsoup4-4.10.0-pyh06a4308_0\n",
      "  soupsieve          pkgs/main/noarch::soupsieve-2.3.1-pyhd3eb1b0_0\n",
      "\n",
      "The following packages will be UPDATED:\n",
      "\n",
      "  ca-certificates    conda-forge::ca-certificates-2021.10.~ --> pkgs/main::ca-certificates-2022.3.29-h06a4308_0\n",
      "\n",
      "\n",
      "Preparing transaction: done\n",
      "Verifying transaction: done\n",
      "Executing transaction: done\n",
      "Collecting package metadata (current_repodata.json): done\n",
      "Solving environment: done\n",
      "\n",
      "\n",
      "==> WARNING: A newer version of conda exists. <==\n",
      "  current version: 4.10.1\n",
      "  latest version: 4.12.0\n",
      "\n",
      "Please update conda by running\n",
      "\n",
      "    $ conda update -n base -c defaults conda\n",
      "\n",
      "\n",
      "\n",
      "## Package Plan ##\n",
      "\n",
      "  environment location: /home/sameer/anaconda3/envs/venv\n",
      "\n",
      "  added / updated specs:\n",
      "    - requests\n",
      "\n",
      "\n",
      "The following packages will be downloaded:\n",
      "\n",
      "    package                    |            build\n",
      "    ---------------------------|-----------------\n",
      "    brotlipy-0.7.0             |py310h7f8727e_1002         712 KB\n",
      "    cffi-1.15.0                |  py310hd667e15_1         363 KB\n",
      "    cryptography-36.0.0        |  py310h9ce1e76_0         1.6 MB\n",
      "    pysocks-1.7.1              |  py310h06a4308_0          28 KB\n",
      "    ------------------------------------------------------------\n",
      "                                           Total:         2.7 MB\n",
      "\n",
      "The following NEW packages will be INSTALLED:\n",
      "\n",
      "  brotlipy           pkgs/main/linux-64::brotlipy-0.7.0-py310h7f8727e_1002\n",
      "  certifi            pkgs/main/noarch::certifi-2020.6.20-pyhd3eb1b0_3\n",
      "  cffi               pkgs/main/linux-64::cffi-1.15.0-py310hd667e15_1\n",
      "  charset-normalizer pkgs/main/noarch::charset-normalizer-2.0.4-pyhd3eb1b0_0\n",
      "  cryptography       pkgs/main/linux-64::cryptography-36.0.0-py310h9ce1e76_0\n",
      "  idna               pkgs/main/noarch::idna-3.3-pyhd3eb1b0_0\n",
      "  pycparser          pkgs/main/noarch::pycparser-2.21-pyhd3eb1b0_0\n",
      "  pyopenssl          pkgs/main/noarch::pyopenssl-22.0.0-pyhd3eb1b0_0\n",
      "  pysocks            pkgs/main/linux-64::pysocks-1.7.1-py310h06a4308_0\n",
      "  requests           pkgs/main/noarch::requests-2.27.1-pyhd3eb1b0_0\n",
      "  urllib3            pkgs/main/noarch::urllib3-1.26.8-pyhd3eb1b0_0\n",
      "\n",
      "\n",
      "\n",
      "Downloading and Extracting Packages\n",
      "brotlipy-0.7.0       | 712 KB    | ##################################### | 100% \n",
      "cryptography-36.0.0  | 1.6 MB    | ##################################### | 100% \n",
      "cffi-1.15.0          | 363 KB    | ##################################### | 100% \n",
      "pysocks-1.7.1        | 28 KB     | ##################################### | 100% \n",
      "Preparing transaction: done\n",
      "Verifying transaction: done\n",
      "Executing transaction: done\n"
     ]
    }
   ],
   "source": [
    "!conda install --yes beautifulsoup4\n",
    "!conda install --yes requests"
   ]
  },
  {
   "cell_type": "markdown",
   "id": "6790c5b2",
   "metadata": {},
   "source": [
    "#### Import"
   ]
  },
  {
   "cell_type": "code",
   "execution_count": 2,
   "id": "83de427b",
   "metadata": {},
   "outputs": [],
   "source": [
    "from bs4 import BeautifulSoup\n",
    "import requests"
   ]
  },
  {
   "cell_type": "code",
   "execution_count": 3,
   "id": "0512bf33",
   "metadata": {},
   "outputs": [],
   "source": [
    "response = requests.get(url=\"https://www.cricbuzz.com/\")\n",
    "soup = BeautifulSoup(response.content, 'html.parser')\n",
    "#print(soup)"
   ]
  },
  {
   "cell_type": "code",
   "execution_count": 4,
   "id": "7402b5fb",
   "metadata": {},
   "outputs": [],
   "source": [
    "page = soup.find('div',class_=\"page\")\n",
    "#print(page)\n",
    "page_wrap = page.find('div',id ='page-wrapper')\n",
    "#print(page_wrap)\n",
    "home_match = page_wrap.find('div',class_='home_matches')\n",
    "#print(home_match)\n",
    "cb_col = home_match.find('div',class_='cb-col cb-col-100')\n",
    "#print(cb_col)\n",
    "match_menu = cb_col.find('div',id = 'match_menu_container')\n",
    "#print(match_menu)\n",
    "all_match = match_menu.find('div',id ='hm-scag-mtch-blk')\n",
    "#print(all_match)\n"
   ]
  },
  {
   "cell_type": "code",
   "execution_count": 5,
   "id": "e7abe683",
   "metadata": {},
   "outputs": [
    {
     "name": "stdout",
     "output_type": "stream",
     "text": [
      "    Delhi Capitals Punjab Kings     \n",
      "    RCB181-6 (20) LSG163-8 (20) Royal Challengers Bangalore won by 18 runs    \n",
      "    RR217-5 (20) KKR210 (19.4) Rajasthan Royals won by 7 runs    \n",
      "    LANC..506 & 36-0 KENT260 & 279 (f/o) Lancashire won by 10 wkts    \n",
      "    DUR428 & 239-2 d LEIC273 & 183-2 Match drawn    \n",
      "    OMAN277-8 (50) PNG192 (44.3) Oman won by 85 runs    \n"
     ]
    }
   ],
   "source": [
    "list_match =all_match.ul\n",
    "today_match=list_match.find_all('li')\n",
    "for match in today_match:\n",
    "    print(match.text)"
   ]
  }
 ],
 "metadata": {
  "kernelspec": {
   "display_name": "Python 3 (ipykernel)",
   "language": "python",
   "name": "python3"
  },
  "language_info": {
   "codemirror_mode": {
    "name": "ipython",
    "version": 3
   },
   "file_extension": ".py",
   "mimetype": "text/x-python",
   "name": "python",
   "nbconvert_exporter": "python",
   "pygments_lexer": "ipython3",
   "version": "3.10.4"
  }
 },
 "nbformat": 4,
 "nbformat_minor": 5
}
