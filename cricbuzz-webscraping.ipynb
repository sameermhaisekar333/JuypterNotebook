{
 "cells": [
  {
   "cell_type": "markdown",
   "id": "b24d9cc9",
   "metadata": {},
   "source": [
    "#### Required Packages"
   ]
  },
  {
   "cell_type": "markdown",
   "id": "6790c5b2",
   "metadata": {},
   "source": [
    "#### Import"
   ]
  },
  {
   "cell_type": "code",
   "execution_count": 1,
   "id": "83de427b",
   "metadata": {},
   "outputs": [],
   "source": [
    "from bs4 import BeautifulSoup\n",
    "import requests"
   ]
  },
  {
   "cell_type": "code",
   "execution_count": 3,
   "id": "0512bf33",
   "metadata": {},
   "outputs": [],
   "source": [
    "response = requests.get(url=\"https://www.cricbuzz.com/\")\n",
    "soup = BeautifulSoup(response.content, 'html.parser')\n",
    "#print(soup)"
   ]
  },
  {
   "cell_type": "code",
   "execution_count": 4,
   "id": "7402b5fb",
   "metadata": {},
   "outputs": [],
   "source": [
    "page = soup.find('div',class_=\"page\")\n",
    "#print(page)\n",
    "page_wrap = page.find('div',id ='page-wrapper')\n",
    "#print(page_wrap)\n",
    "home_match = page_wrap.find('div',class_='home_matches')\n",
    "#print(home_match)\n",
    "cb_col = home_match.find('div',class_='cb-col cb-col-100')\n",
    "#print(cb_col)\n",
    "match_menu = cb_col.find('div',id = 'match_menu_container')\n",
    "#print(match_menu)\n",
    "all_match = match_menu.find('div',id ='hm-scag-mtch-blk')\n",
    "#print(all_match)\n"
   ]
  },
  {
   "cell_type": "code",
   "execution_count": 5,
   "id": "e7abe683",
   "metadata": {},
   "outputs": [
    {
     "name": "stdout",
     "output_type": "stream",
     "text": [
      "    ENG281 & 275 PAK202 & 215-5 Day 4: 1st Session - Pakistan need 140 runs    \n",
      "    Kandy Falcons Galle Gladiators      \n",
      "    AUSW187-1 (20) INDW187-5 (20) Match tied (India Women won the Super Over)    \n",
      "    JKS240-4 (20) DMA189-8 (20) Jaffna Kings won by 51 runs    \n",
      "    AUS511-7 d & 199-6 d WI214 & 77 Australia won by 419 runs    \n",
      "    IND409-8 (50) BAN182 (34) India won by 227 runs     Fantasy Handbook      \n"
     ]
    }
   ],
   "source": [
    "list_match =all_match.ul\n",
    "today_match=list_match.find_all('li')\n",
    "for match in today_match:\n",
    "    print(match.text)"
   ]
  },
  {
   "cell_type": "code",
   "execution_count": null,
   "id": "467a6923",
   "metadata": {},
   "outputs": [],
   "source": []
  }
 ],
 "metadata": {
  "kernelspec": {
   "display_name": "Python 3 (ipykernel)",
   "language": "python",
   "name": "python3"
  },
  "language_info": {
   "codemirror_mode": {
    "name": "ipython",
    "version": 3
   },
   "file_extension": ".py",
   "mimetype": "text/x-python",
   "name": "python",
   "nbconvert_exporter": "python",
   "pygments_lexer": "ipython3",
   "version": "3.10.4"
  }
 },
 "nbformat": 4,
 "nbformat_minor": 5
}
